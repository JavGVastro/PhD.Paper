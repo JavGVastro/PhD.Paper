{
 "cells": [
  {
   "cell_type": "code",
   "execution_count": 1,
   "metadata": {},
   "outputs": [],
   "source": [
    "import time\n",
    "start_time=time.time()"
   ]
  },
  {
   "cell_type": "code",
   "execution_count": 2,
   "metadata": {},
   "outputs": [],
   "source": [
    "from matplotlib import pyplot as plt\n",
    "import seaborn as sns\n",
    "import numpy as np\n",
    "import pandas as pd\n",
    "from scipy import interpolate\n",
    "import pickle\n",
    "import json\n",
    "\n",
    "import strucfunc\n",
    "from strucfunc import sosflog\n",
    "from bfunc import bfunc00,bfunc01,bfunc02,bfunc03s"
   ]
  },
  {
   "cell_type": "code",
   "execution_count": 3,
   "metadata": {},
   "outputs": [],
   "source": [
    "reg = 'OrionLH'\n",
    "line = 'OrionLH'"
   ]
  },
  {
   "cell_type": "code",
   "execution_count": 4,
   "metadata": {},
   "outputs": [],
   "source": [
    "pickle_in = open('VFL//' + reg + '.pkl',\"rb\")\n",
    "VF = pickle.load(pickle_in)\n",
    "data = VF[line]"
   ]
  },
  {
   "cell_type": "code",
   "execution_count": 5,
   "metadata": {},
   "outputs": [
    {
     "data": {
      "text/plain": [
       "10.433847745911214"
      ]
     },
     "execution_count": 5,
     "metadata": {},
     "output_type": "execute_result"
    }
   ],
   "source": [
    "data.RV.var()"
   ]
  },
  {
   "cell_type": "code",
   "execution_count": 6,
   "metadata": {},
   "outputs": [],
   "source": [
    "sig = data.RV.std()\n",
    "sig2 = data.RV.var()"
   ]
  },
  {
   "cell_type": "code",
   "execution_count": 7,
   "metadata": {},
   "outputs": [
    {
     "name": "stderr",
     "output_type": "stream",
     "text": [
      "C:\\Users\\ZAINTEL2\\anaconda3\\lib\\site-packages\\pandas\\core\\series.py:679: RuntimeWarning: divide by zero encountered in log10\n",
      "  result = getattr(ufunc, method)(*inputs, **kwargs)\n"
     ]
    }
   ],
   "source": [
    "table = sosflog(data,-0.15,1)"
   ]
  },
  {
   "cell_type": "code",
   "execution_count": 8,
   "metadata": {},
   "outputs": [
    {
     "data": {
      "text/html": [
       "<div>\n",
       "<style scoped>\n",
       "    .dataframe tbody tr th:only-of-type {\n",
       "        vertical-align: middle;\n",
       "    }\n",
       "\n",
       "    .dataframe tbody tr th {\n",
       "        vertical-align: top;\n",
       "    }\n",
       "\n",
       "    .dataframe thead tr th {\n",
       "        text-align: left;\n",
       "    }\n",
       "\n",
       "    .dataframe thead tr:last-of-type th {\n",
       "        text-align: right;\n",
       "    }\n",
       "</style>\n",
       "<table border=\"1\" class=\"dataframe\">\n",
       "  <thead>\n",
       "    <tr>\n",
       "      <th></th>\n",
       "      <th colspan=\"8\" halign=\"left\">s</th>\n",
       "      <th colspan=\"8\" halign=\"left\">dV2</th>\n",
       "    </tr>\n",
       "    <tr>\n",
       "      <th></th>\n",
       "      <th>count</th>\n",
       "      <th>mean</th>\n",
       "      <th>std</th>\n",
       "      <th>min</th>\n",
       "      <th>25%</th>\n",
       "      <th>50%</th>\n",
       "      <th>75%</th>\n",
       "      <th>max</th>\n",
       "      <th>count</th>\n",
       "      <th>mean</th>\n",
       "      <th>std</th>\n",
       "      <th>min</th>\n",
       "      <th>25%</th>\n",
       "      <th>50%</th>\n",
       "      <th>75%</th>\n",
       "      <th>max</th>\n",
       "    </tr>\n",
       "    <tr>\n",
       "      <th>ils</th>\n",
       "      <th></th>\n",
       "      <th></th>\n",
       "      <th></th>\n",
       "      <th></th>\n",
       "      <th></th>\n",
       "      <th></th>\n",
       "      <th></th>\n",
       "      <th></th>\n",
       "      <th></th>\n",
       "      <th></th>\n",
       "      <th></th>\n",
       "      <th></th>\n",
       "      <th></th>\n",
       "      <th></th>\n",
       "      <th></th>\n",
       "      <th></th>\n",
       "    </tr>\n",
       "  </thead>\n",
       "  <tbody>\n",
       "    <tr>\n",
       "      <th>2</th>\n",
       "      <td>946.0</td>\n",
       "      <td>3.716349</td>\n",
       "      <td>1.333676e-01</td>\n",
       "      <td>3.556424</td>\n",
       "      <td>3.626319</td>\n",
       "      <td>3.683304</td>\n",
       "      <td>3.795286</td>\n",
       "      <td>4.229287</td>\n",
       "      <td>3.0</td>\n",
       "      <td>24.753333</td>\n",
       "      <td>16.870140</td>\n",
       "      <td>7.29</td>\n",
       "      <td>16.65</td>\n",
       "      <td>26.01</td>\n",
       "      <td>33.4850</td>\n",
       "      <td>40.96</td>\n",
       "    </tr>\n",
       "    <tr>\n",
       "      <th>3</th>\n",
       "      <td>31368.0</td>\n",
       "      <td>2.849080</td>\n",
       "      <td>2.539766e-01</td>\n",
       "      <td>2.511944</td>\n",
       "      <td>2.634621</td>\n",
       "      <td>2.791722</td>\n",
       "      <td>3.017043</td>\n",
       "      <td>3.545478</td>\n",
       "      <td>1371.0</td>\n",
       "      <td>41.610926</td>\n",
       "      <td>51.925685</td>\n",
       "      <td>0.00</td>\n",
       "      <td>5.76</td>\n",
       "      <td>22.09</td>\n",
       "      <td>59.2900</td>\n",
       "      <td>420.25</td>\n",
       "    </tr>\n",
       "    <tr>\n",
       "      <th>4</th>\n",
       "      <td>60296.0</td>\n",
       "      <td>2.117635</td>\n",
       "      <td>2.085345e-01</td>\n",
       "      <td>1.787593</td>\n",
       "      <td>1.926730</td>\n",
       "      <td>2.109878</td>\n",
       "      <td>2.291638</td>\n",
       "      <td>2.507384</td>\n",
       "      <td>12469.0</td>\n",
       "      <td>31.395202</td>\n",
       "      <td>38.419756</td>\n",
       "      <td>0.00</td>\n",
       "      <td>4.00</td>\n",
       "      <td>16.81</td>\n",
       "      <td>44.8900</td>\n",
       "      <td>282.24</td>\n",
       "    </tr>\n",
       "    <tr>\n",
       "      <th>5</th>\n",
       "      <td>50754.0</td>\n",
       "      <td>1.516689</td>\n",
       "      <td>1.489556e-01</td>\n",
       "      <td>1.266862</td>\n",
       "      <td>1.390626</td>\n",
       "      <td>1.517768</td>\n",
       "      <td>1.656666</td>\n",
       "      <td>1.772961</td>\n",
       "      <td>17153.0</td>\n",
       "      <td>22.816463</td>\n",
       "      <td>31.548788</td>\n",
       "      <td>0.00</td>\n",
       "      <td>2.56</td>\n",
       "      <td>10.89</td>\n",
       "      <td>31.3600</td>\n",
       "      <td>380.25</td>\n",
       "    </tr>\n",
       "    <tr>\n",
       "      <th>6</th>\n",
       "      <td>32934.0</td>\n",
       "      <td>1.080703</td>\n",
       "      <td>1.027277e-01</td>\n",
       "      <td>0.907122</td>\n",
       "      <td>0.983427</td>\n",
       "      <td>1.079979</td>\n",
       "      <td>1.180348</td>\n",
       "      <td>1.245146</td>\n",
       "      <td>12866.0</td>\n",
       "      <td>18.209458</td>\n",
       "      <td>27.373514</td>\n",
       "      <td>0.00</td>\n",
       "      <td>1.69</td>\n",
       "      <td>7.29</td>\n",
       "      <td>23.0400</td>\n",
       "      <td>316.84</td>\n",
       "    </tr>\n",
       "    <tr>\n",
       "      <th>7</th>\n",
       "      <td>19762.0</td>\n",
       "      <td>0.768573</td>\n",
       "      <td>7.398400e-02</td>\n",
       "      <td>0.641383</td>\n",
       "      <td>0.715585</td>\n",
       "      <td>0.763392</td>\n",
       "      <td>0.843249</td>\n",
       "      <td>0.868253</td>\n",
       "      <td>8294.0</td>\n",
       "      <td>14.846355</td>\n",
       "      <td>22.509136</td>\n",
       "      <td>0.00</td>\n",
       "      <td>1.21</td>\n",
       "      <td>5.76</td>\n",
       "      <td>18.4900</td>\n",
       "      <td>272.25</td>\n",
       "    </tr>\n",
       "    <tr>\n",
       "      <th>8</th>\n",
       "      <td>10550.0</td>\n",
       "      <td>0.548854</td>\n",
       "      <td>4.926157e-02</td>\n",
       "      <td>0.477057</td>\n",
       "      <td>0.491737</td>\n",
       "      <td>0.533332</td>\n",
       "      <td>0.596317</td>\n",
       "      <td>0.608130</td>\n",
       "      <td>4549.0</td>\n",
       "      <td>11.365559</td>\n",
       "      <td>16.336624</td>\n",
       "      <td>0.00</td>\n",
       "      <td>1.21</td>\n",
       "      <td>4.84</td>\n",
       "      <td>14.4400</td>\n",
       "      <td>174.24</td>\n",
       "    </tr>\n",
       "    <tr>\n",
       "      <th>9</th>\n",
       "      <td>6220.0</td>\n",
       "      <td>0.386486</td>\n",
       "      <td>3.496424e-02</td>\n",
       "      <td>0.337064</td>\n",
       "      <td>0.357792</td>\n",
       "      <td>0.377121</td>\n",
       "      <td>0.429855</td>\n",
       "      <td>0.430011</td>\n",
       "      <td>2731.0</td>\n",
       "      <td>9.709934</td>\n",
       "      <td>14.399664</td>\n",
       "      <td>0.00</td>\n",
       "      <td>1.00</td>\n",
       "      <td>4.00</td>\n",
       "      <td>12.2500</td>\n",
       "      <td>127.69</td>\n",
       "    </tr>\n",
       "    <tr>\n",
       "      <th>10</th>\n",
       "      <td>3008.0</td>\n",
       "      <td>0.260781</td>\n",
       "      <td>1.138664e-02</td>\n",
       "      <td>0.238528</td>\n",
       "      <td>0.266382</td>\n",
       "      <td>0.266616</td>\n",
       "      <td>0.266663</td>\n",
       "      <td>0.266682</td>\n",
       "      <td>1312.0</td>\n",
       "      <td>8.452805</td>\n",
       "      <td>13.066364</td>\n",
       "      <td>0.00</td>\n",
       "      <td>0.64</td>\n",
       "      <td>3.24</td>\n",
       "      <td>10.8900</td>\n",
       "      <td>114.49</td>\n",
       "    </tr>\n",
       "    <tr>\n",
       "      <th>11</th>\n",
       "      <td>1242.0</td>\n",
       "      <td>0.168616</td>\n",
       "      <td>4.242823e-05</td>\n",
       "      <td>0.168527</td>\n",
       "      <td>0.168581</td>\n",
       "      <td>0.168627</td>\n",
       "      <td>0.168655</td>\n",
       "      <td>0.168665</td>\n",
       "      <td>538.0</td>\n",
       "      <td>7.603625</td>\n",
       "      <td>13.834714</td>\n",
       "      <td>0.00</td>\n",
       "      <td>0.64</td>\n",
       "      <td>2.89</td>\n",
       "      <td>8.4100</td>\n",
       "      <td>156.25</td>\n",
       "    </tr>\n",
       "    <tr>\n",
       "      <th>12</th>\n",
       "      <td>648.0</td>\n",
       "      <td>0.119264</td>\n",
       "      <td>1.318179e-15</td>\n",
       "      <td>0.119264</td>\n",
       "      <td>0.119264</td>\n",
       "      <td>0.119264</td>\n",
       "      <td>0.119264</td>\n",
       "      <td>0.119264</td>\n",
       "      <td>272.0</td>\n",
       "      <td>5.030074</td>\n",
       "      <td>9.721514</td>\n",
       "      <td>0.00</td>\n",
       "      <td>0.36</td>\n",
       "      <td>1.69</td>\n",
       "      <td>5.4075</td>\n",
       "      <td>77.44</td>\n",
       "    </tr>\n",
       "  </tbody>\n",
       "</table>\n",
       "</div>"
      ],
      "text/plain": [
       "           s                                                                  \\\n",
       "       count      mean           std       min       25%       50%       75%   \n",
       "ils                                                                            \n",
       "2      946.0  3.716349  1.333676e-01  3.556424  3.626319  3.683304  3.795286   \n",
       "3    31368.0  2.849080  2.539766e-01  2.511944  2.634621  2.791722  3.017043   \n",
       "4    60296.0  2.117635  2.085345e-01  1.787593  1.926730  2.109878  2.291638   \n",
       "5    50754.0  1.516689  1.489556e-01  1.266862  1.390626  1.517768  1.656666   \n",
       "6    32934.0  1.080703  1.027277e-01  0.907122  0.983427  1.079979  1.180348   \n",
       "7    19762.0  0.768573  7.398400e-02  0.641383  0.715585  0.763392  0.843249   \n",
       "8    10550.0  0.548854  4.926157e-02  0.477057  0.491737  0.533332  0.596317   \n",
       "9     6220.0  0.386486  3.496424e-02  0.337064  0.357792  0.377121  0.429855   \n",
       "10    3008.0  0.260781  1.138664e-02  0.238528  0.266382  0.266616  0.266663   \n",
       "11    1242.0  0.168616  4.242823e-05  0.168527  0.168581  0.168627  0.168655   \n",
       "12     648.0  0.119264  1.318179e-15  0.119264  0.119264  0.119264  0.119264   \n",
       "\n",
       "                   dV2                                                     \\\n",
       "          max    count       mean        std   min    25%    50%      75%   \n",
       "ils                                                                         \n",
       "2    4.229287      3.0  24.753333  16.870140  7.29  16.65  26.01  33.4850   \n",
       "3    3.545478   1371.0  41.610926  51.925685  0.00   5.76  22.09  59.2900   \n",
       "4    2.507384  12469.0  31.395202  38.419756  0.00   4.00  16.81  44.8900   \n",
       "5    1.772961  17153.0  22.816463  31.548788  0.00   2.56  10.89  31.3600   \n",
       "6    1.245146  12866.0  18.209458  27.373514  0.00   1.69   7.29  23.0400   \n",
       "7    0.868253   8294.0  14.846355  22.509136  0.00   1.21   5.76  18.4900   \n",
       "8    0.608130   4549.0  11.365559  16.336624  0.00   1.21   4.84  14.4400   \n",
       "9    0.430011   2731.0   9.709934  14.399664  0.00   1.00   4.00  12.2500   \n",
       "10   0.266682   1312.0   8.452805  13.066364  0.00   0.64   3.24  10.8900   \n",
       "11   0.168665    538.0   7.603625  13.834714  0.00   0.64   2.89   8.4100   \n",
       "12   0.119264    272.0   5.030074   9.721514  0.00   0.36   1.69   5.4075   \n",
       "\n",
       "             \n",
       "        max  \n",
       "ils          \n",
       "2     40.96  \n",
       "3    420.25  \n",
       "4    282.24  \n",
       "5    380.25  \n",
       "6    316.84  \n",
       "7    272.25  \n",
       "8    174.24  \n",
       "9    127.69  \n",
       "10   114.49  \n",
       "11   156.25  \n",
       "12    77.44  "
      ]
     },
     "execution_count": 8,
     "metadata": {},
     "output_type": "execute_result"
    }
   ],
   "source": [
    "table"
   ]
  },
  {
   "cell_type": "code",
   "execution_count": 9,
   "metadata": {},
   "outputs": [],
   "source": [
    "s = 0.5 * (table[('s', 'min')] + table[('s', 'max')])\n",
    "e_s = 0.5 * (table[('s', 'max')] - table[('s', 'min')])\n",
    "b2 = table[('dV2', 'mean')]\n",
    "ng = table[('dV2', 'count')]\n",
    "e_b2 = table[('dV2', 'std')] / np.sqrt(ng)"
   ]
  },
  {
   "cell_type": "code",
   "execution_count": 10,
   "metadata": {},
   "outputs": [
    {
     "data": {
      "text/plain": [
       "0.45308379348756184"
      ]
     },
     "execution_count": 10,
     "metadata": {},
     "output_type": "execute_result"
    }
   ],
   "source": [
    "r0 = np.interp(sig2, b2, s,period = 360)\n",
    "r0"
   ]
  },
  {
   "cell_type": "code",
   "execution_count": 11,
   "metadata": {},
   "outputs": [
    {
     "data": {
      "text/plain": [
       "0.13545612962128972"
      ]
     },
     "execution_count": 11,
     "metadata": {},
     "output_type": "execute_result"
    }
   ],
   "source": [
    "r1 = np.interp(sig, b2, s,period = 360)\n",
    "r1"
   ]
  },
  {
   "cell_type": "code",
   "execution_count": 12,
   "metadata": {},
   "outputs": [
    {
     "data": {
      "text/plain": [
       "1.3321934316222648"
      ]
     },
     "execution_count": 12,
     "metadata": {},
     "output_type": "execute_result"
    }
   ],
   "source": [
    "r2 = np.interp(2*sig2, b2, s, period = 360)\n",
    "r2"
   ]
  },
  {
   "cell_type": "code",
   "execution_count": 13,
   "metadata": {},
   "outputs": [],
   "source": [
    "#x = s\n",
    "#y = b2 - sig2\n",
    "#tck=interpolate.splrep(x,y,s=0)\n",
    "#grid=np.linspace(x.min(),x.max(),num=len(x))\n",
    "#ynew=interpolate.splev(grid,tck,der=0)\n",
    "#inter=pd.DataFrame([grid,ynew]).T\n",
    "#SFr=interpolate.sproot(tck)\n",
    "#SFr"
   ]
  },
  {
   "cell_type": "code",
   "execution_count": 16,
   "metadata": {},
   "outputs": [],
   "source": [
    "rgrid = np.logspace(-2, 1)"
   ]
  },
  {
   "cell_type": "code",
   "execution_count": 18,
   "metadata": {},
   "outputs": [
    {
     "data": {
      "text/plain": [
       "(10.433847745911214, 0.45308379348756184, 1.0, 0.8899715196780295)"
      ]
     },
     "execution_count": 18,
     "metadata": {},
     "output_type": "execute_result"
    },
    {
     "data": {
      "image/png": "[encoded data removed]",
      "text/plain": [
       "<Figure size 576x432 with 1 Axes>"
      ]
     },
     "metadata": {
      "needs_background": "light"
     },
     "output_type": "display_data"
    }
   ],
   "source": [
    "m = 0.15\n",
    "\n",
    "fig, ax = plt.subplots(figsize=(8, 6))\n",
    "\n",
    "ax.errorbar(s, b2, yerr=e_b2, xerr=e_s, fmt='o', alpha=0.4,color=\"blue\")\n",
    "\n",
    "\n",
    "ax.axhline(sig2, ls='-')\n",
    "ax.axvline(r0, ls='-')\n",
    "\n",
    "ax.axhline(2*sig2, ls=':')\n",
    "ax.axvline(r2, ls=':')\n",
    "\n",
    "ax.axhline(sig, ls=':')\n",
    "ax.axvline(r1, ls=':')\n",
    "\n",
    "ax.plot(rgrid, bfunc00(rgrid, r0, sig2, m), color=\"0.8\")\n",
    "ax.plot(rgrid, bfunc02(rgrid, r0, sig2, m, VF['s0'], 1/10), color=\"red\")\n",
    "ax.plot(rgrid, bfunc03s(rgrid, r0, sig2, m, VF['s0'],1/10), color=\"black\")\n",
    "\n",
    "ax.set(xscale='log', yscale='log', \n",
    "       xlabel='separation pc',\n",
    "       ylabel=r'$b^2,\\ \\mathrm{km^2\\ s^{-2}}$',\n",
    "       title=reg,\n",
    "      )\n",
    "None\n",
    "\n",
    "sig2, r0, m, b2.mean()*0.05"
   ]
  },
  {
   "cell_type": "code",
   "execution_count": null,
   "metadata": {},
   "outputs": [],
   "source": [
    "table"
   ]
  },
  {
   "cell_type": "code",
   "execution_count": null,
   "metadata": {},
   "outputs": [],
   "source": [
    "Orion = { 'VF' : data,\n",
    "        'SF' : table,\n",
    "        's' : s,\n",
    "        'b2' : b2,\n",
    "        'sig2' : sig2,\n",
    "        'pc' : VF['pc'],\n",
    "        'r0' : r0,\n",
    "        'r1' : r1,\n",
    "        'r2' : r2,\n",
    "        's0' : VF['s0'],\n",
    "        'm' : m}"
   ]
  },
  {
   "cell_type": "code",
   "execution_count": null,
   "metadata": {},
   "outputs": [],
   "source": [
    "f = open('Sfresults\\\\'+ line + '.pkl',\"wb\")\n",
    "pickle.dump(Orion,f)\n",
    "f.close()"
   ]
  },
  {
   "cell_type": "markdown",
   "metadata": {},
   "source": [
    "class MyEncoder(json.JSONEncoder):\n",
    "    def default(self, obj):\n",
    "        if isinstance(obj, np.integer):\n",
    "            return int(obj)\n",
    "        elif isinstance(obj, np.floating):\n",
    "            return float(obj)\n",
    "        elif isinstance(obj, np.ndarray):\n",
    "            return obj.tolist()\n",
    "        else:\n",
    "            return super(MyEncoder, self).default(obj)"
   ]
  },
  {
   "cell_type": "markdown",
   "metadata": {},
   "source": [
    "jsonfilename = f'SFresults//' + line +'.json'\n",
    "with open(jsonfilename, \"w\") as f:\n",
    "    json.dump(Car, fp=f, indent=3, cls=MyEncoder)\n",
    "print(jsonfilename, end=\"\")"
   ]
  },
  {
   "cell_type": "code",
   "execution_count": null,
   "metadata": {},
   "outputs": [],
   "source": [
    "print(\"--- %s seconds ---\" % (time.time()-start_time))"
   ]
  }
 ],
 "metadata": {
  "kernelspec": {
   "display_name": "Python 3",
   "language": "python",
   "name": "python3"
  },
  "language_info": {
   "codemirror_mode": {
    "name": "ipython",
    "version": 3
   },
   "file_extension": ".py",
   "mimetype": "text/x-python",
   "name": "python",
   "nbconvert_exporter": "python",
   "pygments_lexer": "ipython3",
   "version": "3.8.3"
  }
 },
 "nbformat": 4,
 "nbformat_minor": 4
}
