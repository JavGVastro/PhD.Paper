{
 "cells": [
  {
   "cell_type": "code",
   "execution_count": 1,
   "metadata": {},
   "outputs": [],
   "source": [
    "import time\n",
    "start_time=time.time()"
   ]
  },
  {
   "cell_type": "code",
   "execution_count": 2,
   "metadata": {},
   "outputs": [],
   "source": [
    "from matplotlib import pyplot as plt\n",
    "import seaborn as sns\n",
    "import numpy as np\n",
    "import pandas as pd\n",
    "from scipy import interpolate\n",
    "import pickle\n",
    "import json\n",
    "\n",
    "import strucfunc\n",
    "from strucfunc import sosflog\n",
    "from bfunc import bfunc00,bfunc01,bfunc02\n",
    "\n"
   ]
  },
  {
   "cell_type": "code",
   "execution_count": 3,
   "metadata": {},
   "outputs": [],
   "source": [
    "reg = 'OrionLH'\n",
    "line = 'OrionLH'"
   ]
  },
  {
   "cell_type": "code",
   "execution_count": 4,
   "metadata": {},
   "outputs": [],
   "source": [
    "pickle_in = open('VFL//' + reg + '.pkl',\"rb\")\n",
    "VF = pickle.load(pickle_in)\n",
    "data = VF[line]"
   ]
  },
  {
   "cell_type": "code",
   "execution_count": 5,
   "metadata": {},
   "outputs": [
    {
     "data": {
      "text/plain": [
       "10.433847745911214"
      ]
     },
     "execution_count": 5,
     "metadata": {},
     "output_type": "execute_result"
    }
   ],
   "source": [
    "data.RV.var()"
   ]
  },
  {
   "cell_type": "code",
   "execution_count": 6,
   "metadata": {},
   "outputs": [],
   "source": [
    "sig = data.RV.std()\n",
    "sig2 = data.RV.var()"
   ]
  },
  {
   "cell_type": "code",
   "execution_count": 7,
   "metadata": {},
   "outputs": [],
   "source": [
    "dlog=-0.225"
   ]
  },
  {
   "cell_type": "code",
   "execution_count": 8,
   "metadata": {},
   "outputs": [
    {
     "name": "stderr",
     "output_type": "stream",
     "text": [
      "C:\\Users\\ZAINTEL2\\anaconda3\\lib\\site-packages\\pandas\\core\\series.py:679: RuntimeWarning: divide by zero encountered in log10\n",
      "  result = getattr(ufunc, method)(*inputs, **kwargs)\n"
     ]
    }
   ],
   "source": [
    "table = sosflog(data,dlog)"
   ]
  },
  {
   "cell_type": "code",
   "execution_count": 9,
   "metadata": {},
   "outputs": [
    {
     "data": {
      "text/html": [
       "<div>\n",
       "<style scoped>\n",
       "    .dataframe tbody tr th:only-of-type {\n",
       "        vertical-align: middle;\n",
       "    }\n",
       "\n",
       "    .dataframe tbody tr th {\n",
       "        vertical-align: top;\n",
       "    }\n",
       "\n",
       "    .dataframe thead tr th {\n",
       "        text-align: left;\n",
       "    }\n",
       "\n",
       "    .dataframe thead tr:last-of-type th {\n",
       "        text-align: right;\n",
       "    }\n",
       "</style>\n",
       "<table border=\"1\" class=\"dataframe\">\n",
       "  <thead>\n",
       "    <tr>\n",
       "      <th></th>\n",
       "      <th colspan=\"8\" halign=\"left\">s</th>\n",
       "      <th colspan=\"8\" halign=\"left\">dV2</th>\n",
       "    </tr>\n",
       "    <tr>\n",
       "      <th></th>\n",
       "      <th>count</th>\n",
       "      <th>mean</th>\n",
       "      <th>std</th>\n",
       "      <th>min</th>\n",
       "      <th>25%</th>\n",
       "      <th>50%</th>\n",
       "      <th>75%</th>\n",
       "      <th>max</th>\n",
       "      <th>count</th>\n",
       "      <th>mean</th>\n",
       "      <th>std</th>\n",
       "      <th>min</th>\n",
       "      <th>25%</th>\n",
       "      <th>50%</th>\n",
       "      <th>75%</th>\n",
       "      <th>max</th>\n",
       "    </tr>\n",
       "    <tr>\n",
       "      <th>ils</th>\n",
       "      <th></th>\n",
       "      <th></th>\n",
       "      <th></th>\n",
       "      <th></th>\n",
       "      <th></th>\n",
       "      <th></th>\n",
       "      <th></th>\n",
       "      <th></th>\n",
       "      <th></th>\n",
       "      <th></th>\n",
       "      <th></th>\n",
       "      <th></th>\n",
       "      <th></th>\n",
       "      <th></th>\n",
       "      <th></th>\n",
       "      <th></th>\n",
       "    </tr>\n",
       "  </thead>\n",
       "  <tbody>\n",
       "    <tr>\n",
       "      <th>1</th>\n",
       "      <td>946.0</td>\n",
       "      <td>3.716349</td>\n",
       "      <td>1.333676e-01</td>\n",
       "      <td>3.556424</td>\n",
       "      <td>3.626319</td>\n",
       "      <td>3.683304</td>\n",
       "      <td>3.795286</td>\n",
       "      <td>4.229287</td>\n",
       "      <td>3.0</td>\n",
       "      <td>24.753333</td>\n",
       "      <td>16.870140</td>\n",
       "      <td>7.29</td>\n",
       "      <td>16.65</td>\n",
       "      <td>26.01</td>\n",
       "      <td>33.4850</td>\n",
       "      <td>40.96</td>\n",
       "    </tr>\n",
       "    <tr>\n",
       "      <th>2</th>\n",
       "      <td>60734.0</td>\n",
       "      <td>2.584771</td>\n",
       "      <td>3.376957e-01</td>\n",
       "      <td>2.121999</td>\n",
       "      <td>2.294059</td>\n",
       "      <td>2.525991</td>\n",
       "      <td>2.806473</td>\n",
       "      <td>3.545478</td>\n",
       "      <td>6021.0</td>\n",
       "      <td>36.483428</td>\n",
       "      <td>44.374855</td>\n",
       "      <td>0.00</td>\n",
       "      <td>4.84</td>\n",
       "      <td>20.25</td>\n",
       "      <td>53.2900</td>\n",
       "      <td>420.25</td>\n",
       "    </tr>\n",
       "    <tr>\n",
       "      <th>3</th>\n",
       "      <td>81684.0</td>\n",
       "      <td>1.677800</td>\n",
       "      <td>2.449637e-01</td>\n",
       "      <td>1.266862</td>\n",
       "      <td>1.455296</td>\n",
       "      <td>1.673950</td>\n",
       "      <td>1.885577</td>\n",
       "      <td>2.113334</td>\n",
       "      <td>24972.0</td>\n",
       "      <td>24.836594</td>\n",
       "      <td>33.179892</td>\n",
       "      <td>0.00</td>\n",
       "      <td>2.56</td>\n",
       "      <td>12.25</td>\n",
       "      <td>33.6400</td>\n",
       "      <td>380.25</td>\n",
       "    </tr>\n",
       "    <tr>\n",
       "      <th>4</th>\n",
       "      <td>45308.0</td>\n",
       "      <td>1.008652</td>\n",
       "      <td>1.483297e-01</td>\n",
       "      <td>0.753221</td>\n",
       "      <td>0.868178</td>\n",
       "      <td>1.018691</td>\n",
       "      <td>1.130684</td>\n",
       "      <td>1.245146</td>\n",
       "      <td>18004.0</td>\n",
       "      <td>17.467978</td>\n",
       "      <td>26.376934</td>\n",
       "      <td>0.00</td>\n",
       "      <td>1.44</td>\n",
       "      <td>7.29</td>\n",
       "      <td>22.0900</td>\n",
       "      <td>316.84</td>\n",
       "    </tr>\n",
       "    <tr>\n",
       "      <th>5</th>\n",
       "      <td>17938.0</td>\n",
       "      <td>0.606022</td>\n",
       "      <td>8.075143e-02</td>\n",
       "      <td>0.477057</td>\n",
       "      <td>0.533221</td>\n",
       "      <td>0.607864</td>\n",
       "      <td>0.674648</td>\n",
       "      <td>0.725455</td>\n",
       "      <td>7705.0</td>\n",
       "      <td>12.281249</td>\n",
       "      <td>18.215222</td>\n",
       "      <td>0.00</td>\n",
       "      <td>1.21</td>\n",
       "      <td>5.29</td>\n",
       "      <td>16.0000</td>\n",
       "      <td>252.81</td>\n",
       "    </tr>\n",
       "    <tr>\n",
       "      <th>6</th>\n",
       "      <td>8604.0</td>\n",
       "      <td>0.353269</td>\n",
       "      <td>6.134122e-02</td>\n",
       "      <td>0.266333</td>\n",
       "      <td>0.266680</td>\n",
       "      <td>0.376740</td>\n",
       "      <td>0.429543</td>\n",
       "      <td>0.430011</td>\n",
       "      <td>3782.0</td>\n",
       "      <td>9.423498</td>\n",
       "      <td>14.133767</td>\n",
       "      <td>0.00</td>\n",
       "      <td>0.81</td>\n",
       "      <td>4.00</td>\n",
       "      <td>12.2500</td>\n",
       "      <td>127.69</td>\n",
       "    </tr>\n",
       "    <tr>\n",
       "      <th>7</th>\n",
       "      <td>1866.0</td>\n",
       "      <td>0.191995</td>\n",
       "      <td>3.299247e-02</td>\n",
       "      <td>0.168527</td>\n",
       "      <td>0.168609</td>\n",
       "      <td>0.168655</td>\n",
       "      <td>0.238528</td>\n",
       "      <td>0.238528</td>\n",
       "      <td>799.0</td>\n",
       "      <td>7.583217</td>\n",
       "      <td>13.145874</td>\n",
       "      <td>0.00</td>\n",
       "      <td>0.64</td>\n",
       "      <td>2.89</td>\n",
       "      <td>8.4100</td>\n",
       "      <td>156.25</td>\n",
       "    </tr>\n",
       "    <tr>\n",
       "      <th>8</th>\n",
       "      <td>648.0</td>\n",
       "      <td>0.119264</td>\n",
       "      <td>1.318179e-15</td>\n",
       "      <td>0.119264</td>\n",
       "      <td>0.119264</td>\n",
       "      <td>0.119264</td>\n",
       "      <td>0.119264</td>\n",
       "      <td>0.119264</td>\n",
       "      <td>272.0</td>\n",
       "      <td>5.030074</td>\n",
       "      <td>9.721514</td>\n",
       "      <td>0.00</td>\n",
       "      <td>0.36</td>\n",
       "      <td>1.69</td>\n",
       "      <td>5.4075</td>\n",
       "      <td>77.44</td>\n",
       "    </tr>\n",
       "  </tbody>\n",
       "</table>\n",
       "</div>"
      ],
      "text/plain": [
       "           s                                                                  \\\n",
       "       count      mean           std       min       25%       50%       75%   \n",
       "ils                                                                            \n",
       "1      946.0  3.716349  1.333676e-01  3.556424  3.626319  3.683304  3.795286   \n",
       "2    60734.0  2.584771  3.376957e-01  2.121999  2.294059  2.525991  2.806473   \n",
       "3    81684.0  1.677800  2.449637e-01  1.266862  1.455296  1.673950  1.885577   \n",
       "4    45308.0  1.008652  1.483297e-01  0.753221  0.868178  1.018691  1.130684   \n",
       "5    17938.0  0.606022  8.075143e-02  0.477057  0.533221  0.607864  0.674648   \n",
       "6     8604.0  0.353269  6.134122e-02  0.266333  0.266680  0.376740  0.429543   \n",
       "7     1866.0  0.191995  3.299247e-02  0.168527  0.168609  0.168655  0.238528   \n",
       "8      648.0  0.119264  1.318179e-15  0.119264  0.119264  0.119264  0.119264   \n",
       "\n",
       "                   dV2                                                     \\\n",
       "          max    count       mean        std   min    25%    50%      75%   \n",
       "ils                                                                         \n",
       "1    4.229287      3.0  24.753333  16.870140  7.29  16.65  26.01  33.4850   \n",
       "2    3.545478   6021.0  36.483428  44.374855  0.00   4.84  20.25  53.2900   \n",
       "3    2.113334  24972.0  24.836594  33.179892  0.00   2.56  12.25  33.6400   \n",
       "4    1.245146  18004.0  17.467978  26.376934  0.00   1.44   7.29  22.0900   \n",
       "5    0.725455   7705.0  12.281249  18.215222  0.00   1.21   5.29  16.0000   \n",
       "6    0.430011   3782.0   9.423498  14.133767  0.00   0.81   4.00  12.2500   \n",
       "7    0.238528    799.0   7.583217  13.145874  0.00   0.64   2.89   8.4100   \n",
       "8    0.119264    272.0   5.030074   9.721514  0.00   0.36   1.69   5.4075   \n",
       "\n",
       "             \n",
       "        max  \n",
       "ils          \n",
       "1     40.96  \n",
       "2    420.25  \n",
       "3    380.25  \n",
       "4    316.84  \n",
       "5    252.81  \n",
       "6    127.69  \n",
       "7    156.25  \n",
       "8     77.44  "
      ]
     },
     "execution_count": 9,
     "metadata": {},
     "output_type": "execute_result"
    }
   ],
   "source": [
    "table"
   ]
  },
  {
   "cell_type": "code",
   "execution_count": 10,
   "metadata": {},
   "outputs": [],
   "source": [
    "s = 0.5 * (table[('s', 'min')] + table[('s', 'max')])\n",
    "e_s = 0.5 * (table[('s', 'max')] - table[('s', 'min')])\n",
    "b2 = table[('dV2', 'mean')]\n",
    "ng = table[('dV2', 'count')]\n",
    "e_b2 = table[('dV2', 'std')] / np.sqrt(ng)"
   ]
  },
  {
   "cell_type": "code",
   "execution_count": 11,
   "metadata": {},
   "outputs": [
    {
     "data": {
      "text/plain": [
       "0.43764927674839726"
      ]
     },
     "execution_count": 11,
     "metadata": {},
     "output_type": "execute_result"
    }
   ],
   "source": [
    "r0 = np.interp(sig2, b2, s,period = 360)\n",
    "r0"
   ]
  },
  {
   "cell_type": "code",
   "execution_count": 12,
   "metadata": {},
   "outputs": [
    {
     "data": {
      "text/plain": [
       "0.13413528066234237"
      ]
     },
     "execution_count": 12,
     "metadata": {},
     "output_type": "execute_result"
    }
   ],
   "source": [
    "r1 = np.interp(sig, b2, s,period = 360)\n",
    "r1"
   ]
  },
  {
   "cell_type": "code",
   "execution_count": 13,
   "metadata": {},
   "outputs": [
    {
     "data": {
      "text/plain": [
       "2.3495183056185516"
      ]
     },
     "execution_count": 13,
     "metadata": {},
     "output_type": "execute_result"
    }
   ],
   "source": [
    "r2 = np.interp(2*sig2, b2, s, period = 360)\n",
    "r2"
   ]
  },
  {
   "cell_type": "code",
   "execution_count": 14,
   "metadata": {},
   "outputs": [],
   "source": [
    "#x = s\n",
    "#y = b2 - sig2\n",
    "#tck=interpolate.splrep(x,y,s=0)\n",
    "#grid=np.linspace(x.min(),x.max(),num=len(x))\n",
    "#ynew=interpolate.splev(grid,tck,der=0)\n",
    "#inter=pd.DataFrame([grid,ynew]).T\n",
    "#SFr=interpolate.sproot(tck)\n",
    "#SFr"
   ]
  },
  {
   "cell_type": "code",
   "execution_count": 15,
   "metadata": {},
   "outputs": [],
   "source": [
    "m = 1.1"
   ]
  },
  {
   "cell_type": "code",
   "execution_count": 16,
   "metadata": {},
   "outputs": [],
   "source": [
    "rgrid = np.logspace(-2, 1)"
   ]
  },
  {
   "cell_type": "code",
   "execution_count": 17,
   "metadata": {},
   "outputs": [
    {
     "data": {
      "text/plain": [
       "(10.433847745911214, 0.43764927674839726, 1.1)"
      ]
     },
     "execution_count": 17,
     "metadata": {},
     "output_type": "execute_result"
    },
    {
     "data": {
      "image/png": "[encoded data removed]",
      "text/plain": [
       "<Figure size 576x432 with 1 Axes>"
      ]
     },
     "metadata": {
      "needs_background": "light"
     },
     "output_type": "display_data"
    }
   ],
   "source": [
    "fig, ax = plt.subplots(figsize=(8, 6))\n",
    "\n",
    "ax.errorbar(s, b2, yerr=e_b2, xerr=e_s, fmt='o', alpha=0.4,color=\"blue\")\n",
    "\n",
    "\n",
    "ax.axhline(sig2, ls='-')\n",
    "ax.axvline(r0, ls='-')\n",
    "\n",
    "ax.axhline(2*sig2, ls=':')\n",
    "ax.axvline(r2, ls=':')\n",
    "\n",
    "ax.axhline(sig, ls=':')\n",
    "ax.axvline(r1, ls=':')\n",
    "\n",
    "ax.plot(rgrid, bfunc00(rgrid, r0, sig2, m), color=\"0.8\")\n",
    "ax.plot(rgrid, bfunc02(rgrid, r0, sig2, m, VF['s0'], b2.mean()*0.05), color=\"red\")\n",
    "\n",
    "ax.set(xscale='log', yscale='log', \n",
    "       xlabel='separation pc',\n",
    "       ylabel=r'$b^2,\\ \\mathrm{km^2\\ s^{-2}}$'\n",
    "      )\n",
    "None\n",
    "\n",
    "sig2, r0, m"
   ]
  },
  {
   "cell_type": "code",
   "execution_count": 18,
   "metadata": {},
   "outputs": [
    {
     "data": {
      "text/html": [
       "<div>\n",
       "<style scoped>\n",
       "    .dataframe tbody tr th:only-of-type {\n",
       "        vertical-align: middle;\n",
       "    }\n",
       "\n",
       "    .dataframe tbody tr th {\n",
       "        vertical-align: top;\n",
       "    }\n",
       "\n",
       "    .dataframe thead tr th {\n",
       "        text-align: left;\n",
       "    }\n",
       "\n",
       "    .dataframe thead tr:last-of-type th {\n",
       "        text-align: right;\n",
       "    }\n",
       "</style>\n",
       "<table border=\"1\" class=\"dataframe\">\n",
       "  <thead>\n",
       "    <tr>\n",
       "      <th></th>\n",
       "      <th colspan=\"8\" halign=\"left\">s</th>\n",
       "      <th colspan=\"8\" halign=\"left\">dV2</th>\n",
       "    </tr>\n",
       "    <tr>\n",
       "      <th></th>\n",
       "      <th>count</th>\n",
       "      <th>mean</th>\n",
       "      <th>std</th>\n",
       "      <th>min</th>\n",
       "      <th>25%</th>\n",
       "      <th>50%</th>\n",
       "      <th>75%</th>\n",
       "      <th>max</th>\n",
       "      <th>count</th>\n",
       "      <th>mean</th>\n",
       "      <th>std</th>\n",
       "      <th>min</th>\n",
       "      <th>25%</th>\n",
       "      <th>50%</th>\n",
       "      <th>75%</th>\n",
       "      <th>max</th>\n",
       "    </tr>\n",
       "    <tr>\n",
       "      <th>ils</th>\n",
       "      <th></th>\n",
       "      <th></th>\n",
       "      <th></th>\n",
       "      <th></th>\n",
       "      <th></th>\n",
       "      <th></th>\n",
       "      <th></th>\n",
       "      <th></th>\n",
       "      <th></th>\n",
       "      <th></th>\n",
       "      <th></th>\n",
       "      <th></th>\n",
       "      <th></th>\n",
       "      <th></th>\n",
       "      <th></th>\n",
       "      <th></th>\n",
       "    </tr>\n",
       "  </thead>\n",
       "  <tbody>\n",
       "    <tr>\n",
       "      <th>1</th>\n",
       "      <td>946.0</td>\n",
       "      <td>3.716349</td>\n",
       "      <td>1.333676e-01</td>\n",
       "      <td>3.556424</td>\n",
       "      <td>3.626319</td>\n",
       "      <td>3.683304</td>\n",
       "      <td>3.795286</td>\n",
       "      <td>4.229287</td>\n",
       "      <td>3.0</td>\n",
       "      <td>24.753333</td>\n",
       "      <td>16.870140</td>\n",
       "      <td>7.29</td>\n",
       "      <td>16.65</td>\n",
       "      <td>26.01</td>\n",
       "      <td>33.4850</td>\n",
       "      <td>40.96</td>\n",
       "    </tr>\n",
       "    <tr>\n",
       "      <th>2</th>\n",
       "      <td>60734.0</td>\n",
       "      <td>2.584771</td>\n",
       "      <td>3.376957e-01</td>\n",
       "      <td>2.121999</td>\n",
       "      <td>2.294059</td>\n",
       "      <td>2.525991</td>\n",
       "      <td>2.806473</td>\n",
       "      <td>3.545478</td>\n",
       "      <td>6021.0</td>\n",
       "      <td>36.483428</td>\n",
       "      <td>44.374855</td>\n",
       "      <td>0.00</td>\n",
       "      <td>4.84</td>\n",
       "      <td>20.25</td>\n",
       "      <td>53.2900</td>\n",
       "      <td>420.25</td>\n",
       "    </tr>\n",
       "    <tr>\n",
       "      <th>3</th>\n",
       "      <td>81684.0</td>\n",
       "      <td>1.677800</td>\n",
       "      <td>2.449637e-01</td>\n",
       "      <td>1.266862</td>\n",
       "      <td>1.455296</td>\n",
       "      <td>1.673950</td>\n",
       "      <td>1.885577</td>\n",
       "      <td>2.113334</td>\n",
       "      <td>24972.0</td>\n",
       "      <td>24.836594</td>\n",
       "      <td>33.179892</td>\n",
       "      <td>0.00</td>\n",
       "      <td>2.56</td>\n",
       "      <td>12.25</td>\n",
       "      <td>33.6400</td>\n",
       "      <td>380.25</td>\n",
       "    </tr>\n",
       "    <tr>\n",
       "      <th>4</th>\n",
       "      <td>45308.0</td>\n",
       "      <td>1.008652</td>\n",
       "      <td>1.483297e-01</td>\n",
       "      <td>0.753221</td>\n",
       "      <td>0.868178</td>\n",
       "      <td>1.018691</td>\n",
       "      <td>1.130684</td>\n",
       "      <td>1.245146</td>\n",
       "      <td>18004.0</td>\n",
       "      <td>17.467978</td>\n",
       "      <td>26.376934</td>\n",
       "      <td>0.00</td>\n",
       "      <td>1.44</td>\n",
       "      <td>7.29</td>\n",
       "      <td>22.0900</td>\n",
       "      <td>316.84</td>\n",
       "    </tr>\n",
       "    <tr>\n",
       "      <th>5</th>\n",
       "      <td>17938.0</td>\n",
       "      <td>0.606022</td>\n",
       "      <td>8.075143e-02</td>\n",
       "      <td>0.477057</td>\n",
       "      <td>0.533221</td>\n",
       "      <td>0.607864</td>\n",
       "      <td>0.674648</td>\n",
       "      <td>0.725455</td>\n",
       "      <td>7705.0</td>\n",
       "      <td>12.281249</td>\n",
       "      <td>18.215222</td>\n",
       "      <td>0.00</td>\n",
       "      <td>1.21</td>\n",
       "      <td>5.29</td>\n",
       "      <td>16.0000</td>\n",
       "      <td>252.81</td>\n",
       "    </tr>\n",
       "    <tr>\n",
       "      <th>6</th>\n",
       "      <td>8604.0</td>\n",
       "      <td>0.353269</td>\n",
       "      <td>6.134122e-02</td>\n",
       "      <td>0.266333</td>\n",
       "      <td>0.266680</td>\n",
       "      <td>0.376740</td>\n",
       "      <td>0.429543</td>\n",
       "      <td>0.430011</td>\n",
       "      <td>3782.0</td>\n",
       "      <td>9.423498</td>\n",
       "      <td>14.133767</td>\n",
       "      <td>0.00</td>\n",
       "      <td>0.81</td>\n",
       "      <td>4.00</td>\n",
       "      <td>12.2500</td>\n",
       "      <td>127.69</td>\n",
       "    </tr>\n",
       "    <tr>\n",
       "      <th>7</th>\n",
       "      <td>1866.0</td>\n",
       "      <td>0.191995</td>\n",
       "      <td>3.299247e-02</td>\n",
       "      <td>0.168527</td>\n",
       "      <td>0.168609</td>\n",
       "      <td>0.168655</td>\n",
       "      <td>0.238528</td>\n",
       "      <td>0.238528</td>\n",
       "      <td>799.0</td>\n",
       "      <td>7.583217</td>\n",
       "      <td>13.145874</td>\n",
       "      <td>0.00</td>\n",
       "      <td>0.64</td>\n",
       "      <td>2.89</td>\n",
       "      <td>8.4100</td>\n",
       "      <td>156.25</td>\n",
       "    </tr>\n",
       "    <tr>\n",
       "      <th>8</th>\n",
       "      <td>648.0</td>\n",
       "      <td>0.119264</td>\n",
       "      <td>1.318179e-15</td>\n",
       "      <td>0.119264</td>\n",
       "      <td>0.119264</td>\n",
       "      <td>0.119264</td>\n",
       "      <td>0.119264</td>\n",
       "      <td>0.119264</td>\n",
       "      <td>272.0</td>\n",
       "      <td>5.030074</td>\n",
       "      <td>9.721514</td>\n",
       "      <td>0.00</td>\n",
       "      <td>0.36</td>\n",
       "      <td>1.69</td>\n",
       "      <td>5.4075</td>\n",
       "      <td>77.44</td>\n",
       "    </tr>\n",
       "  </tbody>\n",
       "</table>\n",
       "</div>"
      ],
      "text/plain": [
       "           s                                                                  \\\n",
       "       count      mean           std       min       25%       50%       75%   \n",
       "ils                                                                            \n",
       "1      946.0  3.716349  1.333676e-01  3.556424  3.626319  3.683304  3.795286   \n",
       "2    60734.0  2.584771  3.376957e-01  2.121999  2.294059  2.525991  2.806473   \n",
       "3    81684.0  1.677800  2.449637e-01  1.266862  1.455296  1.673950  1.885577   \n",
       "4    45308.0  1.008652  1.483297e-01  0.753221  0.868178  1.018691  1.130684   \n",
       "5    17938.0  0.606022  8.075143e-02  0.477057  0.533221  0.607864  0.674648   \n",
       "6     8604.0  0.353269  6.134122e-02  0.266333  0.266680  0.376740  0.429543   \n",
       "7     1866.0  0.191995  3.299247e-02  0.168527  0.168609  0.168655  0.238528   \n",
       "8      648.0  0.119264  1.318179e-15  0.119264  0.119264  0.119264  0.119264   \n",
       "\n",
       "                   dV2                                                     \\\n",
       "          max    count       mean        std   min    25%    50%      75%   \n",
       "ils                                                                         \n",
       "1    4.229287      3.0  24.753333  16.870140  7.29  16.65  26.01  33.4850   \n",
       "2    3.545478   6021.0  36.483428  44.374855  0.00   4.84  20.25  53.2900   \n",
       "3    2.113334  24972.0  24.836594  33.179892  0.00   2.56  12.25  33.6400   \n",
       "4    1.245146  18004.0  17.467978  26.376934  0.00   1.44   7.29  22.0900   \n",
       "5    0.725455   7705.0  12.281249  18.215222  0.00   1.21   5.29  16.0000   \n",
       "6    0.430011   3782.0   9.423498  14.133767  0.00   0.81   4.00  12.2500   \n",
       "7    0.238528    799.0   7.583217  13.145874  0.00   0.64   2.89   8.4100   \n",
       "8    0.119264    272.0   5.030074   9.721514  0.00   0.36   1.69   5.4075   \n",
       "\n",
       "             \n",
       "        max  \n",
       "ils          \n",
       "1     40.96  \n",
       "2    420.25  \n",
       "3    380.25  \n",
       "4    316.84  \n",
       "5    252.81  \n",
       "6    127.69  \n",
       "7    156.25  \n",
       "8     77.44  "
      ]
     },
     "execution_count": 18,
     "metadata": {},
     "output_type": "execute_result"
    }
   ],
   "source": [
    "table"
   ]
  },
  {
   "cell_type": "code",
   "execution_count": 19,
   "metadata": {},
   "outputs": [],
   "source": [
    "Orion = { 'VF' : data,\n",
    "        'SF' : table,\n",
    "        's' : s,\n",
    "        'b2' : b2,\n",
    "        'sig2' : sig2,\n",
    "        'pc' : VF['pc'],\n",
    "        'r0' : r0,\n",
    "        'r1' : r1,\n",
    "        'r2' : r2,\n",
    "        's0' : VF['s0'],\n",
    "        'm' : m}"
   ]
  },
  {
   "cell_type": "code",
   "execution_count": 20,
   "metadata": {},
   "outputs": [],
   "source": [
    "f = open('Sfresults\\\\'+ line + '.pkl',\"wb\")\n",
    "pickle.dump(Orion,f)\n",
    "f.close()"
   ]
  },
  {
   "cell_type": "markdown",
   "metadata": {},
   "source": [
    "class MyEncoder(json.JSONEncoder):\n",
    "    def default(self, obj):\n",
    "        if isinstance(obj, np.integer):\n",
    "            return int(obj)\n",
    "        elif isinstance(obj, np.floating):\n",
    "            return float(obj)\n",
    "        elif isinstance(obj, np.ndarray):\n",
    "            return obj.tolist()\n",
    "        else:\n",
    "            return super(MyEncoder, self).default(obj)"
   ]
  },
  {
   "cell_type": "markdown",
   "metadata": {},
   "source": [
    "jsonfilename = f'SFresults//' + line +'.json'\n",
    "with open(jsonfilename, \"w\") as f:\n",
    "    json.dump(Car, fp=f, indent=3, cls=MyEncoder)\n",
    "print(jsonfilename, end=\"\")"
   ]
  },
  {
   "cell_type": "code",
   "execution_count": 21,
   "metadata": {},
   "outputs": [
    {
     "name": "stdout",
     "output_type": "stream",
     "text": [
      "--- 5.471105575561523 seconds ---\n"
     ]
    }
   ],
   "source": [
    "print(\"--- %s seconds ---\" % (time.time()-start_time))"
   ]
  }
 ],
 "metadata": {
  "kernelspec": {
   "display_name": "Python 3",
   "language": "python",
   "name": "python3"
  },
  "language_info": {
   "codemirror_mode": {
    "name": "ipython",
    "version": 3
   },
   "file_extension": ".py",
   "mimetype": "text/x-python",
   "name": "python",
   "nbconvert_exporter": "python",
   "pygments_lexer": "ipython3",
   "version": "3.8.3"
  }
 },
 "nbformat": 4,
 "nbformat_minor": 4
}
