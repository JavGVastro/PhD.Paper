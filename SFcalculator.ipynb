{
 "cells": [
  {
   "cell_type": "code",
   "execution_count": 1,
   "metadata": {},
   "outputs": [],
   "source": [
    "import time\n",
    "start_time=time.time()"
   ]
  },
  {
   "cell_type": "code",
   "execution_count": 2,
   "metadata": {},
   "outputs": [],
   "source": [
    "from matplotlib import pyplot as plt\n",
    "import seaborn as sns\n",
    "import numpy as np\n",
    "import pandas as pd\n",
    "from scipy import interpolate\n",
    "import strucfunc\n",
    "import pickle\n",
    "import json\n",
    "\n"
   ]
  },
  {
   "cell_type": "code",
   "execution_count": 3,
   "metadata": {},
   "outputs": [
    {
     "data": {
      "text/plain": [
       "4.217879025652963"
      ]
     },
     "execution_count": 3,
     "metadata": {},
     "output_type": "execute_result"
    }
   ],
   "source": [
    "reg = 'N604'\n",
    "dist = 870000 #parsecs\n",
    "pc = dist*(2*np.pi) / (360 * 60 * 60)\n",
    "pc"
   ]
  },
  {
   "cell_type": "code",
   "execution_count": 4,
   "metadata": {},
   "outputs": [],
   "source": [
    "pixscale = 0.26 # arcsec\n",
    "pixscale *= pc            # parsec"
   ]
  },
  {
   "cell_type": "code",
   "execution_count": 5,
   "metadata": {},
   "outputs": [
    {
     "data": {
      "text/plain": [
       "{'sb': array([[nan, nan, nan, ..., nan, nan, nan],\n",
       "        [nan, nan, nan, ..., nan, nan, nan],\n",
       "        [nan, nan, nan, ..., nan, nan, nan],\n",
       "        ...,\n",
       "        [nan, nan, nan, ..., nan, nan, nan],\n",
       "        [nan, nan, nan, ..., nan, nan, nan],\n",
       "        [nan, nan, nan, ..., nan, nan, nan]]),\n",
       " 'vv': array([[nan, nan, nan, ..., nan, nan, nan],\n",
       "        [nan, nan, nan, ..., nan, nan, nan],\n",
       "        [nan, nan, nan, ..., nan, nan, nan],\n",
       "        ...,\n",
       "        [nan, nan, nan, ..., nan, nan, nan],\n",
       "        [nan, nan, nan, ..., nan, nan, nan],\n",
       "        [nan, nan, nan, ..., nan, nan, nan]]),\n",
       " 'ss': array([[nan, nan, nan, ..., nan, nan, nan],\n",
       "        [nan, nan, nan, ..., nan, nan, nan],\n",
       "        [nan, nan, nan, ..., nan, nan, nan],\n",
       "        ...,\n",
       "        [nan, nan, nan, ..., nan, nan, nan],\n",
       "        [nan, nan, nan, ..., nan, nan, nan],\n",
       "        [nan, nan, nan, ..., nan, nan, nan]])}"
      ]
     },
     "execution_count": 5,
     "metadata": {},
     "output_type": "execute_result"
    }
   ],
   "source": [
    "pickle_in = open('VF2//' + reg + '.pkl',\"rb\")\n",
    "data = pickle.load(pickle_in)\n",
    "data"
   ]
  },
  {
   "cell_type": "code",
   "execution_count": null,
   "metadata": {},
   "outputs": [],
   "source": []
  },
  {
   "cell_type": "code",
   "execution_count": 6,
   "metadata": {},
   "outputs": [],
   "source": [
    "sb = data['sb']\n",
    "vv = data['vv']\n",
    "ss = data['ss']"
   ]
  },
  {
   "cell_type": "code",
   "execution_count": 7,
   "metadata": {},
   "outputs": [
    {
     "name": "stderr",
     "output_type": "stream",
     "text": [
      "<ipython-input-7-7f70e0a3c852>:2: RuntimeWarning: invalid value encountered in less\n",
      "  m = ~np.isfinite(sb*vv*ss) | (sb < 0.0)\n"
     ]
    }
   ],
   "source": [
    "## Replace spurious values in the arrays\n",
    "m = ~np.isfinite(sb*vv*ss) | (sb < 0.0)\n",
    "\n",
    "sb[m] = 0.0\n",
    "vv[m] = np.nanmean(vv)\n",
    "ss[m] = 0.0\n",
    "sb /= sb.max()\n",
    "\n",
    "#good = (~m) & (sb > 0.001)"
   ]
  },
  {
   "cell_type": "code",
   "execution_count": 8,
   "metadata": {},
   "outputs": [],
   "source": [
    "rslt = strucfunc.strucfunc_numba_parallel(vv, wmap=sb, dlogr=0.15)"
   ]
  },
  {
   "cell_type": "code",
   "execution_count": 9,
   "metadata": {},
   "outputs": [],
   "source": [
    "good = (~m) & (sb > 0.001)\n",
    "rslt[\"Unweighted mean velocity\"] = np.mean(vv[good])\n",
    "rslt[\"Unweighted sigma^2\"] = np.var(vv[good])\n",
    "v0w = rslt[\"Weighted mean velocity\"] = np.average(vv, weights=sb)\n",
    "rslt[\"Weighted sigma^2\"] = np.average((vv - v0w)**2, weights=sb)"
   ]
  },
  {
   "cell_type": "code",
   "execution_count": 10,
   "metadata": {},
   "outputs": [],
   "source": [
    "class MyEncoder(json.JSONEncoder):\n",
    "    def default(self, obj):\n",
    "        if isinstance(obj, np.integer):\n",
    "            return int(obj)\n",
    "        elif isinstance(obj, np.floating):\n",
    "            return float(obj)\n",
    "        elif isinstance(obj, np.ndarray):\n",
    "            return obj.tolist()\n",
    "        else:\n",
    "            return super(MyEncoder, self).default(obj)"
   ]
  },
  {
   "cell_type": "code",
   "execution_count": 11,
   "metadata": {},
   "outputs": [
    {
     "name": "stdout",
     "output_type": "stream",
     "text": [
      "SFresults//N604.json"
     ]
    }
   ],
   "source": [
    "jsonfilename = f\"SFresults//\"+ reg +\".json\"\n",
    "with open(jsonfilename, \"w\") as f:\n",
    "    json.dump(rslt, fp=f, indent=3, cls=MyEncoder)\n",
    "print(jsonfilename, end=\"\")"
   ]
  },
  {
   "cell_type": "code",
   "execution_count": 12,
   "metadata": {},
   "outputs": [
    {
     "data": {
      "image/png": "[encoded data removed]",
      "text/plain": [
       "<Figure size 360x360 with 1 Axes>"
      ]
     },
     "metadata": {
      "needs_background": "light"
     },
     "output_type": "display_data"
    }
   ],
   "source": [
    "import json\n",
    "import numpy as np\n",
    "from matplotlib import pyplot as plt\n",
    "import seaborn as sns\n",
    "\n",
    "def bfunc(r, r0, sig2, m):\n",
    "    \"Theoretical structure function\"\n",
    "    C = 1.0 / (1.0 + (r/r0)**m)\n",
    "    return 2.0*sig2*(1 - C)\n",
    "\n",
    "data = json.load(open(\"SFresults//\"+ reg +\".json\"))\n",
    "\n",
    "sns.set_color_codes()\n",
    "fig, ax = plt.subplots(figsize=(5, 5))\n",
    "\n",
    "#figfile = \"tarantula-strucfunc-plot--f.pdf\"\n",
    "\n",
    "\n",
    "r = pixscale * 10**np.array(data[\"log10 r\"])\n",
    "B = np.array(data[\"Unweighted B(r)\"])\n",
    "sig2 = data[\"Unweighted sigma^2\"]\n",
    "B_w = np.array(data[\"Weighted B(r)\"])\n",
    "sig2_w = data[\"Weighted sigma^2\"]\n",
    "\n",
    "# Plot fit to unweighted strucfunc\n",
    "rgrid = pixscale * np.logspace(0.0, 2.7)\n",
    "r0 = np.interp(sig2, B, r)\n",
    "m = 1.22\n",
    "flabel = rf\"$m = {m:.2f}$, $r_0 = {r0:.1f}$ pc, $\\sigma^2 = {sig2:.0f}$ (km/s)$^2$\"\n",
    "ax.fill_between(\n",
    "    rgrid,\n",
    "    bfunc(rgrid, r0, sig2, m - 0.1),\n",
    "    bfunc(rgrid, r0, sig2, m + 0.1),\n",
    "    color=\"k\", alpha=0.1,\n",
    ")\n",
    "ax.plot(rgrid, bfunc(rgrid, r0, sig2, m), color=\"k\", label=flabel)\n",
    "\n",
    "# Plot points from unweighted strucfunc\n",
    "ax.plot(r, B, 'o', label=\"Unweighted\")\n",
    "\n",
    "\n",
    "# Plot fit to weighted strucfunc\n",
    "r0_w = np.interp(sig2_w, B_w, r)\n",
    "m_w = 1.30\n",
    "flabel_w = rf\"$m = {m_w:.2f}$, $r_0 = {r0_w:.1f}$ pc, $\\sigma^2 = {sig2_w:.0f}$ (km/s)$^2$\"\n",
    "ax.fill_between(\n",
    "    rgrid,\n",
    "    bfunc(rgrid, r0_w, sig2_w, m_w - 0.1),\n",
    "    bfunc(rgrid, r0_w, sig2_w, m_w + 0.1),\n",
    "    color=\"k\", alpha=0.05,\n",
    ")\n",
    "ax.plot(rgrid, bfunc(rgrid, r0_w, sig2_w, m_w), lw=0.5, color=\"k\", alpha=0.5, label=flabel_w)\n",
    "\n",
    "# Plot points from weighted strucfunc\n",
    "ax.plot(r, B_w, 'o', ms=3, alpha=0.5, label=\"Flux-weighted\")\n",
    "\n",
    "\n",
    "#melnick_r = np.array([2.5, 7.5, 12.5, 17.5, 22.5, 27.5])\n",
    "#melnick_B = np.array([2.0, 2.1, 2.2, 2.2, 2.25, 2.25]) * 18.2**2\n",
    "#ax.plot(melnick_r, melnick_B, 's', label=\"Melnick+ (2020)\", color=\"y\", zorder=-10)\n",
    "\n",
    "\n",
    "ax.axhline(sig2, color=\"k\", ls=\"--\")\n",
    "ax.axhline(sig2_w, color=\"r\", ls=\":\")\n",
    "#ax.legend(title=r\"30 Doradus H$\\alpha$\")\n",
    "ax.set(\n",
    "    xscale = \"log\",\n",
    "    yscale = \"log\",\n",
    "    ylim  = [1, 1000],\n",
    "    xlim  = [0.1, 200],\n",
    "    xlabel = \"Separation, pc\",\n",
    "    ylabel = r\"$B(r)$, (km/s)$^2$\",\n",
    ")\n",
    "fig.tight_layout()\n",
    "sns.despine()\n",
    "#fig.savefig(figfile)\n",
    "#fig.savefig(figfile.replace(\".pdf\", \".jpg\"))"
   ]
  },
  {
   "cell_type": "code",
   "execution_count": 13,
   "metadata": {},
   "outputs": [
    {
     "name": "stdout",
     "output_type": "stream",
     "text": [
      "--- 10.578214406967163 seconds ---\n"
     ]
    }
   ],
   "source": [
    "print(\"--- %s seconds ---\" % (time.time()-start_time))"
   ]
  }
 ],
 "metadata": {
  "kernelspec": {
   "display_name": "Python 3",
   "language": "python",
   "name": "python3"
  },
  "language_info": {
   "codemirror_mode": {
    "name": "ipython",
    "version": 3
   },
   "file_extension": ".py",
   "mimetype": "text/x-python",
   "name": "python",
   "nbconvert_exporter": "python",
   "pygments_lexer": "ipython3",
   "version": "3.8.3"
  }
 },
 "nbformat": 4,
 "nbformat_minor": 4
}
