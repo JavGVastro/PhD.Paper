{
 "cells": [
  {
   "cell_type": "code",
   "execution_count": 1,
   "metadata": {},
   "outputs": [],
   "source": [
    "import time\n",
    "start_time=time.time()"
   ]
  },
  {
   "cell_type": "code",
   "execution_count": 2,
   "metadata": {},
   "outputs": [],
   "source": [
    "from matplotlib import pyplot as plt\n",
    "import seaborn as sns\n",
    "import numpy as np\n",
    "import pandas as pd\n",
    "from scipy import interpolate\n",
    "import pickle\n",
    "\n",
    "import strucfunc\n",
    "from strucfunc import sosflog\n",
    "from bfunc import bfunc00,bfunc01,bfunc02"
   ]
  },
  {
   "cell_type": "code",
   "execution_count": 3,
   "metadata": {},
   "outputs": [],
   "source": [
    "name = 'Dor'"
   ]
  },
  {
   "cell_type": "code",
   "execution_count": 4,
   "metadata": {},
   "outputs": [],
   "source": [
    "pickle_in = open('VFM//' + name + '.pkl',\"rb\")\n",
    "data = pickle.load(pickle_in)\n",
    "sb = data['sb']\n",
    "vv = data['vv']\n",
    "ss = data['ss']"
   ]
  },
  {
   "cell_type": "code",
   "execution_count": 5,
   "metadata": {},
   "outputs": [],
   "source": [
    "## Replace spurious values in the arrays\n",
    "m = ~np.isfinite(sb*vv*ss) | (sb < 0.0)\n",
    "\n",
    "sb[m] = 0.0\n",
    "vv[m] = np.nanmean(vv)\n",
    "ss[m] = 0.0\n",
    "sb /= sb.max()\n",
    "\n",
    "good = (~m) & (sb > 0.001)"
   ]
  },
  {
   "cell_type": "code",
   "execution_count": 6,
   "metadata": {},
   "outputs": [],
   "source": [
    "rslt = strucfunc.strucfunc_numba_parallel(data['vv'], wmap=data['sb'], dlogr=0.15)"
   ]
  },
  {
   "cell_type": "code",
   "execution_count": 7,
   "metadata": {},
   "outputs": [],
   "source": [
    "good = (~m) & (sb > 0.001)\n",
    "rslt[\"Unweighted mean velocity\"] = np.mean(vv[good])\n",
    "rslt[\"Unweighted sigma^2\"] = np.var(vv[good])\n",
    "v0w = rslt[\"Weighted mean velocity\"] = np.average(vv, weights=sb)\n",
    "rslt[\"Weighted sigma^2\"] = np.average((vv - v0w)**2, weights=sb)"
   ]
  },
  {
   "cell_type": "code",
   "execution_count": 8,
   "metadata": {},
   "outputs": [],
   "source": [
    "b2 = rslt['Unweighted B(r)']\n",
    "e_b2 = b2  *.1\n",
    "s = 10**rslt['log10 r'] * data['pix'] * data['pc']\n",
    "e_s = s  *.1\n",
    "sig2 = rslt['Unweighted sigma^2']\n",
    "sig = sig2**0.5"
   ]
  },
  {
   "cell_type": "code",
   "execution_count": 9,
   "metadata": {},
   "outputs": [],
   "source": [
    "#r0 = np.interp(sig2, b2, s,period = 360)\n",
    "#r0"
   ]
  },
  {
   "cell_type": "code",
   "execution_count": 10,
   "metadata": {},
   "outputs": [],
   "source": [
    "x = s\n",
    "y = b2 - sig2\n",
    "tck=interpolate.splrep(x,y,s=0)\n",
    "grid=np.linspace(x.min(),x.max(),num=len(x))\n",
    "ynew=interpolate.splev(grid,tck,der=0)\n",
    "inter=pd.DataFrame([grid,ynew]).T\n",
    "SFr=interpolate.sproot(tck)\n",
    "r0 = SFr[0]"
   ]
  },
  {
   "cell_type": "code",
   "execution_count": 11,
   "metadata": {},
   "outputs": [
    {
     "data": {
      "text/plain": [
       "0.16295974052555842"
      ]
     },
     "execution_count": 11,
     "metadata": {},
     "output_type": "execute_result"
    }
   ],
   "source": [
    "r1 = np.interp(sig, b2, s,period = 360)\n",
    "r1"
   ]
  },
  {
   "cell_type": "code",
   "execution_count": 12,
   "metadata": {},
   "outputs": [
    {
     "data": {
      "text/plain": [
       "1.3065682130521474"
      ]
     },
     "execution_count": 12,
     "metadata": {},
     "output_type": "execute_result"
    }
   ],
   "source": [
    "r2 = np.interp(2*sig2, b2, s, period = 360)\n",
    "r2"
   ]
  },
  {
   "cell_type": "code",
   "execution_count": 22,
   "metadata": {},
   "outputs": [],
   "source": [
    "m = 1.2"
   ]
  },
  {
   "cell_type": "code",
   "execution_count": 23,
   "metadata": {},
   "outputs": [
    {
     "data": {
      "text/plain": [
       "(252.11363212022405, 2.6956222033755743, 1.2)"
      ]
     },
     "execution_count": 23,
     "metadata": {},
     "output_type": "execute_result"
    },
    {
     "data": {
      "image/png": "[encoded data removed]",
      "text/plain": [
       "<Figure size 576x432 with 1 Axes>"
      ]
     },
     "metadata": {
      "needs_background": "light"
     },
     "output_type": "display_data"
    }
   ],
   "source": [
    "fig, ax = plt.subplots(figsize=(8, 6))\n",
    "rgrid = np.logspace(-1, 2.0)\n",
    "ax.errorbar(s, b2, yerr=e_b2, xerr=e_s, fmt='o', alpha=0.4,color=\"blue\")\n",
    "\n",
    "\n",
    "ax.axhline(sig2, ls='-')\n",
    "ax.axvline(r0, ls='-')\n",
    "\n",
    "ax.axhline(2*sig2, ls=':')\n",
    "ax.axvline(r2, ls=':')\n",
    "\n",
    "ax.axhline(sig, ls=':')\n",
    "ax.axvline(r1, ls=':')\n",
    "\n",
    "ax.plot(rgrid, bfunc00(rgrid, r0, sig2, m), color=\"0.8\")\n",
    "ax.plot(rgrid, bfunc02(rgrid, r0, sig2, m, data['s0'], 1.5), color=\"red\")\n",
    "\n",
    "ax.set(xscale='log', yscale='log', \n",
    "       xlabel='separation',\n",
    "       ylabel=r'$b^2,\\ \\mathrm{km^2\\ s^{-2}}$'\n",
    "      )\n",
    "None\n",
    "\n",
    "sig2, r0, m"
   ]
  },
  {
   "cell_type": "code",
   "execution_count": 24,
   "metadata": {},
   "outputs": [
    {
     "data": {
      "text/plain": [
       "{'log10 r': array([0.  , 0.15, 0.3 , 0.45, 0.6 , 0.75, 0.9 , 1.05, 1.2 , 1.35, 1.5 ,\n",
       "        1.65, 1.8 , 1.95, 2.1 , 2.25, 2.4 , 2.55, 2.7 ]),\n",
       " 'Sum dv^2': array([4.86617781e+05, 6.34022538e+06, 1.75075795e+07, 5.38985685e+07,\n",
       "        1.58825457e+08, 4.69074708e+08, 1.52613146e+09, 4.28614189e+09,\n",
       "        1.20875926e+10, 3.22192001e+10, 8.55401174e+10, 2.15612479e+11,\n",
       "        5.17232431e+11, 1.14504546e+12, 2.30653231e+12, 4.51276894e+12,\n",
       "        8.23724434e+12, 1.14441422e+13, 4.62182393e+12]),\n",
       " 'Sum weights': array([8.09652840e+03, 1.61196246e+04, 4.02030380e+04, 8.79249936e+04,\n",
       "        1.90239256e+05, 3.59403328e+05, 7.65350714e+05, 1.42501190e+06,\n",
       "        2.75867301e+06, 5.18125341e+06, 9.80716923e+06, 1.78916497e+07,\n",
       "        3.12808646e+07, 5.21363521e+07, 8.46008240e+07, 1.30800540e+08,\n",
       "        1.77692032e+08, 1.95527463e+08, 9.31487328e+07]),\n",
       " 'Sum w * dv^2': array([4.48122283e+03, 1.12004961e+05, 2.69861151e+05, 7.48936453e+05,\n",
       "        1.82158794e+06, 4.87965518e+06, 1.43892912e+07, 3.83127916e+07,\n",
       "        1.06421517e+08, 2.87879084e+08, 7.89051300e+08, 2.03802932e+09,\n",
       "        4.80003680e+09, 1.05502137e+10, 2.38409756e+10, 4.99263353e+10,\n",
       "        8.44865674e+10, 1.02691545e+11, 3.56013774e+10]),\n",
       " 'N pairs': array([     362380,      722996,     1804726,     3958085,     8604232,\n",
       "           16396102,    35403486,    67312760,   134030250,   260972500,\n",
       "          516865457,   997537443,  1891518935,  3499610406,  6250732354,\n",
       "        10452417791, 15592346515, 17974794168,  7911828104], dtype=int64),\n",
       " 'Unweighted B(r)': array([  1.3428384 ,   8.76937822,   9.70096266,  13.61733477,\n",
       "         18.45899287,  28.60891619,  43.10681336,  63.6750282 ,\n",
       "         90.18555556, 123.45821909, 165.49784132, 216.14474817,\n",
       "        273.44819119, 327.19226663, 369.0019313 , 431.74402599,\n",
       "        528.28766525, 636.67723201, 584.16637321]),\n",
       " 'Weighted B(r)': array([  0.5534746 ,   6.94836042,   6.71245669,   8.51790171,\n",
       "          9.57524739,  13.5771007 ,  18.80091171,  26.88594497,\n",
       "         38.57706826,  55.56166844,  80.45658044, 113.90952469,\n",
       "        153.4496203 , 202.35811049, 281.805477  , 381.69823499,\n",
       "        475.46626954, 525.2026691 , 382.19926677]),\n",
       " 'Unweighted mean velocity': 265.5564256804925,\n",
       " 'Unweighted sigma^2': 252.11363212022405,\n",
       " 'Weighted mean velocity': 262.790913021741,\n",
       " 'Weighted sigma^2': 195.8367323746578}"
      ]
     },
     "execution_count": 24,
     "metadata": {},
     "output_type": "execute_result"
    }
   ],
   "source": [
    "rslt"
   ]
  },
  {
   "cell_type": "code",
   "execution_count": 25,
   "metadata": {},
   "outputs": [],
   "source": [
    "Dor = { 'VF' : data,\n",
    "        'SF' : rslt,\n",
    "        's' : s,\n",
    "        'b2' : b2,\n",
    "        'sig2' : sig2,\n",
    "        'pc' : data['pc'],\n",
    "        'r0' : r0,\n",
    "        'r1' : r1,\n",
    "        'r2' : r2,\n",
    "        's0' : data['s0'],\n",
    "        'm' : m}"
   ]
  },
  {
   "cell_type": "code",
   "execution_count": 26,
   "metadata": {},
   "outputs": [],
   "source": [
    "f = open('SFresults\\\\'+ name + '.pkl',\"wb\")\n",
    "pickle.dump(Dor,f)\n",
    "f.close()"
   ]
  },
  {
   "cell_type": "code",
   "execution_count": null,
   "metadata": {},
   "outputs": [],
   "source": []
  },
  {
   "cell_type": "code",
   "execution_count": 18,
   "metadata": {},
   "outputs": [
    {
     "name": "stdout",
     "output_type": "stream",
     "text": [
      "--- 713.8758301734924 seconds ---\n"
     ]
    }
   ],
   "source": [
    "print(\"--- %s seconds ---\" % (time.time()-start_time))"
   ]
  }
 ],
 "metadata": {
  "kernelspec": {
   "display_name": "Python 3",
   "language": "python",
   "name": "python3"
  },
  "language_info": {
   "codemirror_mode": {
    "name": "ipython",
    "version": 3
   },
   "file_extension": ".py",
   "mimetype": "text/x-python",
   "name": "python",
   "nbconvert_exporter": "python",
   "pygments_lexer": "ipython3",
   "version": "3.8.3"
  }
 },
 "nbformat": 4,
 "nbformat_minor": 4
}
