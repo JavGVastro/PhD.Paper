{
 "cells": [
  {
   "cell_type": "code",
   "execution_count": 1,
   "metadata": {},
   "outputs": [],
   "source": [
    "import time\n",
    "start_time=time.time()"
   ]
  },
  {
   "cell_type": "code",
   "execution_count": 2,
   "metadata": {},
   "outputs": [],
   "source": [
    "from matplotlib import pyplot as plt\n",
    "import seaborn as sns\n",
    "import numpy as np\n",
    "import pandas as pd\n",
    "from scipy import interpolate\n",
    "import pickle\n",
    "\n",
    "import strucfunc\n",
    "from strucfunc import sosflog\n",
    "from bfunc import bfunc00,bfunc01,bfunc02"
   ]
  },
  {
   "cell_type": "code",
   "execution_count": 3,
   "metadata": {},
   "outputs": [],
   "source": [
    "name = 'N346'"
   ]
  },
  {
   "cell_type": "code",
   "execution_count": 4,
   "metadata": {},
   "outputs": [],
   "source": [
    "pickle_in = open('VFM//' + name + '.pkl',\"rb\")\n",
    "data = pickle.load(pickle_in)\n",
    "sb = data['sb']\n",
    "vv = data['vv']\n",
    "#ss = data['ss']"
   ]
  },
  {
   "cell_type": "code",
   "execution_count": 5,
   "metadata": {},
   "outputs": [],
   "source": [
    "## Replace spurious values in the arrays\n",
    "m = ~np.isfinite(sb*vv) | (sb < 0.0)\n",
    "\n",
    "sb[m] = 0.0\n",
    "vv[m] = np.nanmean(vv)\n",
    "#ss[m] = 0.0\n",
    "sb /= sb.max()\n",
    "\n",
    "good = (~m) & (sb > 0.001)"
   ]
  },
  {
   "cell_type": "code",
   "execution_count": 6,
   "metadata": {},
   "outputs": [],
   "source": [
    "rslt = strucfunc.strucfunc_numba_parallel(vv, wmap=sb, dlogr=0.15)"
   ]
  },
  {
   "cell_type": "code",
   "execution_count": 7,
   "metadata": {},
   "outputs": [],
   "source": [
    "good = (~m) & (sb > 0.001)\n",
    "rslt[\"Unweighted mean velocity\"] = np.mean(vv[good])\n",
    "rslt[\"Unweighted sigma^2\"] = np.var(vv[good])\n",
    "v0w = rslt[\"Weighted mean velocity\"] = np.average(vv, weights=sb)\n",
    "rslt[\"Weighted sigma^2\"] = np.average((vv - v0w)**2, weights=sb)"
   ]
  },
  {
   "cell_type": "code",
   "execution_count": 8,
   "metadata": {},
   "outputs": [],
   "source": [
    "b2 = rslt['Unweighted B(r)']\n",
    "e_b2 = b2  *.1\n",
    "s = 10**rslt['log10 r'] * data['pix'] * data['pc']\n",
    "e_s = s  *.1\n",
    "sig2 = rslt['Unweighted sigma^2']\n",
    "sig = sig2**0.5"
   ]
  },
  {
   "cell_type": "code",
   "execution_count": 9,
   "metadata": {},
   "outputs": [],
   "source": [
    "#r0 = np.interp(sig2, b2, s,period = 360)\n",
    "#r0"
   ]
  },
  {
   "cell_type": "code",
   "execution_count": 10,
   "metadata": {},
   "outputs": [],
   "source": [
    "x = s\n",
    "y = b2 - sig2\n",
    "tck=interpolate.splrep(x,y,s=0)\n",
    "grid=np.linspace(x.min(),x.max(),num=len(x))\n",
    "ynew=interpolate.splev(grid,tck,der=0)\n",
    "inter=pd.DataFrame([grid,ynew]).T\n",
    "SFr=interpolate.sproot(tck)\n",
    "r0 = SFr[0]"
   ]
  },
  {
   "cell_type": "code",
   "execution_count": 11,
   "metadata": {},
   "outputs": [
    {
     "data": {
      "text/plain": [
       "0.1552920441443926"
      ]
     },
     "execution_count": 11,
     "metadata": {},
     "output_type": "execute_result"
    }
   ],
   "source": [
    "r1 = np.interp(sig, b2, s,period = 360)\n",
    "r1"
   ]
  },
  {
   "cell_type": "code",
   "execution_count": 12,
   "metadata": {},
   "outputs": [
    {
     "data": {
      "text/plain": [
       "7.876295590738115"
      ]
     },
     "execution_count": 12,
     "metadata": {},
     "output_type": "execute_result"
    }
   ],
   "source": [
    "r2 = np.interp(2*sig2, b2, s, period = 360)\n",
    "r2"
   ]
  },
  {
   "cell_type": "code",
   "execution_count": 13,
   "metadata": {},
   "outputs": [],
   "source": [
    "m = 1.2"
   ]
  },
  {
   "cell_type": "code",
   "execution_count": 23,
   "metadata": {},
   "outputs": [
    {
     "data": {
      "text/plain": [
       "(31.87910585532852, 1.3592281394732044, 1.2)"
      ]
     },
     "execution_count": 23,
     "metadata": {},
     "output_type": "execute_result"
    },
    {
     "data": {
      "image/png": "[encoded data removed]",
      "text/plain": [
       "<Figure size 576x432 with 1 Axes>"
      ]
     },
     "metadata": {
      "needs_background": "light"
     },
     "output_type": "display_data"
    }
   ],
   "source": [
    "fig, ax = plt.subplots(figsize=(8, 6))\n",
    "rgrid = np.logspace(-1, 1.25)\n",
    "ax.errorbar(s, b2, yerr=e_b2, xerr=e_s, fmt='o', alpha=0.4,color=\"blue\")\n",
    "\n",
    "\n",
    "ax.axhline(sig2, ls='-')\n",
    "ax.axvline(r0, ls='-')\n",
    "\n",
    "ax.axhline(2*sig2, ls=':')\n",
    "ax.axvline(r2, ls=':')\n",
    "\n",
    "ax.axhline(sig, ls=':')\n",
    "ax.axvline(r1, ls=':')\n",
    "\n",
    "ax.plot(rgrid, bfunc00(rgrid, r0, sig2, m), color=\"0.8\")\n",
    "ax.plot(rgrid, bfunc02(rgrid, r0, sig2, m, data['s0'], 1.5), color=\"red\")\n",
    "\n",
    "ax.set(xscale='log', yscale='log', \n",
    "       xlabel='separation',\n",
    "       ylabel=r'$b^2,\\ \\mathrm{km^2\\ s^{-2}}$'\n",
    "      )\n",
    "None\n",
    "\n",
    "sig2, r0, m"
   ]
  },
  {
   "cell_type": "code",
   "execution_count": 15,
   "metadata": {},
   "outputs": [
    {
     "data": {
      "text/plain": [
       "{'log10 r': array([0.  , 0.15, 0.3 , 0.45, 0.6 , 0.75, 0.9 , 1.05, 1.2 , 1.35, 1.5 ,\n",
       "        1.65, 1.8 , 1.95, 2.1 , 2.25, 2.4 ]),\n",
       " 'Sum dv^2': array([1.72549909e+05, 6.06096030e+05, 2.12603202e+06, 7.09808637e+06,\n",
       "        2.18602037e+07, 5.86069126e+07, 1.64325788e+08, 3.99954576e+08,\n",
       "        9.66843788e+08, 2.27012301e+09, 5.30361394e+09, 1.18002418e+10,\n",
       "        2.44596794e+10, 4.84580822e+10, 8.20774248e+10, 9.88151205e+10,\n",
       "        6.75216964e+10]),\n",
       " 'Sum weights': array([2.93799523e+02, 5.85314312e+02, 1.45062948e+03, 3.14389035e+03,\n",
       "        6.70586342e+03, 1.24735269e+04, 2.61788302e+04, 4.82668630e+04,\n",
       "        9.31453391e+04, 1.74848322e+05, 3.27826609e+05, 5.90163801e+05,\n",
       "        1.01289248e+06, 1.62230600e+06, 2.37963706e+06, 3.01499981e+06,\n",
       "        1.99133122e+06]),\n",
       " 'Sum w * dv^2': array([5.56997478e+02, 1.73965369e+03, 6.24931347e+03, 1.93206426e+04,\n",
       "        5.21312817e+04, 1.23256617e+05, 3.29124829e+05, 7.92741718e+05,\n",
       "        1.93533697e+06, 4.62699651e+06, 1.09932187e+07, 2.44816942e+07,\n",
       "        5.07658022e+07, 9.54519377e+07, 1.48790221e+08, 1.74276529e+08,\n",
       "        1.21325399e+08]),\n",
       " 'N pairs': array([    104054,     207621,     517601,    1133559,    2459459,\n",
       "           4673808,   10048208,   18966453,   37369031,   71622563,\n",
       "         138336753,  257297286,  461937045,  783985757, 1207776491,\n",
       "        1498666533,  902948609], dtype=int64),\n",
       " 'Unweighted B(r)': array([ 1.65827272,  2.91924242,  4.10747278,  6.26177055,  8.88821635,\n",
       "        12.53943521, 16.35374067, 21.08747355, 25.87286215, 31.69564057,\n",
       "        38.33843013, 45.86228624, 52.95024436, 61.80990122, 67.95746182,\n",
       "        65.93536212, 74.77911338]),\n",
       " 'Weighted B(r)': array([ 1.89584201,  2.97217008,  4.30800115,  6.14545688,  7.77398501,\n",
       "         9.88145677, 12.5721748 , 16.42414004, 20.77760404, 26.46291622,\n",
       "        33.53363744, 41.48288009, 50.11963596, 58.83719687, 62.52643475,\n",
       "        57.80316412, 60.92678014]),\n",
       " 'Unweighted mean velocity': 166.113623219373,\n",
       " 'Unweighted sigma^2': 31.87910585532852,\n",
       " 'Weighted mean velocity': 165.54662544066412,\n",
       " 'Weighted sigma^2': 28.143630380860973}"
      ]
     },
     "execution_count": 15,
     "metadata": {},
     "output_type": "execute_result"
    }
   ],
   "source": [
    "rslt"
   ]
  },
  {
   "cell_type": "code",
   "execution_count": 19,
   "metadata": {},
   "outputs": [],
   "source": [
    "N346 = { 'VF' : data,\n",
    "        'SF' : rslt,\n",
    "        's' : s,\n",
    "        'b2' : b2,\n",
    "        'sig2' : sig2,\n",
    "        'pc' : data['pc'],\n",
    "        'r0' : r0,\n",
    "        'r1' : r1,\n",
    "        'r2' : r2,\n",
    "        's0' : data['s0'],\n",
    "        'm' : m}"
   ]
  },
  {
   "cell_type": "code",
   "execution_count": 20,
   "metadata": {},
   "outputs": [],
   "source": [
    "f = open('SFresults\\\\'+ name + '.pkl',\"wb\")\n",
    "pickle.dump(N346,f)\n",
    "f.close()"
   ]
  },
  {
   "cell_type": "code",
   "execution_count": null,
   "metadata": {},
   "outputs": [],
   "source": []
  },
  {
   "cell_type": "code",
   "execution_count": 18,
   "metadata": {},
   "outputs": [
    {
     "name": "stdout",
     "output_type": "stream",
     "text": [
      "--- 58.19537901878357 seconds ---\n"
     ]
    }
   ],
   "source": [
    "print(\"--- %s seconds ---\" % (time.time()-start_time))"
   ]
  }
 ],
 "metadata": {
  "kernelspec": {
   "display_name": "Python 3",
   "language": "python",
   "name": "python3"
  },
  "language_info": {
   "codemirror_mode": {
    "name": "ipython",
    "version": 3
   },
   "file_extension": ".py",
   "mimetype": "text/x-python",
   "name": "python",
   "nbconvert_exporter": "python",
   "pygments_lexer": "ipython3",
   "version": "3.8.3"
  }
 },
 "nbformat": 4,
 "nbformat_minor": 4
}
