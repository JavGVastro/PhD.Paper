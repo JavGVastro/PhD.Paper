{
 "cells": [
  {
   "cell_type": "code",
   "execution_count": 1,
   "metadata": {},
   "outputs": [],
   "source": [
    "import time\n",
    "start_time=time.time()"
   ]
  },
  {
   "cell_type": "code",
   "execution_count": 2,
   "metadata": {},
   "outputs": [],
   "source": [
    "from matplotlib import pyplot as plt\n",
    "import seaborn as sns\n",
    "import numpy as np\n",
    "import pandas as pd\n",
    "from scipy import interpolate\n",
    "import strucfunc\n",
    "from strucfunc import sosflog\n",
    "\n",
    "import pickle\n",
    "import json\n",
    "\n"
   ]
  },
  {
   "cell_type": "code",
   "execution_count": 3,
   "metadata": {},
   "outputs": [],
   "source": [
    "reg = 'CarC'\n",
    "dist = 2130 #parsecs"
   ]
  },
  {
   "cell_type": "code",
   "execution_count": 4,
   "metadata": {},
   "outputs": [
    {
     "data": {
      "text/plain": [
       "0.010326531407633116"
      ]
     },
     "execution_count": 4,
     "metadata": {},
     "output_type": "execute_result"
    }
   ],
   "source": [
    "pc = dist*(2*np.pi) / (360 * 60 * 60)\n",
    "pc"
   ]
  },
  {
   "cell_type": "code",
   "execution_count": 5,
   "metadata": {},
   "outputs": [
    {
     "data": {
      "text/html": [
       "<div>\n",
       "<style scoped>\n",
       "    .dataframe tbody tr th:only-of-type {\n",
       "        vertical-align: middle;\n",
       "    }\n",
       "\n",
       "    .dataframe tbody tr th {\n",
       "        vertical-align: top;\n",
       "    }\n",
       "\n",
       "    .dataframe thead th {\n",
       "        text-align: right;\n",
       "    }\n",
       "</style>\n",
       "<table border=\"1\" class=\"dataframe\">\n",
       "  <thead>\n",
       "    <tr style=\"text-align: right;\">\n",
       "      <th></th>\n",
       "      <th>X</th>\n",
       "      <th>Y</th>\n",
       "      <th>RV</th>\n",
       "    </tr>\n",
       "  </thead>\n",
       "  <tbody>\n",
       "    <tr>\n",
       "      <th>0</th>\n",
       "      <td>160.9408</td>\n",
       "      <td>-59.51381</td>\n",
       "      <td>-7.175543</td>\n",
       "    </tr>\n",
       "    <tr>\n",
       "      <th>1</th>\n",
       "      <td>161.2433</td>\n",
       "      <td>-59.55172</td>\n",
       "      <td>-7.391660</td>\n",
       "    </tr>\n",
       "    <tr>\n",
       "      <th>2</th>\n",
       "      <td>161.2100</td>\n",
       "      <td>-59.59631</td>\n",
       "      <td>-9.893945</td>\n",
       "    </tr>\n",
       "    <tr>\n",
       "      <th>3</th>\n",
       "      <td>161.1413</td>\n",
       "      <td>-59.58192</td>\n",
       "      <td>-22.703236</td>\n",
       "    </tr>\n",
       "    <tr>\n",
       "      <th>4</th>\n",
       "      <td>161.3221</td>\n",
       "      <td>-59.70569</td>\n",
       "      <td>-12.487097</td>\n",
       "    </tr>\n",
       "    <tr>\n",
       "      <th>...</th>\n",
       "      <td>...</td>\n",
       "      <td>...</td>\n",
       "      <td>...</td>\n",
       "    </tr>\n",
       "    <tr>\n",
       "      <th>861</th>\n",
       "      <td>160.9409</td>\n",
       "      <td>-59.55744</td>\n",
       "      <td>-6.430415</td>\n",
       "    </tr>\n",
       "    <tr>\n",
       "      <th>862</th>\n",
       "      <td>160.9275</td>\n",
       "      <td>-59.54794</td>\n",
       "      <td>-8.695479</td>\n",
       "    </tr>\n",
       "    <tr>\n",
       "      <th>863</th>\n",
       "      <td>160.8832</td>\n",
       "      <td>-59.56567</td>\n",
       "      <td>-8.319904</td>\n",
       "    </tr>\n",
       "    <tr>\n",
       "      <th>864</th>\n",
       "      <td>160.9601</td>\n",
       "      <td>-59.56681</td>\n",
       "      <td>-9.309055</td>\n",
       "    </tr>\n",
       "    <tr>\n",
       "      <th>865</th>\n",
       "      <td>161.1662</td>\n",
       "      <td>-59.63503</td>\n",
       "      <td>-9.001914</td>\n",
       "    </tr>\n",
       "  </tbody>\n",
       "</table>\n",
       "<p>855 rows × 3 columns</p>\n",
       "</div>"
      ],
      "text/plain": [
       "            X         Y         RV\n",
       "0    160.9408 -59.51381  -7.175543\n",
       "1    161.2433 -59.55172  -7.391660\n",
       "2    161.2100 -59.59631  -9.893945\n",
       "3    161.1413 -59.58192 -22.703236\n",
       "4    161.3221 -59.70569 -12.487097\n",
       "..        ...       ...        ...\n",
       "861  160.9409 -59.55744  -6.430415\n",
       "862  160.9275 -59.54794  -8.695479\n",
       "863  160.8832 -59.56567  -8.319904\n",
       "864  160.9601 -59.56681  -9.309055\n",
       "865  161.1662 -59.63503  -9.001914\n",
       "\n",
       "[855 rows x 3 columns]"
      ]
     },
     "execution_count": 5,
     "metadata": {},
     "output_type": "execute_result"
    }
   ],
   "source": [
    "pickle_in = open('VF//' + reg + '.pkl',\"rb\")\n",
    "Car = pickle.load(pickle_in)\n",
    "Car"
   ]
  },
  {
   "cell_type": "code",
   "execution_count": 6,
   "metadata": {},
   "outputs": [],
   "source": [
    "sig = Car.RV.std()\n",
    "sig2 = sig**2"
   ]
  },
  {
   "cell_type": "code",
   "execution_count": 7,
   "metadata": {},
   "outputs": [],
   "source": [
    "Car.X = Car.X*3600\n",
    "Car.Y = Car.Y*3600"
   ]
  },
  {
   "cell_type": "code",
   "execution_count": 8,
   "metadata": {},
   "outputs": [
    {
     "name": "stderr",
     "output_type": "stream",
     "text": [
      "C:\\Users\\ZAINTEL2\\anaconda3\\lib\\site-packages\\pandas\\core\\series.py:679: RuntimeWarning: divide by zero encountered in log10\n",
      "  result = getattr(ufunc, method)(*inputs, **kwargs)\n"
     ]
    }
   ],
   "source": [
    "table = sosflog(Car,0.125)"
   ]
  },
  {
   "cell_type": "code",
   "execution_count": 15,
   "metadata": {},
   "outputs": [
    {
     "data": {
      "image/png": "[encoded data removed]",
      "text/plain": [
       "<Figure size 576x432 with 1 Axes>"
      ]
     },
     "metadata": {
      "needs_background": "light"
     },
     "output_type": "display_data"
    }
   ],
   "source": [
    "fig, ax = plt.subplots(figsize=(8, 6))\n",
    "s = 0.5 * (table[('s', 'min')] + table[('s', 'max')])\n",
    "e_s = 0.5 * (table[('s', 'max')] - table[('s', 'min')])\n",
    "b2 = table[('dV2', 'mean')]\n",
    "ng = table[('dV2', 'count')]\n",
    "e_b2 = table[('dV2', 'std')] / np.sqrt(ng)\n",
    "#ax.plot(s, b2, 'o')\n",
    "ax.axhline(sig2, ls=':')\n",
    "ax.axhline(0.5*sig2, ls=':')\n",
    "ax.errorbar(s, b2, yerr=e_b2, xerr=e_s, fmt='o', alpha=0.4,color=\"blue\")\n",
    "#sgrid = np.logspace(1.0, 3.0)\n",
    "#ax.plot(sgrid, 0.08*sgrid**(0.83), color=\"k\", lw=0.5)\n",
    "ax.set(xscale='log', yscale='log', \n",
    "       xlabel='separation, arcsec',\n",
    "       ylabel=r'$b^2,\\ \\mathrm{km^2\\ s^{-2}}$'\n",
    "      )\n",
    "None\n"
   ]
  },
  {
   "cell_type": "code",
   "execution_count": 10,
   "metadata": {},
   "outputs": [],
   "source": [
    "Car = { 'sfdata' : table.to_json(),\n",
    "        'sig2' : sig2}"
   ]
  },
  {
   "cell_type": "code",
   "execution_count": 11,
   "metadata": {},
   "outputs": [],
   "source": [
    "class MyEncoder(json.JSONEncoder):\n",
    "    def default(self, obj):\n",
    "        if isinstance(obj, np.integer):\n",
    "            return int(obj)\n",
    "        elif isinstance(obj, np.floating):\n",
    "            return float(obj)\n",
    "        elif isinstance(obj, np.ndarray):\n",
    "            return obj.tolist()\n",
    "        else:\n",
    "            return super(MyEncoder, self).default(obj)"
   ]
  },
  {
   "cell_type": "code",
   "execution_count": 12,
   "metadata": {},
   "outputs": [
    {
     "name": "stdout",
     "output_type": "stream",
     "text": [
      "SFresults//CarC.json"
     ]
    }
   ],
   "source": [
    "jsonfilename = f'SFresults//' + reg +'.json'\n",
    "with open(jsonfilename, \"w\") as f:\n",
    "    json.dump(Car, fp=f, indent=3, cls=MyEncoder)\n",
    "print(jsonfilename, end=\"\")"
   ]
  },
  {
   "cell_type": "code",
   "execution_count": 13,
   "metadata": {},
   "outputs": [
    {
     "name": "stdout",
     "output_type": "stream",
     "text": [
      "--- 4.939105749130249 seconds ---\n"
     ]
    }
   ],
   "source": [
    "print(\"--- %s seconds ---\" % (time.time()-start_time))"
   ]
  }
 ],
 "metadata": {
  "kernelspec": {
   "display_name": "Python 3",
   "language": "python",
   "name": "python3"
  },
  "language_info": {
   "codemirror_mode": {
    "name": "ipython",
    "version": 3
   },
   "file_extension": ".py",
   "mimetype": "text/x-python",
   "name": "python",
   "nbconvert_exporter": "python",
   "pygments_lexer": "ipython3",
   "version": "3.8.3"
  }
 },
 "nbformat": 4,
 "nbformat_minor": 4
}
