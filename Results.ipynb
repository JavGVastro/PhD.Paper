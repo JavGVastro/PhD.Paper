{
 "cells": [
  {
   "cell_type": "code",
   "execution_count": 1,
   "metadata": {},
   "outputs": [],
   "source": [
    "import time\n",
    "start_time=time.time()"
   ]
  },
  {
   "cell_type": "code",
   "execution_count": 2,
   "metadata": {},
   "outputs": [],
   "source": [
    "import json\n",
    "import numpy as np\n",
    "import matplotlib.pyplot as plt\n",
    "import pandas as pd\n",
    "import seaborn as sns\n",
    "import lmfit\n",
    "from scipy import interpolate\n",
    "import pickle"
   ]
  },
  {
   "cell_type": "code",
   "execution_count": 3,
   "metadata": {},
   "outputs": [
    {
     "data": {
      "text/html": [
       "<div>\n",
       "<style scoped>\n",
       "    .dataframe tbody tr th:only-of-type {\n",
       "        vertical-align: middle;\n",
       "    }\n",
       "\n",
       "    .dataframe tbody tr th {\n",
       "        vertical-align: top;\n",
       "    }\n",
       "\n",
       "    .dataframe thead th {\n",
       "        text-align: right;\n",
       "    }\n",
       "</style>\n",
       "<table border=\"1\" class=\"dataframe\">\n",
       "  <thead>\n",
       "    <tr style=\"text-align: right;\">\n",
       "      <th></th>\n",
       "      <th>0</th>\n",
       "    </tr>\n",
       "  </thead>\n",
       "  <tbody>\n",
       "    <tr>\n",
       "      <th>0</th>\n",
       "      <td>Dor</td>\n",
       "    </tr>\n",
       "    <tr>\n",
       "      <th>1</th>\n",
       "      <td>N604H</td>\n",
       "    </tr>\n",
       "    <tr>\n",
       "      <th>2</th>\n",
       "      <td>N595</td>\n",
       "    </tr>\n",
       "    <tr>\n",
       "      <th>3</th>\n",
       "      <td>N346</td>\n",
       "    </tr>\n",
       "    <tr>\n",
       "      <th>4</th>\n",
       "      <td>CarC</td>\n",
       "    </tr>\n",
       "    <tr>\n",
       "      <th>5</th>\n",
       "      <td>N604O</td>\n",
       "    </tr>\n",
       "    <tr>\n",
       "      <th>6</th>\n",
       "      <td>OrionLH</td>\n",
       "    </tr>\n",
       "    <tr>\n",
       "      <th>7</th>\n",
       "      <td>HX</td>\n",
       "    </tr>\n",
       "    <tr>\n",
       "      <th>8</th>\n",
       "      <td>M8</td>\n",
       "    </tr>\n",
       "    <tr>\n",
       "      <th>9</th>\n",
       "      <td>OrionS</td>\n",
       "    </tr>\n",
       "    <tr>\n",
       "      <th>10</th>\n",
       "      <td>HV</td>\n",
       "    </tr>\n",
       "  </tbody>\n",
       "</table>\n",
       "</div>"
      ],
      "text/plain": [
       "          0\n",
       "0       Dor\n",
       "1     N604H\n",
       "2      N595\n",
       "3      N346\n",
       "4      CarC\n",
       "5     N604O\n",
       "6   OrionLH\n",
       "7        HX\n",
       "8        M8\n",
       "9    OrionS\n",
       "10       HV"
      ]
     },
     "execution_count": 3,
     "metadata": {},
     "output_type": "execute_result"
    }
   ],
   "source": [
    "samples=pd.read_csv('CIresults//list.csv',header=None)\n",
    "samples"
   ]
  },
  {
   "cell_type": "code",
   "execution_count": 4,
   "metadata": {},
   "outputs": [],
   "source": [
    "CI = {}\n",
    "\n",
    "for i in range(len(samples)):\n",
    "    pickle_in = open('CIresults//' + samples[0][i] + '.pkl',\"rb\")\n",
    "    df = pickle.load(pickle_in)\n",
    "    CI[samples[0][i]] = df\n",
    "\n",
    "SF = {}\n",
    "\n",
    "for i in range(len(samples)):\n",
    "    pickle_in = open('SFresults//' + samples[0][i] + '.pkl',\"rb\")\n",
    "    df = pickle.load(pickle_in)\n",
    "    SF[samples[0][i]] = df\n",
    "    "
   ]
  },
  {
   "cell_type": "markdown",
   "metadata": {},
   "source": [
    "Results obtained using lmfit"
   ]
  },
  {
   "cell_type": "code",
   "execution_count": 5,
   "metadata": {},
   "outputs": [
    {
     "name": "stdout",
     "output_type": "stream",
     "text": [
      "Dor:  r0 = 4.3239 pc,  m = 1.1136,  sig2 = 339.8861 (km/s)^2  sig = 18.436 km/s\n",
      "N604H:  r0 = 6.8998 pc,  m = 2.149,  sig2 = 43.0801 (km/s)^2  sig = 6.5635 km/s\n",
      "N595:  r0 = 7.8642 pc,  m = 1.874,  sig2 = 39.623 (km/s)^2  sig = 6.2947 km/s\n",
      "N346:  r0 = 1.7539 pc,  m = 1.0538,  sig2 = 38.8666 (km/s)^2  sig = 6.2343 km/s\n",
      "CarC:  r0 = 0.805 pc,  m = 0.9271,  sig2 = 21.6945 (km/s)^2  sig = 4.6577 km/s\n",
      "N604O:  r0 = 5.4444 pc,  m = 2.6002,  sig2 = 20.3929 (km/s)^2  sig = 4.5159 km/s\n",
      "OrionLH:  r0 = 1.2745 pc,  m = 1.2062,  sig2 = 15.5652 (km/s)^2  sig = 3.9453 km/s\n",
      "HX:  r0 = 3.6465 pc,  m = 1.7243,  sig2 = 12.7759 (km/s)^2  sig = 3.5743 km/s\n",
      "M8:  r0 = 1.7843 pc,  m = 1.1142,  sig2 = 9.7283 (km/s)^2  sig = 3.119 km/s\n",
      "OrionS:  r0 = 0.0413 pc,  m = 1.547,  sig2 = 9.3442 (km/s)^2  sig = 3.0568 km/s\n",
      "HV:  r0 = 3.0002 pc,  m = 1.7429,  sig2 = 7.4871 (km/s)^2  sig = 2.7363 km/s\n"
     ]
    }
   ],
   "source": [
    "for i in range(len(samples)):\n",
    "    print(str(samples[0][i]) + ':',\n",
    "          ' r0 = ' + str(np.round(CI[samples[0][i]]['resultCI'].params['r0'].value,4)) + ' pc,', \n",
    "          ' m = ' + str(np.round(CI[samples[0][i]]['resultCI'].params['m'].value,4)) + ',',\n",
    "          ' sig2 = ' + str(np.round(CI[samples[0][i]]['resultCI'].params['sig2'].value,4)) + ' (km/s)^2',\n",
    "          ' sig = ' + str(np.round(CI[samples[0][i]]['resultCI'].params['sig2'].value**0.5,4)) + ' km/s')"
   ]
  },
  {
   "cell_type": "markdown",
   "metadata": {},
   "source": [
    "Results obtained using a numpy interpolation method for r0, sigma as std of the radial velocity sample and m humanly fitted."
   ]
  },
  {
   "cell_type": "code",
   "execution_count": 6,
   "metadata": {},
   "outputs": [
    {
     "name": "stdout",
     "output_type": "stream",
     "text": [
      "Dor:  r0 = 2.6956 pc,  m = 1.2,  sig2 = 252.1136 (km/s)^2  sig = 15.8781 km/s\n",
      "N604H:  r0 = 8.9133 pc,  m = 1.5,  sig2 = 54.6205 (km/s)^2  sig = 7.3906 km/s\n",
      "N595:  r0 = 8.7804 pc,  m = 1.5,  sig2 = 44.1279 (km/s)^2  sig = 6.6429 km/s\n",
      "N346:  r0 = 1.3592 pc,  m = 1.2,  sig2 = 31.8791 (km/s)^2  sig = 5.6462 km/s\n",
      "CarC:  r0 = 0.4809 pc,  m = 1.1,  sig2 = 17.8872 (km/s)^2  sig = 4.2293 km/s\n",
      "N604O:  r0 = 8.1846 pc,  m = 1.5,  sig2 = 35.2995 (km/s)^2  sig = 5.9413 km/s\n",
      "OrionLH:  r0 = 0.4376 pc,  m = 1.1,  sig2 = 10.4338 (km/s)^2  sig = 3.2301 km/s\n",
      "HX:  r0 = 3.5817 pc,  m = 1.5,  sig2 = 12.896 (km/s)^2  sig = 3.5911 km/s\n",
      "M8:  r0 = 1.0906 pc,  m = 1.3,  sig2 = 7.5264 (km/s)^2  sig = 2.7434 km/s\n",
      "OrionS:  r0 = 0.0431 pc,  m = 1.5,  sig2 = 9.3755 (km/s)^2  sig = 3.0619 km/s\n",
      "HV:  r0 = 2.7247 pc,  m = 1.5,  sig2 = 7.8647 (km/s)^2  sig = 2.8044 km/s\n"
     ]
    }
   ],
   "source": [
    "for i in range(len(samples)):\n",
    "    print(str(samples[0][i]) + ':',\n",
    "          ' r0 = ' + str(np.round(SF[samples[0][i]]['r0'],4)) + ' pc,', \n",
    "          ' m = ' + str(np.round(SF[samples[0][i]]['m'],4)) + ',',\n",
    "          ' sig2 = ' + str(np.round(SF[samples[0][i]]['sig2'],4)) + ' (km/s)^2',\n",
    "          ' sig = ' + str(np.round(SF[samples[0][i]]['sig2']**0.5,4)) + ' km/s')"
   ]
  },
  {
   "cell_type": "markdown",
   "metadata": {},
   "source": [
    "All regions"
   ]
  },
  {
   "cell_type": "code",
   "execution_count": 7,
   "metadata": {},
   "outputs": [
    {
     "data": {
      "image/png": "[encoded data removed]",
      "text/plain": [
       "<Figure size 576x432 with 1 Axes>"
      ]
     },
     "metadata": {
      "needs_background": "light"
     },
     "output_type": "display_data"
    }
   ],
   "source": [
    "fig, ax = plt.subplots(figsize=(8, 6))\n",
    "\n",
    "for i in range(len(samples)):\n",
    "    ax.errorbar(SF[samples[0][i]]['s'],SF[samples[0][i]]['b2'], fmt='o', alpha=0.4,color=\"black\", markersize=5*np.log10(SF[samples[0][i]]['sig2']))\n",
    "\n",
    "ax.set(xscale='log', yscale='log', \n",
    "       xlabel='separation pc',\n",
    "       ylabel=r'$b^2,\\ \\mathrm{km^2\\ s^{-2}}$'\n",
    "      )\n",
    "None"
   ]
  },
  {
   "cell_type": "markdown",
   "metadata": {},
   "source": [
    "Orion"
   ]
  },
  {
   "cell_type": "code",
   "execution_count": 8,
   "metadata": {},
   "outputs": [
    {
     "data": {
      "image/png": "[encoded data removed]",
      "text/plain": [
       "<Figure size 576x432 with 1 Axes>"
      ]
     },
     "metadata": {
      "needs_background": "light"
     },
     "output_type": "display_data"
    }
   ],
   "source": [
    "fig, ax = plt.subplots(figsize=(8, 6))\n",
    "\n",
    "ax.errorbar(SF[samples[0][6]]['s'],SF[samples[0][6]]['b2'], fmt='o', alpha=0.4,color=\"black\")\n",
    "ax.errorbar(SF[samples[0][9]]['s'],SF[samples[0][9]]['b2'], fmt='o', alpha=0.4,color=\"blue\")\n",
    "\n",
    "ax.set(xscale='log', yscale='log', \n",
    "       xlabel='separation pc',\n",
    "       ylabel=r'$b^2,\\ \\mathrm{km^2\\ s^{-2}}$'\n",
    "      )\n",
    "None"
   ]
  },
  {
   "cell_type": "code",
   "execution_count": 9,
   "metadata": {},
   "outputs": [
    {
     "name": "stdout",
     "output_type": "stream",
     "text": [
      "--- 3.533273696899414 seconds ---\n"
     ]
    }
   ],
   "source": [
    "print(\"--- %s seconds ---\" % (time.time()-start_time))"
   ]
  }
 ],
 "metadata": {
  "kernelspec": {
   "display_name": "Python 3",
   "language": "python",
   "name": "python3"
  },
  "language_info": {
   "codemirror_mode": {
    "name": "ipython",
    "version": 3
   },
   "file_extension": ".py",
   "mimetype": "text/x-python",
   "name": "python",
   "nbconvert_exporter": "python",
   "pygments_lexer": "ipython3",
   "version": "3.8.3"
  }
 },
 "nbformat": 4,
 "nbformat_minor": 4
}
