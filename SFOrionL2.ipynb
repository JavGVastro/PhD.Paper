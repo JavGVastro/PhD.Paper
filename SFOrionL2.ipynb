{
 "cells": [
  {
   "cell_type": "code",
   "execution_count": 1,
   "metadata": {},
   "outputs": [],
   "source": [
    "import time\n",
    "start_time=time.time()"
   ]
  },
  {
   "cell_type": "code",
   "execution_count": 2,
   "metadata": {},
   "outputs": [],
   "source": [
    "from matplotlib import pyplot as plt\n",
    "import seaborn as sns\n",
    "import numpy as np\n",
    "import pandas as pd\n",
    "from scipy import interpolate\n",
    "import pickle\n",
    "\n",
    "import strucfunc\n",
    "from strucfunc import sosflog\n",
    "import bfunc"
   ]
  },
  {
   "cell_type": "code",
   "execution_count": 3,
   "metadata": {},
   "outputs": [],
   "source": [
    "name = 'OrionL'"
   ]
  },
  {
   "cell_type": "code",
   "execution_count": 4,
   "metadata": {},
   "outputs": [],
   "source": [
    "pickle_in = open('VFM//' + name + '.pkl',\"rb\")\n",
    "data = pickle.load(pickle_in)\n",
    "#sb = data['sb']\n",
    "vv = data['vv']\n",
    "#ss = data['ss']"
   ]
  },
  {
   "cell_type": "code",
   "execution_count": 5,
   "metadata": {},
   "outputs": [],
   "source": [
    "vv[vv== 0] = vv.mean()"
   ]
  },
  {
   "cell_type": "code",
   "execution_count": 6,
   "metadata": {},
   "outputs": [],
   "source": [
    "## Replace spurious values in the arrays\n",
    "#m = ~np.isfinite(vv) \n",
    "\n",
    "#sb[m] = 0.0\n",
    "#vv[m] = np.nanmean(vv)\n",
    "#ss[m] = 0.0\n",
    "#sb /= sb.max()\n",
    "\n",
    "#good = (~m) #& (sb > 0.001)"
   ]
  },
  {
   "cell_type": "code",
   "execution_count": null,
   "metadata": {},
   "outputs": [],
   "source": []
  },
  {
   "cell_type": "code",
   "execution_count": 7,
   "metadata": {},
   "outputs": [
    {
     "name": "stderr",
     "output_type": "stream",
     "text": [
      "C:\\Users\\ZAINTEL2\\Dropbox\\Articulos\\PhD\\PhD-master02\\strucfunc.py:83: RuntimeWarning: invalid value encountered in true_divide\n",
      "  'Unweighted B(r)': sf/nsf,\n",
      "C:\\Users\\ZAINTEL2\\Dropbox\\Articulos\\PhD\\PhD-master02\\strucfunc.py:84: RuntimeWarning: invalid value encountered in true_divide\n",
      "  'Weighted B(r)': wsf/weight}\n"
     ]
    }
   ],
   "source": [
    "rslt = strucfunc.strucfunc_numba_parallel(vv, dlogr=0.05)"
   ]
  },
  {
   "cell_type": "code",
   "execution_count": 8,
   "metadata": {},
   "outputs": [
    {
     "data": {
      "text/plain": [
       "(24, 28)"
      ]
     },
     "execution_count": 8,
     "metadata": {},
     "output_type": "execute_result"
    }
   ],
   "source": [
    "vv.shape"
   ]
  },
  {
   "cell_type": "code",
   "execution_count": 9,
   "metadata": {},
   "outputs": [],
   "source": [
    "box_size = np.sqrt(24 * 28)  * data['pc']"
   ]
  },
  {
   "cell_type": "code",
   "execution_count": 10,
   "metadata": {},
   "outputs": [],
   "source": [
    "#good = (~m) #& (sb > 0.001)\n",
    "rslt[\"Unweighted mean velocity\"] = np.mean(vv)\n",
    "rslt[\"Unweighted sigma^2\"] = np.var(vv)\n",
    "#v0w = rslt[\"Weighted mean velocity\"] = np.average(vv, weights=sb)\n",
    "#rslt[\"Weighted sigma^2\"] = np.average((vv - v0w)**2, weights=sb)"
   ]
  },
  {
   "cell_type": "code",
   "execution_count": 11,
   "metadata": {},
   "outputs": [],
   "source": [
    "b2 = rslt['Unweighted B(r)']\n",
    "e_b2 = b2  *.1\n",
    "s = 10**rslt['log10 r']* data['pc']\n",
    "e_s = s  *.1\n",
    "sig2 = rslt['Unweighted sigma^2']\n",
    "#sig2 = 10.43\n",
    "sig = sig2**0.5"
   ]
  },
  {
   "cell_type": "code",
   "execution_count": 12,
   "metadata": {},
   "outputs": [
    {
     "data": {
      "text/plain": [
       "array([0.11926417, 0.13381659, 0.15014469, 0.16846511, 0.18902096,\n",
       "       0.21208501, 0.2379633 , 0.26699921, 0.29957804, 0.33613209,\n",
       "       0.37714641, 0.42316523, 0.47479919, 0.53273346, 0.59773677,\n",
       "       0.67067169, 0.75250601, 0.84432563, 0.94734894, 1.06294299,\n",
       "       1.19264166, 1.33816595, 1.50144689, 1.68465112, 1.89020964,\n",
       "       2.1208501 , 2.37963295, 2.66999208, 2.99578039, 3.36132089,\n",
       "       3.77146406])"
      ]
     },
     "execution_count": 12,
     "metadata": {},
     "output_type": "execute_result"
    }
   ],
   "source": [
    "s"
   ]
  },
  {
   "cell_type": "code",
   "execution_count": 13,
   "metadata": {},
   "outputs": [
    {
     "data": {
      "text/plain": [
       "array([ 5.85253956,         nan,         nan,  6.82815435,         nan,\n",
       "               nan,  7.51832443,         nan,         nan,  7.96870367,\n",
       "        8.12499785,  8.33146529,  8.93548348,  9.47048521,  9.80922749,\n",
       "       10.41048445, 11.20528729, 11.70423412, 11.96314363, 12.09517768,\n",
       "       12.44756466, 12.70253521, 12.97854217, 13.27350836, 13.28231891,\n",
       "       12.57770633, 10.73899477,  7.95460261,  5.24373261,  3.01163612,\n",
       "        3.44666401])"
      ]
     },
     "execution_count": 13,
     "metadata": {},
     "output_type": "execute_result"
    }
   ],
   "source": [
    "b2"
   ]
  },
  {
   "cell_type": "code",
   "execution_count": 14,
   "metadata": {},
   "outputs": [
    {
     "name": "stderr",
     "output_type": "stream",
     "text": [
      "C:\\Users\\ZAINTEL2\\anaconda3\\lib\\site-packages\\numpy\\lib\\function_base.py:1405: RuntimeWarning: invalid value encountered in remainder\n",
      "  xp = xp % period\n"
     ]
    },
    {
     "data": {
      "text/plain": [
       "1.1099001180822337"
      ]
     },
     "execution_count": 14,
     "metadata": {},
     "output_type": "execute_result"
    }
   ],
   "source": [
    "r0 = np.interp(sig2, b2, s,period = 360)\n",
    "r0"
   ]
  },
  {
   "cell_type": "markdown",
   "metadata": {},
   "source": [
    "x = s\n",
    "y = b2 - sig2\n",
    "tck=interpolate.splrep(x,y,s=0)\n",
    "grid=np.linspace(x.min(),x.max(),num=len(x))\n",
    "ynew=interpolate.splev(grid,tck,der=0)\n",
    "inter=pd.DataFrame([grid,ynew]).T\n",
    "SFr=interpolate.sproot(tck)\n",
    "r0 = SFr[0]"
   ]
  },
  {
   "cell_type": "code",
   "execution_count": 15,
   "metadata": {},
   "outputs": [
    {
     "data": {
      "text/plain": [
       "nan"
      ]
     },
     "execution_count": 15,
     "metadata": {},
     "output_type": "execute_result"
    }
   ],
   "source": [
    "r1 = np.interp(sig, b2, s,period = 360)\n",
    "r1"
   ]
  },
  {
   "cell_type": "code",
   "execution_count": 16,
   "metadata": {},
   "outputs": [
    {
     "data": {
      "text/plain": [
       "0.7673129875941449"
      ]
     },
     "execution_count": 16,
     "metadata": {},
     "output_type": "execute_result"
    }
   ],
   "source": [
    "r2 = np.interp(2*sig2, b2, s, period = 360)\n",
    "r2"
   ]
  },
  {
   "cell_type": "code",
   "execution_count": 17,
   "metadata": {},
   "outputs": [
    {
     "data": {
      "text/plain": [
       "(5.642874117770979, 1.1099001180822337, 0.5)"
      ]
     },
     "execution_count": 17,
     "metadata": {},
     "output_type": "execute_result"
    },
    {
     "data": {
      "image/png": "[encoded data removed]",
      "text/plain": [
       "<Figure size 576x432 with 1 Axes>"
      ]
     },
     "metadata": {
      "needs_background": "light"
     },
     "output_type": "display_data"
    }
   ],
   "source": [
    "m = 0.5\n",
    "s0 = data['s0']\n",
    "noise = 0.1\n",
    "#sig2 = 10.43\n",
    "\n",
    "fig, ax = plt.subplots(figsize=(8, 6))\n",
    "rgrid = np.logspace(-2, 1)\n",
    "ax.errorbar(s, b2, yerr=e_b2, xerr=e_s, fmt='o', alpha=0.4,color=\"blue\")\n",
    "\n",
    "\n",
    "ax.axhline(sig2, ls='-')\n",
    "ax.axvline(r0, ls='-')\n",
    "\n",
    "ax.axhline(2*sig2, ls=':')\n",
    "ax.axvline(r2, ls=':')\n",
    "\n",
    "ax.axhline(sig, ls=':')\n",
    "ax.axvline(r1, ls=':')\n",
    "\n",
    "ax.plot(rgrid, bfunc.bfunc00s(rgrid, r0, sig2, m), color=\"0.8\")\n",
    "ax.plot(rgrid, bfunc.bfunc03s(rgrid, r0, sig2, m, s0, noise), color=\"red\")\n",
    "ax.plot(rgrid, bfunc.bfunc04s(rgrid, r0, sig2, m, s0, noise, box_size), color=\"black\")\n",
    "\n",
    "\n",
    "ax.set(xscale='log', yscale='log', \n",
    "       xlabel='separation, pc',\n",
    "       ylabel=r'$b^2,\\ \\mathrm{km^2\\ s^{-2}}$'\n",
    "      )\n",
    "None\n",
    "\n",
    "sig2, r0, m"
   ]
  },
  {
   "cell_type": "code",
   "execution_count": 18,
   "metadata": {},
   "outputs": [
    {
     "data": {
      "text/plain": [
       "{'log10 r': array([0.  , 0.05, 0.1 , 0.15, 0.2 , 0.25, 0.3 , 0.35, 0.4 , 0.45, 0.5 ,\n",
       "        0.55, 0.6 , 0.65, 0.7 , 0.75, 0.8 , 0.85, 0.9 , 0.95, 1.  , 1.05,\n",
       "        1.1 , 1.15, 1.2 , 1.25, 1.3 , 1.35, 1.4 , 1.45, 1.5 ]),\n",
       " 'Sum dv^2': array([  3792.44563776,      0.        ,      0.        ,   8480.56770408,\n",
       "             0.        ,      0.        ,  22615.1198852 ,      0.        ,\n",
       "             0.        ,  13897.41920918,  18557.49508929,  18262.57191327,\n",
       "         34044.19205357,  44094.57913265,  40060.88508929,  56091.69019133,\n",
       "         98853.04445153,  81321.01869898, 115372.55716837, 145940.41387755,\n",
       "        206131.67075255, 191198.55992347, 224191.33741071, 277071.21353316,\n",
       "        262352.36302296, 255553.8372449 , 202473.00730867, 105668.94102041,\n",
       "         35856.64357143,   6312.38931122,    999.53256378]),\n",
       " 'Sum weights': array([  648.,     0.,     0.,  1242.,     0.,     0.,  3008.,     0.,\n",
       "            0.,  1744.,  2284.,  2192.,  3810.,  4656.,  4084.,  5388.,\n",
       "         8822.,  6948.,  9644., 12066., 16560., 15052., 17274., 20874.,\n",
       "        19752., 20318., 18854., 13284.,  6838.,  2096.,   290.]),\n",
       " 'Sum w * dv^2': array([  3792.44563776,      0.        ,      0.        ,   8480.56770408,\n",
       "             0.        ,      0.        ,  22615.1198852 ,      0.        ,\n",
       "             0.        ,  13897.41920918,  18557.49508929,  18262.57191327,\n",
       "         34044.19205357,  44094.57913265,  40060.88508929,  56091.69019133,\n",
       "         98853.04445153,  81321.01869898, 115372.55716837, 145940.41387755,\n",
       "        206131.67075255, 191198.55992347, 224191.33741071, 277071.21353316,\n",
       "        262352.36302296, 255553.8372449 , 202473.00730867, 105668.94102041,\n",
       "         35856.64357143,   6312.38931122,    999.53256378]),\n",
       " 'N pairs': array([  648,     0,     0,  1242,     0,     0,  3008,     0,     0,\n",
       "         1744,  2284,  2192,  3810,  4656,  4084,  5388,  8822,  6948,\n",
       "         9644, 12066, 16560, 15052, 17274, 20874, 19752, 20318, 18854,\n",
       "        13284,  6838,  2096,   290], dtype=int64),\n",
       " 'Unweighted B(r)': array([ 5.85253956,         nan,         nan,  6.82815435,         nan,\n",
       "                nan,  7.51832443,         nan,         nan,  7.96870367,\n",
       "         8.12499785,  8.33146529,  8.93548348,  9.47048521,  9.80922749,\n",
       "        10.41048445, 11.20528729, 11.70423412, 11.96314363, 12.09517768,\n",
       "        12.44756466, 12.70253521, 12.97854217, 13.27350836, 13.28231891,\n",
       "        12.57770633, 10.73899477,  7.95460261,  5.24373261,  3.01163612,\n",
       "         3.44666401]),\n",
       " 'Weighted B(r)': array([ 5.85253956,         nan,         nan,  6.82815435,         nan,\n",
       "                nan,  7.51832443,         nan,         nan,  7.96870367,\n",
       "         8.12499785,  8.33146529,  8.93548348,  9.47048521,  9.80922749,\n",
       "        10.41048445, 11.20528729, 11.70423412, 11.96314363, 12.09517768,\n",
       "        12.44756466, 12.70253521, 12.97854217, 13.27350836, 13.28231891,\n",
       "        12.57770633, 10.73899477,  7.95460261,  5.24373261,  3.01163612,\n",
       "         3.44666401]),\n",
       " 'Unweighted mean velocity': -0.9789275085034015,\n",
       " 'Unweighted sigma^2': 5.642874117770979}"
      ]
     },
     "execution_count": 18,
     "metadata": {},
     "output_type": "execute_result"
    }
   ],
   "source": [
    "rslt"
   ]
  },
  {
   "cell_type": "code",
   "execution_count": 19,
   "metadata": {},
   "outputs": [],
   "source": [
    "OrionL = { 'VF' : data,\n",
    "        'SF' : rslt,\n",
    "        's' : s,\n",
    "        'b2' : b2,\n",
    "        'sig2' : sig2,\n",
    "        'pc' : data['pc'],\n",
    "        'r0' : r0,\n",
    "        'r1' : r1,\n",
    "        'r2' : r2,\n",
    "        's0' : data['s0'],\n",
    "        'm' : m,\n",
    "#        'pix' : data['pix'],\n",
    "        'box_size': box_size}"
   ]
  },
  {
   "cell_type": "code",
   "execution_count": 20,
   "metadata": {},
   "outputs": [],
   "source": [
    "f = open('Results\\\\SF'+ name + 'H2.pkl',\"wb\")\n",
    "pickle.dump(OrionL,f)\n",
    "f.close()"
   ]
  },
  {
   "cell_type": "code",
   "execution_count": null,
   "metadata": {},
   "outputs": [],
   "source": []
  },
  {
   "cell_type": "code",
   "execution_count": 21,
   "metadata": {},
   "outputs": [
    {
     "name": "stdout",
     "output_type": "stream",
     "text": [
      "--- 9.117784023284912 seconds ---\n"
     ]
    }
   ],
   "source": [
    "print(\"--- %s seconds ---\" % (time.time()-start_time))"
   ]
  }
 ],
 "metadata": {
  "kernelspec": {
   "display_name": "Python 3",
   "language": "python",
   "name": "python3"
  },
  "language_info": {
   "codemirror_mode": {
    "name": "ipython",
    "version": 3
   },
   "file_extension": ".py",
   "mimetype": "text/x-python",
   "name": "python",
   "nbconvert_exporter": "python",
   "pygments_lexer": "ipython3",
   "version": "3.8.3"
  }
 },
 "nbformat": 4,
 "nbformat_minor": 4
}
