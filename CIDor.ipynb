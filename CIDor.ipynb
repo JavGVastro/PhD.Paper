{
 "cells": [
  {
   "cell_type": "code",
   "execution_count": 1,
   "metadata": {},
   "outputs": [],
   "source": [
    "import time\n",
    "start_time=time.time()"
   ]
  },
  {
   "cell_type": "code",
   "execution_count": 2,
   "metadata": {},
   "outputs": [],
   "source": [
    "import json\n",
    "import numpy as np\n",
    "import matplotlib.pyplot as plt\n",
    "import pandas as pd\n",
    "import seaborn as sns\n",
    "import lmfit\n",
    "from scipy import interpolate\n",
    "import pickle\n",
    "\n",
    "from bfunc import bfunc03s"
   ]
  },
  {
   "cell_type": "markdown",
   "metadata": {},
   "source": [
    "Data load and region parameters"
   ]
  },
  {
   "cell_type": "code",
   "execution_count": 3,
   "metadata": {},
   "outputs": [],
   "source": [
    "name = 'Dor'"
   ]
  },
  {
   "cell_type": "code",
   "execution_count": 4,
   "metadata": {},
   "outputs": [],
   "source": [
    "reg = 'Dor'"
   ]
  },
  {
   "cell_type": "code",
   "execution_count": 5,
   "metadata": {},
   "outputs": [],
   "source": [
    "pickle_in = open('SFresults//' + name + '.pkl',\"rb\")\n",
    "SFresults = pickle.load(pickle_in)"
   ]
  },
  {
   "cell_type": "code",
   "execution_count": 6,
   "metadata": {},
   "outputs": [],
   "source": [
    "B = SFresults['b2']\n",
    "r = SFresults['s']\n",
    "s0 = SFresults['s0']    \n",
    "m = SFresults['m'] \n",
    "sig2 = SFresults['sig2'] \n",
    "r0 = SFresults['r0'] \n",
    "noise = 1e-05"
   ]
  },
  {
   "cell_type": "code",
   "execution_count": 7,
   "metadata": {},
   "outputs": [
    {
     "data": {
      "text/plain": [
       "['r0', 'sig2', 'm', 's0', 'noise']"
      ]
     },
     "execution_count": 7,
     "metadata": {},
     "output_type": "execute_result"
    }
   ],
   "source": [
    "model02 = lmfit.Model(bfunc03s)\n",
    "model02.param_names"
   ]
  },
  {
   "cell_type": "code",
   "execution_count": 8,
   "metadata": {},
   "outputs": [],
   "source": [
    "relative_uncertainty = 0.25\n",
    "weights = 1.0 / (relative_uncertainty * B)\n",
    "weights[r > r0] /= 1.5"
   ]
  },
  {
   "cell_type": "code",
   "execution_count": 9,
   "metadata": {},
   "outputs": [
    {
     "name": "stdout",
     "output_type": "stream",
     "text": [
      "Name      Value      Min      Max     Vary    Expr    \n",
      "m           nan        0      inf     True    \n",
      "noise       nan        0      inf     True    \n",
      "r0          nan        0      inf     True    \n",
      "s0          nan        0      inf     True    \n",
      "sig2        nan        0      inf     True    \n"
     ]
    }
   ],
   "source": [
    "for p in model02.param_names:\n",
    "    model02.set_param_hint(p, min=0.0)\n",
    "#model02.set_param_hint(\"sig2\", value=sig2, vary=False)\n",
    "#model02.set_param_hint(\"s0\", min=0.2)\n",
    "model02.print_param_hints()"
   ]
  },
  {
   "cell_type": "code",
   "execution_count": 10,
   "metadata": {},
   "outputs": [],
   "source": [
    "result2 = model02.fit(\n",
    "    B, \n",
    "    weights=weights,\n",
    "    r = r, r0 = r0, m = m, s0 = s0, noise = noise, sig2=sig2,\n",
    ")"
   ]
  },
  {
   "cell_type": "code",
   "execution_count": 11,
   "metadata": {},
   "outputs": [
    {
     "data": {
      "image/png": "[encoded data removed]",
      "text/plain": [
       "<Figure size 432x432 with 2 Axes>"
      ]
     },
     "metadata": {
      "needs_background": "light"
     },
     "output_type": "display_data"
    }
   ],
   "source": [
    "fig, _ = result2.plot( 'ko')\n",
    "fig.axes[0].set(\n",
    "    title=reg,\n",
    "    xscale=\"log\",\n",
    "    yscale=\"symlog\",\n",
    ")\n",
    "fig.axes[1].set(\n",
    "    xscale = \"log\",\n",
    "    yscale = \"log\",\n",
    "    xlabel = \"r [pc]\",\n",
    "    ylabel = r\"B(r) [km$^{2}$/s$^{2}$]\",\n",
    ");\n",
    "\n",
    "plt.savefig('Imgs//SF//' + reg + '.pdf', bbox_inches='tight')\n",
    "\n"
   ]
  },
  {
   "cell_type": "code",
   "execution_count": 12,
   "metadata": {},
   "outputs": [
    {
     "name": "stdout",
     "output_type": "stream",
     "text": [
      "[[Model]]\n",
      "    Model(bfunc03s)\n",
      "[[Fit Statistics]]\n",
      "    # fitting method   = leastsq\n",
      "    # function evals   = 626\n",
      "    # data points      = 19\n",
      "    # variables        = 5\n",
      "    chi-square         = 9.48582399\n",
      "    reduced chi-square = 0.67755886\n",
      "    Akaike info crit   = -3.19816962\n",
      "    Bayesian info crit = 1.52402528\n",
      "##  Warning: uncertainties could not be estimated:\n",
      "    noise:  at boundary\n",
      "[[Variables]]\n",
      "    r0:     3.61669107 (init = 2.695622)\n",
      "    sig2:   301.171115 (init = 252.1136)\n",
      "    m:      0.89418988 (init = 1.2)\n",
      "    s0:     0.06160903 (init = 0.09263956)\n",
      "    noise:  4.9289e-10 (init = 1e-05)\n"
     ]
    }
   ],
   "source": [
    "print(result2.fit_report())"
   ]
  },
  {
   "cell_type": "code",
   "execution_count": 13,
   "metadata": {},
   "outputs": [],
   "source": [
    "for p in result2.model.param_names:\n",
    "    result2.params[p].stderr = result2.params[p].value * 0.1"
   ]
  },
  {
   "cell_type": "code",
   "execution_count": 14,
   "metadata": {},
   "outputs": [
    {
     "name": "stderr",
     "output_type": "stream",
     "text": [
      "C:\\Users\\ZAINTEL2\\anaconda3\\lib\\site-packages\\lmfit\\confidence.py:319: UserWarning: maxiter=200 reached and prob(r0=76.31218158445677) = 0.874066681506581 < max(sigmas).\n",
      "  warn(errmsg)\n",
      "C:\\Users\\ZAINTEL2\\anaconda3\\lib\\site-packages\\lmfit\\confidence.py:319: UserWarning: maxiter=200 reached and prob(sig2=6354.710536163432) = 0.8979598720380473 < max(sigmas).\n",
      "  warn(errmsg)\n",
      "C:\\Users\\ZAINTEL2\\anaconda3\\lib\\site-packages\\lmfit\\confidence.py:312: UserWarning: Bound reached with prob(m=0.0) = 0.9972691420144189 < max(sigmas)\n",
      "  warn(errmsg)\n"
     ]
    },
    {
     "name": "stdout",
     "output_type": "stream",
     "text": [
      "          99.73%    95.45%    68.27%    _BEST_    68.27%    95.45%    99.73%\n",
      " r0   :  -2.60507  -2.04277  -1.28399   3.61669  +4.67035      +inf      +inf\n",
      " sig2 :-171.51142-120.70226 -66.98458 301.17112+147.78443      +inf      +inf\n",
      " m    :      -inf  -0.47872  -0.16900   0.89419  +0.14024  +0.29244  +0.48826\n",
      " s0   :  -0.05190  -0.03607  -0.02022   0.06161  +0.03483  +0.15783  +0.84957\n",
      " noise:      -inf      -inf      -inf   0.00000      +inf      +inf      +inf\n"
     ]
    },
    {
     "name": "stderr",
     "output_type": "stream",
     "text": [
      "C:\\Users\\ZAINTEL2\\anaconda3\\lib\\site-packages\\lmfit\\confidence.py:327: UserWarning: rel_change=0.0 < 1e-05 at iteration 1 and prob(noise=4.435993572471375e-10) = 0.0 < max(sigmas).\n",
      "  warn(errmsg)\n",
      "C:\\Users\\ZAINTEL2\\anaconda3\\lib\\site-packages\\lmfit\\confidence.py:327: UserWarning: rel_change=0.0 < 1e-05 at iteration 1 and prob(noise=5.421769921909459e-10) = 0.0 < max(sigmas).\n",
      "  warn(errmsg)\n"
     ]
    }
   ],
   "source": [
    "result2.conf_interval()\n",
    "print(result2.ci_report())"
   ]
  },
  {
   "cell_type": "code",
   "execution_count": 15,
   "metadata": {},
   "outputs": [],
   "source": [
    "CIresults = {'resultCI' : result2,\n",
    "            'Rmax/r0' : r.max()/result2.params['r0'].value,\n",
    "            'lT' : (r[3]/2**0.5)*((result2.params['r0'].value/r[3])**(result2.params['m'].value/2))\n",
    "          }"
   ]
  },
  {
   "cell_type": "code",
   "execution_count": 16,
   "metadata": {},
   "outputs": [],
   "source": [
    "f = open('CIresults//' + name +'.pkl',\"wb\")\n",
    "pickle.dump(CIresults,f)\n",
    "f.close()"
   ]
  },
  {
   "cell_type": "code",
   "execution_count": 17,
   "metadata": {},
   "outputs": [
    {
     "name": "stdout",
     "output_type": "stream",
     "text": [
      "-------------------------------\n",
      "Parameter    Value       Stderr\n",
      "r0          3.61669     0.36167\n",
      "sig2      301.17112    30.11711\n",
      "m           0.89419     0.08942\n",
      "s0          0.06161     0.00616\n",
      "noise       0.00000     0.00000\n"
     ]
    }
   ],
   "source": [
    "print('-------------------------------')\n",
    "print('Parameter    Value       Stderr')\n",
    "for name, param in result2.params.items():\n",
    "    print('{:7s} {:11.5f} {:11.5f}'.format(name, param.value, param.stderr))"
   ]
  },
  {
   "cell_type": "markdown",
   "metadata": {},
   "source": [
    "plt.style.use([\n",
    "    \"seaborn-poster\",\n",
    "])"
   ]
  },
  {
   "cell_type": "markdown",
   "metadata": {},
   "source": [
    "plot_limits = {\n",
    "    \"s0\": [0.0, 0.1],\n",
    "    \"m\": [.5, .5],\n",
    "    \"r0\": [0.1, 1.0],\n",
    "    \"noise\": [0.0, 0.5],\n",
    "}"
   ]
  },
  {
   "cell_type": "markdown",
   "metadata": {},
   "source": [
    "fig, axes = plt.subplots(2, 2, figsize=(12, 10))\n",
    "\n",
    "plt.title('M8')\n",
    "levels = [0.6827, 0.9545, 0.9973]\n",
    "colors = [\"g\", \"y\", \"r\"]\n",
    "\n",
    "for ax, [xvar, yvar] in zip(axes.flat, [\n",
    "    [\"s0\", \"noise\"],\n",
    "    [\"r0\", \"m\"],\n",
    "    [\"m\", \"s0\"],\n",
    "    [\"r0\", \"s0\"],\n",
    "]):\n",
    "    cx, cy, grid = lmfit.conf_interval2d(\n",
    "        result2, result2, xvar, yvar, 30, 30,\n",
    "        limits=[plot_limits[xvar], plot_limits[yvar]],\n",
    "    )\n",
    "    ctp = ax.contour(cx, cy, grid, levels, colors=colors)\n",
    "    ax.set_xlabel(xvar)\n",
    "    ax.set_ylabel(yvar)\n",
    "\n",
    "fig.tight_layout();"
   ]
  },
  {
   "cell_type": "code",
   "execution_count": 18,
   "metadata": {},
   "outputs": [
    {
     "name": "stdout",
     "output_type": "stream",
     "text": [
      "--- 36.8061683177948 seconds ---\n"
     ]
    }
   ],
   "source": [
    "print(\"--- %s seconds ---\" % (time.time()-start_time))"
   ]
  }
 ],
 "metadata": {
  "kernelspec": {
   "display_name": "Python 3",
   "language": "python",
   "name": "python3"
  },
  "language_info": {
   "codemirror_mode": {
    "name": "ipython",
    "version": 3
   },
   "file_extension": ".py",
   "mimetype": "text/x-python",
   "name": "python",
   "nbconvert_exporter": "python",
   "pygments_lexer": "ipython3",
   "version": "3.8.3"
  }
 },
 "nbformat": 4,
 "nbformat_minor": 4
}
