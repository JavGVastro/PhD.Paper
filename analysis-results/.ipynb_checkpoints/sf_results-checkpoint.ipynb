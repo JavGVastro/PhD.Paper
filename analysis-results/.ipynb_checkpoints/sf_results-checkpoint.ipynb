{
 "cells": [
  {
   "cell_type": "code",
   "execution_count": 1,
   "metadata": {},
   "outputs": [],
   "source": [
    "from pathlib import Path\n",
    "\n",
    "\n",
    "import time\n",
    "start_time=time.time()\n",
    "import numpy as np\n",
    "import seaborn as sns\n",
    "import pandas as pd\n",
    "import matplotlib.pyplot as plt\n",
    "import os\n",
    "import lmfit\n",
    "import statsmodels.api as sm\n",
    "import linmix\n",
    "from scipy.stats import pearsonr\n",
    "import pickle\n",
    "import math\n",
    "import itertools\n",
    "import json\n",
    "from logerr import logify\n",
    "\n"
   ]
  },
  {
   "cell_type": "markdown",
   "metadata": {},
   "source": [
    "Load Table with physical properties"
   ]
  },
  {
   "cell_type": "code",
   "execution_count": 2,
   "metadata": {},
   "outputs": [],
   "source": [
    "physical_data = pd.read_table('property-regions-data.csv', delimiter=',')\n",
    "#physical_data = physical_data.drop(physical_data .index[[5]])"
   ]
  },
  {
   "cell_type": "code",
   "execution_count": 3,
   "metadata": {},
   "outputs": [
    {
     "data": {
      "text/html": [
       "<div>\n",
       "<style scoped>\n",
       "    .dataframe tbody tr th:only-of-type {\n",
       "        vertical-align: middle;\n",
       "    }\n",
       "\n",
       "    .dataframe tbody tr th {\n",
       "        vertical-align: top;\n",
       "    }\n",
       "\n",
       "    .dataframe thead th {\n",
       "        text-align: right;\n",
       "    }\n",
       "</style>\n",
       "<table border=\"1\" class=\"dataframe\">\n",
       "  <thead>\n",
       "    <tr style=\"text-align: right;\">\n",
       "      <th></th>\n",
       "      <th>Region</th>\n",
       "      <th>LHa</th>\n",
       "      <th>LHaer</th>\n",
       "      <th>SFR</th>\n",
       "      <th>n</th>\n",
       "      <th>L [pc]</th>\n",
       "      <th>Ler [pc]</th>\n",
       "      <th>Dist [kpc]</th>\n",
       "      <th>Dister [kpc]</th>\n",
       "      <th>siglos [km/s]</th>\n",
       "      <th>sigloser [km/s]</th>\n",
       "      <th>Diam [pc]</th>\n",
       "      <th>Diamer [pc]</th>\n",
       "    </tr>\n",
       "  </thead>\n",
       "  <tbody>\n",
       "    <tr>\n",
       "      <th>0</th>\n",
       "      <td>NGC 604</td>\n",
       "      <td>2.630000e+39</td>\n",
       "      <td>2.630000e+38</td>\n",
       "      <td>0.005300</td>\n",
       "      <td>0.35</td>\n",
       "      <td>400</td>\n",
       "      <td>40.0</td>\n",
       "      <td>840.00</td>\n",
       "      <td>30.00</td>\n",
       "      <td>17.51</td>\n",
       "      <td>0.30</td>\n",
       "      <td>400</td>\n",
       "      <td>40.0</td>\n",
       "    </tr>\n",
       "    <tr>\n",
       "      <th>1</th>\n",
       "      <td>NGC 595</td>\n",
       "      <td>8.910000e+38</td>\n",
       "      <td>8.910000e+37</td>\n",
       "      <td>0.002600</td>\n",
       "      <td>1.66</td>\n",
       "      <td>400</td>\n",
       "      <td>40.0</td>\n",
       "      <td>840.00</td>\n",
       "      <td>30.00</td>\n",
       "      <td>16.52</td>\n",
       "      <td>0.09</td>\n",
       "      <td>400</td>\n",
       "      <td>40.0</td>\n",
       "    </tr>\n",
       "    <tr>\n",
       "      <th>2</th>\n",
       "      <td>Hubble X</td>\n",
       "      <td>1.620000e+38</td>\n",
       "      <td>1.620000e+37</td>\n",
       "      <td>0.000310</td>\n",
       "      <td>0.35</td>\n",
       "      <td>160</td>\n",
       "      <td>16.0</td>\n",
       "      <td>500.00</td>\n",
       "      <td>40.00</td>\n",
       "      <td>10.00</td>\n",
       "      <td>0.02</td>\n",
       "      <td>160</td>\n",
       "      <td>16.0</td>\n",
       "    </tr>\n",
       "    <tr>\n",
       "      <th>3</th>\n",
       "      <td>Hubble V</td>\n",
       "      <td>1.990000e+38</td>\n",
       "      <td>1.990000e+37</td>\n",
       "      <td>0.000150</td>\n",
       "      <td>0.11</td>\n",
       "      <td>130</td>\n",
       "      <td>13.0</td>\n",
       "      <td>500.00</td>\n",
       "      <td>40.00</td>\n",
       "      <td>9.79</td>\n",
       "      <td>0.03</td>\n",
       "      <td>130</td>\n",
       "      <td>13.0</td>\n",
       "    </tr>\n",
       "    <tr>\n",
       "      <th>4</th>\n",
       "      <td>30Dor</td>\n",
       "      <td>2.930000e+39</td>\n",
       "      <td>2.930000e+38</td>\n",
       "      <td>0.013000</td>\n",
       "      <td>6.16</td>\n",
       "      <td>370</td>\n",
       "      <td>37.0</td>\n",
       "      <td>50.00</td>\n",
       "      <td>0.19</td>\n",
       "      <td>21.77</td>\n",
       "      <td>2.20</td>\n",
       "      <td>370</td>\n",
       "      <td>37.0</td>\n",
       "    </tr>\n",
       "    <tr>\n",
       "      <th>5</th>\n",
       "      <td>Carina</td>\n",
       "      <td>1.020000e+39</td>\n",
       "      <td>1.020000e+38</td>\n",
       "      <td>0.010000</td>\n",
       "      <td>2.26</td>\n",
       "      <td>200</td>\n",
       "      <td>20.0</td>\n",
       "      <td>2.35</td>\n",
       "      <td>0.05</td>\n",
       "      <td>18.60</td>\n",
       "      <td>3.30</td>\n",
       "      <td>200</td>\n",
       "      <td>20.0</td>\n",
       "    </tr>\n",
       "    <tr>\n",
       "      <th>6</th>\n",
       "      <td>NGC 346</td>\n",
       "      <td>6.000000e+38</td>\n",
       "      <td>6.000000e+37</td>\n",
       "      <td>0.002100</td>\n",
       "      <td>1.20</td>\n",
       "      <td>220</td>\n",
       "      <td>22.0</td>\n",
       "      <td>61.70</td>\n",
       "      <td>1.10</td>\n",
       "      <td>9.58</td>\n",
       "      <td>1.00</td>\n",
       "      <td>220</td>\n",
       "      <td>22.0</td>\n",
       "    </tr>\n",
       "    <tr>\n",
       "      <th>7</th>\n",
       "      <td>M8</td>\n",
       "      <td>3.000000e+37</td>\n",
       "      <td>3.000000e+36</td>\n",
       "      <td>0.000100</td>\n",
       "      <td>0.44</td>\n",
       "      <td>25</td>\n",
       "      <td>2.5</td>\n",
       "      <td>1.25</td>\n",
       "      <td>0.10</td>\n",
       "      <td>11.25</td>\n",
       "      <td>1.60</td>\n",
       "      <td>25</td>\n",
       "      <td>2.5</td>\n",
       "    </tr>\n",
       "    <tr>\n",
       "      <th>8</th>\n",
       "      <td>OrionS</td>\n",
       "      <td>1.510000e+37</td>\n",
       "      <td>1.510000e+36</td>\n",
       "      <td>0.000053</td>\n",
       "      <td>0.03</td>\n",
       "      <td>5</td>\n",
       "      <td>0.5</td>\n",
       "      <td>0.40</td>\n",
       "      <td>0.02</td>\n",
       "      <td>9.90</td>\n",
       "      <td>1.20</td>\n",
       "      <td>5</td>\n",
       "      <td>0.5</td>\n",
       "    </tr>\n",
       "  </tbody>\n",
       "</table>\n",
       "</div>"
      ],
      "text/plain": [
       "     Region           LHa         LHaer       SFR     n  L [pc]  Ler [pc]  \\\n",
       "0   NGC 604  2.630000e+39  2.630000e+38  0.005300  0.35     400      40.0   \n",
       "1   NGC 595  8.910000e+38  8.910000e+37  0.002600  1.66     400      40.0   \n",
       "2  Hubble X  1.620000e+38  1.620000e+37  0.000310  0.35     160      16.0   \n",
       "3  Hubble V  1.990000e+38  1.990000e+37  0.000150  0.11     130      13.0   \n",
       "4     30Dor  2.930000e+39  2.930000e+38  0.013000  6.16     370      37.0   \n",
       "5    Carina  1.020000e+39  1.020000e+38  0.010000  2.26     200      20.0   \n",
       "6   NGC 346  6.000000e+38  6.000000e+37  0.002100  1.20     220      22.0   \n",
       "7        M8  3.000000e+37  3.000000e+36  0.000100  0.44      25       2.5   \n",
       "8    OrionS  1.510000e+37  1.510000e+36  0.000053  0.03       5       0.5   \n",
       "\n",
       "   Dist [kpc]  Dister [kpc]  siglos [km/s]  sigloser [km/s]  Diam [pc]  \\\n",
       "0      840.00         30.00          17.51             0.30        400   \n",
       "1      840.00         30.00          16.52             0.09        400   \n",
       "2      500.00         40.00          10.00             0.02        160   \n",
       "3      500.00         40.00           9.79             0.03        130   \n",
       "4       50.00          0.19          21.77             2.20        370   \n",
       "5        2.35          0.05          18.60             3.30        200   \n",
       "6       61.70          1.10           9.58             1.00        220   \n",
       "7        1.25          0.10          11.25             1.60         25   \n",
       "8        0.40          0.02           9.90             1.20          5   \n",
       "\n",
       "   Diamer [pc]  \n",
       "0         40.0  \n",
       "1         40.0  \n",
       "2         16.0  \n",
       "3         13.0  \n",
       "4         37.0  \n",
       "5         20.0  \n",
       "6         22.0  \n",
       "7          2.5  \n",
       "8          0.5  "
      ]
     },
     "execution_count": 3,
     "metadata": {},
     "output_type": "execute_result"
    }
   ],
   "source": [
    "physical_data "
   ]
  },
  {
   "cell_type": "markdown",
   "metadata": {},
   "source": [
    "Path names"
   ]
  },
  {
   "cell_type": "code",
   "execution_count": 4,
   "metadata": {},
   "outputs": [],
   "source": [
    "datapath_names = Path(open(\"path-name-list.txt\", \"r\").read()).expanduser()"
   ]
  },
  {
   "cell_type": "code",
   "execution_count": 5,
   "metadata": {},
   "outputs": [],
   "source": [
    "samples=pd.read_csv(str(datapath_names) +'//sample-names-corr.csv',header=None)\n",
    "Names=pd.read_csv(str(datapath_names) +'//formal-names-corr.csv',header=None)"
   ]
  },
  {
   "cell_type": "markdown",
   "metadata": {},
   "source": [
    "Load Results"
   ]
  },
  {
   "cell_type": "code",
   "execution_count": 6,
   "metadata": {},
   "outputs": [],
   "source": [
    "datapath_res = Path(open(\"path-results.txt\", \"r\").read()).expanduser()"
   ]
  },
  {
   "cell_type": "code",
   "execution_count": null,
   "metadata": {},
   "outputs": [],
   "source": []
  },
  {
   "cell_type": "code",
   "execution_count": 7,
   "metadata": {},
   "outputs": [],
   "source": [
    "data = {}\n",
    "Results = {}\n",
    "\n",
    "for i in range(len(samples)):\n",
    "    data[samples[0][i]] = json.load(open(str(datapath_res) + '/' + samples[0][i] + \".json\"))"
   ]
  },
  {
   "cell_type": "code",
   "execution_count": 8,
   "metadata": {},
   "outputs": [],
   "source": [
    "#r_2 = np.interp(2*data[samples[0][i]]['preres']['sig2'], B, r, period = 360)\n",
    "#r_2"
   ]
  },
  {
   "cell_type": "code",
   "execution_count": 20,
   "metadata": {},
   "outputs": [
    {
     "data": {
      "text/plain": [
       "[None,\n",
       " Text(0, 0.5, '$b^2,\\\\ \\\\mathrm{km^2\\\\ s^{-2}}$'),\n",
       " None,\n",
       " Text(0.5, 0, 'separation,pc')]"
      ]
     },
     "execution_count": 20,
     "metadata": {},
     "output_type": "execute_result"
    },
    {
     "data": {
      "image/png": "[encoded data removed]",
      "text/plain": [
       "<Figure size 576x432 with 1 Axes>"
      ]
     },
     "metadata": {
      "needs_background": "light"
     },
     "output_type": "display_data"
    }
   ],
   "source": [
    "i = 0\n",
    "B = data[samples[0][i]]['B']\n",
    "r = data[samples[0][i]]['r']\n",
    "\n",
    "fig, ax = plt.subplots(figsize=(8, 6))\n",
    "\n",
    "ax.scatter(r,B)\n",
    "ax.axhline(np.array(data[samples[0][i]]['B']).max(), linestyle = ':')\n",
    "ax.axhline(2*data[samples[0][i]]['preres']['sig2'])\n",
    "ax.axvline(30)\n",
    "ax.axvline(55)\n",
    "ax.axvline(85)\n",
    "ax.axvline(140)\n",
    "\n",
    "ax.set(xscale='log', yscale='log', \n",
    "       xlabel='separation,pc',\n",
    "       ylabel=r'$b^2,\\ \\mathrm{km^2\\ s^{-2}}$'\n",
    "      )"
   ]
  },
  {
   "cell_type": "code",
   "execution_count": 10,
   "metadata": {},
   "outputs": [
    {
     "data": {
      "text/plain": [
       "({'sig2': 54.62045699825188,\n",
       "  'r0': 10.248232775044336,\n",
       "  'r1': 2.153759999969403,\n",
       "  'r2': 145.72096581366594},\n",
       " 142.80916758094855)"
      ]
     },
     "execution_count": 10,
     "metadata": {},
     "output_type": "execute_result"
    }
   ],
   "source": [
    "data[samples[0][i]]['preres'],np.array(data[samples[0][i]]['B']).max()"
   ]
  },
  {
   "cell_type": "code",
   "execution_count": 11,
   "metadata": {},
   "outputs": [
    {
     "data": {
      "text/plain": [
       "[None,\n",
       " Text(0, 0.5, '$b^2,\\\\ \\\\mathrm{km^2\\\\ s^{-2}}$'),\n",
       " None,\n",
       " Text(0.5, 0, 'separation,pc')]"
      ]
     },
     "execution_count": 11,
     "metadata": {},
     "output_type": "execute_result"
    },
    {
     "data": {
      "image/png": "[encoded data removed]",
      "text/plain": [
       "<Figure size 576x432 with 1 Axes>"
      ]
     },
     "metadata": {
      "needs_background": "light"
     },
     "output_type": "display_data"
    }
   ],
   "source": [
    "fig, ax = plt.subplots(figsize=(8, 6))\n",
    "\n",
    "ax.scatter(r[25:],B[25:])\n",
    "#ax.axhline(np.array(data[samples[0][i]]['B']).max())\n",
    "ax.axhline(2*data[samples[0][i]]['preres']['sig2'])\n",
    "#ax.axvline(2.6)\n",
    "#ax.axvline(4)\n",
    "\n",
    "ax.set(xscale='log', yscale='log', \n",
    "       xlabel='separation,pc',\n",
    "       ylabel=r'$b^2,\\ \\mathrm{km^2\\ s^{-2}}$'\n",
    "      )"
   ]
  },
  {
   "cell_type": "code",
   "execution_count": 12,
   "metadata": {},
   "outputs": [
    {
     "data": {
      "text/plain": [
       "28.651033442901504"
      ]
     },
     "execution_count": 12,
     "metadata": {},
     "output_type": "execute_result"
    }
   ],
   "source": [
    "np.array(B[25:]).std()"
   ]
  },
  {
   "cell_type": "code",
   "execution_count": 13,
   "metadata": {},
   "outputs": [],
   "source": [
    "#data[samples[0][i]]['r'][36:43]"
   ]
  },
  {
   "cell_type": "code",
   "execution_count": 14,
   "metadata": {},
   "outputs": [
    {
     "data": {
      "text/plain": [
       "([1.9057851984177627,\n",
       "  3.906973858176927,\n",
       "  7.2228664569203405,\n",
       "  10.778124352736748,\n",
       "  13.088207702358392,\n",
       "  15.929136463724163,\n",
       "  19.213711147789805,\n",
       "  23.546102677545907,\n",
       "  27.201016522753015,\n",
       "  31.13620186405691,\n",
       "  36.20295249003547,\n",
       "  41.30566367467229,\n",
       "  45.590657523057665,\n",
       "  50.94841820952063,\n",
       "  56.159641924938654,\n",
       "  61.422189766840575,\n",
       "  65.31502511389742,\n",
       "  69.05821625878298,\n",
       "  71.95048586238332,\n",
       "  74.74855823234702,\n",
       "  78.0970735497771,\n",
       "  83.68573857770345,\n",
       "  92.1049306320441,\n",
       "  102.5405222115056,\n",
       "  113.4466377779025,\n",
       "  122.86466407376584,\n",
       "  130.26977772492245,\n",
       "  136.74389010466666,\n",
       "  142.4888203748873,\n",
       "  142.80916758094855,\n",
       "  133.6627957522352,\n",
       "  119.76969238108443,\n",
       "  107.31785962310234,\n",
       "  99.40133833960667,\n",
       "  83.76883687426236,\n",
       "  66.69480023346631,\n",
       "  54.59764417818152,\n",
       "  63.90960014428776,\n",
       "  76.09643327193798,\n",
       "  107.64578144449182,\n",
       "  123.13334097222224],\n",
       " [1.0588330795432266,\n",
       "  1.495641478343339,\n",
       "  2.1126497414550465,\n",
       "  2.9841970784428073,\n",
       "  3.3483241932868344,\n",
       "  3.7568815358535628,\n",
       "  4.215290413854001,\n",
       "  4.7296336345863494,\n",
       "  5.306736220093154,\n",
       "  5.954255971057164,\n",
       "  6.680785081163796,\n",
       "  7.49596415029102,\n",
       "  8.41061010941246,\n",
       "  9.436859754699435,\n",
       "  10.588330795432267,\n",
       "  11.880302552728791,\n",
       "  13.32991870685243,\n",
       "  14.956414783433393,\n",
       "  16.781373397206973,\n",
       "  18.82901064019825,\n",
       "  21.126497414550464,\n",
       "  23.704319973888342,\n",
       "  26.596684457381357,\n",
       "  29.84197078442809,\n",
       "  33.48324193286834,\n",
       "  37.56881535853562,\n",
       "  42.152904138540016,\n",
       "  47.2963363458635,\n",
       "  53.06736220093156,\n",
       "  59.54255971057164,\n",
       "  66.80785081163796,\n",
       "  74.95964150291022,\n",
       "  84.10610109412461,\n",
       "  94.3685975469944,\n",
       "  105.88330795432266,\n",
       "  118.80302552728799,\n",
       "  133.2991870685243,\n",
       "  149.56414783433385,\n",
       "  167.81373397206974,\n",
       "  188.29010640198248,\n",
       "  211.26497414550474])"
      ]
     },
     "execution_count": 14,
     "metadata": {},
     "output_type": "execute_result"
    }
   ],
   "source": [
    "data[samples[0][i]]['B'],data[samples[0][i]]['r']"
   ]
  },
  {
   "cell_type": "code",
   "execution_count": 21,
   "metadata": {},
   "outputs": [
    {
     "data": {
      "text/plain": [
       "(1.400695221279842, 1.0334237554869499)"
      ]
     },
     "execution_count": 21,
     "metadata": {},
     "output_type": "execute_result"
    }
   ],
   "source": [
    "x1 = 3\n",
    "y1 = 10\n",
    "x2 = 10\n",
    "y2 = 54\n",
    "x3 = 30\n",
    "y3 = 2*y2\n",
    "\n",
    "(np.log10(y2)-np.log10(y1))/(np.log10(x2)-np.log10(x1)),(np.log10(y3)-np.log10(y1))/(np.log10(x3)-np.log10(x1))\n"
   ]
  },
  {
   "cell_type": "code",
   "execution_count": null,
   "metadata": {},
   "outputs": [],
   "source": []
  },
  {
   "cell_type": "code",
   "execution_count": null,
   "metadata": {},
   "outputs": [],
   "source": []
  },
  {
   "cell_type": "code",
   "execution_count": 16,
   "metadata": {},
   "outputs": [
    {
     "name": "stderr",
     "output_type": "stream",
     "text": [
      "[NbConvertApp] Converting notebook sf_results.ipynb to script\n",
      "[NbConvertApp] Writing 2365 bytes to sf_results.py\n"
     ]
    }
   ],
   "source": [
    "!jupyter nbconvert --to script --no-prompt sf_results.ipynb"
   ]
  }
 ],
 "metadata": {
  "kernelspec": {
   "display_name": "Python 3",
   "language": "python",
   "name": "python3"
  },
  "language_info": {
   "codemirror_mode": {
    "name": "ipython",
    "version": 3
   },
   "file_extension": ".py",
   "mimetype": "text/x-python",
   "name": "python",
   "nbconvert_exporter": "python",
   "pygments_lexer": "ipython3",
   "version": "3.8.3"
  }
 },
 "nbformat": 4,
 "nbformat_minor": 4
}
