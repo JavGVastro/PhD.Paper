{
 "cells": [
  {
   "cell_type": "code",
   "execution_count": 1,
   "metadata": {},
   "outputs": [],
   "source": [
    "import time\n",
    "start_time=time.time()"
   ]
  },
  {
   "cell_type": "code",
   "execution_count": 2,
   "metadata": {},
   "outputs": [],
   "source": [
    "import json\n",
    "import numpy as np\n",
    "import matplotlib.pyplot as plt\n",
    "import pandas as pd\n",
    "import seaborn as sns\n",
    "import lmfit\n",
    "from scipy import interpolate\n",
    "import pickle\n",
    "import bfunc"
   ]
  },
  {
   "cell_type": "code",
   "execution_count": 3,
   "metadata": {},
   "outputs": [
    {
     "data": {
      "text/html": [
       "<div>\n",
       "<style scoped>\n",
       "    .dataframe tbody tr th:only-of-type {\n",
       "        vertical-align: middle;\n",
       "    }\n",
       "\n",
       "    .dataframe tbody tr th {\n",
       "        vertical-align: top;\n",
       "    }\n",
       "\n",
       "    .dataframe thead th {\n",
       "        text-align: right;\n",
       "    }\n",
       "</style>\n",
       "<table border=\"1\" class=\"dataframe\">\n",
       "  <thead>\n",
       "    <tr style=\"text-align: right;\">\n",
       "      <th></th>\n",
       "      <th>0</th>\n",
       "    </tr>\n",
       "  </thead>\n",
       "  <tbody>\n",
       "    <tr>\n",
       "      <th>0</th>\n",
       "      <td>Dor</td>\n",
       "    </tr>\n",
       "    <tr>\n",
       "      <th>1</th>\n",
       "      <td>N604H</td>\n",
       "    </tr>\n",
       "    <tr>\n",
       "      <th>2</th>\n",
       "      <td>N595</td>\n",
       "    </tr>\n",
       "    <tr>\n",
       "      <th>3</th>\n",
       "      <td>N346</td>\n",
       "    </tr>\n",
       "    <tr>\n",
       "      <th>4</th>\n",
       "      <td>CarC</td>\n",
       "    </tr>\n",
       "    <tr>\n",
       "      <th>5</th>\n",
       "      <td>CarB</td>\n",
       "    </tr>\n",
       "    <tr>\n",
       "      <th>6</th>\n",
       "      <td>CarR</td>\n",
       "    </tr>\n",
       "    <tr>\n",
       "      <th>7</th>\n",
       "      <td>N604O</td>\n",
       "    </tr>\n",
       "    <tr>\n",
       "      <th>8</th>\n",
       "      <td>OrionLH</td>\n",
       "    </tr>\n",
       "    <tr>\n",
       "      <th>9</th>\n",
       "      <td>HX</td>\n",
       "    </tr>\n",
       "    <tr>\n",
       "      <th>10</th>\n",
       "      <td>M8</td>\n",
       "    </tr>\n",
       "    <tr>\n",
       "      <th>11</th>\n",
       "      <td>M8S</td>\n",
       "    </tr>\n",
       "    <tr>\n",
       "      <th>12</th>\n",
       "      <td>OrionS</td>\n",
       "    </tr>\n",
       "    <tr>\n",
       "      <th>13</th>\n",
       "      <td>HV</td>\n",
       "    </tr>\n",
       "  </tbody>\n",
       "</table>\n",
       "</div>"
      ],
      "text/plain": [
       "          0\n",
       "0       Dor\n",
       "1     N604H\n",
       "2      N595\n",
       "3      N346\n",
       "4      CarC\n",
       "5      CarB\n",
       "6      CarR\n",
       "7     N604O\n",
       "8   OrionLH\n",
       "9        HX\n",
       "10       M8\n",
       "11      M8S\n",
       "12   OrionS\n",
       "13       HV"
      ]
     },
     "execution_count": 3,
     "metadata": {},
     "output_type": "execute_result"
    }
   ],
   "source": [
    "samples=pd.read_csv('CIresults//list.csv',header=None)\n",
    "samples"
   ]
  },
  {
   "cell_type": "code",
   "execution_count": 4,
   "metadata": {},
   "outputs": [],
   "source": [
    "CI = {}\n",
    "\n",
    "for i in range(len(samples)):\n",
    "    pickle_in = open('CIresults//' + samples[0][i] + '.pkl',\"rb\")\n",
    "    df = pickle.load(pickle_in)\n",
    "    CI[samples[0][i]] = df\n",
    "\n",
    "SF = {}\n",
    "\n",
    "for i in range(len(samples)):\n",
    "    pickle_in = open('SFresults//' + samples[0][i] + '.pkl',\"rb\")\n",
    "    df = pickle.load(pickle_in)\n",
    "    SF[samples[0][i]] = df\n",
    "    "
   ]
  },
  {
   "cell_type": "markdown",
   "metadata": {},
   "source": [
    "Results obtained using lmfit"
   ]
  },
  {
   "cell_type": "code",
   "execution_count": 5,
   "metadata": {},
   "outputs": [
    {
     "name": "stdout",
     "output_type": "stream",
     "text": [
      "Dor:  r0 = 3.6167 pc,  m = 0.8942,  sig2 = 301.1711 (km/s)^2  sig = 17.3543 km/s\n",
      "N604H:  r0 = 6.4295 pc,  m = 1.4722,  sig2 = 45.2234 (km/s)^2  sig = 6.7248 km/s\n",
      "N595:  r0 = 7.5253 pc,  m = 1.3895,  sig2 = 40.302 (km/s)^2  sig = 6.3484 km/s\n",
      "N346:  r0 = 1.7526 pc,  m = 0.7522,  sig2 = 37.4952 (km/s)^2  sig = 6.1233 km/s\n",
      "CarC:  r0 = 0.5514 pc,  m = 1.2593,  sig2 = 15.5295 (km/s)^2  sig = 3.9408 km/s\n",
      "CarB:  r0 = 1.1843 pc,  m = 0.8464,  sig2 = 73.1187 (km/s)^2  sig = 8.5509 km/s\n",
      "CarR:  r0 = 0.8794 pc,  m = 1.2605,  sig2 = 38.6849 (km/s)^2  sig = 6.2197 km/s\n",
      "N604O:  r0 = 5.4079 pc,  m = 2.0588,  sig2 = 20.6888 (km/s)^2  sig = 4.5485 km/s\n",
      "OrionLH:  r0 = 1.0186 pc,  m = 0.87,  sig2 = 15.3836 (km/s)^2  sig = 3.9222 km/s\n",
      "HX:  r0 = 3.2641 pc,  m = 1.1243,  sig2 = 13.1909 (km/s)^2  sig = 3.6319 km/s\n",
      "M8:  r0 = 0.9703 pc,  m = 1.0882,  sig2 = 6.8675 (km/s)^2  sig = 2.6206 km/s\n",
      "M8S:  r0 = 0.6211 pc,  m = 0.9446,  sig2 = 6.5262 (km/s)^2  sig = 2.5546 km/s\n",
      "OrionS:  r0 = 0.0405 pc,  m = 1.1361,  sig2 = 9.1787 (km/s)^2  sig = 3.0296 km/s\n",
      "HV:  r0 = 2.2742 pc,  m = 0.9233,  sig2 = 8.7515 (km/s)^2  sig = 2.9583 km/s\n"
     ]
    }
   ],
   "source": [
    "for i in range(len(samples)):\n",
    "    print(str(samples[0][i]) + ':',\n",
    "          ' r0 = ' + str(np.round(CI[samples[0][i]]['resultCI'].params['r0'].value,4)) + ' pc,', \n",
    "          ' m = ' + str(np.round(CI[samples[0][i]]['resultCI'].params['m'].value,4)) + ',',\n",
    "          ' sig2 = ' + str(np.round(CI[samples[0][i]]['resultCI'].params['sig2'].value,4)) + ' (km/s)^2',\n",
    "          ' sig = ' + str(np.round(CI[samples[0][i]]['resultCI'].params['sig2'].value**0.5,4)) + ' km/s')"
   ]
  },
  {
   "cell_type": "markdown",
   "metadata": {},
   "source": [
    "Results obtained using a numpy interpolation method for r0, sigma as std of the radial velocity sample and m humanly fitted."
   ]
  },
  {
   "cell_type": "code",
   "execution_count": 6,
   "metadata": {},
   "outputs": [
    {
     "name": "stdout",
     "output_type": "stream",
     "text": [
      "Dor:  r0 = 2.6956 pc,  m = 1.2,  sig2 = 252.1136 (km/s)^2  sig = 15.8781 km/s\n",
      "N604H:  r0 = 8.9133 pc,  m = 1.5,  sig2 = 54.6205 (km/s)^2  sig = 7.3906 km/s\n",
      "N595:  r0 = 8.7804 pc,  m = 1.5,  sig2 = 44.1279 (km/s)^2  sig = 6.6429 km/s\n",
      "N346:  r0 = 1.3592 pc,  m = 1.2,  sig2 = 31.8791 (km/s)^2  sig = 5.6462 km/s\n",
      "CarC:  r0 = 0.4911 pc,  m = 0.9,  sig2 = 17.8872 (km/s)^2  sig = 4.2293 km/s\n",
      "CarB:  r0 = 1.1676 pc,  m = 1.0,  sig2 = 64.1908 (km/s)^2  sig = 8.0119 km/s\n",
      "CarR:  r0 = 0.5429 pc,  m = 0.8,  sig2 = 50.1867 (km/s)^2  sig = 7.0843 km/s\n",
      "N604O:  r0 = 8.1846 pc,  m = 1.5,  sig2 = 35.2995 (km/s)^2  sig = 5.9413 km/s\n",
      "OrionLH:  r0 = 0.4531 pc,  m = 0.15,  sig2 = 10.4338 (km/s)^2  sig = 3.2301 km/s\n",
      "HX:  r0 = 3.5817 pc,  m = 1.5,  sig2 = 12.896 (km/s)^2  sig = 3.5911 km/s\n",
      "M8:  r0 = 1.0324 pc,  m = 1.0,  sig2 = 7.5264 (km/s)^2  sig = 2.7434 km/s\n",
      "M8S:  r0 = 0.7454 pc,  m = 1.0,  sig2 = 6.7113 (km/s)^2  sig = 2.5906 km/s\n",
      "OrionS:  r0 = 0.0431 pc,  m = 1.5,  sig2 = 9.3755 (km/s)^2  sig = 3.0619 km/s\n",
      "HV:  r0 = 2.7247 pc,  m = 1.5,  sig2 = 7.8647 (km/s)^2  sig = 2.8044 km/s\n"
     ]
    }
   ],
   "source": [
    "for i in range(len(samples)):\n",
    "    print(str(samples[0][i]) + ':',\n",
    "          ' r0 = ' + str(np.round(SF[samples[0][i]]['r0'],4)) + ' pc,', \n",
    "          ' m = ' + str(np.round(SF[samples[0][i]]['m'],4)) + ',',\n",
    "          ' sig2 = ' + str(np.round(SF[samples[0][i]]['sig2'],4)) + ' (km/s)^2',\n",
    "          ' sig = ' + str(np.round(SF[samples[0][i]]['sig2']**0.5,4)) + ' km/s')"
   ]
  },
  {
   "cell_type": "code",
   "execution_count": 7,
   "metadata": {},
   "outputs": [
    {
     "data": {
      "text/plain": [
       "(10.433847745911214, 0.45308379348756184, 0.15, 0.045578661994756374, 0.001)"
      ]
     },
     "execution_count": 7,
     "metadata": {},
     "output_type": "execute_result"
    },
    {
     "data": {
      "image/png": "[encoded data removed]",
      "text/plain": [
       "<Figure size 576x432 with 1 Axes>"
      ]
     },
     "metadata": {
      "needs_background": "light"
     },
     "output_type": "display_data"
    }
   ],
   "source": [
    "i=8\n",
    "s = SF[samples[0][i]]['s']\n",
    "b2 = SF[samples[0][i]]['b2']\n",
    "sig2 = SF[samples[0][i]]['sig2']\n",
    "r0 = SF[samples[0][i]]['r0']\n",
    "m = SF[samples[0][i]]['m']\n",
    "s0 = SF[samples[0][i]]['s0']\n",
    "noise = 0.001\n",
    "\n",
    "rgrid = np.logspace(\n",
    "    np.log10(SF[samples[0][i]]['s'].min()),\n",
    "    np.log10(SF[samples[0][i]]['s'].max()),\n",
    "    200\n",
    ")\n",
    "\n",
    "fig, ax = plt.subplots(figsize=(8, 6))\n",
    "\n",
    "ax.errorbar(s, b2, fmt='o', alpha=0.4,color=\"blue\")\n",
    "\n",
    "\n",
    "ax.axhline(SF[samples[0][i]]['sig2'], ls='-')\n",
    "ax.axvline(SF[samples[0][i]]['r0'], ls='-')\n",
    "\n",
    "#ax.axhline(2*SF[samples[0][i]]['sig2'], ls=':')\n",
    "#ax.axvline(r2, ls=':')\n",
    "\n",
    "#ax.axhline(sig, ls=':')\n",
    "#ax.axvline(r1, ls=':')\n",
    "\n",
    "#ax.plot(rgrid, bfunc.bfunc00(rgrid, r0, sig2, m), color=\"0.8\")\n",
    "ax.plot(rgrid, bfunc.bfunc03s(rgrid, r0, sig2, m, s0, noise), color=\"red\")\n",
    "#ax.plot(rgrid, bfunc.bfunc04s(rgrid, r0, sig2, m, s0, noise), color=\"black\")\n",
    "\n",
    "\n",
    "ax.set(xscale='log', yscale='log', \n",
    "       xlabel='separation pc',\n",
    "       ylabel=r'$b^2,\\ \\mathrm{km^2\\ s^{-2}}$',\n",
    "       title=samples[0][i]\n",
    ")\n",
    "None\n",
    "\n",
    "\n",
    "sig2,r0,m,s0, noise"
   ]
  },
  {
   "cell_type": "markdown",
   "metadata": {},
   "source": [
    "Orion"
   ]
  },
  {
   "cell_type": "code",
   "execution_count": 15,
   "metadata": {},
   "outputs": [],
   "source": [
    "pickle_in = open('Results//SFOrionLH.pkl',\"rb\")\n",
    "OL1 = pickle.load(pickle_in)"
   ]
  },
  {
   "cell_type": "code",
   "execution_count": 17,
   "metadata": {},
   "outputs": [],
   "source": [
    "pickle_in = open('Results//SFOrionLH2.pkl',\"rb\")\n",
    "OL2 = pickle.load(pickle_in)"
   ]
  },
  {
   "cell_type": "code",
   "execution_count": 19,
   "metadata": {},
   "outputs": [
    {
     "data": {
      "text/plain": [
       "array([0.11926417, 0.13381659, 0.15014469, 0.16846511, 0.18902096,\n",
       "       0.21208501, 0.2379633 , 0.26699921, 0.29957804, 0.33613209,\n",
       "       0.37714641, 0.42316523, 0.47479919, 0.53273346, 0.59773677,\n",
       "       0.67067169, 0.75250601, 0.84432563, 0.94734894, 1.06294299,\n",
       "       1.19264166, 1.33816595, 1.50144689, 1.68465112, 1.89020964,\n",
       "       2.1208501 , 2.37963295, 2.66999208, 2.99578039, 3.36132089,\n",
       "       3.77146406])"
      ]
     },
     "execution_count": 19,
     "metadata": {},
     "output_type": "execute_result"
    }
   ],
   "source": []
  },
  {
   "cell_type": "code",
   "execution_count": 21,
   "metadata": {},
   "outputs": [
    {
     "data": {
      "image/png": "[encoded data removed]",
      "text/plain": [
       "<Figure size 576x432 with 1 Axes>"
      ]
     },
     "metadata": {
      "needs_background": "light"
     },
     "output_type": "display_data"
    }
   ],
   "source": [
    "fig, ax = plt.subplots(figsize=(8, 6))\n",
    "\n",
    "ax.errorbar(SF['OrionLH']['s'],SF['OrionLH']['b2'], fmt='o', alpha=0.4,color=\"black\")\n",
    "ax.errorbar(SF['OrionS']['s'],SF['OrionS']['b2'], fmt='o', alpha=0.4,color=\"blue\")\n",
    "\n",
    "ax.errorbar(OL1['s'],OL1['b2'], fmt='o', alpha=0.4,color=\"red\")\n",
    "ax.errorbar(OL2['s'],OL2['b2'], fmt='o', alpha=0.4,color=\"green\")\n",
    "\n",
    "\n",
    "ax.axhline(SF['OrionLH']['sig2'], ls='-',color=\"black\")\n",
    "ax.axhline(SF['OrionS']['sig2'], ls='-',color=\"blue\")\n",
    "\n",
    "\n",
    "ax.set(xscale='log', yscale='log', \n",
    "       xlabel='separation pc',\n",
    "       ylabel=r'$b^2,\\ \\mathrm{km^2\\ s^{-2}}$'\n",
    "      )\n",
    "None"
   ]
  },
  {
   "cell_type": "markdown",
   "metadata": {},
   "source": [
    "Car"
   ]
  },
  {
   "cell_type": "code",
   "execution_count": 10,
   "metadata": {},
   "outputs": [
    {
     "data": {
      "image/png": "[encoded data removed]",
      "text/plain": [
       "<Figure size 576x432 with 1 Axes>"
      ]
     },
     "metadata": {
      "needs_background": "light"
     },
     "output_type": "display_data"
    }
   ],
   "source": [
    "fig, ax = plt.subplots(figsize=(8, 6))\n",
    "\n",
    "ax.errorbar(SF['CarC']['s'],SF['CarC']['b2'], fmt='o', alpha=0.4,color=\"green\")\n",
    "ax.errorbar(SF['CarB']['s'],SF['CarB']['b2'], fmt='o', alpha=0.4,color=\"blue\")\n",
    "ax.errorbar(SF['CarR']['s'],SF['CarR']['b2'], fmt='o', alpha=0.4,color=\"red\")\n",
    "\n",
    "ax.axhline(SF['CarC']['sig2'], ls='-',color=\"green\")\n",
    "ax.axhline(SF['CarB']['sig2'], ls='-',color=\"blue\")\n",
    "ax.axhline(SF['CarR']['sig2'], ls='-',color=\"red\")\n",
    "\n",
    "ax.set(xscale='log', yscale='log', \n",
    "       xlabel='separation pc',\n",
    "       ylabel=r'$b^2,\\ \\mathrm{km^2\\ s^{-2}}$'\n",
    "      )\n",
    "None"
   ]
  },
  {
   "cell_type": "markdown",
   "metadata": {},
   "source": [
    "M8"
   ]
  },
  {
   "cell_type": "code",
   "execution_count": 11,
   "metadata": {},
   "outputs": [
    {
     "data": {
      "image/png": "[encoded data removed]",
      "text/plain": [
       "<Figure size 576x432 with 1 Axes>"
      ]
     },
     "metadata": {
      "needs_background": "light"
     },
     "output_type": "display_data"
    }
   ],
   "source": [
    "fig, ax = plt.subplots(figsize=(8, 6))\n",
    "\n",
    "ax.errorbar(SF['M8']['s'],SF['M8']['b2'], fmt='o', alpha=0.4,color=\"black\")\n",
    "ax.errorbar(SF['M8S']['s'],SF['M8S']['b2'], fmt='o', alpha=0.4,color=\"gray\")\n",
    "\n",
    "ax.axhline(SF['M8']['sig2'], ls='-',color=\"black\")\n",
    "ax.axhline(SF['M8S']['sig2'], ls='-',color=\"gray\")\n",
    "\n",
    "ax.set(xscale='log', yscale='log', \n",
    "       xlabel='separation pc',\n",
    "       ylabel=r'$b^2,\\ \\mathrm{km^2\\ s^{-2}}$'\n",
    "      )\n",
    "None"
   ]
  },
  {
   "cell_type": "markdown",
   "metadata": {},
   "source": [
    "All regions"
   ]
  },
  {
   "cell_type": "code",
   "execution_count": 12,
   "metadata": {},
   "outputs": [
    {
     "data": {
      "image/png": "[encoded data removed]",
      "text/plain": [
       "<Figure size 576x432 with 1 Axes>"
      ]
     },
     "metadata": {
      "needs_background": "light"
     },
     "output_type": "display_data"
    }
   ],
   "source": [
    "fig, ax = plt.subplots(figsize=(8, 6))\n",
    "\n",
    "for i in range(len(samples)):\n",
    "    ax.errorbar(SF[samples[0][i]]['s'],SF[samples[0][i]]['b2'], fmt='o', alpha=0.4,color=\"black\", markersize=5*np.log10(SF[samples[0][i]]['sig2']))\n",
    "\n",
    "ax.set(xscale='log', yscale='log', \n",
    "       xlabel='separation pc',\n",
    "       ylabel=r'$b^2,\\ \\mathrm{km^2\\ s^{-2}}$'\n",
    "      )\n",
    "None"
   ]
  },
  {
   "cell_type": "code",
   "execution_count": 13,
   "metadata": {},
   "outputs": [
    {
     "name": "stdout",
     "output_type": "stream",
     "text": [
      "--- 4.812247037887573 seconds ---\n"
     ]
    }
   ],
   "source": [
    "print(\"--- %s seconds ---\" % (time.time()-start_time))"
   ]
  }
 ],
 "metadata": {
  "kernelspec": {
   "display_name": "Python 3",
   "language": "python",
   "name": "python3"
  },
  "language_info": {
   "codemirror_mode": {
    "name": "ipython",
    "version": 3
   },
   "file_extension": ".py",
   "mimetype": "text/x-python",
   "name": "python",
   "nbconvert_exporter": "python",
   "pygments_lexer": "ipython3",
   "version": "3.8.3"
  }
 },
 "nbformat": 4,
 "nbformat_minor": 4
}
