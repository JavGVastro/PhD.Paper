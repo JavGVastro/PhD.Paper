{
 "cells": [
  {
   "cell_type": "code",
   "execution_count": 1,
   "metadata": {
    "id": "y_1iISme7_9P"
   },
   "outputs": [],
   "source": [
    "import time\n",
    "start_time=time.time()\n",
    "from pathlib import Path\n",
    "import numpy as np\n",
    "import seaborn as sns\n",
    "import pandas as pd\n",
    "import matplotlib.pyplot as plt\n",
    "import math\n",
    "import json"
   ]
  },
  {
   "cell_type": "code",
   "execution_count": 7,
   "metadata": {},
   "outputs": [],
   "source": [
    "datapath_names = Path(open(\"path-name-list.txt\", \"r\").read()).expanduser()\n",
    "datapath_res = Path(open(\"path-results.txt\", \"r\").read()).expanduser()"
   ]
  },
  {
   "cell_type": "code",
   "execution_count": 21,
   "metadata": {},
   "outputs": [],
   "source": [
    "samples_H=pd.read_csv(str(datapath_names) + '//sample-names_H.csv',header=None)\n",
    "samples_O=pd.read_csv(str(datapath_names) + '//sample-names_O.csv',header=None)\n",
    "samples_N=pd.read_csv(str(datapath_names) + '//sample-names_N.csv',header=None)\n",
    "samples_S=pd.read_csv(str(datapath_names) + '//sample-names_S.csv',header=None)\n"
   ]
  },
  {
   "cell_type": "code",
   "execution_count": 27,
   "metadata": {},
   "outputs": [],
   "source": [
    "data_H = {}\n",
    "data_O = {}\n",
    "data_N = {}\n",
    "data_S = {}\n",
    "\n",
    "for i in range(len(samples_H)):\n",
    "        data_H[samples[0][i]] = json.load(open(str(datapath_res) + '/' + samples_H[0][i] + \".json\"))\n",
    "for i in range(len(samples_O)):\n",
    "        data_O[samples[0][i]] = json.load(open(str(datapath_res) + '/' + samples_O[0][i] + \".json\"))\n",
    "for i in range(len(samples_N)):\n",
    "        data_N[samples[0][i]] = json.load(open(str(datapath_res) + '/' + samples_N[0][i] + \".json\"))\n",
    "for i in range(len(samples_S)):\n",
    "        data_S[samples[0][i]] = json.load(open(str(datapath_res) + '/' + samples_S[0][i] + \".json\"))"
   ]
  },
  {
   "cell_type": "code",
   "execution_count": 37,
   "metadata": {},
   "outputs": [
    {
     "data": {
      "text/html": [
       "<div>\n",
       "<style scoped>\n",
       "    .dataframe tbody tr th:only-of-type {\n",
       "        vertical-align: middle;\n",
       "    }\n",
       "\n",
       "    .dataframe tbody tr th {\n",
       "        vertical-align: top;\n",
       "    }\n",
       "\n",
       "    .dataframe thead th {\n",
       "        text-align: right;\n",
       "    }\n",
       "</style>\n",
       "<table border=\"1\" class=\"dataframe\">\n",
       "  <thead>\n",
       "    <tr style=\"text-align: right;\">\n",
       "      <th></th>\n",
       "      <th>0</th>\n",
       "    </tr>\n",
       "  </thead>\n",
       "  <tbody>\n",
       "    <tr>\n",
       "      <th>0</th>\n",
       "      <td>TAU-N604-H</td>\n",
       "    </tr>\n",
       "    <tr>\n",
       "      <th>1</th>\n",
       "      <td>TAU-N595-H</td>\n",
       "    </tr>\n",
       "    <tr>\n",
       "      <th>2</th>\n",
       "      <td>TAU-HV-H</td>\n",
       "    </tr>\n",
       "    <tr>\n",
       "      <th>3</th>\n",
       "      <td>TAU-HX-H</td>\n",
       "    </tr>\n",
       "    <tr>\n",
       "      <th>4</th>\n",
       "      <td>KPech-Orion-H</td>\n",
       "    </tr>\n",
       "    <tr>\n",
       "      <th>5</th>\n",
       "      <td>MUSE-Dor-H</td>\n",
       "    </tr>\n",
       "    <tr>\n",
       "      <th>6</th>\n",
       "      <td>MUSE-N346-H</td>\n",
       "    </tr>\n",
       "    <tr>\n",
       "      <th>7</th>\n",
       "      <td>Hanel-EON-H</td>\n",
       "    </tr>\n",
       "    <tr>\n",
       "      <th>8</th>\n",
       "      <td>FLA-M8-H</td>\n",
       "    </tr>\n",
       "    <tr>\n",
       "      <th>9</th>\n",
       "      <td>FLA-Car-H</td>\n",
       "    </tr>\n",
       "  </tbody>\n",
       "</table>\n",
       "</div>"
      ],
      "text/plain": [
       "               0\n",
       "0     TAU-N604-H\n",
       "1     TAU-N595-H\n",
       "2       TAU-HV-H\n",
       "3       TAU-HX-H\n",
       "4  KPech-Orion-H\n",
       "5     MUSE-Dor-H\n",
       "6    MUSE-N346-H\n",
       "7    Hanel-EON-H\n",
       "8       FLA-M8-H\n",
       "9      FLA-Car-H"
      ]
     },
     "execution_count": 37,
     "metadata": {},
     "output_type": "execute_result"
    }
   ],
   "source": [
    "samples_H"
   ]
  },
  {
   "cell_type": "code",
   "execution_count": 70,
   "metadata": {},
   "outputs": [
    {
     "data": {
      "text/html": [
       "<div>\n",
       "<style scoped>\n",
       "    .dataframe tbody tr th:only-of-type {\n",
       "        vertical-align: middle;\n",
       "    }\n",
       "\n",
       "    .dataframe tbody tr th {\n",
       "        vertical-align: top;\n",
       "    }\n",
       "\n",
       "    .dataframe thead th {\n",
       "        text-align: right;\n",
       "    }\n",
       "</style>\n",
       "<table border=\"1\" class=\"dataframe\">\n",
       "  <thead>\n",
       "    <tr style=\"text-align: right;\">\n",
       "      <th></th>\n",
       "      <th>0</th>\n",
       "    </tr>\n",
       "  </thead>\n",
       "  <tbody>\n",
       "    <tr>\n",
       "      <th>0</th>\n",
       "      <td>KPech-Orion-S</td>\n",
       "    </tr>\n",
       "    <tr>\n",
       "      <th>1</th>\n",
       "      <td>MUSE-N346-S</td>\n",
       "    </tr>\n",
       "    <tr>\n",
       "      <th>2</th>\n",
       "      <td>Hanel-EON-S</td>\n",
       "    </tr>\n",
       "    <tr>\n",
       "      <th>3</th>\n",
       "      <td>FLA-M8-S</td>\n",
       "    </tr>\n",
       "    <tr>\n",
       "      <th>4</th>\n",
       "      <td>FLA-Car-S</td>\n",
       "    </tr>\n",
       "  </tbody>\n",
       "</table>\n",
       "</div>"
      ],
      "text/plain": [
       "               0\n",
       "0  KPech-Orion-S\n",
       "1    MUSE-N346-S\n",
       "2    Hanel-EON-S\n",
       "3       FLA-M8-S\n",
       "4      FLA-Car-S"
      ]
     },
     "execution_count": 70,
     "metadata": {},
     "output_type": "execute_result"
    }
   ],
   "source": [
    "samples_S"
   ]
  },
  {
   "cell_type": "code",
   "execution_count": 73,
   "metadata": {},
   "outputs": [
    {
     "data": {
      "text/plain": [
       "<matplotlib.legend.Legend at 0x24108a19130>"
      ]
     },
     "execution_count": 73,
     "metadata": {},
     "output_type": "execute_result"
    },
    {
     "data": {
      "image/png": "[encoded data removed]",
      "text/plain": [
       "<Figure size 576x576 with 1 Axes>"
      ]
     },
     "metadata": {
      "needs_background": "light"
     },
     "output_type": "display_data"
    }
   ],
   "source": [
    "sns.set_context(\"talk\", font_scale=1.2)\n",
    "fig, ax = plt.subplots(figsize = (8,8))\n",
    "\n",
    "ax.scatter(data_H[samples[0][0]]['results_2sig']['sig2'][0],data_H[samples[0][0]]['results_2sig']['r0'][0], c = 'b', marker = 'o', label = 'N604')\n",
    "ax.scatter(data_O[samples[0][0]]['results_2sig']['sig2'][0],data_O[samples[0][0]]['results_2sig']['r0'][0], c = 'r', marker = 'o')\n",
    "\n",
    "ax.scatter(data_H[samples[0][4]]['results_2sig']['sig2'][0],data_H[samples[0][4]]['results_2sig']['r0'][0], c = 'b', marker = 's', label = 'Orion')\n",
    "ax.scatter(data_O[samples[0][1]]['results_2sig']['sig2'][0],data_O[samples[0][1]]['results_2sig']['r0'][0], c = 'r', marker = 's')\n",
    "ax.scatter(data_N[samples[0][0]]['results_2sig']['sig2'][0],data_N[samples[0][0]]['results_2sig']['r0'][0], c = 'g', marker = 's')\n",
    "ax.scatter(data_S[samples[0][0]]['results_2sig']['sig2'][0],data_S[samples[0][0]]['results_2sig']['r0'][0], c = 'orange', marker = 's')\n",
    "\n",
    "ax.scatter(data_H[samples[0][6]]['results_2sig']['sig2'][0],data_H[samples[0][6]]['results_2sig']['r0'][0], c = 'b', marker = 'X', label = 'N346')\n",
    "ax.scatter(data_O[samples[0][2]]['results_2sig']['sig2'][0],data_O[samples[0][2]]['results_2sig']['r0'][0], c = 'r', marker = 'X')\n",
    "ax.scatter(data_S[samples[0][1]]['results_2sig']['sig2'][0],data_S[samples[0][1]]['results_2sig']['r0'][0], c = 'orange', marker = 'X')\n",
    "\n",
    "ax.scatter(data_H[samples[0][7]]['results_2sig']['sig2'][0],data_H[samples[0][7]]['results_2sig']['r0'][0], c = 'b', marker = '^', label = 'EON')\n",
    "ax.scatter(data_O[samples[0][3]]['results_2sig']['sig2'][0],data_O[samples[0][3]]['results_2sig']['r0'][0], c = 'r', marker = '^')\n",
    "ax.scatter(data_N[samples[0][2]]['results_2sig']['sig2'][0],data_N[samples[0][2]]['results_2sig']['r0'][0], c = 'g', marker = '^')\n",
    "ax.scatter(data_S[samples[0][2]]['results_2sig']['sig2'][0],data_S[samples[0][2]]['results_2sig']['r0'][0], c = 'orange', marker = '^')\n",
    "\n",
    "ax.scatter(data_H[samples[0][5]]['results_2sig']['sig2'][0],data_H[samples[0][5]]['results_2sig']['r0'][0], c = 'b', marker = 'v', label = '30Dor')\n",
    "ax.scatter(data_N[samples[0][1]]['results_2sig']['sig2'][0],data_N[samples[0][1]]['results_2sig']['r0'][0], c = 'g', marker = 'v')\n",
    "\n",
    "ax.scatter(data_H[samples[0][8]]['results_2sig']['sig2'][0],data_H[samples[0][8]]['results_2sig']['r0'][0], c = 'b', marker = 'P', label = 'M8')\n",
    "ax.scatter(data_N[samples[0][3]]['results_2sig']['sig2'][0],data_N[samples[0][3]]['results_2sig']['r0'][0], c = 'g', marker = 'P')\n",
    "ax.scatter(data_S[samples[0][3]]['results_2sig']['sig2'][0],data_S[samples[0][3]]['results_2sig']['r0'][0], c = 'orange', marker = 'P')\n",
    "\n",
    "ax.scatter(data_H[samples[0][9]]['results_2sig']['sig2'][0],data_H[samples[0][9]]['results_2sig']['r0'][0], c = 'b', marker = '*', label = 'Carina')\n",
    "ax.scatter(data_N[samples[0][4]]['results_2sig']['sig2'][0],data_N[samples[0][4]]['results_2sig']['r0'][0], c = 'g', marker = '*')\n",
    "ax.scatter(data_S[samples[0][4]]['results_2sig']['sig2'][0],data_S[samples[0][4]]['results_2sig']['r0'][0], c = 'orange', marker = '*')\n",
    "\n",
    "ax.set( xscale = 'log',  yscale = 'log',\n",
    "#    xlim=[-1, 3], ylim=[-1.5, 1.5],\n",
    "    xlabel=r\"log $σ^2$\", ylabel=r\"log $r_{0}$ [pc]\",\n",
    ")\n",
    "\n",
    "plt.legend()"
   ]
  },
  {
   "cell_type": "code",
   "execution_count": null,
   "metadata": {},
   "outputs": [],
   "source": [
    "!jupyter nbconvert --to script --no-prompt results-compiler-v2_emission_lines.ipynb"
   ]
  }
 ],
 "metadata": {
  "colab": {
   "name": "Structure function correlations",
   "provenance": []
  },
  "kernelspec": {
   "display_name": "Python 3",
   "language": "python",
   "name": "python3"
  },
  "language_info": {
   "codemirror_mode": {
    "name": "ipython",
    "version": 3
   },
   "file_extension": ".py",
   "mimetype": "text/x-python",
   "name": "python",
   "nbconvert_exporter": "python",
   "pygments_lexer": "ipython3",
   "version": "3.8.3"
  }
 },
 "nbformat": 4,
 "nbformat_minor": 1
}
