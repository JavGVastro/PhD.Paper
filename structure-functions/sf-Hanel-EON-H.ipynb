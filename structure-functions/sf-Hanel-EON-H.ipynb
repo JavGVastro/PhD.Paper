{
 "cells": [
  {
   "cell_type": "code",
   "execution_count": 1,
   "metadata": {},
   "outputs": [],
   "source": [
    "import time\n",
    "start_time=time.time()"
   ]
  },
  {
   "cell_type": "code",
   "execution_count": 2,
   "metadata": {},
   "outputs": [],
   "source": [
    "from pathlib import Path\n",
    "\n",
    "from matplotlib import pyplot as plt\n",
    "import seaborn as sns\n",
    "import numpy as np\n",
    "import pandas as pd\n",
    "from scipy import interpolate\n",
    "import json\n",
    "\n",
    "import strucfunc\n",
    "from strucfunc import sosflog\n",
    "import bfunc"
   ]
  },
  {
   "cell_type": "markdown",
   "metadata": {},
   "source": [
    "Input path: velocity fields folder"
   ]
  },
  {
   "cell_type": "code",
   "execution_count": 3,
   "metadata": {},
   "outputs": [],
   "source": [
    "text_file_0 = open(\"path-data.txt\", \"r\")\n",
    "path_data = text_file_0.read()"
   ]
  },
  {
   "cell_type": "code",
   "execution_count": 4,
   "metadata": {},
   "outputs": [],
   "source": [
    "datapath_data = Path(path_data).expanduser()"
   ]
  },
  {
   "cell_type": "markdown",
   "metadata": {},
   "source": [
    "#Output path: results folder location"
   ]
  },
  {
   "cell_type": "code",
   "execution_count": 5,
   "metadata": {},
   "outputs": [],
   "source": [
    "#text_file_1 = open(\"path-results.txt\", \"r\")\n",
    "#path_res = text_file_1.read()"
   ]
  },
  {
   "cell_type": "code",
   "execution_count": 6,
   "metadata": {},
   "outputs": [],
   "source": [
    "#datapath_res= Path(path_res).expanduser()"
   ]
  },
  {
   "cell_type": "markdown",
   "metadata": {},
   "source": [
    "File names"
   ]
  },
  {
   "cell_type": "code",
   "execution_count": 7,
   "metadata": {},
   "outputs": [],
   "source": [
    "name = 'Hanel-EON-H'"
   ]
  },
  {
   "cell_type": "code",
   "execution_count": 8,
   "metadata": {},
   "outputs": [],
   "source": [
    "data = json.load(open(str(datapath_data) + '/' + name + \"-m.json\"))\n",
    "#sb = np.array(data[\"sb\"])\n",
    "vv = np.array(data[\"vv\"])\n",
    "#ss = np.array(data[\"ss\"])"
   ]
  },
  {
   "cell_type": "code",
   "execution_count": 9,
   "metadata": {},
   "outputs": [
    {
     "name": "stderr",
     "output_type": "stream",
     "text": [
      "<ipython-input-9-61e9d6bb38fe>:1: FutureWarning: elementwise comparison failed; returning scalar instead, but in the future will perform elementwise comparison\n",
      "  vv[vv== 'nan'] = vv.mean()\n"
     ]
    }
   ],
   "source": [
    "vv[vv== 'nan'] = vv.mean()"
   ]
  },
  {
   "cell_type": "code",
   "execution_count": 10,
   "metadata": {},
   "outputs": [],
   "source": [
    "## Replace spurious values in the arrays\n",
    "#m = ~np.isfinite(sb*vv) | (sb < 0.0)\n",
    "\n",
    "#sb[m] = 0.0\n",
    "#vv[m] = np.nanmean(vv)\n",
    "#ss[m] = 0.0\n",
    "#sb /= sb.max()\n",
    "#good = (~m) & (sb > 0.001)"
   ]
  },
  {
   "cell_type": "code",
   "execution_count": 11,
   "metadata": {},
   "outputs": [],
   "source": [
    "m = ~np.isfinite(vv) \n",
    "vv[m] = np.nanmean(vv)\n",
    "good = (~m) "
   ]
  },
  {
   "cell_type": "code",
   "execution_count": 12,
   "metadata": {},
   "outputs": [],
   "source": [
    "box_size = np.sqrt(vv.shape[0] * vv.shape[1]) * data['pix'] * data['pc']"
   ]
  },
  {
   "cell_type": "code",
   "execution_count": 13,
   "metadata": {},
   "outputs": [
    {
     "name": "stderr",
     "output_type": "stream",
     "text": [
      "C:\\Users\\ZAINTEL2\\Documents\\Aeon\\GitHub\\PhD.Paper\\structure-functions\\strucfunc.py:83: RuntimeWarning: invalid value encountered in true_divide\n",
      "  'Unweighted B(r)': sf/nsf,\n",
      "C:\\Users\\ZAINTEL2\\Documents\\Aeon\\GitHub\\PhD.Paper\\structure-functions\\strucfunc.py:84: RuntimeWarning: invalid value encountered in true_divide\n",
      "  'Weighted B(r)': wsf/weight}\n"
     ]
    }
   ],
   "source": [
    "rslt = strucfunc.strucfunc_numba_parallel(vv, dlogr=0.05)"
   ]
  },
  {
   "cell_type": "code",
   "execution_count": 14,
   "metadata": {},
   "outputs": [
    {
     "data": {
      "text/plain": [
       "{'log10 r': array([0.  , 0.05, 0.1 , 0.15, 0.2 , 0.25, 0.3 , 0.35, 0.4 , 0.45, 0.5 ,\n",
       "        0.55, 0.6 , 0.65, 0.7 , 0.75, 0.8 , 0.85, 0.9 , 0.95, 1.  , 1.05,\n",
       "        1.1 , 1.15, 1.2 , 1.25, 1.3 , 1.35, 1.4 , 1.45, 1.5 ]),\n",
       " 'Sum dv^2': array([  3808.10174684,      0.        ,      0.        ,   8580.10290245,\n",
       "             0.        ,      0.        ,  22863.66504972,      0.        ,\n",
       "             0.        ,  13949.71908358,  18759.9309218 ,  18203.3093147 ,\n",
       "         34257.25224402,  43704.7624617 ,  39733.44051599,  55605.31781242,\n",
       "         97571.13316044,  79735.8100215 , 113539.88535071, 143144.18905939,\n",
       "        202173.33538296, 186581.40880946, 219009.62239989, 270300.42307713,\n",
       "        255915.7470868 , 251965.62791991, 203696.5284359 , 108944.44258533,\n",
       "         38558.01924483,   6948.51950013,   1150.40448267]),\n",
       " 'Sum weights': array([  648.,     0.,     0.,  1242.,     0.,     0.,  3008.,     0.,\n",
       "            0.,  1744.,  2284.,  2192.,  3810.,  4656.,  4084.,  5388.,\n",
       "         8822.,  6948.,  9644., 12066., 16560., 15052., 17274., 20874.,\n",
       "        19752., 20318., 18854., 13284.,  6838.,  2096.,   290.]),\n",
       " 'Sum w * dv^2': array([  3808.10174684,      0.        ,      0.        ,   8580.10290245,\n",
       "             0.        ,      0.        ,  22863.66504972,      0.        ,\n",
       "             0.        ,  13949.71908358,  18759.9309218 ,  18203.3093147 ,\n",
       "         34257.25224402,  43704.7624617 ,  39733.44051599,  55605.31781242,\n",
       "         97571.13316044,  79735.8100215 , 113539.88535071, 143144.18905939,\n",
       "        202173.33538296, 186581.40880946, 219009.62239989, 270300.42307713,\n",
       "        255915.7470868 , 251965.62791991, 203696.5284359 , 108944.44258533,\n",
       "         38558.01924483,   6948.51950013,   1150.40448267]),\n",
       " 'N pairs': array([  648,     0,     0,  1242,     0,     0,  3008,     0,     0,\n",
       "         1744,  2284,  2192,  3810,  4656,  4084,  5388,  8822,  6948,\n",
       "         9644, 12066, 16560, 15052, 17274, 20874, 19752, 20318, 18854,\n",
       "        13284,  6838,  2096,   290], dtype=int64),\n",
       " 'Unweighted B(r)': array([ 5.87670023,         nan,         nan,  6.90829541,         nan,\n",
       "                nan,  7.60095248,         nan,         nan,  7.99869214,\n",
       "         8.21363   ,  8.30442943,  8.99140479,  9.3867617 ,  9.72905008,\n",
       "        10.32021489, 11.05997882, 11.47608089, 11.7731113 , 11.86343354,\n",
       "        12.20853475, 12.39578852, 12.67857024, 12.94914358, 12.9564473 ,\n",
       "        12.40110384, 10.80388928,  8.20117755,  5.63878608,  3.31513335,\n",
       "         3.96691201]),\n",
       " 'Weighted B(r)': array([ 5.87670023,         nan,         nan,  6.90829541,         nan,\n",
       "                nan,  7.60095248,         nan,         nan,  7.99869214,\n",
       "         8.21363   ,  8.30442943,  8.99140479,  9.3867617 ,  9.72905008,\n",
       "        10.32021489, 11.05997882, 11.47608089, 11.7731113 , 11.86343354,\n",
       "        12.20853475, 12.39578852, 12.67857024, 12.94914358, 12.9564473 ,\n",
       "        12.40110384, 10.80388928,  8.20117755,  5.63878608,  3.31513335,\n",
       "         3.96691201])}"
      ]
     },
     "execution_count": 14,
     "metadata": {},
     "output_type": "execute_result"
    }
   ],
   "source": [
    "rslt"
   ]
  },
  {
   "cell_type": "code",
   "execution_count": null,
   "metadata": {},
   "outputs": [],
   "source": []
  },
  {
   "cell_type": "code",
   "execution_count": 15,
   "metadata": {},
   "outputs": [],
   "source": [
    "rslt[\"Unweighted mean velocity\"] = np.mean(vv[good])\n",
    "rslt[\"Unweighted sigma^2\"] = np.var(vv[good])\n",
    "#v0w = rslt[\"Weighted mean velocity\"] = np.average(vv, weights=sb)\n",
    "#rslt[\"Weighted sigma^2\"] = np.average((vv - v0w)**2, weights=sb)"
   ]
  },
  {
   "cell_type": "code",
   "execution_count": 16,
   "metadata": {},
   "outputs": [],
   "source": [
    "b2 = rslt['Unweighted B(r)']\n",
    "#b2w = rslt['Weighted B(r)']\n",
    "e_b2 = b2  *.1\n",
    "#e_b2w = b2w  *.1\n",
    "\n",
    "s = 10**rslt['log10 r'] * data['pix'] * data['pc']\n",
    "e_s = s  *.1\n",
    "sig2 = rslt['Unweighted sigma^2']\n",
    "#sig2w = rslt['Weighted sigma^2']\n",
    "\n",
    "sig = sig2**0.5"
   ]
  },
  {
   "cell_type": "code",
   "execution_count": 17,
   "metadata": {},
   "outputs": [
    {
     "name": "stderr",
     "output_type": "stream",
     "text": [
      "C:\\Users\\ZAINTEL2\\anaconda3\\lib\\site-packages\\numpy\\lib\\function_base.py:1405: RuntimeWarning: invalid value encountered in remainder\n",
      "  xp = xp % period\n"
     ]
    },
    {
     "data": {
      "text/plain": [
       "0.6601711840364031"
      ]
     },
     "execution_count": 17,
     "metadata": {},
     "output_type": "execute_result"
    }
   ],
   "source": [
    "r0 = np.interp(sig2, b2, s,period = 360)\n",
    "r0"
   ]
  },
  {
   "cell_type": "code",
   "execution_count": 18,
   "metadata": {},
   "outputs": [
    {
     "data": {
      "text/plain": [
       "nan"
      ]
     },
     "execution_count": 18,
     "metadata": {},
     "output_type": "execute_result"
    }
   ],
   "source": [
    "r1 = np.interp(sig, b2, s,period = 360)\n",
    "r1"
   ]
  },
  {
   "cell_type": "code",
   "execution_count": 19,
   "metadata": {},
   "outputs": [
    {
     "data": {
      "text/plain": [
       "nan"
      ]
     },
     "execution_count": 19,
     "metadata": {},
     "output_type": "execute_result"
    }
   ],
   "source": [
    "r2 = np.interp(2*sig2, b2, s, period = 360)\n",
    "r2"
   ]
  },
  {
   "cell_type": "code",
   "execution_count": 20,
   "metadata": {},
   "outputs": [
    {
     "data": {
      "text/plain": [
       "(10.235104362626533, 0.6601711840364031, 0.5)"
      ]
     },
     "execution_count": 20,
     "metadata": {},
     "output_type": "execute_result"
    },
    {
     "data": {
      "image/png": "[encoded data removed]",
      "text/plain": [
       "<Figure size 576x432 with 1 Axes>"
      ]
     },
     "metadata": {
      "needs_background": "light"
     },
     "output_type": "display_data"
    }
   ],
   "source": [
    "m = 0.5\n",
    "s0 = data['s0']\n",
    "noise = 2\n",
    "\n",
    "fig, ax = plt.subplots(figsize=(8, 6))\n",
    "rgrid = np.logspace(-2, 1)\n",
    "ax.errorbar(s, b2, yerr=e_b2, xerr=e_s, fmt='o', alpha=0.4,color=\"blue\")\n",
    "#ax.errorbar(s, b2w, yerr=e_b2w, xerr=e_s, fmt='x', alpha=0.4,color=\"green\")\n",
    "\n",
    "ax.axhline(sig2, ls='-')\n",
    "ax.axvline(r0, ls='-')\n",
    "\n",
    "ax.axhline(2*sig2, ls=':')\n",
    "ax.axvline(r2, ls=':')\n",
    "\n",
    "ax.axhline(sig, ls=':')\n",
    "ax.axvline(r1, ls=':')\n",
    "\n",
    "ax.plot(rgrid, bfunc.bfunc00s(rgrid, r0, sig2, m), color=\"0.8\")\n",
    "ax.plot(rgrid, bfunc.bfunc03s(rgrid, r0, sig2, m, s0, noise), color=\"red\")\n",
    "ax.plot(rgrid, bfunc.bfunc04s(rgrid, r0, sig2, m, s0, noise, box_size), color=\"black\")\n",
    "\n",
    "\n",
    "ax.set(xscale='log', yscale='log', \n",
    "       xlabel='separation, pc',\n",
    "       ylabel=r'$b^2,\\ \\mathrm{km^2\\ s^{-2}}$'\n",
    "      )\n",
    "None\n",
    "\n",
    "sig2, r0, m"
   ]
  },
  {
   "cell_type": "code",
   "execution_count": 21,
   "metadata": {},
   "outputs": [],
   "source": [
    "results = {\n",
    "    'sig2' : sig2,\n",
    "        'r0' : r0,\n",
    "        'r1' : r1,\n",
    "        'r2' : r2,\n",
    "          } "
   ]
  },
  {
   "cell_type": "code",
   "execution_count": 22,
   "metadata": {},
   "outputs": [],
   "source": [
    "data_export = {   \n",
    "        's' : s,\n",
    "        'b2' : b2,\n",
    "        'pc' : data['pc'],\n",
    "        'pix' : data['pix'],\n",
    "        'box_size': box_size,\n",
    "         'results':results,\n",
    "         'SF' : rslt,\n",
    "         'VF' : data,\n",
    "}"
   ]
  },
  {
   "cell_type": "code",
   "execution_count": 23,
   "metadata": {},
   "outputs": [],
   "source": [
    "class MyEncoder(json.JSONEncoder):\n",
    "    def default(self, obj):\n",
    "        if isinstance(obj, np.integer):\n",
    "            return int(obj)\n",
    "        elif isinstance(obj, np.floating):\n",
    "            return float(obj)\n",
    "        elif isinstance(obj, np.ndarray):\n",
    "            return obj.tolist()\n",
    "        else:\n",
    "            return super(MyEncoder, self).default(obj)"
   ]
  },
  {
   "cell_type": "code",
   "execution_count": 24,
   "metadata": {},
   "outputs": [],
   "source": [
    "jsonfilename =\"sf-\" + name +\".json\"\n",
    "with open(jsonfilename, \"w\") as f:\n",
    "    json.dump(data_export, fp=f, indent=3, cls=MyEncoder)"
   ]
  },
  {
   "cell_type": "code",
   "execution_count": 25,
   "metadata": {},
   "outputs": [
    {
     "name": "stdout",
     "output_type": "stream",
     "text": [
      "--- 18.45146679878235 seconds ---\n"
     ]
    }
   ],
   "source": [
    "print(\"--- %s seconds ---\" % (time.time()-start_time))"
   ]
  },
  {
   "cell_type": "code",
   "execution_count": 26,
   "metadata": {},
   "outputs": [
    {
     "name": "stderr",
     "output_type": "stream",
     "text": [
      "[NbConvertApp] Converting notebook sf-Hanel-EON-H.ipynb to script\n",
      "[NbConvertApp] Writing 3558 bytes to sf-Hanel-EON-H.py\n"
     ]
    }
   ],
   "source": [
    "!jupyter nbconvert --to script --no-prompt sf-Hanel-EON-H.ipynb"
   ]
  }
 ],
 "metadata": {
  "kernelspec": {
   "display_name": "Python 3",
   "language": "python",
   "name": "python3"
  },
  "language_info": {
   "codemirror_mode": {
    "name": "ipython",
    "version": 3
   },
   "file_extension": ".py",
   "mimetype": "text/x-python",
   "name": "python",
   "nbconvert_exporter": "python",
   "pygments_lexer": "ipython3",
   "version": "3.8.3"
  }
 },
 "nbformat": 4,
 "nbformat_minor": 4
}
