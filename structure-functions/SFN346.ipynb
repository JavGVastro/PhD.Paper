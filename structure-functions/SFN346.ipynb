{
 "cells": [
  {
   "cell_type": "code",
   "execution_count": 1,
   "metadata": {},
   "outputs": [],
   "source": [
    "import time\n",
    "start_time=time.time()"
   ]
  },
  {
   "cell_type": "code",
   "execution_count": 2,
   "metadata": {},
   "outputs": [],
   "source": [
    "from matplotlib import pyplot as plt\n",
    "import seaborn as sns\n",
    "import numpy as np\n",
    "import pandas as pd\n",
    "from scipy import interpolate\n",
    "import pickle\n",
    "\n",
    "import strucfunc\n",
    "from strucfunc import sosflog\n",
    "import bfunc"
   ]
  },
  {
   "cell_type": "code",
   "execution_count": 3,
   "metadata": {},
   "outputs": [],
   "source": [
    "name = 'N346'"
   ]
  },
  {
   "cell_type": "code",
   "execution_count": 4,
   "metadata": {},
   "outputs": [],
   "source": [
    "pickle_in = open('VFM//' + name + '.pkl',\"rb\")\n",
    "data = pickle.load(pickle_in)\n",
    "sb = data['sb']\n",
    "vv = data['vv']\n",
    "#ss = data['ss']"
   ]
  },
  {
   "cell_type": "code",
   "execution_count": 5,
   "metadata": {},
   "outputs": [],
   "source": [
    "## Replace spurious values in the arrays\n",
    "m = ~np.isfinite(sb*vv) | (sb < 0.0)\n",
    "\n",
    "sb[m] = 0.0\n",
    "vv[m] = np.nanmean(vv)\n",
    "#ss[m] = 0.0\n",
    "sb /= sb.max()\n",
    "\n",
    "good = (~m) & (sb > 0.001)"
   ]
  },
  {
   "cell_type": "code",
   "execution_count": 6,
   "metadata": {},
   "outputs": [
    {
     "data": {
      "text/plain": [
       "(326, 346)"
      ]
     },
     "execution_count": 6,
     "metadata": {},
     "output_type": "execute_result"
    }
   ],
   "source": [
    "sb.shape"
   ]
  },
  {
   "cell_type": "code",
   "execution_count": 7,
   "metadata": {},
   "outputs": [],
   "source": [
    "box_size = np.sqrt(326 * 346) * data['pix'] * data['pc']"
   ]
  },
  {
   "cell_type": "code",
   "execution_count": 8,
   "metadata": {},
   "outputs": [
    {
     "name": "stderr",
     "output_type": "stream",
     "text": [
      "C:\\Users\\ZAINTEL2\\Dropbox\\Articulos\\PhD\\PhD-master02\\strucfunc.py:83: RuntimeWarning: invalid value encountered in true_divide\n",
      "  'Unweighted B(r)': sf/nsf,\n",
      "C:\\Users\\ZAINTEL2\\Dropbox\\Articulos\\PhD\\PhD-master02\\strucfunc.py:84: RuntimeWarning: invalid value encountered in true_divide\n",
      "  'Weighted B(r)': wsf/weight}\n"
     ]
    }
   ],
   "source": [
    "rslt = strucfunc.strucfunc_numba_parallel(vv, wmap=sb, dlogr=0.05)"
   ]
  },
  {
   "cell_type": "code",
   "execution_count": 9,
   "metadata": {},
   "outputs": [],
   "source": [
    "good = (~m) & (sb > 0.001)\n",
    "rslt[\"Unweighted mean velocity\"] = np.mean(vv[good])\n",
    "rslt[\"Unweighted sigma^2\"] = np.var(vv[good])\n",
    "v0w = rslt[\"Weighted mean velocity\"] = np.average(vv, weights=sb)\n",
    "rslt[\"Weighted sigma^2\"] = np.average((vv - v0w)**2, weights=sb)"
   ]
  },
  {
   "cell_type": "code",
   "execution_count": 10,
   "metadata": {},
   "outputs": [],
   "source": [
    "b2 = rslt['Unweighted B(r)']\n",
    "e_b2 = b2  *.1\n",
    "s = 10**rslt['log10 r'] * data['pix'] * data['pc']\n",
    "e_s = s  *.1\n",
    "sig2 = rslt['Unweighted sigma^2']\n",
    "sig = sig2**0.5"
   ]
  },
  {
   "cell_type": "code",
   "execution_count": 11,
   "metadata": {},
   "outputs": [
    {
     "data": {
      "text/plain": [
       "1.5538344207735215"
      ]
     },
     "execution_count": 11,
     "metadata": {},
     "output_type": "execute_result"
    }
   ],
   "source": [
    "r0 = np.interp(sig2, b2, s)\n",
    "r0"
   ]
  },
  {
   "cell_type": "markdown",
   "metadata": {},
   "source": [
    "x = s\n",
    "y = b2 - sig2\n",
    "tck=interpolate.splrep(x,y,s=0)\n",
    "grid=np.linspace(x.min(),x.max(),num=len(x))\n",
    "ynew=interpolate.splev(grid,tck,der=0)\n",
    "inter=pd.DataFrame([grid,ynew]).T\n",
    "SFr=interpolate.sproot(tck)\n",
    "r0 = SFr[0]"
   ]
  },
  {
   "cell_type": "code",
   "execution_count": 12,
   "metadata": {},
   "outputs": [
    {
     "name": "stderr",
     "output_type": "stream",
     "text": [
      "C:\\Users\\ZAINTEL2\\anaconda3\\lib\\site-packages\\numpy\\lib\\function_base.py:1405: RuntimeWarning: invalid value encountered in remainder\n",
      "  xp = xp % period\n"
     ]
    },
    {
     "data": {
      "text/plain": [
       "0.178907950365"
      ]
     },
     "execution_count": 12,
     "metadata": {},
     "output_type": "execute_result"
    }
   ],
   "source": [
    "r1 = np.interp(sig, b2, s,period = 360)\n",
    "r1"
   ]
  },
  {
   "cell_type": "code",
   "execution_count": 13,
   "metadata": {},
   "outputs": [
    {
     "data": {
      "text/plain": [
       "6.595551340728356"
      ]
     },
     "execution_count": 13,
     "metadata": {},
     "output_type": "execute_result"
    }
   ],
   "source": [
    "r2 = np.interp(2*sig2, b2, s, period = 360)\n",
    "r2"
   ]
  },
  {
   "cell_type": "code",
   "execution_count": null,
   "metadata": {},
   "outputs": [],
   "source": []
  },
  {
   "cell_type": "code",
   "execution_count": 14,
   "metadata": {},
   "outputs": [
    {
     "data": {
      "text/plain": [
       "(31.87910585532852, 1.5538344207735215, 0.5, 0.27052603405912107, 5.0)"
      ]
     },
     "execution_count": 14,
     "metadata": {},
     "output_type": "execute_result"
    },
    {
     "data": {
      "image/png": "[encoded data removed]",
      "text/plain": [
       "<Figure size 576x432 with 1 Axes>"
      ]
     },
     "metadata": {
      "needs_background": "light"
     },
     "output_type": "display_data"
    }
   ],
   "source": [
    "m = 0.5\n",
    "noise = 5.0\n",
    "s0 = data['s0']\n",
    "\n",
    "fig, ax = plt.subplots(figsize=(8, 6))\n",
    "rgrid = np.logspace(-1, 1.25)\n",
    "ax.errorbar(s, b2, yerr=e_b2, xerr=e_s, fmt='o', alpha=0.4,color=\"blue\")\n",
    "\n",
    "\n",
    "ax.axhline(sig2, ls='-')\n",
    "ax.axvline(r0, ls='-')\n",
    "\n",
    "ax.axhline(2*sig2, ls=':')\n",
    "ax.axvline(r2, ls=':')\n",
    "\n",
    "ax.axhline(sig, ls=':')\n",
    "ax.axvline(r1, ls=':')\n",
    "\n",
    "ax.plot(rgrid, bfunc.bfunc00s(rgrid, r0, sig2, m), color=\"0.8\")\n",
    "ax.plot(rgrid, bfunc.bfunc03s(rgrid, r0, sig2, m, s0, noise), color=\"red\")\n",
    "ax.plot(rgrid, bfunc.bfunc04s(rgrid, r0, sig2, m, s0, noise, box_size), color=\"black\")\n",
    "\n",
    "\n",
    "ax.set(xscale='log', yscale='log', \n",
    "       xlabel='separation pc',\n",
    "       ylabel=r'$b^2,\\ \\mathrm{km^2\\ s^{-2}}$'\n",
    "      )\n",
    "None\n",
    "\n",
    "sig2, r0, m, s0, noise"
   ]
  },
  {
   "cell_type": "code",
   "execution_count": 15,
   "metadata": {},
   "outputs": [
    {
     "data": {
      "text/plain": [
       "{'log10 r': array([0.  , 0.05, 0.1 , 0.15, 0.2 , 0.25, 0.3 , 0.35, 0.4 , 0.45, 0.5 ,\n",
       "        0.55, 0.6 , 0.65, 0.7 , 0.75, 0.8 , 0.85, 0.9 , 0.95, 1.  , 1.05,\n",
       "        1.1 , 1.15, 1.2 , 1.25, 1.3 , 1.35, 1.4 , 1.45, 1.5 , 1.55, 1.6 ,\n",
       "        1.65, 1.7 , 1.75, 1.8 , 1.85, 1.9 , 1.95, 2.  , 2.05, 2.1 , 2.15,\n",
       "        2.2 , 2.25, 2.3 , 2.35, 2.4 , 2.45, 2.5 , 2.55, 2.6 ]),\n",
       " 'Sum dv^2': array([1.72549909e+05, 0.00000000e+00, 0.00000000e+00, 6.06096030e+05,\n",
       "        0.00000000e+00, 0.00000000e+00, 2.12603202e+06, 0.00000000e+00,\n",
       "        0.00000000e+00, 1.63765858e+06, 2.50370894e+06, 2.95671884e+06,\n",
       "        5.52408915e+06, 8.39319359e+06, 7.94292095e+06, 1.22129183e+07,\n",
       "        2.37610403e+07, 2.26329541e+07, 3.40313233e+07, 5.02563564e+07,\n",
       "        8.00381082e+07, 9.00637687e+07, 1.22157529e+08, 1.87733278e+08,\n",
       "        2.24036227e+08, 3.13008830e+08, 4.29798730e+08, 5.62303585e+08,\n",
       "        7.36370422e+08, 9.71449007e+08, 1.34507131e+09, 1.66106129e+09,\n",
       "        2.29748134e+09, 2.93989992e+09, 3.88227111e+09, 4.97807075e+09,\n",
       "        6.28545884e+09, 8.06787003e+09, 1.01063505e+10, 1.28014396e+10,\n",
       "        1.60949878e+10, 1.95616547e+10, 2.35100045e+10, 2.72888993e+10,\n",
       "        3.12785210e+10, 3.43151791e+10, 3.37033159e+10, 3.07966256e+10,\n",
       "        2.91003283e+10, 2.53504571e+10, 1.30709110e+10, 4.08700101e+09,\n",
       "        7.78770294e+08]),\n",
       " 'Sum weights': array([2.93799523e+02, 0.00000000e+00, 0.00000000e+00, 5.85314312e+02,\n",
       "        0.00000000e+00, 0.00000000e+00, 1.45062948e+03, 0.00000000e+00,\n",
       "        0.00000000e+00, 8.62006085e+02, 1.14526375e+03, 1.13662051e+03,\n",
       "        1.97442151e+03, 2.51216174e+03, 2.21928016e+03, 3.02045249e+03,\n",
       "        5.15855162e+03, 4.29452280e+03, 6.11540616e+03, 8.14041865e+03,\n",
       "        1.19230054e+04, 1.20071389e+04, 1.51351529e+04, 2.11245713e+04,\n",
       "        2.35263766e+04, 3.04100655e+04, 3.92088970e+04, 4.73562106e+04,\n",
       "        5.74476567e+04, 7.00444552e+04, 9.02666343e+04, 1.03815718e+05,\n",
       "        1.33744257e+05, 1.59407124e+05, 1.95701612e+05, 2.35055065e+05,\n",
       "        2.80269425e+05, 3.38831899e+05, 3.93791152e+05, 4.61513982e+05,\n",
       "        5.41387420e+05, 6.19404600e+05, 7.07805460e+05, 7.92723647e+05,\n",
       "        8.79107952e+05, 9.60287094e+05, 1.02085159e+06, 1.03386113e+06,\n",
       "        9.46558764e+05, 7.00862040e+05, 3.43910415e+05, 1.13870732e+05,\n",
       "        1.59484618e+04]),\n",
       " 'Sum w * dv^2': array([5.56997478e+02, 0.00000000e+00, 0.00000000e+00, 1.73965369e+03,\n",
       "        0.00000000e+00, 0.00000000e+00, 6.24931347e+03, 0.00000000e+00,\n",
       "        0.00000000e+00, 4.76138780e+03, 6.83720136e+03, 7.72205340e+03,\n",
       "        1.40437376e+04, 1.99396099e+04, 1.81479342e+04, 2.68377618e+04,\n",
       "        5.01298204e+04, 4.62890346e+04, 6.90365761e+04, 1.00715354e+05,\n",
       "        1.59372899e+05, 1.78376452e+05, 2.41879536e+05, 3.72485730e+05,\n",
       "        4.46272966e+05, 6.26552750e+05, 8.62511258e+05, 1.13638733e+06,\n",
       "        1.49751318e+06, 1.99309600e+06, 2.78050719e+06, 3.44652840e+06,\n",
       "        4.76618308e+06, 6.10014074e+06, 8.04637182e+06, 1.03351816e+07,\n",
       "        1.31389616e+07, 1.68434756e+07, 2.07833650e+07, 2.57199991e+07,\n",
       "        3.16512272e+07, 3.80807114e+07, 4.45819847e+07, 4.97638718e+07,\n",
       "        5.44443648e+07, 5.90988917e+07, 5.91076075e+07, 5.60700298e+07,\n",
       "        5.26993556e+07, 4.48570921e+07, 2.37689517e+07, 8.08203396e+06,\n",
       "        1.88672472e+06]),\n",
       " 'N pairs': array([   104054,         0,         0,    207621,         0,         0,\n",
       "           517601,         0,         0,    309659,    412558,    411342,\n",
       "           719269,    921515,    818675,   1122219,   1931748,   1619841,\n",
       "          2323543,   3117792,   4606873,   4676590,   5939341,   8350522,\n",
       "          9367686,  12185258,  15816087,  19229768,  23498897,  28893898,\n",
       "         37617827,  43743426,  56975500,  68601162,  85138753, 103557371,\n",
       "        125243019, 153982523, 182711503, 218667323, 261094091, 304224343,\n",
       "        354978518, 403317372, 449480601, 488298144, 508621200, 501747189,\n",
       "        444942540, 317383183, 140622886,  40883183,   5313266], dtype=int64),\n",
       " 'Unweighted B(r)': array([  1.65827272,          nan,          nan,   2.91924242,\n",
       "                 nan,          nan,   4.10747278,          nan,\n",
       "                 nan,   5.28858706,   6.06874414,   7.18798188,\n",
       "          7.68014352,   9.10803795,   9.70216624,  10.8828297 ,\n",
       "         12.30027948,  13.97233066,  14.64630665,  16.11921398,\n",
       "         17.37363026,  19.25842734,  20.56752239,  22.4816219 ,\n",
       "         23.91585577,  25.68750127,  27.17478288,  29.24130886,\n",
       "         31.33638236,  33.62125133,  35.75622022,  37.97282112,\n",
       "         40.32402247,  42.85495808,  45.59934189,  48.07065595,\n",
       "         50.1861013 ,  52.39471254,  55.31315969,  58.54299337,\n",
       "         61.64439709,  64.30009691,  66.22937247,  67.66110551,\n",
       "         69.58814453,  70.27505527,  66.26408003,  61.37877055,\n",
       "         65.40244107,  79.87334701,  92.95009804,  99.96777925,\n",
       "        146.57092145]),\n",
       " 'Weighted B(r)': array([  1.89584201,          nan,          nan,   2.97217008,\n",
       "                 nan,          nan,   4.30800115,          nan,\n",
       "                 nan,   5.52361275,   5.96997972,   6.79387124,\n",
       "          7.11283662,   7.93723173,   8.17739664,   8.8853448 ,\n",
       "          9.71780921,  10.77862123,  11.2889601 ,  12.37225735,\n",
       "         13.36683945,  14.85586654,  15.98130769,  17.63281844,\n",
       "         18.96904793,  20.60346598,  21.9978455 ,  23.99658497,\n",
       "         26.06743716,  28.45472908,  30.80326645,  33.19852194,\n",
       "         35.63654385,  38.26767962,  41.11551115,  43.96919347,\n",
       "         46.87975355,  49.71041865,  52.77763337,  55.72962055,\n",
       "         58.46317442,  61.47954239,  62.98621193,  62.77581349,\n",
       "         61.93137561,  61.54294077,  57.90029447,  54.23361807,\n",
       "         55.67467928,  64.00274167,  69.11378846,  70.97551598,\n",
       "        118.30135959]),\n",
       " 'Unweighted mean velocity': 166.113623219373,\n",
       " 'Unweighted sigma^2': 31.87910585532852,\n",
       " 'Weighted mean velocity': 165.54662544066412,\n",
       " 'Weighted sigma^2': 28.143630380860973}"
      ]
     },
     "execution_count": 15,
     "metadata": {},
     "output_type": "execute_result"
    }
   ],
   "source": [
    "rslt"
   ]
  },
  {
   "cell_type": "code",
   "execution_count": 16,
   "metadata": {},
   "outputs": [],
   "source": [
    "N346 = { 'VF' : data,\n",
    "        'SF' : rslt,\n",
    "        's' : s,\n",
    "        'b2' : b2,\n",
    "        'sig2' : sig2,\n",
    "        'pc' : data['pc'],\n",
    "        'r0' : r0,\n",
    "        'r1' : r1,\n",
    "        'r2' : r2,\n",
    "        's0' : data['s0'],\n",
    "        'm' : m,\n",
    "        'pix' : data['pix'],\n",
    "        'box_size': box_size}"
   ]
  },
  {
   "cell_type": "code",
   "execution_count": 17,
   "metadata": {},
   "outputs": [],
   "source": [
    "f = open('Results\\\\SF'+ name + '.pkl',\"wb\")\n",
    "pickle.dump(N346,f)\n",
    "f.close()"
   ]
  },
  {
   "cell_type": "code",
   "execution_count": null,
   "metadata": {},
   "outputs": [],
   "source": []
  },
  {
   "cell_type": "code",
   "execution_count": 18,
   "metadata": {},
   "outputs": [
    {
     "name": "stdout",
     "output_type": "stream",
     "text": [
      "--- 53.10338759422302 seconds ---\n"
     ]
    }
   ],
   "source": [
    "print(\"--- %s seconds ---\" % (time.time()-start_time))"
   ]
  }
 ],
 "metadata": {
  "kernelspec": {
   "display_name": "Python 3",
   "language": "python",
   "name": "python3"
  },
  "language_info": {
   "codemirror_mode": {
    "name": "ipython",
    "version": 3
   },
   "file_extension": ".py",
   "mimetype": "text/x-python",
   "name": "python",
   "nbconvert_exporter": "python",
   "pygments_lexer": "ipython3",
   "version": "3.8.3"
  }
 },
 "nbformat": 4,
 "nbformat_minor": 4
}
