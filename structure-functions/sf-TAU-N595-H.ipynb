{
 "cells": [
  {
   "cell_type": "code",
   "execution_count": 1,
   "metadata": {},
   "outputs": [],
   "source": [
    "import time\n",
    "start_time=time.time()"
   ]
  },
  {
   "cell_type": "code",
   "execution_count": 2,
   "metadata": {},
   "outputs": [],
   "source": [
    "from pathlib import Path\n",
    "\n",
    "from matplotlib import pyplot as plt\n",
    "import seaborn as sns\n",
    "import numpy as np\n",
    "import pandas as pd\n",
    "from scipy import interpolate\n",
    "import pickle\n",
    "import json\n",
    "\n",
    "import strucfunc\n",
    "from strucfunc import sosflog\n",
    "import bfunc"
   ]
  },
  {
   "cell_type": "markdown",
   "metadata": {},
   "source": [
    "Input path: velocity fields folder"
   ]
  },
  {
   "cell_type": "code",
   "execution_count": 3,
   "metadata": {},
   "outputs": [],
   "source": [
    "text_file_0 = open(\"path-data.txt\", \"r\")\n",
    "path_data = text_file_0.read()"
   ]
  },
  {
   "cell_type": "code",
   "execution_count": 4,
   "metadata": {},
   "outputs": [],
   "source": [
    "datapath_data = Path(path_data).expanduser()"
   ]
  },
  {
   "cell_type": "markdown",
   "metadata": {},
   "source": [
    "#Output path: results folder location"
   ]
  },
  {
   "cell_type": "code",
   "execution_count": 5,
   "metadata": {},
   "outputs": [],
   "source": [
    "#text_file_1 = open(\"path-results.txt\", \"r\")\n",
    "#path_res = text_file_1.read()"
   ]
  },
  {
   "cell_type": "code",
   "execution_count": 6,
   "metadata": {},
   "outputs": [],
   "source": [
    "#datapath_res= Path(path_res).expanduser()"
   ]
  },
  {
   "cell_type": "markdown",
   "metadata": {},
   "source": [
    "File names"
   ]
  },
  {
   "cell_type": "code",
   "execution_count": 7,
   "metadata": {},
   "outputs": [],
   "source": [
    "name = 'TAU-N595-H'"
   ]
  },
  {
   "cell_type": "code",
   "execution_count": 8,
   "metadata": {},
   "outputs": [],
   "source": [
    "data = json.load(open(str(datapath_data) + '/' + name + \"-m.json\"))\n",
    "sb = np.array(data[\"sb\"])\n",
    "vv = np.array(data[\"vv\"])\n",
    "ss = np.array(data[\"ss\"])"
   ]
  },
  {
   "cell_type": "code",
   "execution_count": 9,
   "metadata": {},
   "outputs": [
    {
     "name": "stderr",
     "output_type": "stream",
     "text": [
      "<ipython-input-9-56ae9ee8bd98>:2: RuntimeWarning: invalid value encountered in less\n",
      "  m = ~np.isfinite(sb*vv*ss) | (sb < 0.0)\n"
     ]
    }
   ],
   "source": [
    "## Replace spurious values in the arrays\n",
    "m = ~np.isfinite(sb*vv*ss) | (sb < 0.0)\n",
    "\n",
    "sb[m] = 0.0\n",
    "vv[m] = np.nanmean(vv)\n",
    "ss[m] = 0.0\n",
    "sb /= sb.max()\n",
    "good = (~m) & (sb > 0.001)"
   ]
  },
  {
   "cell_type": "code",
   "execution_count": 10,
   "metadata": {},
   "outputs": [
    {
     "name": "stderr",
     "output_type": "stream",
     "text": [
      "C:\\Users\\ZAINTEL2\\Documents\\Aeon\\PhD\\python\\git-hub\\structure-functions\\strucfunc.py:83: RuntimeWarning: invalid value encountered in true_divide\n",
      "  'Unweighted B(r)': sf/nsf,\n",
      "C:\\Users\\ZAINTEL2\\Documents\\Aeon\\PhD\\python\\git-hub\\structure-functions\\strucfunc.py:84: RuntimeWarning: invalid value encountered in true_divide\n",
      "  'Weighted B(r)': wsf/weight}\n"
     ]
    }
   ],
   "source": [
    "rslt = strucfunc.strucfunc_numba_parallel(vv, wmap=sb, dlogr=0.05)"
   ]
  },
  {
   "cell_type": "code",
   "execution_count": 11,
   "metadata": {},
   "outputs": [
    {
     "data": {
      "text/plain": [
       "{'log10 r': array([0.  , 0.05, 0.1 , 0.15, 0.2 , 0.25, 0.3 , 0.35, 0.4 , 0.45, 0.5 ,\n",
       "        0.55, 0.6 , 0.65, 0.7 , 0.75, 0.8 , 0.85, 0.9 , 0.95, 1.  , 1.05,\n",
       "        1.1 , 1.15, 1.2 , 1.25, 1.3 , 1.35, 1.4 , 1.45, 1.5 , 1.55, 1.6 ,\n",
       "        1.65, 1.7 , 1.75, 1.8 , 1.85, 1.9 , 1.95, 2.  , 2.05, 2.1 , 2.15,\n",
       "        2.2 , 2.25, 2.3 , 2.35]),\n",
       " 'Sum dv^2': array([1.62959376e+04, 0.00000000e+00, 0.00000000e+00, 6.08004392e+04,\n",
       "        0.00000000e+00, 0.00000000e+00, 2.53245833e+05, 0.00000000e+00,\n",
       "        0.00000000e+00, 2.12154719e+05, 3.22607823e+05, 3.76609542e+05,\n",
       "        7.66234172e+05, 1.14523864e+06, 1.14669417e+06, 1.73686991e+06,\n",
       "        3.31623224e+06, 3.04182651e+06, 4.81192914e+06, 7.14021119e+06,\n",
       "        1.18098070e+07, 1.33075679e+07, 1.85751144e+07, 2.88444806e+07,\n",
       "        3.51527525e+07, 4.90830677e+07, 6.70141557e+07, 8.45562162e+07,\n",
       "        1.04749662e+08, 1.27897580e+08, 1.58880982e+08, 1.72290187e+08,\n",
       "        2.09319724e+08, 2.36397576e+08, 2.73353311e+08, 2.85718595e+08,\n",
       "        2.74386149e+08, 2.69485606e+08, 2.53267698e+08, 2.10078014e+08,\n",
       "        1.65348872e+08, 1.12558296e+08, 7.52295737e+07, 6.68798855e+07,\n",
       "        3.11614085e+07, 4.31357494e+06, 2.64835108e+05, 0.00000000e+00]),\n",
       " 'Sum weights': array([5.91047362e+02, 0.00000000e+00, 0.00000000e+00, 1.17673082e+03,\n",
       "        0.00000000e+00, 0.00000000e+00, 2.91079800e+03, 0.00000000e+00,\n",
       "        0.00000000e+00, 1.72476397e+03, 2.28376737e+03, 2.26113866e+03,\n",
       "        3.90539629e+03, 4.93792058e+03, 4.32615669e+03, 5.83558028e+03,\n",
       "        9.82870731e+03, 8.05689644e+03, 1.12683203e+04, 1.46480192e+04,\n",
       "        2.08133103e+04, 2.02381556e+04, 2.45721901e+04, 3.26853832e+04,\n",
       "        3.44842369e+04, 4.18391305e+04, 5.03521163e+04, 5.61133657e+04,\n",
       "        6.30877618e+04, 7.12858296e+04, 8.62912172e+04, 9.44990852e+04,\n",
       "        1.16010429e+05, 1.30755165e+05, 1.48950751e+05, 1.56938952e+05,\n",
       "        1.50789629e+05, 1.31223150e+05, 1.00237849e+05, 7.33690367e+04,\n",
       "        5.40171216e+04, 4.66810855e+04, 3.47741759e+04, 1.75486238e+04,\n",
       "        6.49772068e+03, 1.06358173e+03, 5.39637179e+01, 0.00000000e+00]),\n",
       " 'Sum w * dv^2': array([1.02377477e+03, 0.00000000e+00, 0.00000000e+00, 3.67353438e+03,\n",
       "        0.00000000e+00, 0.00000000e+00, 1.65956799e+04, 0.00000000e+00,\n",
       "        0.00000000e+00, 1.48090514e+04, 2.21538854e+04, 2.62966923e+04,\n",
       "        5.53049495e+04, 8.35238548e+04, 8.30885561e+04, 1.27218996e+05,\n",
       "        2.42546374e+05, 2.19540807e+05, 3.43024526e+05, 4.96741254e+05,\n",
       "        7.97133114e+05, 8.57712387e+05, 1.15398278e+06, 1.69964560e+06,\n",
       "        1.98792472e+06, 2.65082512e+06, 3.45587219e+06, 4.13095342e+06,\n",
       "        4.83440402e+06, 5.69659591e+06, 7.10612162e+06, 7.85005501e+06,\n",
       "        9.67874432e+06, 1.09299121e+07, 1.20685514e+07, 1.14500805e+07,\n",
       "        9.45040607e+06, 7.90800467e+06, 6.53501790e+06, 4.64317106e+06,\n",
       "        3.63460358e+06, 3.02203982e+06, 1.70299789e+06, 1.33086916e+06,\n",
       "        5.82706645e+05, 5.92824543e+04, 2.83843225e+03, 0.00000000e+00]),\n",
       " 'N pairs': array([   6430,       0,       0,   12805,       0,       0,   31747,\n",
       "              0,       0,   18869,   25063,   24907,   43136,   54933,\n",
       "          48431,   65929,  112319,   93202,  132133,  174887,  253806,\n",
       "         253190,  315179,  433694,  474239,  600632,  754271,  883094,\n",
       "        1037763, 1222605, 1516210, 1675528, 2070508, 2358972, 2735585,\n",
       "        3025564, 3186562, 3176482, 2859278, 2414515, 1935772, 1559354,\n",
       "        1220827,  798154,  355459,   73246,    4878,       0], dtype=int64),\n",
       " 'Unweighted B(r)': array([  2.53436044,          nan,          nan,   4.74817955,\n",
       "                 nan,          nan,   7.97700044,          nan,\n",
       "                 nan,  11.2435592 ,  12.87187579,  15.12063044,\n",
       "         17.763218  ,  20.84791725,  23.67686329,  26.34455105,\n",
       "         29.52512252,  32.63692315,  36.41731547,  40.82756975,\n",
       "         46.53084253,  52.55961103,  58.93512715,  66.50883016,\n",
       "         74.1245501 ,  81.71903542,  88.84625779,  95.7499612 ,\n",
       "        100.93794227, 104.61071234, 104.78824299, 102.82739939,\n",
       "        101.0958295 , 100.21211607,  99.92499277,  94.43482108,\n",
       "         86.10726826,  84.83775621,  88.57750031,  87.00629897,\n",
       "         85.41753484,  72.18264458,  61.62181349,  83.79320968,\n",
       "         87.66526804,  58.89161095,  54.29174014,          nan]),\n",
       " 'Weighted B(r)': array([ 1.7321366 ,         nan,         nan,  3.12181368,         nan,\n",
       "                nan,  5.7014193 ,         nan,         nan,  8.58613215,\n",
       "         9.70058759, 11.62984506, 14.16116198, 16.91478293, 19.20609032,\n",
       "        21.80057342, 24.67734224, 27.24880583, 30.44149601, 33.91183798,\n",
       "        38.29919898, 42.38095619, 46.96295982, 52.0001735 , 57.6473456 ,\n",
       "        63.35755744, 68.63410013, 73.617994  , 76.62982305, 79.91203774,\n",
       "        82.3504622 , 83.07016929, 83.42995051, 83.59067152, 81.02376992,\n",
       "        72.95881826, 62.67278554, 60.26379234, 65.19511284, 63.28515772,\n",
       "        67.2861395 , 64.73799376, 48.97306257, 75.83894753, 89.6786232 ,\n",
       "        55.73850373, 52.59890086,         nan])}"
      ]
     },
     "execution_count": 11,
     "metadata": {},
     "output_type": "execute_result"
    }
   ],
   "source": [
    "rslt"
   ]
  },
  {
   "cell_type": "code",
   "execution_count": 12,
   "metadata": {},
   "outputs": [],
   "source": [
    "box_size = np.sqrt(sb.shape[0] * sb.shape[1]) * data['pix'] * data['pc']"
   ]
  },
  {
   "cell_type": "code",
   "execution_count": 13,
   "metadata": {},
   "outputs": [],
   "source": [
    "#good = (~m) & (sb > 0.001)\n",
    "rslt[\"Unweighted mean velocity\"] = np.mean(vv[good])\n",
    "rslt[\"Unweighted sigma^2\"] = np.var(vv[good])\n",
    "v0w = rslt[\"Weighted mean velocity\"] = np.average(vv, weights=sb)\n",
    "rslt[\"Weighted sigma^2\"] = np.average((vv - v0w)**2, weights=sb)"
   ]
  },
  {
   "cell_type": "code",
   "execution_count": 14,
   "metadata": {},
   "outputs": [],
   "source": [
    "b2 = rslt['Unweighted B(r)']\n",
    "b2w = rslt['Weighted B(r)']\n",
    "e_b2 = b2  *.1\n",
    "e_b2w = b2w  *.1\n",
    "\n",
    "s = 10**rslt['log10 r'] * data['pix'] * data['pc']\n",
    "e_s = s  *.1\n",
    "sig2 = rslt['Unweighted sigma^2']\n",
    "sig2w = rslt['Weighted sigma^2']\n",
    "\n",
    "sig = sig2**0.5"
   ]
  },
  {
   "cell_type": "code",
   "execution_count": 15,
   "metadata": {},
   "outputs": [
    {
     "data": {
      "text/plain": [
       "10.10317852253083"
      ]
     },
     "execution_count": 15,
     "metadata": {},
     "output_type": "execute_result"
    }
   ],
   "source": [
    "r0 = np.interp(sig2, b2, s)\n",
    "r0"
   ]
  },
  {
   "cell_type": "code",
   "execution_count": 16,
   "metadata": {},
   "outputs": [
    {
     "name": "stderr",
     "output_type": "stream",
     "text": [
      "C:\\Users\\ZAINTEL2\\anaconda3\\lib\\site-packages\\numpy\\lib\\function_base.py:1405: RuntimeWarning: invalid value encountered in remainder\n",
      "  xp = xp % period\n"
     ]
    },
    {
     "data": {
      "text/plain": [
       "1.8577075334486963"
      ]
     },
     "execution_count": 16,
     "metadata": {},
     "output_type": "execute_result"
    }
   ],
   "source": [
    "r1 = np.interp(sig, b2, s,period = 360)\n",
    "r1"
   ]
  },
  {
   "cell_type": "code",
   "execution_count": 17,
   "metadata": {},
   "outputs": [
    {
     "data": {
      "text/plain": [
       "113.63164395329758"
      ]
     },
     "execution_count": 17,
     "metadata": {},
     "output_type": "execute_result"
    }
   ],
   "source": [
    "r2 = np.interp(2*sig2, b2, s, period = 360)\n",
    "r2"
   ]
  },
  {
   "cell_type": "code",
   "execution_count": 18,
   "metadata": {},
   "outputs": [
    {
     "data": {
      "text/plain": [
       "(44.12786785616313, 10.10317852253083, 1.0)"
      ]
     },
     "execution_count": 18,
     "metadata": {},
     "output_type": "execute_result"
    },
    {
     "data": {
      "image/png": "[encoded data removed]",
      "text/plain": [
       "<Figure size 576x432 with 1 Axes>"
      ]
     },
     "metadata": {
      "needs_background": "light"
     },
     "output_type": "display_data"
    }
   ],
   "source": [
    "m = 1.0\n",
    "s0 = data['s0']\n",
    "noise = 1\n",
    "\n",
    "\n",
    "fig, ax = plt.subplots(figsize=(8, 6))\n",
    "rgrid = np.logspace(0, 2.15)\n",
    "ax.errorbar(s, b2, yerr=e_b2, xerr=e_s, fmt='o', alpha=0.4,color=\"blue\")\n",
    "ax.errorbar(s, b2w, yerr=e_b2w, xerr=e_s, fmt='x', alpha=0.4,color=\"green\")\n",
    "\n",
    "ax.axhline(sig2, ls='-')\n",
    "ax.axvline(r0, ls='-')\n",
    "\n",
    "ax.axhline(2*sig2, ls=':')\n",
    "ax.axvline(r2, ls=':')\n",
    "\n",
    "ax.axhline(sig, ls=':')\n",
    "ax.axvline(r1, ls=':')\n",
    "\n",
    "ax.plot(rgrid, bfunc.bfunc00s(rgrid, r0, sig2, m), color=\"0.8\")\n",
    "ax.plot(rgrid, bfunc.bfunc03s(rgrid, r0, sig2, m, s0, noise), color=\"red\")\n",
    "ax.plot(rgrid, bfunc.bfunc04s(rgrid, r0, sig2, m, s0, noise, box_size), color=\"black\")\n",
    "\n",
    "\n",
    "ax.set(xscale='log', yscale='log', \n",
    "       xlabel='separation, pc',\n",
    "       ylabel=r'$b^2,\\ \\mathrm{km^2\\ s^{-2}}$'\n",
    "      )\n",
    "None\n",
    "\n",
    "sig2, r0, m"
   ]
  },
  {
   "cell_type": "code",
   "execution_count": 19,
   "metadata": {},
   "outputs": [],
   "source": [
    "results = {\n",
    "    'sig2' : sig2,\n",
    "        'r0' : r0,\n",
    "        'r1' : r1,\n",
    "        'r2' : r2,\n",
    "          } "
   ]
  },
  {
   "cell_type": "code",
   "execution_count": 20,
   "metadata": {},
   "outputs": [],
   "source": [
    "data_export = {   \n",
    "        's' : s,\n",
    "        'b2' : b2,\n",
    "        'pc' : data['pc'],\n",
    "        'pix' : data['pix'],\n",
    "        'box_size': box_size,\n",
    "         'results':results,\n",
    "         'SF' : rslt,\n",
    "         'VF' : data,\n",
    "}"
   ]
  },
  {
   "cell_type": "code",
   "execution_count": 21,
   "metadata": {},
   "outputs": [],
   "source": [
    "class MyEncoder(json.JSONEncoder):\n",
    "    def default(self, obj):\n",
    "        if isinstance(obj, np.integer):\n",
    "            return int(obj)\n",
    "        elif isinstance(obj, np.floating):\n",
    "            return float(obj)\n",
    "        elif isinstance(obj, np.ndarray):\n",
    "            return obj.tolist()\n",
    "        else:\n",
    "            return super(MyEncoder, self).default(obj)"
   ]
  },
  {
   "cell_type": "code",
   "execution_count": 22,
   "metadata": {},
   "outputs": [],
   "source": [
    "jsonfilename =\"sf-\" + name +\".json\"\n",
    "with open(jsonfilename, \"w\") as f:\n",
    "    json.dump(data_export, fp=f, indent=3, cls=MyEncoder)"
   ]
  },
  {
   "cell_type": "code",
   "execution_count": 23,
   "metadata": {},
   "outputs": [
    {
     "name": "stdout",
     "output_type": "stream",
     "text": [
      "--- 16.887129306793213 seconds ---\n"
     ]
    }
   ],
   "source": [
    "print(\"--- %s seconds ---\" % (time.time()-start_time))"
   ]
  },
  {
   "cell_type": "code",
   "execution_count": 24,
   "metadata": {},
   "outputs": [
    {
     "name": "stderr",
     "output_type": "stream",
     "text": [
      "[NbConvertApp] Converting notebook sf-TAU-N595-H.ipynb to script\n",
      "[NbConvertApp] Writing 3494 bytes to sf-TAU-N595-H.py\n"
     ]
    }
   ],
   "source": [
    "!jupyter nbconvert --to script --no-prompt sf-TAU-N595-H.ipynb"
   ]
  }
 ],
 "metadata": {
  "kernelspec": {
   "display_name": "Python 3",
   "language": "python",
   "name": "python3"
  },
  "language_info": {
   "codemirror_mode": {
    "name": "ipython",
    "version": 3
   },
   "file_extension": ".py",
   "mimetype": "text/x-python",
   "name": "python",
   "nbconvert_exporter": "python",
   "pygments_lexer": "ipython3",
   "version": "3.8.3"
  }
 },
 "nbformat": 4,
 "nbformat_minor": 4
}
