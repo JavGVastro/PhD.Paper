{
 "cells": [
  {
   "cell_type": "code",
   "execution_count": 1,
   "metadata": {},
   "outputs": [],
   "source": [
    "import time\n",
    "start_time=time.time()"
   ]
  },
  {
   "cell_type": "code",
   "execution_count": 2,
   "metadata": {},
   "outputs": [],
   "source": [
    "from matplotlib import pyplot as plt\n",
    "import seaborn as sns\n",
    "import numpy as np\n",
    "import pandas as pd\n",
    "from scipy import interpolate\n",
    "import pickle\n",
    "\n",
    "import strucfunc\n",
    "from strucfunc import sosflog\n",
    "import bfunc"
   ]
  },
  {
   "cell_type": "code",
   "execution_count": 3,
   "metadata": {},
   "outputs": [],
   "source": [
    "name = 'N604H'"
   ]
  },
  {
   "cell_type": "code",
   "execution_count": 4,
   "metadata": {},
   "outputs": [],
   "source": [
    "pickle_in = open('VFM//' + name + '.pkl',\"rb\")\n",
    "data = pickle.load(pickle_in)\n",
    "sb = data['sb']\n",
    "vv = data['vv']\n",
    "ss = data['ss']"
   ]
  },
  {
   "cell_type": "code",
   "execution_count": 5,
   "metadata": {},
   "outputs": [
    {
     "name": "stderr",
     "output_type": "stream",
     "text": [
      "<ipython-input-5-95afb24455fa>:2: RuntimeWarning: invalid value encountered in less\n",
      "  m = ~np.isfinite(sb*vv*ss) | (sb < 0.0)\n"
     ]
    }
   ],
   "source": [
    "## Replace spurious values in the arrays\n",
    "m = ~np.isfinite(sb*vv*ss) | (sb < 0.0)\n",
    "\n",
    "sb[m] = 0.0\n",
    "vv[m] = np.nanmean(vv)\n",
    "ss[m] = 0.0\n",
    "sb /= sb.max()\n",
    "\n",
    "good = (~m) & (sb > 0.001)"
   ]
  },
  {
   "cell_type": "code",
   "execution_count": 6,
   "metadata": {},
   "outputs": [
    {
     "name": "stderr",
     "output_type": "stream",
     "text": [
      "C:\\Users\\ZAINTEL2\\Dropbox\\Articulos\\PhD\\PhD-master02\\strucfunc.py:83: RuntimeWarning: invalid value encountered in true_divide\n",
      "  'Unweighted B(r)': sf/nsf,\n",
      "C:\\Users\\ZAINTEL2\\Dropbox\\Articulos\\PhD\\PhD-master02\\strucfunc.py:84: RuntimeWarning: invalid value encountered in true_divide\n",
      "  'Weighted B(r)': wsf/weight}\n"
     ]
    }
   ],
   "source": [
    "rslt = strucfunc.strucfunc_numba_parallel(data['vv'], wmap=data['sb'], dlogr=0.05)"
   ]
  },
  {
   "cell_type": "code",
   "execution_count": 7,
   "metadata": {},
   "outputs": [
    {
     "data": {
      "text/plain": [
       "(156, 172)"
      ]
     },
     "execution_count": 7,
     "metadata": {},
     "output_type": "execute_result"
    }
   ],
   "source": [
    "sb.shape"
   ]
  },
  {
   "cell_type": "code",
   "execution_count": 8,
   "metadata": {},
   "outputs": [],
   "source": [
    "box_size = np.sqrt(156 * 172) * data['pix'] * data['pc']"
   ]
  },
  {
   "cell_type": "code",
   "execution_count": 9,
   "metadata": {},
   "outputs": [],
   "source": [
    "good = (~m) & (sb > 0.001)\n",
    "rslt[\"Unweighted mean velocity\"] = np.mean(vv[good])\n",
    "rslt[\"Unweighted sigma^2\"] = np.var(vv[good])\n",
    "v0w = rslt[\"Weighted mean velocity\"] = np.average(vv, weights=sb)\n",
    "rslt[\"Weighted sigma^2\"] = np.average((vv - v0w)**2, weights=sb)"
   ]
  },
  {
   "cell_type": "code",
   "execution_count": 10,
   "metadata": {},
   "outputs": [],
   "source": [
    "b2 = rslt['Unweighted B(r)']\n",
    "e_b2 = b2  *.1\n",
    "s = 10**rslt['log10 r'] * data['pix'] * data['pc']\n",
    "e_s = s  *.1\n",
    "sig2 = rslt['Unweighted sigma^2']\n",
    "sig = sig2**0.5"
   ]
  },
  {
   "cell_type": "code",
   "execution_count": 11,
   "metadata": {},
   "outputs": [
    {
     "data": {
      "text/plain": [
       "10.248232775044336"
      ]
     },
     "execution_count": 11,
     "metadata": {},
     "output_type": "execute_result"
    }
   ],
   "source": [
    "r0 = np.interp(sig2, b2, s)\n",
    "r0"
   ]
  },
  {
   "cell_type": "markdown",
   "metadata": {},
   "source": [
    "x = s\n",
    "y = b2 - sig2\n",
    "tck=interpolate.splrep(x,y,s=0)\n",
    "grid=np.linspace(x.min(),x.max(),num=len(x))\n",
    "ynew=interpolate.splev(grid,tck,der=0)\n",
    "inter=pd.DataFrame([grid,ynew]).T\n",
    "SFr=interpolate.sproot(tck)\n",
    "r0 = SFr[0]"
   ]
  },
  {
   "cell_type": "code",
   "execution_count": 12,
   "metadata": {},
   "outputs": [
    {
     "name": "stderr",
     "output_type": "stream",
     "text": [
      "C:\\Users\\ZAINTEL2\\anaconda3\\lib\\site-packages\\numpy\\lib\\function_base.py:1405: RuntimeWarning: invalid value encountered in remainder\n",
      "  xp = xp % period\n"
     ]
    },
    {
     "data": {
      "text/plain": [
       "2.153759999969403"
      ]
     },
     "execution_count": 12,
     "metadata": {},
     "output_type": "execute_result"
    }
   ],
   "source": [
    "r1 = np.interp(sig, b2, s,period = 360)\n",
    "r1"
   ]
  },
  {
   "cell_type": "code",
   "execution_count": 13,
   "metadata": {},
   "outputs": [
    {
     "data": {
      "text/plain": [
       "145.72096581366594"
      ]
     },
     "execution_count": 13,
     "metadata": {},
     "output_type": "execute_result"
    }
   ],
   "source": [
    "r2 = np.interp(2*sig2, b2, s, period = 360)\n",
    "r2"
   ]
  },
  {
   "cell_type": "code",
   "execution_count": 14,
   "metadata": {},
   "outputs": [
    {
     "data": {
      "text/plain": [
       "(54.62045699825188, 10.248232775044336, 1.0)"
      ]
     },
     "execution_count": 14,
     "metadata": {},
     "output_type": "execute_result"
    },
    {
     "data": {
      "image/png": "[encoded data removed]",
      "text/plain": [
       "<Figure size 576x432 with 1 Axes>"
      ]
     },
     "metadata": {
      "needs_background": "light"
     },
     "output_type": "display_data"
    }
   ],
   "source": [
    "m = 1.0\n",
    "s0 = data['s0']\n",
    "noise = 1\n",
    "\n",
    "\n",
    "fig, ax = plt.subplots(figsize=(8, 6))\n",
    "rgrid = np.logspace(0, 2.15)\n",
    "ax.errorbar(s, b2, yerr=e_b2, xerr=e_s, fmt='o', alpha=0.4,color=\"blue\")\n",
    "\n",
    "\n",
    "ax.axhline(sig2, ls='-')\n",
    "ax.axvline(r0, ls='-')\n",
    "\n",
    "ax.axhline(2*sig2, ls=':')\n",
    "ax.axvline(r2, ls=':')\n",
    "\n",
    "ax.axhline(sig, ls=':')\n",
    "ax.axvline(r1, ls=':')\n",
    "\n",
    "ax.plot(rgrid, bfunc.bfunc00s(rgrid, r0, sig2, m), color=\"0.8\")\n",
    "ax.plot(rgrid, bfunc.bfunc03s(rgrid, r0, sig2, m, s0, noise), color=\"red\")\n",
    "ax.plot(rgrid, bfunc.bfunc04s(rgrid, r0, sig2, m, s0, noise, box_size), color=\"black\")\n",
    "\n",
    "\n",
    "ax.set(xscale='log', yscale='log', \n",
    "       xlabel='separation, pc',\n",
    "       ylabel=r'$b^2,\\ \\mathrm{km^2\\ s^{-2}}$'\n",
    "      )\n",
    "None\n",
    "\n",
    "sig2, r0, m"
   ]
  },
  {
   "cell_type": "code",
   "execution_count": 15,
   "metadata": {},
   "outputs": [
    {
     "data": {
      "text/plain": [
       "{'log10 r': array([0.  , 0.05, 0.1 , 0.15, 0.2 , 0.25, 0.3 , 0.35, 0.4 , 0.45, 0.5 ,\n",
       "        0.55, 0.6 , 0.65, 0.7 , 0.75, 0.8 , 0.85, 0.9 , 0.95, 1.  , 1.05,\n",
       "        1.1 , 1.15, 1.2 , 1.25, 1.3 , 1.35, 1.4 , 1.45, 1.5 , 1.55, 1.6 ,\n",
       "        1.65, 1.7 , 1.75, 1.8 , 1.85, 1.9 , 1.95, 2.  , 2.05, 2.1 , 2.15,\n",
       "        2.2 , 2.25, 2.3 ]),\n",
       " 'Sum dv^2': array([1.49356386e+04, 0.00000000e+00, 0.00000000e+00, 6.09917689e+04,\n",
       "        0.00000000e+00, 0.00000000e+00, 2.80081093e+05, 0.00000000e+00,\n",
       "        0.00000000e+00, 2.48112423e+05, 4.00682391e+05, 4.83242213e+05,\n",
       "        1.01275471e+06, 1.57850718e+06, 1.60972896e+06, 2.50384881e+06,\n",
       "        4.95929765e+06, 4.69521479e+06, 7.34547556e+06, 1.08676033e+07,\n",
       "        1.74027498e+07, 1.90067895e+07, 2.52176740e+07, 3.67879333e+07,\n",
       "        4.20869331e+07, 5.56495541e+07, 7.36167225e+07, 9.32977988e+07,\n",
       "        1.21530706e+08, 1.60100106e+08, 2.20202306e+08, 2.63356353e+08,\n",
       "        3.42080490e+08, 4.00009654e+08, 4.71352163e+08, 5.12263339e+08,\n",
       "        5.02210153e+08, 4.59800161e+08, 3.80564584e+08, 3.03992851e+08,\n",
       "        1.89849085e+08, 9.65572636e+07, 5.06272489e+07, 3.08280099e+07,\n",
       "        1.09897708e+07, 1.76765138e+06, 1.77312011e+04]),\n",
       " 'Sum weights': array([8.50888004e+02, 0.00000000e+00, 0.00000000e+00, 1.69525139e+03,\n",
       "        0.00000000e+00, 0.00000000e+00, 4.19671802e+03, 0.00000000e+00,\n",
       "        0.00000000e+00, 2.48462165e+03, 3.29682694e+03, 3.26311623e+03,\n",
       "        5.63490233e+03, 7.12528848e+03, 6.25631781e+03, 8.42972050e+03,\n",
       "        1.42173508e+04, 1.16875372e+04, 1.63429914e+04, 2.12933186e+04,\n",
       "        3.03014852e+04, 2.96369972e+04, 3.61265496e+04, 4.85843839e+04,\n",
       "        5.17652109e+04, 6.38854911e+04, 7.81327091e+04, 8.93891735e+04,\n",
       "        1.02701990e+05, 1.18934074e+05, 1.45422809e+05, 1.58899691e+05,\n",
       "        1.94450661e+05, 2.18974771e+05, 2.47151380e+05, 2.58636009e+05,\n",
       "        2.56426902e+05, 2.53613599e+05, 2.27817888e+05, 1.81264157e+05,\n",
       "        1.15018456e+05, 6.76366863e+04, 4.27095320e+04, 2.05483334e+04,\n",
       "        4.84326498e+03, 3.77173939e+02, 2.19177684e+00]),\n",
       " 'Sum w * dv^2': array([1.21492162e+03, 0.00000000e+00, 0.00000000e+00, 4.69687762e+03,\n",
       "        0.00000000e+00, 0.00000000e+00, 2.31069926e+04, 0.00000000e+00,\n",
       "        0.00000000e+00, 2.15549471e+04, 3.37035695e+04, 4.13771016e+04,\n",
       "        8.89388598e+04, 1.40463354e+05, 1.42967019e+05, 2.27823575e+05,\n",
       "        4.56286466e+05, 4.34585704e+05, 6.90265484e+05, 1.02997542e+06,\n",
       "        1.66388079e+06, 1.81416681e+06, 2.39556964e+06, 3.42896751e+06,\n",
       "        3.80654874e+06, 4.79509225e+06, 5.92430738e+06, 6.90756749e+06,\n",
       "        8.40548916e+06, 1.06321134e+07, 1.43580027e+07, 1.69040655e+07,\n",
       "        2.15505414e+07, 2.40023627e+07, 2.62979198e+07, 2.67785197e+07,\n",
       "        2.42318460e+07, 2.17716830e+07, 1.91182289e+07, 1.51249994e+07,\n",
       "        8.11171591e+06, 3.87552102e+06, 1.91726768e+06, 1.07621763e+06,\n",
       "        3.10544406e+05, 3.90922654e+04, 2.61188383e+02]),\n",
       " 'N pairs': array([   7837,       0,       0,   15611,       0,       0,   38777,\n",
       "              0,       0,   23020,   30614,   30337,   52710,   67039,\n",
       "          59179,   80416,  136986,  113670,  161118,  213306,  309880,\n",
       "         309445,  386093,  532709,  584943,  744490,  942631, 1114859,\n",
       "        1319481, 1561335, 1941021, 2143467, 2625939, 2925247, 3307994,\n",
       "        3587048, 3757292, 3839036, 3546144, 3058237, 2266345, 1447748,\n",
       "         927279,  482369,  144419,   16421,     144], dtype=int64),\n",
       " 'Unweighted B(r)': array([  1.9057852 ,          nan,          nan,   3.90697386,\n",
       "                 nan,          nan,   7.22286646,          nan,\n",
       "                 nan,  10.77812435,  13.0882077 ,  15.92913646,\n",
       "         19.21371115,  23.54610268,  27.20101652,  31.13620186,\n",
       "         36.20295249,  41.30566367,  45.59065752,  50.94841821,\n",
       "         56.15964192,  61.42218977,  65.31502511,  69.05821626,\n",
       "         71.95048586,  74.74855823,  78.09707355,  83.68573858,\n",
       "         92.10493063, 102.54052221, 113.44663778, 122.86466407,\n",
       "        130.26977772, 136.7438901 , 142.48882037, 142.80916758,\n",
       "        133.66279575, 119.76969238, 107.31785962,  99.40133834,\n",
       "         83.76883687,  66.69480023,  54.59764418,  63.90960014,\n",
       "         76.09643327, 107.64578144, 123.13334097]),\n",
       " 'Weighted B(r)': array([  1.42782789,          nan,          nan,   2.77060833,\n",
       "                 nan,          nan,   5.5059674 ,          nan,\n",
       "                 nan,   8.67534383,  10.22303268,  12.68024143,\n",
       "         15.78356723,  19.71335673,  22.85162353,  27.02623118,\n",
       "         32.0936349 ,  37.18368509,  42.23617742,  48.37082654,\n",
       "         54.91086578,  61.21290896,  66.31050191,  70.57756495,\n",
       "         73.53488325,  75.0576097 ,  75.82365252,  77.27521381,\n",
       "         81.8434885 ,  89.39501555,  98.73281078, 106.38199114,\n",
       "        110.82781273, 109.6124575 , 106.40409832, 103.53747666,\n",
       "         94.49806487,  85.84588173,  83.9189104 ,  83.44175508,\n",
       "         70.5253419 ,  57.29909657,  44.89086147,  52.37493536,\n",
       "         64.11881393, 103.64519234, 119.16741634]),\n",
       " 'Unweighted mean velocity': 3.564239747634069,\n",
       " 'Unweighted sigma^2': 54.62045699825188,\n",
       " 'Weighted mean velocity': 2.968567164140036,\n",
       " 'Weighted sigma^2': 44.03079065219734}"
      ]
     },
     "execution_count": 15,
     "metadata": {},
     "output_type": "execute_result"
    }
   ],
   "source": [
    "rslt"
   ]
  },
  {
   "cell_type": "code",
   "execution_count": 16,
   "metadata": {},
   "outputs": [],
   "source": [
    "N604 = { 'VF' : data,\n",
    "        'SF' : rslt,\n",
    "        's' : s,\n",
    "        'b2' : b2,\n",
    "        'sig2' : sig2,\n",
    "        'pc' : data['pc'],\n",
    "        'r0' : r0,\n",
    "        'r1' : r1,\n",
    "        'r2' : r2,\n",
    "        's0' : data['s0'],\n",
    "        'm' : m,\n",
    "        'pix' : data['pix'],\n",
    "        'box_size': box_size}"
   ]
  },
  {
   "cell_type": "code",
   "execution_count": 17,
   "metadata": {},
   "outputs": [],
   "source": [
    "f = open('Results\\\\SF'+ name + '.pkl',\"wb\")\n",
    "pickle.dump(N604,f)\n",
    "f.close()"
   ]
  },
  {
   "cell_type": "code",
   "execution_count": null,
   "metadata": {},
   "outputs": [],
   "source": []
  },
  {
   "cell_type": "code",
   "execution_count": 18,
   "metadata": {},
   "outputs": [
    {
     "name": "stdout",
     "output_type": "stream",
     "text": [
      "--- 13.422321081161499 seconds ---\n"
     ]
    }
   ],
   "source": [
    "print(\"--- %s seconds ---\" % (time.time()-start_time))"
   ]
  }
 ],
 "metadata": {
  "kernelspec": {
   "display_name": "Python 3",
   "language": "python",
   "name": "python3"
  },
  "language_info": {
   "codemirror_mode": {
    "name": "ipython",
    "version": 3
   },
   "file_extension": ".py",
   "mimetype": "text/x-python",
   "name": "python",
   "nbconvert_exporter": "python",
   "pygments_lexer": "ipython3",
   "version": "3.8.3"
  }
 },
 "nbformat": 4,
 "nbformat_minor": 4
}
