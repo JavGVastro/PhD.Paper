{
 "cells": [
  {
   "cell_type": "code",
   "execution_count": 1,
   "metadata": {},
   "outputs": [],
   "source": [
    "import time\n",
    "start_time=time.time()"
   ]
  },
  {
   "cell_type": "code",
   "execution_count": 2,
   "metadata": {},
   "outputs": [],
   "source": [
    "from pathlib import Path\n",
    "\n",
    "from matplotlib import pyplot as plt\n",
    "import seaborn as sns\n",
    "import numpy as np\n",
    "import pandas as pd\n",
    "from scipy import interpolate\n",
    "import json\n",
    "\n",
    "import strucfunc\n",
    "from strucfunc import sosflog\n",
    "import bfunc"
   ]
  },
  {
   "cell_type": "markdown",
   "metadata": {},
   "source": [
    "Input path: velocity fields folder"
   ]
  },
  {
   "cell_type": "code",
   "execution_count": 3,
   "metadata": {},
   "outputs": [],
   "source": [
    "text_file_0 = open(\"path-data.txt\", \"r\")\n",
    "path_data = text_file_0.read()"
   ]
  },
  {
   "cell_type": "code",
   "execution_count": 4,
   "metadata": {},
   "outputs": [],
   "source": [
    "datapath_data = Path(path_data).expanduser()"
   ]
  },
  {
   "cell_type": "markdown",
   "metadata": {},
   "source": [
    "#Output path: results folder location"
   ]
  },
  {
   "cell_type": "code",
   "execution_count": 5,
   "metadata": {},
   "outputs": [],
   "source": [
    "#text_file_1 = open(\"path-results.txt\", \"r\")\n",
    "#path_res = text_file_1.read()"
   ]
  },
  {
   "cell_type": "code",
   "execution_count": 6,
   "metadata": {},
   "outputs": [],
   "source": [
    "#datapath_res= Path(path_res).expanduser()"
   ]
  },
  {
   "cell_type": "markdown",
   "metadata": {},
   "source": [
    "File names"
   ]
  },
  {
   "cell_type": "code",
   "execution_count": 7,
   "metadata": {},
   "outputs": [],
   "source": [
    "name = 'TAU-HV-H'"
   ]
  },
  {
   "cell_type": "code",
   "execution_count": 8,
   "metadata": {},
   "outputs": [],
   "source": [
    "data = json.load(open(str(datapath_data) + '/' + name + \"-m.json\"))\n",
    "sb = np.array(data[\"sb\"])\n",
    "vv = np.array(data[\"vv\"])\n",
    "#ss = np.array(data[\"ss\"])"
   ]
  },
  {
   "cell_type": "code",
   "execution_count": 9,
   "metadata": {},
   "outputs": [
    {
     "name": "stderr",
     "output_type": "stream",
     "text": [
      "<ipython-input-9-24921bfa412a>:2: RuntimeWarning: invalid value encountered in less\n",
      "  m = ~np.isfinite(sb*vv) | (sb < 0.0)\n"
     ]
    }
   ],
   "source": [
    "## Replace spurious values in the arrays\n",
    "m = ~np.isfinite(sb*vv) | (sb < 0.0)\n",
    "\n",
    "sb[m] = 0.0\n",
    "vv[m] = np.nanmean(vv)\n",
    "#ss[m] = 0.0\n",
    "sb /= sb.max()\n",
    "good = (~m) & (sb > 0.001)"
   ]
  },
  {
   "cell_type": "code",
   "execution_count": 10,
   "metadata": {},
   "outputs": [
    {
     "name": "stderr",
     "output_type": "stream",
     "text": [
      "C:\\Users\\ZAINTEL2\\Documents\\Aeon\\PhD\\python\\git-hub\\structure-functions\\strucfunc.py:83: RuntimeWarning: invalid value encountered in true_divide\n",
      "  'Unweighted B(r)': sf/nsf,\n",
      "C:\\Users\\ZAINTEL2\\Documents\\Aeon\\PhD\\python\\git-hub\\structure-functions\\strucfunc.py:84: RuntimeWarning: invalid value encountered in true_divide\n",
      "  'Weighted B(r)': wsf/weight}\n"
     ]
    }
   ],
   "source": [
    "rslt = strucfunc.strucfunc_numba_parallel(vv, wmap=sb, dlogr=0.05)"
   ]
  },
  {
   "cell_type": "code",
   "execution_count": 11,
   "metadata": {},
   "outputs": [
    {
     "data": {
      "text/plain": [
       "{'log10 r': array([0.  , 0.05, 0.1 , 0.15, 0.2 , 0.25, 0.3 , 0.35, 0.4 , 0.45, 0.5 ,\n",
       "        0.55, 0.6 , 0.65, 0.7 , 0.75, 0.8 , 0.85, 0.9 , 0.95, 1.  , 1.05,\n",
       "        1.1 , 1.15, 1.2 , 1.25, 1.3 , 1.35, 1.4 , 1.45, 1.5 , 1.55, 1.6 ,\n",
       "        1.65, 1.7 , 1.75, 1.8 , 1.85, 1.9 , 1.95, 2.  , 2.05]),\n",
       " 'Sum dv^2': array([6.89789180e+03, 0.00000000e+00, 0.00000000e+00, 2.42380623e+04,\n",
       "        0.00000000e+00, 0.00000000e+00, 9.30458441e+04, 0.00000000e+00,\n",
       "        0.00000000e+00, 7.48488303e+04, 1.08299120e+05, 1.24043154e+05,\n",
       "        2.43733607e+05, 3.48571841e+05, 3.40390767e+05, 4.83295311e+05,\n",
       "        8.66027667e+05, 7.44313759e+05, 1.10372007e+06, 1.53632951e+06,\n",
       "        2.36670528e+06, 2.52179228e+06, 3.34948867e+06, 4.94313604e+06,\n",
       "        5.67972582e+06, 7.51295841e+06, 9.74747441e+06, 1.16958611e+07,\n",
       "        1.40159259e+07, 1.66534852e+07, 2.05453286e+07, 2.21027763e+07,\n",
       "        2.55696215e+07, 2.55559882e+07, 2.48673283e+07, 2.14107930e+07,\n",
       "        1.62843356e+07, 1.18371305e+07, 8.04093106e+06, 3.58539248e+06,\n",
       "        6.88070693e+05, 1.40621495e+04]),\n",
       " 'Sum weights': array([3.21376919e+02, 0.00000000e+00, 0.00000000e+00, 6.40609093e+02,\n",
       "        0.00000000e+00, 0.00000000e+00, 1.59039404e+03, 0.00000000e+00,\n",
       "        0.00000000e+00, 9.46608512e+02, 1.25462769e+03, 1.24508554e+03,\n",
       "        2.15893479e+03, 2.73793992e+03, 2.40200040e+03, 3.25044162e+03,\n",
       "        5.48297142e+03, 4.49559131e+03, 6.28936046e+03, 8.15429097e+03,\n",
       "        1.15242199e+04, 1.11158121e+04, 1.33660786e+04, 1.75507200e+04,\n",
       "        1.82575020e+04, 2.18684466e+04, 2.58628591e+04, 2.83466605e+04,\n",
       "        3.10144664e+04, 3.37576293e+04, 3.81725480e+04, 3.76857902e+04,\n",
       "        4.01025811e+04, 3.72733446e+04, 3.38124385e+04, 2.85066332e+04,\n",
       "        2.29827920e+04, 1.72894843e+04, 1.03346526e+04, 4.33371502e+03,\n",
       "        6.99026317e+02, 8.09092954e+00]),\n",
       " 'Sum w * dv^2': array([1.84785866e+02, 0.00000000e+00, 0.00000000e+00, 7.31735895e+02,\n",
       "        0.00000000e+00, 0.00000000e+00, 3.13401777e+03, 0.00000000e+00,\n",
       "        0.00000000e+00, 2.67533924e+03, 4.18699225e+03, 4.94140098e+03,\n",
       "        1.00891524e+04, 1.51246592e+04, 1.53316619e+04, 2.28618626e+04,\n",
       "        4.36584830e+04, 3.99403664e+04, 6.12713558e+04, 8.83911437e+04,\n",
       "        1.38656575e+05, 1.47344366e+05, 1.90013993e+05, 2.66776679e+05,\n",
       "        2.87222083e+05, 3.54447082e+05, 4.30078499e+05, 4.79685982e+05,\n",
       "        5.34849075e+05, 5.91766220e+05, 6.80324959e+05, 6.69593665e+05,\n",
       "        6.86303344e+05, 5.99590825e+05, 5.26166177e+05, 4.00766203e+05,\n",
       "        3.09615206e+05, 2.32827197e+05, 1.67118713e+05, 8.29725507e+04,\n",
       "        7.67947688e+03, 7.27266129e+01]),\n",
       " 'N pairs': array([   5505,       0,       0,   10962,       0,       0,   27191,\n",
       "              0,       0,   16180,   21472,   21359,   37084,   47224,\n",
       "          41613,   56671,   96572,   80166,  113704,  150365,  218151,\n",
       "         217263,  270097,  370294,  403046,  507474,  632257,  733112,\n",
       "         846862,  975355, 1170857, 1234145, 1422343, 1460693, 1471936,\n",
       "        1354528, 1134869,  853900,  522067,  245921,   58292,    1606],\n",
       "       dtype=int64),\n",
       " 'Unweighted B(r)': array([ 1.25302303,         nan,         nan,  2.21109855,         nan,\n",
       "                nan,  3.42193535,         nan,         nan,  4.62600929,\n",
       "         5.04373697,  5.80753567,  6.57247349,  7.38124345,  8.17991414,\n",
       "         8.52808863,  8.96768905,  9.28465632,  9.706959  , 10.21733457,\n",
       "        10.84893162, 11.60709502, 12.4010584 , 13.34921991, 14.09200394,\n",
       "        14.80461741, 15.41694976, 15.95371659, 16.55042486, 17.07428081,\n",
       "        17.54725694, 17.90938364, 17.97711348, 17.49579703, 16.89429992,\n",
       "        15.80682937, 14.34908836, 13.86243174, 15.4021056 , 14.57944819,\n",
       "        11.80386147,  8.75600841]),\n",
       " 'Weighted B(r)': array([ 0.57498176,         nan,         nan,  1.14225025,         nan,\n",
       "                nan,  1.970592  ,         nan,         nan,  2.8262362 ,\n",
       "         3.33723884,  3.96872408,  4.6732085 ,  5.52410194,  6.38287233,\n",
       "         7.03346355,  7.96255893,  8.88434104,  9.7420646 , 10.83983195,\n",
       "        12.03175369, 13.25538474, 14.21613609, 15.20032673, 15.73172954,\n",
       "        16.20815087, 16.62919391, 16.92213378, 17.24514839, 17.52985126,\n",
       "        17.82236174, 17.76780219, 17.11369504, 16.08631667, 15.56132003,\n",
       "        14.05869998, 13.47160982, 13.46640493, 16.17071419, 19.14582531,\n",
       "        10.98596246,  8.98865978])}"
      ]
     },
     "execution_count": 11,
     "metadata": {},
     "output_type": "execute_result"
    }
   ],
   "source": [
    "rslt"
   ]
  },
  {
   "cell_type": "code",
   "execution_count": 12,
   "metadata": {},
   "outputs": [],
   "source": [
    "box_size = np.sqrt(sb.shape[0] * sb.shape[1]) * data['pix'] * data['pc']"
   ]
  },
  {
   "cell_type": "code",
   "execution_count": 13,
   "metadata": {},
   "outputs": [],
   "source": [
    "#good = (~m) & (sb > 0.001)\n",
    "rslt[\"Unweighted mean velocity\"] = np.mean(vv[good])\n",
    "rslt[\"Unweighted sigma^2\"] = np.var(vv[good])\n",
    "v0w = rslt[\"Weighted mean velocity\"] = np.average(vv, weights=sb)\n",
    "rslt[\"Weighted sigma^2\"] = np.average((vv - v0w)**2, weights=sb)"
   ]
  },
  {
   "cell_type": "code",
   "execution_count": 14,
   "metadata": {},
   "outputs": [],
   "source": [
    "b2 = rslt['Unweighted B(r)']\n",
    "b2w = rslt['Weighted B(r)']\n",
    "e_b2 = b2  *.1\n",
    "e_b2w = b2w  *.1\n",
    "\n",
    "s = 10**rslt['log10 r'] * data['pix'] * data['pc']\n",
    "e_s = s  *.1\n",
    "sig2 = rslt['Unweighted sigma^2']\n",
    "sig2w = rslt['Weighted sigma^2']\n",
    "\n",
    "sig = sig2**0.5"
   ]
  },
  {
   "cell_type": "code",
   "execution_count": 15,
   "metadata": {},
   "outputs": [
    {
     "data": {
      "text/plain": [
       "3.0231955894642346"
      ]
     },
     "execution_count": 15,
     "metadata": {},
     "output_type": "execute_result"
    }
   ],
   "source": [
    "r0 = np.interp(sig2, b2, s)\n",
    "r0"
   ]
  },
  {
   "cell_type": "code",
   "execution_count": 16,
   "metadata": {},
   "outputs": [
    {
     "name": "stderr",
     "output_type": "stream",
     "text": [
      "C:\\Users\\ZAINTEL2\\anaconda3\\lib\\site-packages\\numpy\\lib\\function_base.py:1405: RuntimeWarning: invalid value encountered in remainder\n",
      "  xp = xp % period\n"
     ]
    },
    {
     "data": {
      "text/plain": [
       "1.0702230820834315"
      ]
     },
     "execution_count": 16,
     "metadata": {},
     "output_type": "execute_result"
    }
   ],
   "source": [
    "r1 = np.interp(sig, b2, s,period = 360)\n",
    "r1"
   ]
  },
  {
   "cell_type": "code",
   "execution_count": 17,
   "metadata": {},
   "outputs": [
    {
     "data": {
      "text/plain": [
       "30.900626058756195"
      ]
     },
     "execution_count": 17,
     "metadata": {},
     "output_type": "execute_result"
    }
   ],
   "source": [
    "r2 = np.interp(2*sig2, b2, s, period = 360)\n",
    "r2"
   ]
  },
  {
   "cell_type": "code",
   "execution_count": 18,
   "metadata": {},
   "outputs": [
    {
     "data": {
      "text/plain": [
       "(7.864699245044958, 3.0231955894642346, 1.0)"
      ]
     },
     "execution_count": 18,
     "metadata": {},
     "output_type": "execute_result"
    },
    {
     "data": {
      "image/png": "[encoded data removed]",
      "text/plain": [
       "<Figure size 576x432 with 1 Axes>"
      ]
     },
     "metadata": {
      "needs_background": "light"
     },
     "output_type": "display_data"
    }
   ],
   "source": [
    "m = 1.0\n",
    "s0 = data['s0']\n",
    "noise = 1\n",
    "\n",
    "\n",
    "fig, ax = plt.subplots(figsize=(8, 6))\n",
    "rgrid = np.logspace(0, 2.15)\n",
    "ax.errorbar(s, b2, yerr=e_b2, xerr=e_s, fmt='o', alpha=0.4,color=\"blue\")\n",
    "ax.errorbar(s, b2w, yerr=e_b2w, xerr=e_s, fmt='x', alpha=0.4,color=\"green\")\n",
    "\n",
    "ax.axhline(sig2, ls='-')\n",
    "ax.axvline(r0, ls='-')\n",
    "\n",
    "ax.axhline(2*sig2, ls=':')\n",
    "ax.axvline(r2, ls=':')\n",
    "\n",
    "ax.axhline(sig, ls=':')\n",
    "ax.axvline(r1, ls=':')\n",
    "\n",
    "ax.plot(rgrid, bfunc.bfunc00s(rgrid, r0, sig2, m), color=\"0.8\")\n",
    "ax.plot(rgrid, bfunc.bfunc03s(rgrid, r0, sig2, m, s0, noise), color=\"red\")\n",
    "ax.plot(rgrid, bfunc.bfunc04s(rgrid, r0, sig2, m, s0, noise, box_size), color=\"black\")\n",
    "\n",
    "\n",
    "ax.set(xscale='log', yscale='log', \n",
    "       xlabel='separation, pc',\n",
    "       ylabel=r'$b^2,\\ \\mathrm{km^2\\ s^{-2}}$'\n",
    "      )\n",
    "None\n",
    "\n",
    "sig2, r0, m"
   ]
  },
  {
   "cell_type": "code",
   "execution_count": 19,
   "metadata": {},
   "outputs": [],
   "source": [
    "results = {\n",
    "    'sig2' : sig2,\n",
    "        'r0' : r0,\n",
    "        'r1' : r1,\n",
    "        'r2' : r2,\n",
    "          } "
   ]
  },
  {
   "cell_type": "code",
   "execution_count": 20,
   "metadata": {},
   "outputs": [],
   "source": [
    "data_export = {   \n",
    "        's' : s,\n",
    "        'b2' : b2,\n",
    "        'pc' : data['pc'],\n",
    "        'pix' : data['pix'],\n",
    "        'box_size': box_size,\n",
    "         'results':results,\n",
    "         'SF' : rslt,\n",
    "         'VF' : data,\n",
    "}"
   ]
  },
  {
   "cell_type": "code",
   "execution_count": 21,
   "metadata": {},
   "outputs": [],
   "source": [
    "class MyEncoder(json.JSONEncoder):\n",
    "    def default(self, obj):\n",
    "        if isinstance(obj, np.integer):\n",
    "            return int(obj)\n",
    "        elif isinstance(obj, np.floating):\n",
    "            return float(obj)\n",
    "        elif isinstance(obj, np.ndarray):\n",
    "            return obj.tolist()\n",
    "        else:\n",
    "            return super(MyEncoder, self).default(obj)"
   ]
  },
  {
   "cell_type": "code",
   "execution_count": 22,
   "metadata": {},
   "outputs": [],
   "source": [
    "jsonfilename =\"sf-\" + name +\".json\"\n",
    "with open(jsonfilename, \"w\") as f:\n",
    "    json.dump(data_export, fp=f, indent=3, cls=MyEncoder)"
   ]
  },
  {
   "cell_type": "code",
   "execution_count": 23,
   "metadata": {},
   "outputs": [
    {
     "name": "stdout",
     "output_type": "stream",
     "text": [
      "--- 8.765007734298706 seconds ---\n"
     ]
    }
   ],
   "source": [
    "print(\"--- %s seconds ---\" % (time.time()-start_time))"
   ]
  },
  {
   "cell_type": "code",
   "execution_count": 24,
   "metadata": {},
   "outputs": [
    {
     "name": "stderr",
     "output_type": "stream",
     "text": [
      "[NbConvertApp] Converting notebook sf-TAU-HV-H.ipynb to script\n",
      "[NbConvertApp] Writing 3494 bytes to sf-TAU-HV-H.py\n"
     ]
    }
   ],
   "source": [
    "!jupyter nbconvert --to script --no-prompt sf-TAU-HV-H.ipynb"
   ]
  }
 ],
 "metadata": {
  "kernelspec": {
   "display_name": "Python 3",
   "language": "python",
   "name": "python3"
  },
  "language_info": {
   "codemirror_mode": {
    "name": "ipython",
    "version": 3
   },
   "file_extension": ".py",
   "mimetype": "text/x-python",
   "name": "python",
   "nbconvert_exporter": "python",
   "pygments_lexer": "ipython3",
   "version": "3.8.3"
  }
 },
 "nbformat": 4,
 "nbformat_minor": 4
}
