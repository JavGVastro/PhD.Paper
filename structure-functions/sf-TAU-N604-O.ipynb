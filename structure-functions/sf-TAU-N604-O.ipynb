{
 "cells": [
  {
   "cell_type": "code",
   "execution_count": 1,
   "metadata": {},
   "outputs": [],
   "source": [
    "import time\n",
    "start_time=time.time()"
   ]
  },
  {
   "cell_type": "code",
   "execution_count": 2,
   "metadata": {},
   "outputs": [],
   "source": [
    "from pathlib import Path\n",
    "\n",
    "from matplotlib import pyplot as plt\n",
    "import seaborn as sns\n",
    "import numpy as np\n",
    "import pandas as pd\n",
    "from scipy import interpolate\n",
    "import pickle\n",
    "import json\n",
    "\n",
    "import strucfunc\n",
    "from strucfunc import sosflog\n",
    "import bfunc"
   ]
  },
  {
   "cell_type": "markdown",
   "metadata": {},
   "source": [
    "Input path: velocity fields folder"
   ]
  },
  {
   "cell_type": "code",
   "execution_count": 3,
   "metadata": {},
   "outputs": [],
   "source": [
    "text_file_0 = open(\"path-data.txt\", \"r\")\n",
    "path_data = text_file_0.read()"
   ]
  },
  {
   "cell_type": "code",
   "execution_count": 4,
   "metadata": {},
   "outputs": [],
   "source": [
    "datapath_data = Path(path_data).expanduser()"
   ]
  },
  {
   "cell_type": "markdown",
   "metadata": {},
   "source": [
    "#Output path: results folder location"
   ]
  },
  {
   "cell_type": "code",
   "execution_count": 5,
   "metadata": {},
   "outputs": [],
   "source": [
    "#text_file_1 = open(\"path-results.txt\", \"r\")\n",
    "#path_res = text_file_1.read()"
   ]
  },
  {
   "cell_type": "code",
   "execution_count": 6,
   "metadata": {},
   "outputs": [],
   "source": [
    "#datapath_res= Path(path_res).expanduser()"
   ]
  },
  {
   "cell_type": "markdown",
   "metadata": {},
   "source": [
    "File names"
   ]
  },
  {
   "cell_type": "code",
   "execution_count": 7,
   "metadata": {},
   "outputs": [],
   "source": [
    "name = 'TAU-N604-O'"
   ]
  },
  {
   "cell_type": "code",
   "execution_count": 8,
   "metadata": {},
   "outputs": [],
   "source": [
    "data = json.load(open(str(datapath_data) + '/' + name + \"-m.json\"))\n",
    "sb = np.array(data[\"sb\"])\n",
    "vv = np.array(data[\"vv\"])\n",
    "ss = np.array(data[\"ss\"])"
   ]
  },
  {
   "cell_type": "code",
   "execution_count": 9,
   "metadata": {},
   "outputs": [
    {
     "name": "stderr",
     "output_type": "stream",
     "text": [
      "<ipython-input-9-56ae9ee8bd98>:2: RuntimeWarning: invalid value encountered in less\n",
      "  m = ~np.isfinite(sb*vv*ss) | (sb < 0.0)\n"
     ]
    }
   ],
   "source": [
    "## Replace spurious values in the arrays\n",
    "m = ~np.isfinite(sb*vv*ss) | (sb < 0.0)\n",
    "\n",
    "sb[m] = 0.0\n",
    "vv[m] = np.nanmean(vv)\n",
    "ss[m] = 0.0\n",
    "sb /= sb.max()\n",
    "good = (~m) & (sb > 0.001)"
   ]
  },
  {
   "cell_type": "code",
   "execution_count": 10,
   "metadata": {},
   "outputs": [
    {
     "name": "stderr",
     "output_type": "stream",
     "text": [
      "C:\\Users\\ZAINTEL2\\Documents\\Aeon\\PhD\\python\\git-hub\\structure-functions\\strucfunc.py:83: RuntimeWarning: invalid value encountered in true_divide\n",
      "  'Unweighted B(r)': sf/nsf,\n",
      "C:\\Users\\ZAINTEL2\\Documents\\Aeon\\PhD\\python\\git-hub\\structure-functions\\strucfunc.py:84: RuntimeWarning: invalid value encountered in true_divide\n",
      "  'Weighted B(r)': wsf/weight}\n"
     ]
    }
   ],
   "source": [
    "rslt = strucfunc.strucfunc_numba_parallel(vv, wmap=sb, dlogr=0.05)"
   ]
  },
  {
   "cell_type": "code",
   "execution_count": 11,
   "metadata": {},
   "outputs": [
    {
     "data": {
      "text/plain": [
       "{'log10 r': array([0.  , 0.05, 0.1 , 0.15, 0.2 , 0.25, 0.3 , 0.35, 0.4 , 0.45, 0.5 ,\n",
       "        0.55, 0.6 , 0.65, 0.7 , 0.75, 0.8 , 0.85, 0.9 , 0.95, 1.  , 1.05,\n",
       "        1.1 , 1.15, 1.2 , 1.25, 1.3 , 1.35, 1.4 , 1.45, 1.5 , 1.55, 1.6 ,\n",
       "        1.65, 1.7 , 1.75, 1.8 , 1.85, 1.9 , 1.95, 2.  , 2.05, 2.1 , 2.15,\n",
       "        2.2 , 2.25, 2.3 ]),\n",
       " 'Sum dv^2': array([1.23762883e+04, 0.00000000e+00, 0.00000000e+00, 4.81836919e+04,\n",
       "        0.00000000e+00, 0.00000000e+00, 2.31534707e+05, 0.00000000e+00,\n",
       "        0.00000000e+00, 2.14962281e+05, 3.34590335e+05, 4.08092012e+05,\n",
       "        8.82472070e+05, 1.39462628e+06, 1.42649774e+06, 2.29499243e+06,\n",
       "        4.63977416e+06, 4.45178318e+06, 7.24146010e+06, 1.10283825e+07,\n",
       "        1.84127443e+07, 2.06488938e+07, 2.82879804e+07, 4.19606714e+07,\n",
       "        4.89139917e+07, 6.39150960e+07, 8.29504818e+07, 9.91783954e+07,\n",
       "        1.22112896e+08, 1.53448012e+08, 2.07772847e+08, 2.50622548e+08,\n",
       "        3.32883831e+08, 4.01005376e+08, 4.81911053e+08, 5.39647674e+08,\n",
       "        5.47483897e+08, 5.00463665e+08, 4.31539181e+08, 3.54339513e+08,\n",
       "        2.32534124e+08, 1.33399591e+08, 6.91018287e+07, 3.03666781e+07,\n",
       "        1.08845973e+07, 8.10347018e+05, 4.83249010e+03]),\n",
       " 'Sum weights': array([6.21816489e+02, 0.00000000e+00, 0.00000000e+00, 1.23906112e+03,\n",
       "        0.00000000e+00, 0.00000000e+00, 3.06716837e+03, 0.00000000e+00,\n",
       "        0.00000000e+00, 1.81805616e+03, 2.41130767e+03, 2.38760006e+03,\n",
       "        4.12437604e+03, 5.21348699e+03, 4.57250522e+03, 6.15815783e+03,\n",
       "        1.03662292e+04, 8.49824886e+03, 1.18566493e+04, 1.53831081e+04,\n",
       "        2.17796991e+04, 2.11630303e+04, 2.56352764e+04, 3.42099090e+04,\n",
       "        3.61441114e+04, 4.42457206e+04, 5.35279898e+04, 6.05927873e+04,\n",
       "        6.86811651e+04, 7.85436421e+04, 9.48031424e+04, 1.02351929e+05,\n",
       "        1.23715524e+05, 1.37307328e+05, 1.52517212e+05, 1.57440563e+05,\n",
       "        1.55505729e+05, 1.56393176e+05, 1.46430429e+05, 1.20085325e+05,\n",
       "        8.13746910e+04, 5.19447090e+04, 3.78732401e+04, 2.04374649e+04,\n",
       "        4.00644078e+03, 9.29829792e+01, 2.60533319e-01]),\n",
       " 'Sum w * dv^2': array([4.48365974e+02, 0.00000000e+00, 0.00000000e+00, 1.81190280e+03,\n",
       "        0.00000000e+00, 0.00000000e+00, 9.22824761e+03, 0.00000000e+00,\n",
       "        0.00000000e+00, 8.71135365e+03, 1.39295428e+04, 1.72542522e+04,\n",
       "        3.73782530e+04, 5.97003929e+04, 6.21380888e+04, 9.97087436e+04,\n",
       "        2.03582211e+05, 1.97536783e+05, 3.19095690e+05, 4.86611851e+05,\n",
       "        8.06823894e+05, 9.02441176e+05, 1.21941350e+06, 1.78662985e+06,\n",
       "        2.02159241e+06, 2.58760361e+06, 3.24202233e+06, 3.76613523e+06,\n",
       "        4.45521726e+06, 5.41827089e+06, 7.14538179e+06, 8.49761692e+06,\n",
       "        1.10807314e+07, 1.23188222e+07, 1.27726464e+07, 1.21979932e+07,\n",
       "        1.09089183e+07, 1.05086026e+07, 1.03112513e+07, 8.22197359e+06,\n",
       "        4.83363388e+06, 2.25256633e+06, 1.03844148e+06, 4.23184184e+05,\n",
       "        1.19736783e+05, 5.48726734e+03, 1.26469888e+01]),\n",
       " 'N pairs': array([   8566,       0,       0,   17073,       0,       0,   42342,\n",
       "              0,       0,   25181,   33468,   33141,   57653,   73280,\n",
       "          64648,   87852,  149568,  124185,  175792,  232508,  337371,\n",
       "         336487,  419013,  576795,  631016,  800097, 1006568, 1181487,\n",
       "        1386997, 1628903, 2009984, 2203336, 2681815, 2967750, 3339503,\n",
       "        3645822, 3880216, 4006213, 3768466, 3407478, 2773483, 1979625,\n",
       "        1417713,  841592,  221517,   11258,     104], dtype=int64),\n",
       " 'Unweighted B(r)': array([  1.44481535,          nan,          nan,   2.82221589,\n",
       "                 nan,          nan,   5.46820432,          nan,\n",
       "                 nan,   8.53668564,   9.99732086,  12.31381104,\n",
       "         15.30661145,  19.03147213,  22.06561286,  26.12339419,\n",
       "         31.02116868,  35.84799434,  41.19334269,  47.4322711 ,\n",
       "         54.57714006,  61.36609669,  67.51098505,  72.74798051,\n",
       "         77.51624641,  79.88418403,  82.40921806,  83.9437043 ,\n",
       "         88.04121117,  94.20328376, 103.37039855, 113.74685862,\n",
       "        124.12632166, 135.12100937, 144.30621943, 148.01810789,\n",
       "        141.09624233, 124.9218814 , 114.51322126, 103.98878952,\n",
       "         83.84191436,  67.38629323,  48.74176131,  36.08242248,\n",
       "         49.13662296,  71.97966053,  46.46625096]),\n",
       " 'Weighted B(r)': array([ 0.72105835,         nan,         nan,  1.46231915,         nan,\n",
       "                nan,  3.00871895,         nan,         nan,  4.79157566,\n",
       "         5.77675879,  7.22660904,  9.06276552, 11.4511445 , 13.58950637,\n",
       "        16.19132642, 19.63898424, 23.24441023, 26.91280499, 31.6328694 ,\n",
       "        37.0447677 , 42.64234202, 47.56779207, 52.22550738, 55.93144577,\n",
       "        58.48257349, 60.56686134, 62.15484375, 64.86810839, 68.98420736,\n",
       "        75.37072723, 83.02351498, 89.56621668, 89.71714986, 83.74560586,\n",
       "        77.47681388, 70.15123088, 67.19348525, 70.41740827, 68.46776285,\n",
       "        59.3997202 , 43.36469233, 27.41887088, 20.70629533, 29.88607341,\n",
       "        59.01367523, 48.54269255])}"
      ]
     },
     "execution_count": 11,
     "metadata": {},
     "output_type": "execute_result"
    }
   ],
   "source": [
    "rslt"
   ]
  },
  {
   "cell_type": "code",
   "execution_count": 12,
   "metadata": {},
   "outputs": [],
   "source": [
    "box_size = np.sqrt(sb.shape[0] * sb.shape[1]) * data['pix'] * data['pc']"
   ]
  },
  {
   "cell_type": "code",
   "execution_count": 13,
   "metadata": {},
   "outputs": [],
   "source": [
    "#good = (~m) & (sb > 0.001)\n",
    "rslt[\"Unweighted mean velocity\"] = np.mean(vv[good])\n",
    "rslt[\"Unweighted sigma^2\"] = np.var(vv[good])\n",
    "v0w = rslt[\"Weighted mean velocity\"] = np.average(vv, weights=sb)\n",
    "rslt[\"Weighted sigma^2\"] = np.average((vv - v0w)**2, weights=sb)"
   ]
  },
  {
   "cell_type": "code",
   "execution_count": 14,
   "metadata": {},
   "outputs": [],
   "source": [
    "b2 = rslt['Unweighted B(r)']\n",
    "b2w = rslt['Weighted B(r)']\n",
    "e_b2 = b2  *.1\n",
    "e_b2w = b2w  *.1\n",
    "\n",
    "s = 10**rslt['log10 r'] * data['pix'] * data['pc']\n",
    "e_s = s  *.1\n",
    "sig2 = rslt['Unweighted sigma^2']\n",
    "sig2w = rslt['Weighted sigma^2']\n",
    "\n",
    "sig = sig2**0.5"
   ]
  },
  {
   "cell_type": "code",
   "execution_count": 15,
   "metadata": {},
   "outputs": [
    {
     "data": {
      "text/plain": [
       "53.85218388319566"
      ]
     },
     "execution_count": 15,
     "metadata": {},
     "output_type": "execute_result"
    }
   ],
   "source": [
    "sig2"
   ]
  },
  {
   "cell_type": "code",
   "execution_count": 16,
   "metadata": {},
   "outputs": [
    {
     "name": "stderr",
     "output_type": "stream",
     "text": [
      "C:\\Users\\ZAINTEL2\\anaconda3\\lib\\site-packages\\numpy\\lib\\function_base.py:1405: RuntimeWarning: invalid value encountered in remainder\n",
      "  xp = xp % period\n"
     ]
    },
    {
     "data": {
      "text/plain": [
       "8.807948704140209"
      ]
     },
     "execution_count": 16,
     "metadata": {},
     "output_type": "execute_result"
    }
   ],
   "source": [
    "r0 = np.interp(sig2, b2, s, period=1)\n",
    "r0"
   ]
  },
  {
   "cell_type": "code",
   "execution_count": 17,
   "metadata": {},
   "outputs": [
    {
     "data": {
      "text/plain": [
       "2.6438467771606247"
      ]
     },
     "execution_count": 17,
     "metadata": {},
     "output_type": "execute_result"
    }
   ],
   "source": [
    "r1 = np.interp(sig, b2, s,period = 360)\n",
    "r1"
   ]
  },
  {
   "cell_type": "code",
   "execution_count": 18,
   "metadata": {},
   "outputs": [
    {
     "data": {
      "text/plain": [
       "72.74095453259598"
      ]
     },
     "execution_count": 18,
     "metadata": {},
     "output_type": "execute_result"
    }
   ],
   "source": [
    "r2 = np.interp(2*sig2, b2, s, period = 360)\n",
    "r2"
   ]
  },
  {
   "cell_type": "code",
   "execution_count": 19,
   "metadata": {},
   "outputs": [
    {
     "data": {
      "text/plain": [
       "(53.85218388319566, 8.807948704140209, 1.0)"
      ]
     },
     "execution_count": 19,
     "metadata": {},
     "output_type": "execute_result"
    },
    {
     "data": {
      "image/png": "[encoded data removed]",
      "text/plain": [
       "<Figure size 576x432 with 1 Axes>"
      ]
     },
     "metadata": {
      "needs_background": "light"
     },
     "output_type": "display_data"
    }
   ],
   "source": [
    "m = 1.0\n",
    "s0 = data['s0']\n",
    "noise = 1\n",
    "\n",
    "\n",
    "fig, ax = plt.subplots(figsize=(8, 6))\n",
    "rgrid = np.logspace(0, 2.15)\n",
    "ax.errorbar(s, b2, yerr=e_b2, xerr=e_s, fmt='o', alpha=0.4,color=\"blue\")\n",
    "ax.errorbar(s, b2w, yerr=e_b2w, xerr=e_s, fmt='x', alpha=0.4,color=\"green\")\n",
    "\n",
    "ax.axhline(sig2, ls='-')\n",
    "ax.axvline(r0, ls='-')\n",
    "\n",
    "ax.axhline(2*sig2, ls=':')\n",
    "ax.axvline(r2, ls=':')\n",
    "\n",
    "ax.axhline(sig, ls=':')\n",
    "ax.axvline(r1, ls=':')\n",
    "\n",
    "ax.plot(rgrid, bfunc.bfunc00s(rgrid, r0, sig2, m), color=\"0.8\")\n",
    "ax.plot(rgrid, bfunc.bfunc03s(rgrid, r0, sig2, m, s0, noise), color=\"red\")\n",
    "ax.plot(rgrid, bfunc.bfunc04s(rgrid, r0, sig2, m, s0, noise, box_size), color=\"black\")\n",
    "\n",
    "\n",
    "ax.set(xscale='log', yscale='log', \n",
    "       xlabel='separation, pc',\n",
    "       ylabel=r'$b^2,\\ \\mathrm{km^2\\ s^{-2}}$'\n",
    "      )\n",
    "None\n",
    "\n",
    "sig2, r0, m"
   ]
  },
  {
   "cell_type": "code",
   "execution_count": 20,
   "metadata": {},
   "outputs": [],
   "source": [
    "results = {\n",
    "    'sig2' : sig2,\n",
    "        'r0' : r0,\n",
    "        'r1' : r1,\n",
    "        'r2' : r2,\n",
    "          } "
   ]
  },
  {
   "cell_type": "code",
   "execution_count": 21,
   "metadata": {},
   "outputs": [],
   "source": [
    "data_export = {   \n",
    "        's' : s,\n",
    "        'b2' : b2,\n",
    "        'pc' : data['pc'],\n",
    "        'pix' : data['pix'],\n",
    "        'box_size': box_size,\n",
    "         'results':results,\n",
    "         'SF' : rslt,\n",
    "         'VF' : data,\n",
    "}"
   ]
  },
  {
   "cell_type": "code",
   "execution_count": 22,
   "metadata": {},
   "outputs": [],
   "source": [
    "class MyEncoder(json.JSONEncoder):\n",
    "    def default(self, obj):\n",
    "        if isinstance(obj, np.integer):\n",
    "            return int(obj)\n",
    "        elif isinstance(obj, np.floating):\n",
    "            return float(obj)\n",
    "        elif isinstance(obj, np.ndarray):\n",
    "            return obj.tolist()\n",
    "        else:\n",
    "            return super(MyEncoder, self).default(obj)"
   ]
  },
  {
   "cell_type": "code",
   "execution_count": 23,
   "metadata": {},
   "outputs": [],
   "source": [
    "jsonfilename =\"sf-\" + name +\".json\"\n",
    "with open(jsonfilename, \"w\") as f:\n",
    "    json.dump(data_export, fp=f, indent=3, cls=MyEncoder)"
   ]
  },
  {
   "cell_type": "code",
   "execution_count": 24,
   "metadata": {},
   "outputs": [
    {
     "name": "stdout",
     "output_type": "stream",
     "text": [
      "--- 13.368179559707642 seconds ---\n"
     ]
    }
   ],
   "source": [
    "print(\"--- %s seconds ---\" % (time.time()-start_time))"
   ]
  },
  {
   "cell_type": "code",
   "execution_count": 25,
   "metadata": {},
   "outputs": [
    {
     "name": "stderr",
     "output_type": "stream",
     "text": [
      "[NbConvertApp] Converting notebook sf-TAU-N604-O.ipynb to script\n",
      "[NbConvertApp] Writing 3506 bytes to sf-TAU-N604-O.py\n"
     ]
    }
   ],
   "source": [
    "!jupyter nbconvert --to script --no-prompt sf-TAU-N604-O.ipynb"
   ]
  }
 ],
 "metadata": {
  "kernelspec": {
   "display_name": "Python 3",
   "language": "python",
   "name": "python3"
  },
  "language_info": {
   "codemirror_mode": {
    "name": "ipython",
    "version": 3
   },
   "file_extension": ".py",
   "mimetype": "text/x-python",
   "name": "python",
   "nbconvert_exporter": "python",
   "pygments_lexer": "ipython3",
   "version": "3.8.3"
  }
 },
 "nbformat": 4,
 "nbformat_minor": 4
}
