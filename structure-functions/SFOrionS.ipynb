{
 "cells": [
  {
   "cell_type": "code",
   "execution_count": 1,
   "metadata": {},
   "outputs": [],
   "source": [
    "import time\n",
    "start_time=time.time()"
   ]
  },
  {
   "cell_type": "code",
   "execution_count": 2,
   "metadata": {},
   "outputs": [],
   "source": [
    "from matplotlib import pyplot as plt\n",
    "import seaborn as sns\n",
    "import numpy as np\n",
    "import pandas as pd\n",
    "from scipy import interpolate\n",
    "import pickle\n",
    "\n",
    "import strucfunc\n",
    "from strucfunc import sosflog\n",
    "import bfunc"
   ]
  },
  {
   "cell_type": "code",
   "execution_count": 3,
   "metadata": {},
   "outputs": [],
   "source": [
    "name = 'OrionS'"
   ]
  },
  {
   "cell_type": "code",
   "execution_count": 4,
   "metadata": {},
   "outputs": [],
   "source": [
    "pickle_in = open('VFM//' + name + '.pkl',\"rb\")\n",
    "data = pickle.load(pickle_in)\n",
    "sb = data['sb']\n",
    "vv = data['vv']\n",
    "#ss = data['ss']"
   ]
  },
  {
   "cell_type": "code",
   "execution_count": 5,
   "metadata": {},
   "outputs": [],
   "source": [
    "## Replace spurious values in the arrays\n",
    "m = ~np.isfinite(sb*vv) | (sb < 0.0)\n",
    "\n",
    "sb[m] = 0.0\n",
    "vv[m] = np.nanmean(vv)\n",
    "#ss[m] = 0.0\n",
    "sb /= sb.max()\n",
    "\n",
    "good = (~m) & (sb > 0.001)"
   ]
  },
  {
   "cell_type": "code",
   "execution_count": 6,
   "metadata": {},
   "outputs": [
    {
     "data": {
      "text/plain": [
       "(514, 356)"
      ]
     },
     "execution_count": 6,
     "metadata": {},
     "output_type": "execute_result"
    }
   ],
   "source": [
    "sb.shape"
   ]
  },
  {
   "cell_type": "code",
   "execution_count": 7,
   "metadata": {},
   "outputs": [],
   "source": [
    "box_size = np.sqrt(514 * 356) * data['pix'] * data['pc']"
   ]
  },
  {
   "cell_type": "code",
   "execution_count": 8,
   "metadata": {},
   "outputs": [
    {
     "name": "stderr",
     "output_type": "stream",
     "text": [
      "C:\\Users\\ZAINTEL2\\Dropbox\\Articulos\\PhD\\PhD-master02\\strucfunc.py:83: RuntimeWarning: invalid value encountered in true_divide\n",
      "  'Unweighted B(r)': sf/nsf,\n",
      "C:\\Users\\ZAINTEL2\\Dropbox\\Articulos\\PhD\\PhD-master02\\strucfunc.py:84: RuntimeWarning: invalid value encountered in true_divide\n",
      "  'Weighted B(r)': wsf/weight}\n"
     ]
    }
   ],
   "source": [
    "rslt = strucfunc.strucfunc_numba_parallel(data['vv'], wmap=data['sb'], dlogr=0.05)"
   ]
  },
  {
   "cell_type": "code",
   "execution_count": 9,
   "metadata": {},
   "outputs": [],
   "source": [
    "good = (~m) & (sb > 0.001)\n",
    "rslt[\"Unweighted mean velocity\"] = np.mean(vv[good])\n",
    "rslt[\"Unweighted sigma^2\"] = np.var(vv[good])\n",
    "v0w = rslt[\"Weighted mean velocity\"] = np.average(vv, weights=sb)\n",
    "rslt[\"Weighted sigma^2\"] = np.average((vv - v0w)**2, weights=sb)"
   ]
  },
  {
   "cell_type": "code",
   "execution_count": 10,
   "metadata": {},
   "outputs": [],
   "source": [
    "b2 = rslt['Unweighted B(r)']\n",
    "e_b2 = b2  *.1\n",
    "s = 10**rslt['log10 r'] * data['pix'] * data['pc']\n",
    "e_s = s  *.1\n",
    "sig2 = rslt['Unweighted sigma^2']\n",
    "sig = sig2**0.5"
   ]
  },
  {
   "cell_type": "code",
   "execution_count": 11,
   "metadata": {},
   "outputs": [
    {
     "name": "stderr",
     "output_type": "stream",
     "text": [
      "C:\\Users\\ZAINTEL2\\anaconda3\\lib\\site-packages\\numpy\\lib\\function_base.py:1405: RuntimeWarning: invalid value encountered in remainder\n",
      "  xp = xp % period\n"
     ]
    },
    {
     "data": {
      "text/plain": [
       "0.04917655916253498"
      ]
     },
     "execution_count": 11,
     "metadata": {},
     "output_type": "execute_result"
    }
   ],
   "source": [
    "r0 = np.interp(sig2, b2, s,period = 360)\n",
    "r0"
   ]
  },
  {
   "cell_type": "markdown",
   "metadata": {},
   "source": [
    "x = s\n",
    "y = b2 - sig2\n",
    "tck=interpolate.splrep(x,y,s=0)\n",
    "grid=np.linspace(x.min(),x.max(),num=len(x))\n",
    "ynew=interpolate.splev(grid,tck,der=0)\n",
    "inter=pd.DataFrame([grid,ynew]).T\n",
    "SFr=interpolate.sproot(tck)\n",
    "r0 = SFr[0]"
   ]
  },
  {
   "cell_type": "code",
   "execution_count": 12,
   "metadata": {},
   "outputs": [
    {
     "data": {
      "text/plain": [
       "0.01648620142373004"
      ]
     },
     "execution_count": 12,
     "metadata": {},
     "output_type": "execute_result"
    }
   ],
   "source": [
    "r1 = np.interp(sig, b2, s,period = 360)\n",
    "r1"
   ]
  },
  {
   "cell_type": "code",
   "execution_count": 13,
   "metadata": {},
   "outputs": [
    {
     "data": {
      "text/plain": [
       "0.13379367419342617"
      ]
     },
     "execution_count": 13,
     "metadata": {},
     "output_type": "execute_result"
    }
   ],
   "source": [
    "r2 = np.interp(2*sig2, b2, s, period = 360)\n",
    "r2"
   ]
  },
  {
   "cell_type": "code",
   "execution_count": 14,
   "metadata": {},
   "outputs": [
    {
     "data": {
      "text/plain": [
       "(9.375506960018136, 0.04917655916253498, 1.2, 0.0017889624832941875, 0.01)"
      ]
     },
     "execution_count": 14,
     "metadata": {},
     "output_type": "execute_result"
    },
    {
     "data": {
      "image/png": "[encoded data removed]",
      "text/plain": [
       "<Figure size 576x432 with 1 Axes>"
      ]
     },
     "metadata": {
      "needs_background": "light"
     },
     "output_type": "display_data"
    }
   ],
   "source": [
    "m = 1.2\n",
    "noise = 0.01\n",
    "s0 = data['s0']\n",
    "\n",
    "\n",
    "fig, ax = plt.subplots(figsize=(8, 6))\n",
    "rgrid = np.logspace(-3, 0.5)\n",
    "ax.errorbar(s, b2, yerr=e_b2, xerr=e_s, fmt='o', alpha=0.4,color=\"blue\")\n",
    "\n",
    "\n",
    "ax.axhline(sig2, ls='-')\n",
    "ax.axvline(r0, ls='-')\n",
    "\n",
    "ax.axhline(2*sig2, ls=':')\n",
    "ax.axvline(r2, ls=':')\n",
    "\n",
    "ax.axhline(sig, ls=':')\n",
    "ax.axvline(r1, ls=':')\n",
    "\n",
    "ax.plot(rgrid, bfunc.bfunc00s(rgrid, r0, sig2, m), color=\"0.8\")\n",
    "ax.plot(rgrid, bfunc.bfunc03s(rgrid, r0, sig2, m, s0, noise), color=\"red\")\n",
    "ax.plot(rgrid, bfunc.bfunc04s(rgrid, r0, sig2, m, s0, noise, box_size), color=\"black\")\n",
    "\n",
    "ax.set(xscale='log', yscale='log', \n",
    "       xlabel='separation, pc',\n",
    "       ylabel=r'$b^2,\\ \\mathrm{km^2\\ s^{-2}}$'\n",
    "      )\n",
    "None\n",
    "\n",
    "sig2, r0, m, s0, noise"
   ]
  },
  {
   "cell_type": "code",
   "execution_count": 15,
   "metadata": {},
   "outputs": [
    {
     "data": {
      "text/plain": [
       "{'log10 r': array([0.  , 0.05, 0.1 , 0.15, 0.2 , 0.25, 0.3 , 0.35, 0.4 , 0.45, 0.5 ,\n",
       "        0.55, 0.6 , 0.65, 0.7 , 0.75, 0.8 , 0.85, 0.9 , 0.95, 1.  , 1.05,\n",
       "        1.1 , 1.15, 1.2 , 1.25, 1.3 , 1.35, 1.4 , 1.45, 1.5 , 1.55, 1.6 ,\n",
       "        1.65, 1.7 , 1.75, 1.8 , 1.85, 1.9 , 1.95, 2.  , 2.05, 2.1 , 2.15,\n",
       "        2.2 , 2.25, 2.3 , 2.35, 2.4 , 2.45, 2.5 , 2.55, 2.6 , 2.65, 2.7 ]),\n",
       " 'Sum dv^2': array([5.41907216e+03, 0.00000000e+00, 0.00000000e+00, 2.44343156e+04,\n",
       "        0.00000000e+00, 0.00000000e+00, 1.34470495e+05, 0.00000000e+00,\n",
       "        0.00000000e+00, 1.28999278e+05, 2.10739614e+05, 2.67041478e+05,\n",
       "        5.71519378e+05, 9.31889053e+05, 9.71085992e+05, 1.58714205e+06,\n",
       "        3.32127020e+06, 3.31354404e+06, 5.44754355e+06, 8.57729189e+06,\n",
       "        1.48072661e+07, 1.74814859e+07, 2.51645299e+07, 4.05749931e+07,\n",
       "        5.15730684e+07, 7.60332348e+07, 1.11944715e+08, 1.54991300e+08,\n",
       "        2.14549435e+08, 2.97966669e+08, 4.38511577e+08, 5.74557142e+08,\n",
       "        8.40905322e+08, 1.13284901e+09, 1.56315489e+09, 2.10457243e+09,\n",
       "        2.80806763e+09, 3.79938296e+09, 4.95656857e+09, 6.50704284e+09,\n",
       "        8.46755623e+09, 1.07460566e+10, 1.36480139e+10, 1.68640943e+10,\n",
       "        2.04856717e+10, 2.41562658e+10, 2.73620687e+10, 3.03385815e+10,\n",
       "        3.29992823e+10, 3.38233400e+10, 2.90403303e+10, 1.80132988e+10,\n",
       "        9.88936397e+09, 3.80362319e+09, 7.45998300e+08]),\n",
       " 'Sum weights': array([1.82262014e+04, 0.00000000e+00, 0.00000000e+00, 3.64177000e+04,\n",
       "        0.00000000e+00, 0.00000000e+00, 9.09125496e+04, 0.00000000e+00,\n",
       "        0.00000000e+00, 5.44567891e+04, 7.25729491e+04, 7.24633104e+04,\n",
       "        1.26677861e+05, 1.62530536e+05, 1.44341195e+05, 1.98041758e+05,\n",
       "        3.41224832e+05, 2.86560952e+05, 4.10994103e+05, 5.52079499e+05,\n",
       "        8.16091997e+05, 8.30016028e+05, 1.05493985e+06, 1.48637476e+06,\n",
       "        1.66915994e+06, 2.17655513e+06, 2.82990911e+06, 3.45232361e+06,\n",
       "        4.23008315e+06, 5.21977391e+06, 6.81962030e+06, 7.96067749e+06,\n",
       "        1.04127745e+07, 1.26015733e+07, 1.57358186e+07, 1.92641702e+07,\n",
       "        2.34657553e+07, 2.90694104e+07, 3.47672998e+07, 4.19025887e+07,\n",
       "        5.02303914e+07, 5.87414922e+07, 6.86500138e+07, 7.82930180e+07,\n",
       "        8.78982310e+07, 9.68448301e+07, 1.03275042e+08, 1.05905723e+08,\n",
       "        1.02191067e+08, 9.20632301e+07, 7.41320471e+07, 5.21553364e+07,\n",
       "        3.10661977e+07, 1.44228745e+07, 3.19457148e+06]),\n",
       " 'Sum w * dv^2': array([5.90146062e+02, 0.00000000e+00, 0.00000000e+00, 2.64964412e+03,\n",
       "        0.00000000e+00, 0.00000000e+00, 1.47857317e+04, 0.00000000e+00,\n",
       "        0.00000000e+00, 1.42731138e+04, 2.35626611e+04, 2.98575324e+04,\n",
       "        6.42612171e+04, 1.04808975e+05, 1.09942439e+05, 1.79154511e+05,\n",
       "        3.74600070e+05, 3.72790420e+05, 6.11551307e+05, 9.59636298e+05,\n",
       "        1.65270563e+06, 1.94144454e+06, 2.78710244e+06, 4.46708663e+06,\n",
       "        5.65515961e+06, 8.27679273e+06, 1.21057284e+07, 1.65838226e+07,\n",
       "        2.27329934e+07, 3.12223593e+07, 4.54732041e+07, 5.91229836e+07,\n",
       "        8.62947277e+07, 1.16284436e+08, 1.60854512e+08, 2.18224148e+08,\n",
       "        2.94387228e+08, 4.02278215e+08, 5.26683903e+08, 6.87575117e+08,\n",
       "        8.85580284e+08, 1.10867986e+09, 1.37695200e+09, 1.64184450e+09,\n",
       "        1.88871094e+09, 2.04860869e+09, 2.07889897e+09, 2.06932267e+09,\n",
       "        2.03324203e+09, 1.99727792e+09, 1.69392172e+09, 8.99729138e+08,\n",
       "        4.26585848e+08, 1.56017550e+08, 2.73253611e+07]),\n",
       " 'N pairs': array([    180405,          0,          0,     360106,          0,\n",
       "                 0,     898366,          0,          0,     537750,\n",
       "            716748,     715028,    1250534,    1603238,    1424872,\n",
       "           1954200,    3366545,    2825744,    4055338,    5447162,\n",
       "           8056700,    8191030,   10415180,   14670406,   16483658,\n",
       "          21487636,   27949620,   34079226,   41764968,   51530390,\n",
       "          67348968,   78658144,  102956516,  124675824,  155769462,\n",
       "         190928604,  232962294,  289358856,  347522496,  421869614,\n",
       "         512194356,  609046538,  728255707,  853377707,  989160597,\n",
       "        1131589796, 1264716738, 1382249474, 1447511404, 1433058965,\n",
       "        1286324535, 1038292397,  787331707,  466458652,  112604608],\n",
       "       dtype=int64),\n",
       " 'Unweighted B(r)': array([ 0.03003837,         nan,         nan,  0.06785312,         nan,\n",
       "                nan,  0.14968342,         nan,         nan,  0.23988708,\n",
       "         0.29402191,  0.37346996,  0.45702026,  0.58125434,  0.68152507,\n",
       "         0.81216971,  0.98655155,  1.17262712,  1.34330198,  1.57463499,\n",
       "         1.83788227,  2.13422315,  2.4161397 ,  2.76577165,  3.12873929,\n",
       "         3.53846439,  4.00523208,  4.54797008,  5.13706691,  5.78234842,\n",
       "         6.51103632,  7.30448384,  8.16757749,  9.08635673, 10.03505352,\n",
       "        11.02282416, 12.05374302, 13.13034968, 14.26258337, 15.42429846,\n",
       "        16.53192022, 17.64406484, 18.74068919, 19.76158289, 20.71015744,\n",
       "        21.34719298, 21.63493842, 21.94870181, 22.79725207, 23.60219702,\n",
       "        22.57620803, 17.34896532, 12.56060677,  8.15425584,  6.62493581]),\n",
       " 'Weighted B(r)': array([ 0.03237899,         nan,         nan,  0.07275704,         nan,\n",
       "                nan,  0.16263686,         nan,         nan,  0.26209981,\n",
       "         0.32467554,  0.41203655,  0.50728057,  0.64485713,  0.76168442,\n",
       "         0.90462998,  1.09781011,  1.30091144,  1.48798074,  1.73822122,\n",
       "         2.02514622,  2.33904463,  2.64195389,  3.00535689,  3.3880274 ,\n",
       "         3.802703  ,  4.27777992,  4.80366978,  5.37412447,  5.98155395,\n",
       "         6.66799647,  7.42687839,  8.28739039,  9.22777128, 10.222189  ,\n",
       "        11.32798067, 12.54539751, 13.83854054, 15.14882969, 16.40889353,\n",
       "        17.63036797, 18.87387977, 20.05756342, 20.97050977, 21.48747382,\n",
       "        21.15351631, 20.12973258, 19.53929027, 19.89647523, 21.69463222,\n",
       "        22.85005999, 17.25095071, 13.73151141, 10.81736865,  8.55368592]),\n",
       " 'Unweighted mean velocity': 16.776593419383627,\n",
       " 'Unweighted sigma^2': 9.375506960018136,\n",
       " 'Weighted mean velocity': 16.585946220297235,\n",
       " 'Weighted sigma^2': 9.22861264740973}"
      ]
     },
     "execution_count": 15,
     "metadata": {},
     "output_type": "execute_result"
    }
   ],
   "source": [
    "rslt"
   ]
  },
  {
   "cell_type": "code",
   "execution_count": 16,
   "metadata": {},
   "outputs": [],
   "source": [
    "Dor = { 'VF' : data,\n",
    "        'SF' : rslt,\n",
    "        's' : s,\n",
    "        'b2' : b2,\n",
    "        'sig2' : sig2,\n",
    "        'pc' : data['pc'],\n",
    "        'r0' : r0,\n",
    "        'r1' : r1,\n",
    "        'r2' : r2,\n",
    "        's0' : data['s0'],\n",
    "        'm' : m,\n",
    "        'pix' : data['pix'],\n",
    "        'box_size': box_size}"
   ]
  },
  {
   "cell_type": "code",
   "execution_count": 17,
   "metadata": {},
   "outputs": [],
   "source": [
    "f = open('Results\\\\SF'+ name + '.pkl',\"wb\")\n",
    "pickle.dump(Dor,f)\n",
    "f.close()"
   ]
  },
  {
   "cell_type": "code",
   "execution_count": null,
   "metadata": {},
   "outputs": [],
   "source": []
  },
  {
   "cell_type": "code",
   "execution_count": 18,
   "metadata": {},
   "outputs": [
    {
     "name": "stdout",
     "output_type": "stream",
     "text": [
      "--- 136.47202706336975 seconds ---\n"
     ]
    }
   ],
   "source": [
    "print(\"--- %s seconds ---\" % (time.time()-start_time))"
   ]
  }
 ],
 "metadata": {
  "kernelspec": {
   "display_name": "Python 3",
   "language": "python",
   "name": "python3"
  },
  "language_info": {
   "codemirror_mode": {
    "name": "ipython",
    "version": 3
   },
   "file_extension": ".py",
   "mimetype": "text/x-python",
   "name": "python",
   "nbconvert_exporter": "python",
   "pygments_lexer": "ipython3",
   "version": "3.8.3"
  }
 },
 "nbformat": 4,
 "nbformat_minor": 4
}
