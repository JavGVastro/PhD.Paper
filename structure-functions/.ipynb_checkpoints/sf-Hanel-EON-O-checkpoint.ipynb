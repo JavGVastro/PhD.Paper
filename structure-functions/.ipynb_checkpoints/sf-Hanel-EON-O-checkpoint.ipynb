{
 "cells": [
  {
   "cell_type": "code",
   "execution_count": 1,
   "metadata": {},
   "outputs": [],
   "source": [
    "import time\n",
    "start_time=time.time()"
   ]
  },
  {
   "cell_type": "code",
   "execution_count": 2,
   "metadata": {},
   "outputs": [],
   "source": [
    "from pathlib import Path\n",
    "\n",
    "from matplotlib import pyplot as plt\n",
    "import seaborn as sns\n",
    "import numpy as np\n",
    "import pandas as pd\n",
    "from scipy import interpolate\n",
    "import json\n",
    "\n",
    "import strucfunc\n",
    "from strucfunc import sosflog\n",
    "import bfunc"
   ]
  },
  {
   "cell_type": "markdown",
   "metadata": {},
   "source": [
    "Input path: velocity fields folder"
   ]
  },
  {
   "cell_type": "code",
   "execution_count": 3,
   "metadata": {},
   "outputs": [],
   "source": [
    "text_file_0 = open(\"path-data.txt\", \"r\")\n",
    "path_data = text_file_0.read()"
   ]
  },
  {
   "cell_type": "code",
   "execution_count": 4,
   "metadata": {},
   "outputs": [],
   "source": [
    "datapath_data = Path(path_data).expanduser()"
   ]
  },
  {
   "cell_type": "markdown",
   "metadata": {},
   "source": [
    "#Output path: results folder location"
   ]
  },
  {
   "cell_type": "code",
   "execution_count": 5,
   "metadata": {},
   "outputs": [],
   "source": [
    "#text_file_1 = open(\"path-results.txt\", \"r\")\n",
    "#path_res = text_file_1.read()"
   ]
  },
  {
   "cell_type": "code",
   "execution_count": 6,
   "metadata": {},
   "outputs": [],
   "source": [
    "#datapath_res= Path(path_res).expanduser()"
   ]
  },
  {
   "cell_type": "markdown",
   "metadata": {},
   "source": [
    "File names"
   ]
  },
  {
   "cell_type": "code",
   "execution_count": 7,
   "metadata": {},
   "outputs": [],
   "source": [
    "name = 'Hanel-EON-O'"
   ]
  },
  {
   "cell_type": "code",
   "execution_count": 8,
   "metadata": {},
   "outputs": [],
   "source": [
    "data = json.load(open(str(datapath_data) + '/' + name + \"-m.json\"))\n",
    "#sb = np.array(data[\"sb\"])\n",
    "vv = np.array(data[\"vv\"])\n",
    "#ss = np.array(data[\"ss\"])"
   ]
  },
  {
   "cell_type": "code",
   "execution_count": 9,
   "metadata": {},
   "outputs": [
    {
     "name": "stderr",
     "output_type": "stream",
     "text": [
      "<ipython-input-9-61e9d6bb38fe>:1: FutureWarning: elementwise comparison failed; returning scalar instead, but in the future will perform elementwise comparison\n",
      "  vv[vv== 'nan'] = vv.mean()\n"
     ]
    }
   ],
   "source": [
    "vv[vv== 'nan'] = vv.mean()"
   ]
  },
  {
   "cell_type": "code",
   "execution_count": 10,
   "metadata": {},
   "outputs": [],
   "source": [
    "## Replace spurious values in the arrays\n",
    "#m = ~np.isfinite(sb*vv) | (sb < 0.0)\n",
    "\n",
    "#sb[m] = 0.0\n",
    "#vv[m] = np.nanmean(vv)\n",
    "#ss[m] = 0.0\n",
    "#sb /= sb.max()\n",
    "#good = (~m) & (sb > 0.001)"
   ]
  },
  {
   "cell_type": "code",
   "execution_count": 11,
   "metadata": {},
   "outputs": [],
   "source": [
    "m = ~np.isfinite(vv) \n",
    "vv[m] = np.nanmean(vv)\n",
    "good = (~m) "
   ]
  },
  {
   "cell_type": "code",
   "execution_count": 12,
   "metadata": {},
   "outputs": [],
   "source": [
    "box_size = np.sqrt(vv.shape[0] * vv.shape[1]) * data['pix'] * data['pc']"
   ]
  },
  {
   "cell_type": "code",
   "execution_count": 13,
   "metadata": {},
   "outputs": [
    {
     "name": "stderr",
     "output_type": "stream",
     "text": [
      "C:\\Users\\ZAINTEL2\\Documents\\Aeon\\PhD\\python\\git-hub\\structure-functions\\strucfunc.py:83: RuntimeWarning: invalid value encountered in true_divide\n",
      "  'Unweighted B(r)': sf/nsf,\n",
      "C:\\Users\\ZAINTEL2\\Documents\\Aeon\\PhD\\python\\git-hub\\structure-functions\\strucfunc.py:84: RuntimeWarning: invalid value encountered in true_divide\n",
      "  'Weighted B(r)': wsf/weight}\n"
     ]
    }
   ],
   "source": [
    "rslt = strucfunc.strucfunc_numba_parallel(vv, dlogr=0.05)"
   ]
  },
  {
   "cell_type": "code",
   "execution_count": 14,
   "metadata": {},
   "outputs": [
    {
     "data": {
      "text/plain": [
       "{'log10 r': array([0.  , 0.05, 0.1 , 0.15, 0.2 , 0.25, 0.3 , 0.35, 0.4 , 0.45, 0.5 ,\n",
       "        0.55, 0.6 , 0.65, 0.7 , 0.75, 0.8 , 0.85, 0.9 , 0.95, 1.  , 1.05,\n",
       "        1.1 , 1.15, 1.2 , 1.25, 1.3 , 1.35, 1.4 , 1.45]),\n",
       " 'Sum dv^2': array([  3502.75081056,      0.        ,      0.        ,   7095.21214322,\n",
       "             0.        ,      0.        ,  17253.08976922,      0.        ,\n",
       "             0.        ,  10018.44688033,  14884.52525444,  13829.96144044,\n",
       "         25159.08780811,  30435.196228  ,  27971.157032  ,  37004.76717444,\n",
       "         60539.92946689,  46801.45021467,  64234.57997056,  79622.20175278,\n",
       "        106846.41307489,  93763.18030267, 105414.64761267, 123608.58318822,\n",
       "        104563.48430678,  93743.01870878,  64649.196169  ,  23035.53499722,\n",
       "          3900.556188  ,    363.37068344]),\n",
       " 'Sum weights': array([  506.,     0.,     0.,   966.,     0.,     0.,  2328.,     0.,\n",
       "            0.,  1342.,  1756.,  1676.,  2906.,  3526.,  3088.,  4044.,\n",
       "         6568.,  5124.,  7056.,  8712., 11754., 10444., 11664., 13560.,\n",
       "        12066., 11284.,  8336.,  3742.,   996.,   140.]),\n",
       " 'Sum w * dv^2': array([  3502.75081056,      0.        ,      0.        ,   7095.21214322,\n",
       "             0.        ,      0.        ,  17253.08976922,      0.        ,\n",
       "             0.        ,  10018.44688033,  14884.52525444,  13829.96144044,\n",
       "         25159.08780811,  30435.196228  ,  27971.157032  ,  37004.76717444,\n",
       "         60539.92946689,  46801.45021467,  64234.57997056,  79622.20175278,\n",
       "        106846.41307489,  93763.18030267, 105414.64761267, 123608.58318822,\n",
       "        104563.48430678,  93743.01870878,  64649.196169  ,  23035.53499722,\n",
       "          3900.556188  ,    363.37068344]),\n",
       " 'N pairs': array([  506,     0,     0,   966,     0,     0,  2328,     0,     0,\n",
       "         1342,  1756,  1676,  2906,  3526,  3088,  4044,  6568,  5124,\n",
       "         7056,  8712, 11754, 10444, 11664, 13560, 12066, 11284,  8336,\n",
       "         3742,   996,   140], dtype=int64),\n",
       " 'Unweighted B(r)': array([6.92243243,        nan,        nan, 7.34494011,        nan,\n",
       "               nan, 7.41112103,        nan,        nan, 7.46531064,\n",
       "        8.47638112, 8.25176697, 8.65763517, 8.63164953, 9.05801717,\n",
       "        9.1505359 , 9.21740704, 9.13377249, 9.10354025, 9.13937118,\n",
       "        9.09021721, 8.9777078 , 9.03760696, 9.11567723, 8.66596091,\n",
       "        8.30760534, 7.75542181, 6.15594201, 3.91622107, 2.59550488]),\n",
       " 'Weighted B(r)': array([6.92243243,        nan,        nan, 7.34494011,        nan,\n",
       "               nan, 7.41112103,        nan,        nan, 7.46531064,\n",
       "        8.47638112, 8.25176697, 8.65763517, 8.63164953, 9.05801717,\n",
       "        9.1505359 , 9.21740704, 9.13377249, 9.10354025, 9.13937118,\n",
       "        9.09021721, 8.9777078 , 9.03760696, 9.11567723, 8.66596091,\n",
       "        8.30760534, 7.75542181, 6.15594201, 3.91622107, 2.59550488])}"
      ]
     },
     "execution_count": 14,
     "metadata": {},
     "output_type": "execute_result"
    }
   ],
   "source": [
    "rslt"
   ]
  },
  {
   "cell_type": "code",
   "execution_count": null,
   "metadata": {},
   "outputs": [],
   "source": []
  },
  {
   "cell_type": "code",
   "execution_count": 15,
   "metadata": {},
   "outputs": [],
   "source": [
    "rslt[\"Unweighted mean velocity\"] = np.mean(vv[good])\n",
    "rslt[\"Unweighted sigma^2\"] = np.var(vv[good])\n",
    "#v0w = rslt[\"Weighted mean velocity\"] = np.average(vv, weights=sb)\n",
    "#rslt[\"Weighted sigma^2\"] = np.average((vv - v0w)**2, weights=sb)"
   ]
  },
  {
   "cell_type": "code",
   "execution_count": 16,
   "metadata": {},
   "outputs": [],
   "source": [
    "b2 = rslt['Unweighted B(r)']\n",
    "#b2w = rslt['Weighted B(r)']\n",
    "e_b2 = b2  *.1\n",
    "#e_b2w = b2w  *.1\n",
    "\n",
    "s = 10**rslt['log10 r'] * data['pix'] * data['pc']\n",
    "e_s = s  *.1\n",
    "sig2 = rslt['Unweighted sigma^2']\n",
    "#sig2w = rslt['Weighted sigma^2']\n",
    "\n",
    "sig = sig2**0.5"
   ]
  },
  {
   "cell_type": "code",
   "execution_count": 17,
   "metadata": {},
   "outputs": [
    {
     "data": {
      "text/plain": [
       "0.3361320885059206"
      ]
     },
     "execution_count": 17,
     "metadata": {},
     "output_type": "execute_result"
    }
   ],
   "source": [
    "r0 = np.interp(sig2, b2[1:10], s[1:10])\n",
    "r0"
   ]
  },
  {
   "cell_type": "code",
   "execution_count": 18,
   "metadata": {},
   "outputs": [
    {
     "data": {
      "text/plain": [
       "nan"
      ]
     },
     "execution_count": 18,
     "metadata": {},
     "output_type": "execute_result"
    }
   ],
   "source": [
    "r1 = np.interp(sig, b2[1:10], s[1:10])\n",
    "r1"
   ]
  },
  {
   "cell_type": "code",
   "execution_count": 19,
   "metadata": {},
   "outputs": [
    {
     "name": "stderr",
     "output_type": "stream",
     "text": [
      "C:\\Users\\ZAINTEL2\\anaconda3\\lib\\site-packages\\numpy\\lib\\function_base.py:1405: RuntimeWarning: invalid value encountered in remainder\n",
      "  xp = xp % period\n"
     ]
    },
    {
     "data": {
      "text/plain": [
       "nan"
      ]
     },
     "execution_count": 19,
     "metadata": {},
     "output_type": "execute_result"
    }
   ],
   "source": [
    "r2 = np.interp(2*sig2, b2, s, period = 360)\n",
    "r2"
   ]
  },
  {
   "cell_type": "code",
   "execution_count": 20,
   "metadata": {},
   "outputs": [
    {
     "data": {
      "text/plain": [
       "(7.614219888888889, 0.3361320885059206, 0.5)"
      ]
     },
     "execution_count": 20,
     "metadata": {},
     "output_type": "execute_result"
    },
    {
     "data": {
      "image/png": "[encoded data removed]",
      "text/plain": [
       "<Figure size 576x432 with 1 Axes>"
      ]
     },
     "metadata": {
      "needs_background": "light"
     },
     "output_type": "display_data"
    }
   ],
   "source": [
    "m = 0.5\n",
    "s0 = data['s0']\n",
    "noise = 2\n",
    "\n",
    "fig, ax = plt.subplots(figsize=(8, 6))\n",
    "rgrid = np.logspace(-2, 1)\n",
    "ax.errorbar(s, b2, yerr=e_b2, xerr=e_s, fmt='o', alpha=0.4,color=\"blue\")\n",
    "#ax.errorbar(s, b2w, yerr=e_b2w, xerr=e_s, fmt='x', alpha=0.4,color=\"green\")\n",
    "\n",
    "ax.axhline(sig2, ls='-')\n",
    "ax.axvline(r0, ls='-')\n",
    "\n",
    "ax.axhline(2*sig2, ls=':')\n",
    "ax.axvline(r2, ls=':')\n",
    "\n",
    "ax.axhline(sig, ls=':')\n",
    "ax.axvline(r1, ls=':')\n",
    "\n",
    "ax.plot(rgrid, bfunc.bfunc00s(rgrid, r0, sig2, m), color=\"0.8\")\n",
    "ax.plot(rgrid, bfunc.bfunc03s(rgrid, r0, sig2, m, s0, noise), color=\"red\")\n",
    "ax.plot(rgrid, bfunc.bfunc04s(rgrid, r0, sig2, m, s0, noise, box_size), color=\"black\")\n",
    "\n",
    "\n",
    "ax.set(xscale='log', yscale='log', \n",
    "       xlabel='separation, pc',\n",
    "       ylabel=r'$b^2,\\ \\mathrm{km^2\\ s^{-2}}$'\n",
    "      )\n",
    "None\n",
    "\n",
    "sig2, r0, m"
   ]
  },
  {
   "cell_type": "code",
   "execution_count": 21,
   "metadata": {},
   "outputs": [],
   "source": [
    "results = {\n",
    "    'sig2' : sig2,\n",
    "        'r0' : r0,\n",
    "        'r1' : r1,\n",
    "        'r2' : r2,\n",
    "          } "
   ]
  },
  {
   "cell_type": "code",
   "execution_count": 22,
   "metadata": {},
   "outputs": [],
   "source": [
    "data_export = {   \n",
    "        's' : s,\n",
    "        'b2' : b2,\n",
    "        'pc' : data['pc'],\n",
    "        'pix' : data['pix'],\n",
    "        'box_size': box_size,\n",
    "         'results':results,\n",
    "         'SF' : rslt,\n",
    "         'VF' : data,\n",
    "}"
   ]
  },
  {
   "cell_type": "code",
   "execution_count": 23,
   "metadata": {},
   "outputs": [],
   "source": [
    "class MyEncoder(json.JSONEncoder):\n",
    "    def default(self, obj):\n",
    "        if isinstance(obj, np.integer):\n",
    "            return int(obj)\n",
    "        elif isinstance(obj, np.floating):\n",
    "            return float(obj)\n",
    "        elif isinstance(obj, np.ndarray):\n",
    "            return obj.tolist()\n",
    "        else:\n",
    "            return super(MyEncoder, self).default(obj)"
   ]
  },
  {
   "cell_type": "code",
   "execution_count": 24,
   "metadata": {},
   "outputs": [],
   "source": [
    "jsonfilename =\"sf-\" + name +\".json\"\n",
    "with open(jsonfilename, \"w\") as f:\n",
    "    json.dump(data_export, fp=f, indent=3, cls=MyEncoder)"
   ]
  },
  {
   "cell_type": "code",
   "execution_count": 25,
   "metadata": {},
   "outputs": [
    {
     "name": "stdout",
     "output_type": "stream",
     "text": [
      "--- 9.04084038734436 seconds ---\n"
     ]
    }
   ],
   "source": [
    "print(\"--- %s seconds ---\" % (time.time()-start_time))"
   ]
  },
  {
   "cell_type": "code",
   "execution_count": 26,
   "metadata": {},
   "outputs": [
    {
     "name": "stderr",
     "output_type": "stream",
     "text": [
      "[NbConvertApp] Converting notebook sf-Hanel-EON-O.ipynb to script\n",
      "[NbConvertApp] Writing 3567 bytes to sf-Hanel-EON-O.py\n"
     ]
    }
   ],
   "source": [
    "!jupyter nbconvert --to script --no-prompt sf-Hanel-EON-O.ipynb"
   ]
  }
 ],
 "metadata": {
  "kernelspec": {
   "display_name": "Python 3",
   "language": "python",
   "name": "python3"
  },
  "language_info": {
   "codemirror_mode": {
    "name": "ipython",
    "version": 3
   },
   "file_extension": ".py",
   "mimetype": "text/x-python",
   "name": "python",
   "nbconvert_exporter": "python",
   "pygments_lexer": "ipython3",
   "version": "3.8.3"
  }
 },
 "nbformat": 4,
 "nbformat_minor": 4
}
