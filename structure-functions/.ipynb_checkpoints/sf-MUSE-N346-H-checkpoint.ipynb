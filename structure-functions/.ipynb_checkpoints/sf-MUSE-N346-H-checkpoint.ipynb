{
 "cells": [
  {
   "cell_type": "code",
   "execution_count": 1,
   "metadata": {},
   "outputs": [],
   "source": [
    "import time\n",
    "start_time=time.time()"
   ]
  },
  {
   "cell_type": "code",
   "execution_count": 2,
   "metadata": {},
   "outputs": [],
   "source": [
    "from pathlib import Path\n",
    "\n",
    "from matplotlib import pyplot as plt\n",
    "import seaborn as sns\n",
    "import numpy as np\n",
    "import pandas as pd\n",
    "from scipy import interpolate\n",
    "import json\n",
    "\n",
    "import strucfunc\n",
    "from strucfunc import sosflog\n",
    "import bfunc"
   ]
  },
  {
   "cell_type": "markdown",
   "metadata": {},
   "source": [
    "Input path: velocity fields folder"
   ]
  },
  {
   "cell_type": "code",
   "execution_count": 3,
   "metadata": {},
   "outputs": [],
   "source": [
    "text_file_0 = open(\"path-data.txt\", \"r\")\n",
    "path_data = text_file_0.read()"
   ]
  },
  {
   "cell_type": "code",
   "execution_count": 4,
   "metadata": {},
   "outputs": [],
   "source": [
    "datapath_data = Path(path_data).expanduser()"
   ]
  },
  {
   "cell_type": "markdown",
   "metadata": {},
   "source": [
    "File names"
   ]
  },
  {
   "cell_type": "code",
   "execution_count": 5,
   "metadata": {},
   "outputs": [],
   "source": [
    "name = 'MUSE-N346-H'"
   ]
  },
  {
   "cell_type": "code",
   "execution_count": 6,
   "metadata": {},
   "outputs": [],
   "source": [
    "data = json.load(open(str(datapath_data) + '/' + name + \"-m.json\"))\n",
    "sb = np.array(data[\"sb\"])\n",
    "vv = np.array(data[\"vv\"])\n",
    "ss = np.array(data[\"ss\"])"
   ]
  },
  {
   "cell_type": "code",
   "execution_count": 7,
   "metadata": {},
   "outputs": [
    {
     "name": "stderr",
     "output_type": "stream",
     "text": [
      "<ipython-input-7-95afb24455fa>:2: RuntimeWarning: invalid value encountered in less\n",
      "  m = ~np.isfinite(sb*vv*ss) | (sb < 0.0)\n"
     ]
    }
   ],
   "source": [
    "## Replace spurious values in the arrays\n",
    "m = ~np.isfinite(sb*vv*ss) | (sb < 0.0)\n",
    "\n",
    "sb[m] = 0.0\n",
    "vv[m] = np.nanmean(vv)\n",
    "ss[m] = 0.0\n",
    "sb /= sb.max()\n",
    "\n",
    "good = (~m) & (sb > 0.001)"
   ]
  },
  {
   "cell_type": "code",
   "execution_count": 8,
   "metadata": {},
   "outputs": [],
   "source": [
    "box_size = np.sqrt(sb.shape[0] * sb.shape[1]) * data['pix'] * data['pc']"
   ]
  },
  {
   "cell_type": "code",
   "execution_count": 9,
   "metadata": {},
   "outputs": [],
   "source": [
    "#trim = (slice(10, 340), slice(10, 315))\n",
    "trim = (slice(20, 315), slice(10, 330))"
   ]
  },
  {
   "cell_type": "code",
   "execution_count": 10,
   "metadata": {},
   "outputs": [
    {
     "data": {
      "text/plain": [
       "(295, 320)"
      ]
     },
     "execution_count": 10,
     "metadata": {},
     "output_type": "execute_result"
    }
   ],
   "source": [
    "vv[trim].shape"
   ]
  },
  {
   "cell_type": "code",
   "execution_count": 11,
   "metadata": {},
   "outputs": [
    {
     "name": "stderr",
     "output_type": "stream",
     "text": [
      "C:\\Users\\ZAINTEL2\\Documents\\Aeon\\PhD\\python\\git-hub\\structure-functions\\strucfunc.py:83: RuntimeWarning: invalid value encountered in true_divide\n",
      "  'Unweighted B(r)': sf/nsf,\n",
      "C:\\Users\\ZAINTEL2\\Documents\\Aeon\\PhD\\python\\git-hub\\structure-functions\\strucfunc.py:84: RuntimeWarning: invalid value encountered in true_divide\n",
      "  'Weighted B(r)': wsf/weight}\n"
     ]
    }
   ],
   "source": [
    "rslt = strucfunc.strucfunc_numba_parallel(vv[trim], wmap=sb[trim], dlogr=0.05)"
   ]
  },
  {
   "cell_type": "code",
   "execution_count": 12,
   "metadata": {},
   "outputs": [],
   "source": [
    "rslt[\"Unweighted mean velocity\"] = np.mean(vv[good])\n",
    "rslt[\"Unweighted sigma^2\"] = np.var(vv[good])\n",
    "v0w = rslt[\"Weighted mean velocity\"] = np.average(vv, weights=sb)\n",
    "rslt[\"Weighted sigma^2\"] = np.average((vv - v0w)**2, weights=sb)"
   ]
  },
  {
   "cell_type": "code",
   "execution_count": 13,
   "metadata": {},
   "outputs": [],
   "source": [
    "b2 = rslt['Unweighted B(r)']\n",
    "b2w = rslt['Weighted B(r)']\n",
    "e_b2 = b2  *.1\n",
    "e_b2w = b2w  *.1\n",
    "\n",
    "s = 10**rslt['log10 r'] * data['pix'] * data['pc']\n",
    "e_s = s  *.1\n",
    "sig2 = rslt['Unweighted sigma^2']\n",
    "sig2w = rslt['Weighted sigma^2']\n",
    "\n",
    "sig = sig2**0.5"
   ]
  },
  {
   "cell_type": "code",
   "execution_count": 14,
   "metadata": {},
   "outputs": [
    {
     "name": "stderr",
     "output_type": "stream",
     "text": [
      "C:\\Users\\ZAINTEL2\\anaconda3\\lib\\site-packages\\numpy\\lib\\function_base.py:1405: RuntimeWarning: invalid value encountered in remainder\n",
      "  xp = xp % period\n"
     ]
    },
    {
     "data": {
      "text/plain": [
       "2.3043526561106034"
      ]
     },
     "execution_count": 14,
     "metadata": {},
     "output_type": "execute_result"
    }
   ],
   "source": [
    "r0 = np.interp(sig2, b2, s,period = 360)\n",
    "r0"
   ]
  },
  {
   "cell_type": "markdown",
   "metadata": {},
   "source": [
    "x = s\n",
    "y = b2 - sig2\n",
    "tck=interpolate.splrep(x,y,s=0)\n",
    "grid=np.linspace(x.min(),x.max(),num=len(x))\n",
    "ynew=interpolate.splev(grid,tck,der=0)\n",
    "inter=pd.DataFrame([grid,ynew]).T\n",
    "SFr=interpolate.sproot(tck)\n",
    "r0 = SFr[0]"
   ]
  },
  {
   "cell_type": "code",
   "execution_count": 15,
   "metadata": {},
   "outputs": [
    {
     "data": {
      "text/plain": [
       "0.37030861863511205"
      ]
     },
     "execution_count": 15,
     "metadata": {},
     "output_type": "execute_result"
    }
   ],
   "source": [
    "r1 = np.interp(sig, b2,s,period = 360)\n",
    "r1"
   ]
  },
  {
   "cell_type": "code",
   "execution_count": 16,
   "metadata": {},
   "outputs": [
    {
     "data": {
      "text/plain": [
       "nan"
      ]
     },
     "execution_count": 16,
     "metadata": {},
     "output_type": "execute_result"
    }
   ],
   "source": [
    "r2 = np.interp(2*sig2, b2, s,period = 360)\n",
    "r2"
   ]
  },
  {
   "cell_type": "code",
   "execution_count": 17,
   "metadata": {},
   "outputs": [
    {
     "data": {
      "text/plain": [
       "(30.85847268503135, 2.3043526561106034, 1.0)"
      ]
     },
     "execution_count": 17,
     "metadata": {},
     "output_type": "execute_result"
    },
    {
     "data": {
      "image/png": "[encoded data removed]",
      "text/plain": [
       "<Figure size 576x432 with 1 Axes>"
      ]
     },
     "metadata": {
      "needs_background": "light"
     },
     "output_type": "display_data"
    }
   ],
   "source": [
    "m = 1.0\n",
    "s0 = data['s0']\n",
    "noise = 1\n",
    "\n",
    "\n",
    "fig, ax = plt.subplots(figsize=(8, 6))\n",
    "rgrid = np.logspace(-1, 1.5)\n",
    "ax.errorbar(s, b2, yerr=e_b2, xerr=e_s, fmt='o', alpha=0.4,color=\"blue\")\n",
    "ax.errorbar(s, b2w, yerr=e_b2w, xerr=e_s, fmt='x', alpha=0.4,color=\"green\")\n",
    "\n",
    "ax.axhline(sig2, ls='-')\n",
    "ax.axvline(r0, ls='-')\n",
    "\n",
    "ax.axhline(2*sig2, ls=':')\n",
    "ax.axvline(r2, ls=':')\n",
    "\n",
    "ax.axhline(sig, ls=':')\n",
    "ax.axvline(r1, ls=':')\n",
    "\n",
    "ax.plot(rgrid, bfunc.bfunc00s(rgrid, r0, sig2, m), color=\"0.8\")\n",
    "ax.plot(rgrid, bfunc.bfunc03s(rgrid, r0, sig2, m, s0, noise), color=\"red\")\n",
    "ax.plot(rgrid, bfunc.bfunc04s(rgrid, r0, sig2, m, s0, noise, box_size), color=\"black\")\n",
    "\n",
    "\n",
    "ax.set(xscale='log', yscale='log', \n",
    "       xlabel='separation, pc',\n",
    "       ylabel=r'$b^2,\\ \\mathrm{km^2\\ s^{-2}}$'\n",
    "      )\n",
    "None\n",
    "\n",
    "sig2, r0, m"
   ]
  },
  {
   "cell_type": "code",
   "execution_count": 18,
   "metadata": {},
   "outputs": [],
   "source": [
    "results = {\n",
    "    'sig2' : sig2,\n",
    "        'r0' : r0,\n",
    "        'r1' : r1,\n",
    "        'r2' : r2,\n",
    "          } "
   ]
  },
  {
   "cell_type": "code",
   "execution_count": 19,
   "metadata": {},
   "outputs": [],
   "source": [
    "data_export = {   \n",
    "        's' : s,\n",
    "        'b2' : b2,\n",
    "        'pc' : data['pc'],\n",
    "        'pix' : data['pix'],\n",
    "        'box_size': box_size,\n",
    "         'results':results,\n",
    "         'SF' : rslt,\n",
    "         'VF' : data,\n",
    "}"
   ]
  },
  {
   "cell_type": "code",
   "execution_count": 20,
   "metadata": {},
   "outputs": [],
   "source": [
    "class MyEncoder(json.JSONEncoder):\n",
    "    def default(self, obj):\n",
    "        if isinstance(obj, np.integer):\n",
    "            return int(obj)\n",
    "        elif isinstance(obj, np.floating):\n",
    "            return float(obj)\n",
    "        elif isinstance(obj, np.ndarray):\n",
    "            return obj.tolist()\n",
    "        else:\n",
    "            return super(MyEncoder, self).default(obj)"
   ]
  },
  {
   "cell_type": "code",
   "execution_count": 21,
   "metadata": {},
   "outputs": [],
   "source": [
    "jsonfilename =\"sf-\" + name +\".json\"\n",
    "with open(jsonfilename, \"w\") as f:\n",
    "    json.dump(data_export, fp=f, indent=3, cls=MyEncoder)"
   ]
  },
  {
   "cell_type": "code",
   "execution_count": 22,
   "metadata": {},
   "outputs": [
    {
     "name": "stdout",
     "output_type": "stream",
     "text": [
      "--- 64.0984239578247 seconds ---\n"
     ]
    }
   ],
   "source": [
    "print(\"--- %s seconds ---\" % (time.time()-start_time))"
   ]
  },
  {
   "cell_type": "code",
   "execution_count": 23,
   "metadata": {},
   "outputs": [
    {
     "name": "stderr",
     "output_type": "stream",
     "text": [
      "[NbConvertApp] Converting notebook sf-MUSE-N346-H.ipynb to script\n",
      "[NbConvertApp] Writing 3634 bytes to sf-MUSE-N346-H.py\n"
     ]
    }
   ],
   "source": [
    "!jupyter nbconvert --to script --no-prompt sf-MUSE-N346-H.ipynb"
   ]
  }
 ],
 "metadata": {
  "kernelspec": {
   "display_name": "Python 3",
   "language": "python",
   "name": "python3"
  },
  "language_info": {
   "codemirror_mode": {
    "name": "ipython",
    "version": 3
   },
   "file_extension": ".py",
   "mimetype": "text/x-python",
   "name": "python",
   "nbconvert_exporter": "python",
   "pygments_lexer": "ipython3",
   "version": "3.8.3"
  }
 },
 "nbformat": 4,
 "nbformat_minor": 4
}
