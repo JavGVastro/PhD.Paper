{
 "cells": [
  {
   "cell_type": "code",
   "execution_count": 1,
   "metadata": {},
   "outputs": [],
   "source": [
    "import time\n",
    "start_time=time.time()"
   ]
  },
  {
   "cell_type": "code",
   "execution_count": 2,
   "metadata": {},
   "outputs": [],
   "source": [
    "from matplotlib import pyplot as plt\n",
    "import seaborn as sns\n",
    "import numpy as np\n",
    "import pandas as pd\n",
    "from scipy import interpolate\n",
    "import pickle\n",
    "\n",
    "import strucfunc\n",
    "from strucfunc import sosflog\n",
    "import bfunc "
   ]
  },
  {
   "cell_type": "code",
   "execution_count": 3,
   "metadata": {},
   "outputs": [],
   "source": [
    "name = 'N595'"
   ]
  },
  {
   "cell_type": "code",
   "execution_count": 4,
   "metadata": {},
   "outputs": [],
   "source": [
    "pickle_in = open('VFM//' + name + '.pkl',\"rb\")\n",
    "data = pickle.load(pickle_in)\n",
    "sb = data['sb']\n",
    "vv = data['vv']\n",
    "ss = data['ss']"
   ]
  },
  {
   "cell_type": "code",
   "execution_count": 5,
   "metadata": {},
   "outputs": [
    {
     "name": "stderr",
     "output_type": "stream",
     "text": [
      "<ipython-input-5-95afb24455fa>:2: RuntimeWarning: invalid value encountered in less\n",
      "  m = ~np.isfinite(sb*vv*ss) | (sb < 0.0)\n"
     ]
    }
   ],
   "source": [
    "## Replace spurious values in the arrays\n",
    "m = ~np.isfinite(sb*vv*ss) | (sb < 0.0)\n",
    "\n",
    "sb[m] = 0.0\n",
    "vv[m] = np.nanmean(vv)\n",
    "ss[m] = 0.0\n",
    "sb /= sb.max()\n",
    "\n",
    "good = (~m) & (sb > 0.001)"
   ]
  },
  {
   "cell_type": "code",
   "execution_count": 6,
   "metadata": {},
   "outputs": [
    {
     "data": {
      "text/plain": [
       "(166, 207)"
      ]
     },
     "execution_count": 6,
     "metadata": {},
     "output_type": "execute_result"
    }
   ],
   "source": [
    "sb.shape"
   ]
  },
  {
   "cell_type": "code",
   "execution_count": 7,
   "metadata": {},
   "outputs": [],
   "source": [
    "box_size = np.sqrt(166 * 207) * data['pix'] * data['pc']"
   ]
  },
  {
   "cell_type": "code",
   "execution_count": 8,
   "metadata": {},
   "outputs": [
    {
     "name": "stderr",
     "output_type": "stream",
     "text": [
      "C:\\Users\\ZAINTEL2\\Dropbox\\Articulos\\PhD\\PhD-master02\\strucfunc.py:83: RuntimeWarning: invalid value encountered in true_divide\n",
      "  'Unweighted B(r)': sf/nsf,\n",
      "C:\\Users\\ZAINTEL2\\Dropbox\\Articulos\\PhD\\PhD-master02\\strucfunc.py:84: RuntimeWarning: invalid value encountered in true_divide\n",
      "  'Weighted B(r)': wsf/weight}\n"
     ]
    }
   ],
   "source": [
    "rslt = strucfunc.strucfunc_numba_parallel(data['vv'], wmap=data['sb'], dlogr=0.05)"
   ]
  },
  {
   "cell_type": "code",
   "execution_count": 9,
   "metadata": {},
   "outputs": [],
   "source": [
    "good = (~m) & (sb > 0.001)\n",
    "rslt[\"Unweighted mean velocity\"] = np.mean(vv[good])\n",
    "rslt[\"Unweighted sigma^2\"] = np.var(vv[good])\n",
    "v0w = rslt[\"Weighted mean velocity\"] = np.average(vv, weights=sb)\n",
    "rslt[\"Weighted sigma^2\"] = np.average((vv - v0w)**2, weights=sb)"
   ]
  },
  {
   "cell_type": "code",
   "execution_count": 10,
   "metadata": {},
   "outputs": [],
   "source": [
    "b2 = rslt['Unweighted B(r)']\n",
    "e_b2 = b2  *.1\n",
    "s = 10**rslt['log10 r'] * data['pix'] * data['pc']\n",
    "e_s = s  *.1\n",
    "sig2 = rslt['Unweighted sigma^2']\n",
    "sig = sig2**0.5"
   ]
  },
  {
   "cell_type": "code",
   "execution_count": 11,
   "metadata": {},
   "outputs": [
    {
     "data": {
      "text/plain": [
       "10.145728875760138"
      ]
     },
     "execution_count": 11,
     "metadata": {},
     "output_type": "execute_result"
    }
   ],
   "source": [
    "r0 = np.interp(sig2, b2, s)\n",
    "r0"
   ]
  },
  {
   "cell_type": "markdown",
   "metadata": {},
   "source": [
    "x = s\n",
    "y = b2 - sig2\n",
    "tck=interpolate.splrep(x,y,s=0)\n",
    "grid=np.linspace(x.min(),x.max(),num=len(x))\n",
    "ynew=interpolate.splev(grid,tck,der=0)\n",
    "inter=pd.DataFrame([grid,ynew]).T\n",
    "SFr=interpolate.sproot(tck)\n",
    "r0 = SFr[0]"
   ]
  },
  {
   "cell_type": "code",
   "execution_count": 12,
   "metadata": {},
   "outputs": [
    {
     "name": "stderr",
     "output_type": "stream",
     "text": [
      "C:\\Users\\ZAINTEL2\\anaconda3\\lib\\site-packages\\numpy\\lib\\function_base.py:1405: RuntimeWarning: invalid value encountered in remainder\n",
      "  xp = xp % period\n"
     ]
    },
    {
     "data": {
      "text/plain": [
       "1.8544359048781338"
      ]
     },
     "execution_count": 12,
     "metadata": {},
     "output_type": "execute_result"
    }
   ],
   "source": [
    "r1 = np.interp(sig, b2, s,period = 360)\n",
    "r1"
   ]
  },
  {
   "cell_type": "code",
   "execution_count": 13,
   "metadata": {},
   "outputs": [
    {
     "data": {
      "text/plain": [
       "165.04719629479692"
      ]
     },
     "execution_count": 13,
     "metadata": {},
     "output_type": "execute_result"
    }
   ],
   "source": [
    "r2 = np.interp(2*sig2, b2, s, period = 360)\n",
    "r2"
   ]
  },
  {
   "cell_type": "code",
   "execution_count": 14,
   "metadata": {},
   "outputs": [
    {
     "data": {
      "text/plain": [
       "(44.12786785616313, 10.145728875760138, 1.0, 1.5563445559185105, 0.1)"
      ]
     },
     "execution_count": 14,
     "metadata": {},
     "output_type": "execute_result"
    },
    {
     "data": {
      "image/png": "[encoded data removed]",
      "text/plain": [
       "<Figure size 576x432 with 1 Axes>"
      ]
     },
     "metadata": {
      "needs_background": "light"
     },
     "output_type": "display_data"
    }
   ],
   "source": [
    "m = 1.0\n",
    "s0 = data['s0']\n",
    "noise = 1/10\n",
    "\n",
    "\n",
    "fig, ax = plt.subplots(figsize=(8, 6))\n",
    "rgrid = np.logspace(0, 2.15)\n",
    "ax.errorbar(s, b2, yerr=e_b2, xerr=e_s, fmt='o', alpha=0.4,color=\"blue\")\n",
    "\n",
    "\n",
    "ax.axhline(sig2, ls='-')\n",
    "ax.axvline(r0, ls='-')\n",
    "\n",
    "ax.axhline(2*sig2, ls=':')\n",
    "ax.axvline(r2, ls=':')\n",
    "\n",
    "ax.axhline(sig, ls=':')\n",
    "ax.axvline(r1, ls=':')\n",
    "\n",
    "ax.plot(rgrid, bfunc.bfunc00s(rgrid, r0, sig2, m), color=\"0.8\")\n",
    "ax.plot(rgrid, bfunc.bfunc03s(rgrid, r0, sig2, m, s0, noise), color=\"red\")\n",
    "ax.plot(rgrid, bfunc.bfunc04s(rgrid, r0, sig2, m, s0, noise, box_size), color=\"black\")\n",
    "\n",
    "\n",
    "ax.set(xscale='log', yscale='log', \n",
    "       xlabel='separation, pc',\n",
    "       ylabel=r'$b^2,\\ \\mathrm{km^2\\ s^{-2}}$'\n",
    "      )\n",
    "None\n",
    "\n",
    "sig2, r0, m, s0, noise"
   ]
  },
  {
   "cell_type": "code",
   "execution_count": 15,
   "metadata": {},
   "outputs": [
    {
     "data": {
      "text/plain": [
       "{'log10 r': array([0.  , 0.05, 0.1 , 0.15, 0.2 , 0.25, 0.3 , 0.35, 0.4 , 0.45, 0.5 ,\n",
       "        0.55, 0.6 , 0.65, 0.7 , 0.75, 0.8 , 0.85, 0.9 , 0.95, 1.  , 1.05,\n",
       "        1.1 , 1.15, 1.2 , 1.25, 1.3 , 1.35, 1.4 , 1.45, 1.5 , 1.55, 1.6 ,\n",
       "        1.65, 1.7 , 1.75, 1.8 , 1.85, 1.9 , 1.95, 2.  , 2.05, 2.1 , 2.15,\n",
       "        2.2 , 2.25, 2.3 , 2.35]),\n",
       " 'Sum dv^2': array([1.68869228e+04, 0.00000000e+00, 0.00000000e+00, 6.08004392e+04,\n",
       "        0.00000000e+00, 0.00000000e+00, 2.54084440e+05, 0.00000000e+00,\n",
       "        0.00000000e+00, 2.14976004e+05, 3.22607823e+05, 3.76609542e+05,\n",
       "        7.68347733e+05, 1.14776217e+06, 1.14669417e+06, 1.73225193e+06,\n",
       "        3.30626877e+06, 3.04182651e+06, 4.79959395e+06, 7.11917491e+06,\n",
       "        1.17588578e+07, 1.32803356e+07, 1.85227861e+07, 2.88157129e+07,\n",
       "        3.51097633e+07, 4.90265753e+07, 6.69278795e+07, 8.44296242e+07,\n",
       "        1.04592899e+08, 1.27723294e+08, 1.58612910e+08, 1.72020910e+08,\n",
       "        2.08975716e+08, 2.35981136e+08, 2.72998523e+08, 2.85699849e+08,\n",
       "        2.74731802e+08, 2.70437320e+08, 2.54322621e+08, 2.10830448e+08,\n",
       "        1.66198287e+08, 1.13093551e+08, 7.56580300e+07, 6.75696181e+07,\n",
       "        3.16926841e+07, 4.38526080e+06, 2.65053547e+05, 0.00000000e+00]),\n",
       " 'Sum weights': array([5.91382133e+02, 0.00000000e+00, 0.00000000e+00, 1.17673082e+03,\n",
       "        0.00000000e+00, 0.00000000e+00, 2.90967033e+03, 0.00000000e+00,\n",
       "        0.00000000e+00, 1.72359889e+03, 2.28376737e+03, 2.26113866e+03,\n",
       "        3.90254413e+03, 4.93433731e+03, 4.32615669e+03, 5.82975332e+03,\n",
       "        9.82148373e+03, 8.05689644e+03, 1.12610677e+04, 1.46388280e+04,\n",
       "        2.07935942e+04, 2.02272158e+04, 2.45465962e+04, 3.26711656e+04,\n",
       "        3.44518657e+04, 4.18016744e+04, 5.02899973e+04, 5.60598429e+04,\n",
       "        6.30567873e+04, 7.12871317e+04, 8.63327641e+04, 9.45640685e+04,\n",
       "        1.16092901e+05, 1.30822630e+05, 1.48973619e+05, 1.56925106e+05,\n",
       "        1.50814554e+05, 1.31377970e+05, 1.00509683e+05, 7.36412083e+04,\n",
       "        5.43228092e+04, 4.69175201e+04, 3.49526498e+04, 1.76616506e+04,\n",
       "        6.56773678e+03, 1.08562569e+03, 5.41292398e+01, 0.00000000e+00]),\n",
       " 'Sum w * dv^2': array([9.36495151e+02, 0.00000000e+00, 0.00000000e+00, 3.67353438e+03,\n",
       "        0.00000000e+00, 0.00000000e+00, 1.62991034e+04, 0.00000000e+00,\n",
       "        0.00000000e+00, 1.42983993e+04, 2.21538854e+04, 2.62966923e+04,\n",
       "        5.42908425e+04, 8.19435425e+04, 8.30885561e+04, 1.24998286e+05,\n",
       "        2.39707088e+05, 2.19540807e+05, 3.39639215e+05, 4.92847123e+05,\n",
       "        7.88252189e+05, 8.52859365e+05, 1.14349755e+06, 1.69392370e+06,\n",
       "        1.97574043e+06, 2.63726279e+06, 3.43495362e+06, 4.11233905e+06,\n",
       "        4.82048523e+06, 5.68580682e+06, 7.09477772e+06, 7.84028061e+06,\n",
       "        9.66919324e+06, 1.09197906e+07, 1.20553327e+07, 1.14376880e+07,\n",
       "        9.44986689e+06, 7.93522199e+06, 6.56973064e+06, 4.66460772e+06,\n",
       "        3.65898078e+06, 3.04061752e+06, 1.71301123e+06, 1.34647938e+06,\n",
       "        5.93319217e+05, 6.04700089e+04, 2.84154209e+03, 0.00000000e+00]),\n",
       " 'N pairs': array([   6465,       0,       0,   12805,       0,       0,   31735,\n",
       "              0,       0,   18896,   25063,   24907,   43152,   55007,\n",
       "          48431,   65955,  112355,   93202,  132225,  174972,  254103,\n",
       "         253374,  315611,  433981,  474924,  601458,  755665,  884642,\n",
       "        1039324, 1224251, 1518432, 1677799, 2073266, 2362302, 2738948,\n",
       "        3029416, 3190623, 3182415, 2866728, 2422295, 1945177, 1566882,\n",
       "        1227713,  803431,  359125,   74497,    4890,       0], dtype=int64),\n",
       " 'Unweighted B(r)': array([  2.61205302,          nan,          nan,   4.74817955,\n",
       "                 nan,          nan,   8.0064421 ,          nan,\n",
       "                 nan,  11.37679953,  12.87187579,  15.12063044,\n",
       "         17.80561117,  20.86574751,  23.67686329,  26.26414874,\n",
       "         29.42698384,  32.63692315,  36.29868743,  40.68750951,\n",
       "         46.27595015,  52.41396368,  58.68865826,  66.39855876,\n",
       "         73.92711957,  81.51288259,  88.56818759,  95.43931237,\n",
       "        100.63550838, 104.32770265, 104.45835543, 102.52772221,\n",
       "        100.79541917,  99.89456742,  99.67276607,  94.30855633,\n",
       "         86.10600553,  84.97864661,  88.71529527,  87.03747805,\n",
       "         85.44121547,  72.17745233,  61.6251762 ,  84.10133303,\n",
       "         88.24972956,  58.8649315 ,  54.20317937,          nan]),\n",
       " 'Weighted B(r)': array([ 1.58357025,         nan,         nan,  3.12181368,         nan,\n",
       "                nan,  5.60170105,         nan,         nan,  8.29566518,\n",
       "         9.70058759, 11.62984506, 13.91165371, 16.60679792, 19.20609032,\n",
       "        21.44143649, 24.40640284, 27.24880583, 30.1604806 , 33.66711618,\n",
       "        37.90841461, 42.16395241, 46.58477049, 51.84766648, 57.34785027,\n",
       "        63.08988411, 68.30291908, 73.35623576, 76.44673056, 79.75923115,\n",
       "        82.17943436, 82.90972181, 83.28841114, 83.47019658, 80.92260079,\n",
       "        72.88628508, 62.65885262, 60.39994373, 65.3641566 , 63.34235712,\n",
       "        67.35625109, 64.80772047, 49.00948113, 76.23746033, 90.33845849,\n",
       "        55.70060593, 52.49551082,         nan]),\n",
       " 'Unweighted mean velocity': 2.821990872789504,\n",
       " 'Unweighted sigma^2': 44.12786785616313,\n",
       " 'Weighted mean velocity': 2.6951380952860835,\n",
       " 'Weighted sigma^2': 34.39936397445658}"
      ]
     },
     "execution_count": 15,
     "metadata": {},
     "output_type": "execute_result"
    }
   ],
   "source": [
    "rslt"
   ]
  },
  {
   "cell_type": "code",
   "execution_count": 16,
   "metadata": {},
   "outputs": [],
   "source": [
    "N595 = { 'VF' : data,\n",
    "        'SF' : rslt,\n",
    "        's' : s,\n",
    "        'b2' : b2,\n",
    "        'sig2' : sig2,\n",
    "        'pc' : data['pc'],\n",
    "        'r0' : r0,\n",
    "        'r1' : r1,\n",
    "        'r2' : r2,\n",
    "        's0' : data['s0'],\n",
    "        'm' : m,\n",
    "        'pix' : data['pix'],\n",
    "        'box_size': box_size} "
   ]
  },
  {
   "cell_type": "code",
   "execution_count": 17,
   "metadata": {},
   "outputs": [],
   "source": [
    "f = open('Results\\\\SF'+ name + '.pkl',\"wb\")\n",
    "pickle.dump(N595,f)\n",
    "f.close()"
   ]
  },
  {
   "cell_type": "code",
   "execution_count": null,
   "metadata": {},
   "outputs": [],
   "source": []
  },
  {
   "cell_type": "code",
   "execution_count": 18,
   "metadata": {},
   "outputs": [
    {
     "name": "stdout",
     "output_type": "stream",
     "text": [
      "--- 13.365214109420776 seconds ---\n"
     ]
    }
   ],
   "source": [
    "print(\"--- %s seconds ---\" % (time.time()-start_time))"
   ]
  }
 ],
 "metadata": {
  "kernelspec": {
   "display_name": "Python 3",
   "language": "python",
   "name": "python3"
  },
  "language_info": {
   "codemirror_mode": {
    "name": "ipython",
    "version": 3
   },
   "file_extension": ".py",
   "mimetype": "text/x-python",
   "name": "python",
   "nbconvert_exporter": "python",
   "pygments_lexer": "ipython3",
   "version": "3.8.3"
  }
 },
 "nbformat": 4,
 "nbformat_minor": 4
}
