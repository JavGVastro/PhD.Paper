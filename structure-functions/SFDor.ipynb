{
 "cells": [
  {
   "cell_type": "code",
   "execution_count": 1,
   "metadata": {},
   "outputs": [],
   "source": [
    "import time\n",
    "start_time=time.time()"
   ]
  },
  {
   "cell_type": "code",
   "execution_count": 2,
   "metadata": {},
   "outputs": [],
   "source": [
    "from matplotlib import pyplot as plt\n",
    "import seaborn as sns\n",
    "import numpy as np\n",
    "import pandas as pd\n",
    "from scipy import interpolate\n",
    "import pickle\n",
    "\n",
    "import strucfunc\n",
    "from strucfunc import sosflog\n",
    "import bfunc"
   ]
  },
  {
   "cell_type": "code",
   "execution_count": 3,
   "metadata": {},
   "outputs": [],
   "source": [
    "name = 'Dor'"
   ]
  },
  {
   "cell_type": "code",
   "execution_count": 4,
   "metadata": {},
   "outputs": [],
   "source": [
    "pickle_in = open('VFM//' + name + '.pkl',\"rb\")\n",
    "data = pickle.load(pickle_in)\n",
    "sb = data['sb']\n",
    "vv = data['vv']\n",
    "ss = data['ss']"
   ]
  },
  {
   "cell_type": "code",
   "execution_count": 5,
   "metadata": {},
   "outputs": [],
   "source": [
    "## Replace spurious values in the arrays\n",
    "m = ~np.isfinite(sb*vv*ss) | (sb < 0.0)\n",
    "\n",
    "sb[m] = 0.0\n",
    "vv[m] = np.nanmean(vv)\n",
    "ss[m] = 0.0\n",
    "sb /= sb.max()\n",
    "\n",
    "good = (~m) & (sb > 0.001)"
   ]
  },
  {
   "cell_type": "code",
   "execution_count": 6,
   "metadata": {},
   "outputs": [
    {
     "data": {
      "text/plain": [
       "(650, 650)"
      ]
     },
     "execution_count": 6,
     "metadata": {},
     "output_type": "execute_result"
    }
   ],
   "source": [
    "sb.shape"
   ]
  },
  {
   "cell_type": "code",
   "execution_count": 7,
   "metadata": {},
   "outputs": [],
   "source": [
    "box_size = np.sqrt(650 * 650) * data['pix'] * data['pc']"
   ]
  },
  {
   "cell_type": "code",
   "execution_count": 8,
   "metadata": {},
   "outputs": [
    {
     "name": "stderr",
     "output_type": "stream",
     "text": [
      "C:\\Users\\ZAINTEL2\\Dropbox\\Articulos\\PhD\\PhD-master02\\strucfunc.py:83: RuntimeWarning: invalid value encountered in true_divide\n",
      "  'Unweighted B(r)': sf/nsf,\n",
      "C:\\Users\\ZAINTEL2\\Dropbox\\Articulos\\PhD\\PhD-master02\\strucfunc.py:84: RuntimeWarning: invalid value encountered in true_divide\n",
      "  'Weighted B(r)': wsf/weight}\n"
     ]
    }
   ],
   "source": [
    "rslt = strucfunc.strucfunc_numba_parallel(data['vv'], wmap=data['sb'], dlogr=0.05)"
   ]
  },
  {
   "cell_type": "code",
   "execution_count": 9,
   "metadata": {},
   "outputs": [],
   "source": [
    "good = (~m) & (sb > 0.001)\n",
    "rslt[\"Unweighted mean velocity\"] = np.mean(vv[good])\n",
    "rslt[\"Unweighted sigma^2\"] = np.var(vv[good])\n",
    "v0w = rslt[\"Weighted mean velocity\"] = np.average(vv, weights=sb)\n",
    "rslt[\"Weighted sigma^2\"] = np.average((vv - v0w)**2, weights=sb)"
   ]
  },
  {
   "cell_type": "code",
   "execution_count": 10,
   "metadata": {},
   "outputs": [],
   "source": [
    "b2 = rslt['Unweighted B(r)']\n",
    "e_b2 = b2  *.1\n",
    "s = 10**rslt['log10 r'] * data['pix'] * data['pc']\n",
    "e_s = s  *.1\n",
    "sig2 = rslt['Unweighted sigma^2']\n",
    "sig = sig2**0.5"
   ]
  },
  {
   "cell_type": "code",
   "execution_count": 26,
   "metadata": {},
   "outputs": [
    {
     "data": {
      "text/plain": [
       "3.3516931069057883"
      ]
     },
     "execution_count": 26,
     "metadata": {},
     "output_type": "execute_result"
    }
   ],
   "source": [
    "r0 = np.interp(sig2, b2, s,period = 90)\n",
    "r0"
   ]
  },
  {
   "cell_type": "markdown",
   "metadata": {},
   "source": [
    "x = s\n",
    "y = b2 - sig2\n",
    "tck=interpolate.splrep(x,y,s=0)\n",
    "grid=np.linspace(x.min(),x.max(),num=len(x))\n",
    "ynew=interpolate.splev(grid,tck,der=0)\n",
    "inter=pd.DataFrame([grid,ynew]).T\n",
    "SFr=interpolate.sproot(tck)\n",
    "r0 = SFr[0]"
   ]
  },
  {
   "cell_type": "code",
   "execution_count": 12,
   "metadata": {},
   "outputs": [
    {
     "data": {
      "text/plain": [
       "0.17749101118305466"
      ]
     },
     "execution_count": 12,
     "metadata": {},
     "output_type": "execute_result"
    }
   ],
   "source": [
    "r1 = np.interp(sig, b2, s,period = 360)\n",
    "r1"
   ]
  },
  {
   "cell_type": "code",
   "execution_count": 13,
   "metadata": {},
   "outputs": [
    {
     "data": {
      "text/plain": [
       "1.4893367870202796"
      ]
     },
     "execution_count": 13,
     "metadata": {},
     "output_type": "execute_result"
    }
   ],
   "source": [
    "r2 = np.interp(2*sig2, b2, s, period = 360)\n",
    "r2"
   ]
  },
  {
   "cell_type": "code",
   "execution_count": 27,
   "metadata": {},
   "outputs": [
    {
     "data": {
      "text/plain": [
       "(252.11363212022405, 3.3516931069057883, 1.0, 0.21816615649929116, 10.0)"
      ]
     },
     "execution_count": 27,
     "metadata": {},
     "output_type": "execute_result"
    },
    {
     "data": {
      "image/png": "[encoded data removed]",
      "text/plain": [
       "<Figure size 576x432 with 1 Axes>"
      ]
     },
     "metadata": {
      "needs_background": "light"
     },
     "output_type": "display_data"
    }
   ],
   "source": [
    "m = 1.0\n",
    "noise = 10.0\n",
    "s0 = data['s0']\n",
    "\n",
    "fig, ax = plt.subplots(figsize=(8, 6))\n",
    "rgrid = np.logspace(-1, 2.0)\n",
    "ax.errorbar(s, b2, yerr=e_b2, xerr=e_s, fmt='o', alpha=0.4,color=\"blue\")\n",
    "\n",
    "\n",
    "ax.axhline(sig2, ls='-')\n",
    "ax.axvline(r0, ls='-')\n",
    "\n",
    "ax.axhline(2*sig2, ls=':')\n",
    "ax.axvline(r2, ls=':')\n",
    "\n",
    "ax.axhline(sig, ls=':')\n",
    "ax.axvline(r1, ls=':')\n",
    "\n",
    "ax.plot(rgrid, bfunc.bfunc00s(rgrid, r0, sig2, m), color=\"0.8\")\n",
    "ax.plot(rgrid, bfunc.bfunc03s(rgrid, r0, sig2, m, s0, noise), color=\"red\")\n",
    "ax.plot(rgrid, bfunc.bfunc04s(rgrid, r0, sig2, m, s0, noise, box_size), color=\"black\")\n",
    "\n",
    "\n",
    "ax.set(xscale='log', yscale='log', \n",
    "       xlabel='separation, pc',\n",
    "       ylabel=r'$b^2,\\ \\mathrm{km^2\\ s^{-2}}$'\n",
    "      )\n",
    "None\n",
    "\n",
    "sig2, r0, m, s0, noise"
   ]
  },
  {
   "cell_type": "code",
   "execution_count": 28,
   "metadata": {},
   "outputs": [
    {
     "data": {
      "text/plain": [
       "{'log10 r': array([0.  , 0.05, 0.1 , 0.15, 0.2 , 0.25, 0.3 , 0.35, 0.4 , 0.45, 0.5 ,\n",
       "        0.55, 0.6 , 0.65, 0.7 , 0.75, 0.8 , 0.85, 0.9 , 0.95, 1.  , 1.05,\n",
       "        1.1 , 1.15, 1.2 , 1.25, 1.3 , 1.35, 1.4 , 1.45, 1.5 , 1.55, 1.6 ,\n",
       "        1.65, 1.7 , 1.75, 1.8 , 1.85, 1.9 , 1.95, 2.  , 2.05, 2.1 , 2.15,\n",
       "        2.2 , 2.25, 2.3 , 2.35, 2.4 , 2.45, 2.5 , 2.55, 2.6 , 2.65, 2.7 ,\n",
       "        2.75, 2.8 , 2.85, 2.9 ]),\n",
       " 'Sum dv^2': array([4.86617781e+05, 0.00000000e+00, 0.00000000e+00, 6.34022538e+06,\n",
       "        0.00000000e+00, 0.00000000e+00, 1.75075795e+07, 0.00000000e+00,\n",
       "        0.00000000e+00, 1.21317258e+07, 1.93616908e+07, 2.24051519e+07,\n",
       "        3.83796631e+07, 5.78030531e+07, 6.26427410e+07, 9.38788049e+07,\n",
       "        1.90969879e+08, 1.84226024e+08, 2.93354900e+08, 4.53906666e+08,\n",
       "        7.78869898e+08, 9.06108502e+08, 1.29783240e+09, 2.08220099e+09,\n",
       "        2.63391174e+09, 3.85163807e+09, 5.60204275e+09, 7.64035068e+09,\n",
       "        1.03909367e+10, 1.41879127e+10, 2.05456672e+10, 2.65745483e+10,\n",
       "        3.84199018e+10, 5.12142577e+10, 7.01841754e+10, 9.42140463e+10,\n",
       "        1.25589310e+11, 1.70068031e+11, 2.21575091e+11, 2.89551018e+11,\n",
       "        3.76950687e+11, 4.78543756e+11, 6.05363002e+11, 7.54018592e+11,\n",
       "        9.47150717e+11, 1.18843011e+12, 1.47914729e+12, 1.84519154e+12,\n",
       "        2.24781732e+12, 2.71785984e+12, 3.27156718e+12, 3.73862541e+12,\n",
       "        3.95548428e+12, 3.75003252e+12, 2.87773725e+12, 1.37174744e+12,\n",
       "        3.72339242e+11, 5.38439354e+10, 1.31335225e+09]),\n",
       " 'Sum weights': array([8.09652840e+03, 0.00000000e+00, 0.00000000e+00, 1.61196246e+04,\n",
       "        0.00000000e+00, 0.00000000e+00, 4.02030380e+04, 0.00000000e+00,\n",
       "        0.00000000e+00, 2.40597779e+04, 3.19872729e+04, 3.18779428e+04,\n",
       "        5.57304255e+04, 7.13166959e+04, 6.31921350e+04, 8.65545740e+04,\n",
       "        1.48596716e+05, 1.24252038e+05, 1.77799918e+05, 2.37751163e+05,\n",
       "        3.49799633e+05, 3.53450994e+05, 4.46849103e+05, 6.24711805e+05,\n",
       "        6.96663767e+05, 9.00763741e+05, 1.16124550e+06, 1.40238031e+06,\n",
       "        1.70139217e+06, 2.07748093e+06, 2.68613707e+06, 3.10373850e+06,\n",
       "        4.01729366e+06, 4.80689964e+06, 5.92795080e+06, 7.15679932e+06,\n",
       "        8.57415216e+06, 1.04334090e+07, 1.22733035e+07, 1.45768801e+07,\n",
       "        1.73191427e+07, 2.02403294e+07, 2.39444075e+07, 2.79984238e+07,\n",
       "        3.26579927e+07, 3.79023580e+07, 4.34745740e+07, 4.94236082e+07,\n",
       "        5.48572659e+07, 5.97410127e+07, 6.30937531e+07, 6.55281769e+07,\n",
       "        6.62576291e+07, 6.37416567e+07, 5.26907887e+07, 2.97221538e+07,\n",
       "        1.07357903e+07, 2.08538753e+06, 4.42042175e+04]),\n",
       " 'Sum w * dv^2': array([4.48122283e+03, 0.00000000e+00, 0.00000000e+00, 1.12004961e+05,\n",
       "        0.00000000e+00, 0.00000000e+00, 2.69861151e+05, 0.00000000e+00,\n",
       "        0.00000000e+00, 1.66864913e+05, 2.76291251e+05, 3.05780289e+05,\n",
       "        4.55800000e+05, 6.44924560e+05, 7.20863383e+05, 1.00718813e+06,\n",
       "        1.99822322e+06, 1.87424383e+06, 2.85384869e+06, 4.29417509e+06,\n",
       "        7.24126742e+06, 8.22671389e+06, 1.16144935e+07, 1.84715842e+07,\n",
       "        2.32119337e+07, 3.38916987e+07, 4.93178844e+07, 6.75502864e+07,\n",
       "        9.26402888e+07, 1.27688509e+08, 1.86912517e+08, 2.44559121e+08,\n",
       "        3.57579662e+08, 4.81592920e+08, 6.64513053e+08, 8.91923346e+08,\n",
       "        1.17957233e+09, 1.57888445e+09, 2.04158001e+09, 2.65281454e+09,\n",
       "        3.44698178e+09, 4.45041738e+09, 5.88978543e+09, 7.77254756e+09,\n",
       "        1.01786426e+10, 1.31009044e+10, 1.64805650e+10, 2.03448659e+10,\n",
       "        2.43443685e+10, 2.82472599e+10, 3.18949389e+10, 3.46844253e+10,\n",
       "        3.50373369e+10, 3.29697830e+10, 2.31064103e+10, 9.73554151e+09,\n",
       "        2.75942556e+09, 5.78096645e+08, 1.13899747e+07]),\n",
       " 'N pairs': array([    362380,          0,          0,     722996,          0,\n",
       "                 0,    1804726,          0,          0,    1081122,\n",
       "           1439953,    1437010,    2514431,    3224918,    2864883,\n",
       "           3932160,    6775619,    5688323,    8168512,   10979449,\n",
       "          16255525,   16543101,   21061856,   29707803,   33436207,\n",
       "          43669590,   56924453,   69590853,   85519166,  105862481,\n",
       "         138952468,  163144200,  214768789,  261682741,  329206381,\n",
       "         406648321,  500530310,  627955139,  763033486,  938876194,\n",
       "        1157874250, 1402859962, 1714872416, 2064115047, 2471744891,\n",
       "        2943984578, 3463050268, 4045382945, 4636518409, 5221858967,\n",
       "        5733969139, 6091059789, 6150290374, 5733444005, 4584471318,\n",
       "        2489280877,  838075909,  163079643,    5259501], dtype=int64),\n",
       " 'Unweighted B(r)': array([  1.3428384 ,          nan,          nan,   8.76937822,\n",
       "                 nan,          nan,   9.70096266,          nan,\n",
       "                 nan,  11.22142167,  13.44605745,  15.5915073 ,\n",
       "         15.26375672,  17.92388304,  21.865724  ,  23.87461469,\n",
       "         28.1848609 ,  32.38670237,  35.91289326,  41.34147949,\n",
       "         47.91416444,  54.77259081,  61.62003957,  70.08936303,\n",
       "         78.77423829,  88.19954741,  98.41188544, 109.7895822 ,\n",
       "        121.50418713, 134.02210606, 147.86111773, 162.88993618,\n",
       "        178.88959569, 195.71125511, 213.19202622, 231.68433618,\n",
       "        250.912497  , 270.82831241, 290.38711273, 308.40170443,\n",
       "        325.55408046, 341.12011803, 353.0076034 , 365.29872379,\n",
       "        383.19112947, 403.68082063, 427.12267383, 456.12283511,\n",
       "        484.8071597 , 520.4774492 , 570.55890969, 613.78898507,\n",
       "        643.13780893, 654.06281325, 627.71409079, 551.06173614,\n",
       "        444.2786602 , 330.16956904, 249.71042937]),\n",
       " 'Weighted B(r)': array([  0.5534746 ,          nan,          nan,   6.94836042,\n",
       "                 nan,          nan,   6.71245669,          nan,\n",
       "                 nan,   6.93543033,   8.63753694,   9.59222153,\n",
       "          8.17865638,   9.04310767,  11.40748581,  11.63645182,\n",
       "         13.44729053,  15.08420999,  16.0508999 ,  18.06163654,\n",
       "         20.70118644,  23.27540176,  25.99198116,  29.56816901,\n",
       "         33.31870378,  37.62551398,  42.46981755,  48.16830768,\n",
       "         54.44969755,  61.46314361,  69.58413206,  78.79501495,\n",
       "         89.01008795, 100.18784583, 112.09827404, 124.62601045,\n",
       "        137.57305766, 151.32968102, 166.34315445, 181.98781382,\n",
       "        199.0272758 , 219.87870351, 245.97749712, 277.60661118,\n",
       "        311.67385823, 345.64879549, 379.0851417 , 411.64266713,\n",
       "        443.77655611, 472.82860913, 505.51659064, 529.30551379,\n",
       "        528.80456788, 517.24076109, 438.52845753, 327.55168374,\n",
       "        257.03050112, 277.21305384, 257.66714835]),\n",
       " 'Unweighted mean velocity': 265.5564256804925,\n",
       " 'Unweighted sigma^2': 252.11363212022405,\n",
       " 'Weighted mean velocity': 262.790913021741,\n",
       " 'Weighted sigma^2': 195.8367323746578}"
      ]
     },
     "execution_count": 28,
     "metadata": {},
     "output_type": "execute_result"
    }
   ],
   "source": [
    "rslt"
   ]
  },
  {
   "cell_type": "code",
   "execution_count": 29,
   "metadata": {},
   "outputs": [],
   "source": [
    "Dor = { 'VF' : data,\n",
    "        'SF' : rslt,\n",
    "        's' : s,\n",
    "        'b2' : b2,\n",
    "        'sig2' : sig2,\n",
    "        'pc' : data['pc'],\n",
    "        'r0' : r0,\n",
    "        'r1' : r1,\n",
    "        'r2' : r2,\n",
    "        's0' : data['s0'],\n",
    "        'pix' : data['pix'],\n",
    "        'box_size': box_size}"
   ]
  },
  {
   "cell_type": "code",
   "execution_count": 30,
   "metadata": {},
   "outputs": [],
   "source": [
    "f = open('Results\\\\SF'+ name + '.pkl',\"wb\")\n",
    "pickle.dump(Dor,f)\n",
    "f.close()"
   ]
  },
  {
   "cell_type": "code",
   "execution_count": null,
   "metadata": {},
   "outputs": [],
   "source": []
  },
  {
   "cell_type": "code",
   "execution_count": 31,
   "metadata": {},
   "outputs": [
    {
     "name": "stdout",
     "output_type": "stream",
     "text": [
      "--- 921.3182220458984 seconds ---\n"
     ]
    }
   ],
   "source": [
    "print(\"--- %s seconds ---\" % (time.time()-start_time))"
   ]
  }
 ],
 "metadata": {
  "kernelspec": {
   "display_name": "Python 3",
   "language": "python",
   "name": "python3"
  },
  "language_info": {
   "codemirror_mode": {
    "name": "ipython",
    "version": 3
   },
   "file_extension": ".py",
   "mimetype": "text/x-python",
   "name": "python",
   "nbconvert_exporter": "python",
   "pygments_lexer": "ipython3",
   "version": "3.8.3"
  }
 },
 "nbformat": 4,
 "nbformat_minor": 4
}
