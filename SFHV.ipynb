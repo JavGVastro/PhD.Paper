{
 "cells": [
  {
   "cell_type": "code",
   "execution_count": 1,
   "metadata": {},
   "outputs": [],
   "source": [
    "import time\n",
    "start_time=time.time()"
   ]
  },
  {
   "cell_type": "code",
   "execution_count": 2,
   "metadata": {},
   "outputs": [],
   "source": [
    "from matplotlib import pyplot as plt\n",
    "import seaborn as sns\n",
    "import numpy as np\n",
    "import pandas as pd\n",
    "from scipy import interpolate\n",
    "import pickle\n",
    "\n",
    "import strucfunc\n",
    "from strucfunc import sosflog\n",
    "from bfunc import bfunc00,bfunc01,bfunc02"
   ]
  },
  {
   "cell_type": "code",
   "execution_count": 3,
   "metadata": {},
   "outputs": [],
   "source": [
    "name = 'HV'"
   ]
  },
  {
   "cell_type": "code",
   "execution_count": 4,
   "metadata": {},
   "outputs": [],
   "source": [
    "pickle_in = open('VFM//' + name + '.pkl',\"rb\")\n",
    "data = pickle.load(pickle_in)\n",
    "sb = data['sb']\n",
    "vv = data['vv']\n",
    "#ss = data['ss']"
   ]
  },
  {
   "cell_type": "code",
   "execution_count": 5,
   "metadata": {},
   "outputs": [
    {
     "name": "stderr",
     "output_type": "stream",
     "text": [
      "<ipython-input-5-d54fa62d4697>:2: RuntimeWarning: invalid value encountered in less\n",
      "  m = ~np.isfinite(sb*vv) | (sb < 0.0)\n"
     ]
    }
   ],
   "source": [
    "## Replace spurious values in the arrays\n",
    "m = ~np.isfinite(sb*vv) | (sb < 0.0)\n",
    "\n",
    "sb[m] = 0.0\n",
    "vv[m] = np.nanmean(vv)\n",
    "#ss[m] = 0.0\n",
    "sb /= sb.max()\n",
    "\n",
    "good = (~m) & (sb > 0.001)"
   ]
  },
  {
   "cell_type": "code",
   "execution_count": 6,
   "metadata": {},
   "outputs": [],
   "source": [
    "rslt = strucfunc.strucfunc_numba_parallel(data['vv'], wmap=data['sb'], dlogr=0.15)"
   ]
  },
  {
   "cell_type": "code",
   "execution_count": 7,
   "metadata": {},
   "outputs": [],
   "source": [
    "good = (~m) & (sb > 0.001)\n",
    "rslt[\"Unweighted mean velocity\"] = np.mean(vv[good])\n",
    "rslt[\"Unweighted sigma^2\"] = np.var(vv[good])\n",
    "v0w = rslt[\"Weighted mean velocity\"] = np.average(vv, weights=sb)\n",
    "rslt[\"Weighted sigma^2\"] = np.average((vv - v0w)**2, weights=sb)"
   ]
  },
  {
   "cell_type": "code",
   "execution_count": 8,
   "metadata": {},
   "outputs": [],
   "source": [
    "b2 = rslt['Unweighted B(r)']\n",
    "e_b2 = b2  *.1\n",
    "s = 10**rslt['log10 r'] * data['pix'] * data['pc']\n",
    "e_s = s  *.1\n",
    "sig2 = rslt['Unweighted sigma^2']\n",
    "sig = sig2**0.5"
   ]
  },
  {
   "cell_type": "code",
   "execution_count": 9,
   "metadata": {},
   "outputs": [],
   "source": [
    "#r0 = np.interp(sig2, b2, s,period = 360)\n",
    "#r0"
   ]
  },
  {
   "cell_type": "code",
   "execution_count": 10,
   "metadata": {},
   "outputs": [],
   "source": [
    "x = s\n",
    "y = b2 - sig2\n",
    "tck=interpolate.splrep(x,y,s=0)\n",
    "grid=np.linspace(x.min(),x.max(),num=len(x))\n",
    "ynew=interpolate.splev(grid,tck,der=0)\n",
    "inter=pd.DataFrame([grid,ynew]).T\n",
    "SFr=interpolate.sproot(tck)\n",
    "r0 = SFr[0]"
   ]
  },
  {
   "cell_type": "code",
   "execution_count": 11,
   "metadata": {},
   "outputs": [
    {
     "data": {
      "text/plain": [
       "1.0702230820834315"
      ]
     },
     "execution_count": 11,
     "metadata": {},
     "output_type": "execute_result"
    }
   ],
   "source": [
    "r1 = np.interp(sig, b2, s,period = 360)\n",
    "r1"
   ]
  },
  {
   "cell_type": "code",
   "execution_count": 12,
   "metadata": {},
   "outputs": [
    {
     "data": {
      "text/plain": [
       "12.06162715976092"
      ]
     },
     "execution_count": 12,
     "metadata": {},
     "output_type": "execute_result"
    }
   ],
   "source": [
    "r2 = np.interp(2*sig2, b2, s, period = 360)\n",
    "r2"
   ]
  },
  {
   "cell_type": "code",
   "execution_count": 13,
   "metadata": {},
   "outputs": [],
   "source": [
    "m = 1.5"
   ]
  },
  {
   "cell_type": "code",
   "execution_count": 14,
   "metadata": {},
   "outputs": [
    {
     "data": {
      "text/plain": [
       "(7.864699245044958, 2.7246536445912195, 1.5)"
      ]
     },
     "execution_count": 14,
     "metadata": {},
     "output_type": "execute_result"
    },
    {
     "data": {
      "image/png": "[encoded data removed]",
      "text/plain": [
       "<Figure size 576x432 with 1 Axes>"
      ]
     },
     "metadata": {
      "needs_background": "light"
     },
     "output_type": "display_data"
    }
   ],
   "source": [
    "fig, ax = plt.subplots(figsize=(8, 6))\n",
    "rgrid = np.logspace(0, 2.15)\n",
    "ax.errorbar(s, b2, yerr=e_b2, xerr=e_s, fmt='o', alpha=0.4,color=\"blue\")\n",
    "\n",
    "\n",
    "ax.axhline(sig2, ls='-')\n",
    "ax.axvline(r0, ls='-')\n",
    "\n",
    "ax.axhline(2*sig2, ls=':')\n",
    "ax.axvline(r2, ls=':')\n",
    "\n",
    "ax.axhline(sig, ls=':')\n",
    "ax.axvline(r1, ls=':')\n",
    "\n",
    "ax.plot(rgrid, bfunc00(rgrid, r0, sig2, m), color=\"0.8\")\n",
    "ax.plot(rgrid, bfunc02(rgrid, r0, sig2, m, data['s0'], 1.0), color=\"red\")\n",
    "\n",
    "ax.set(xscale='log', yscale='log', \n",
    "       xlabel='separation',\n",
    "       ylabel=r'$b^2,\\ \\mathrm{km^2\\ s^{-2}}$'\n",
    "      )\n",
    "None\n",
    "\n",
    "sig2, r0, m"
   ]
  },
  {
   "cell_type": "code",
   "execution_count": 15,
   "metadata": {},
   "outputs": [
    {
     "data": {
      "text/plain": [
       "{'log10 r': array([0.  , 0.15, 0.3 , 0.45, 0.6 , 0.75, 0.9 , 1.05, 1.2 , 1.35, 1.5 ,\n",
       "        1.65, 1.8 , 1.95]),\n",
       " 'Sum dv^2': array([6.89789180e+03, 2.42380623e+04, 9.30458441e+04, 3.07191105e+05,\n",
       "        9.32696215e+05, 2.09363674e+06, 5.00675486e+06, 1.08144170e+07,\n",
       "        2.29401586e+07, 4.23652721e+07, 6.82177264e+07, 7.18341095e+07,\n",
       "        3.61623971e+07, 4.28752532e+06]),\n",
       " 'Sum weights': array([   321.37691939,    640.60909275,   1590.39403603,   3446.3217432 ,\n",
       "          7298.87511122,  13229.00434465,  25967.87130549,  42032.6107859 ,\n",
       "         65988.8076392 ,  93118.7562033 , 115960.91930306,  99592.41635161,\n",
       "         50606.92885469,   5040.83226636]),\n",
       " 'Sum w * dv^2': array([1.84785866e+02, 7.31735895e+02, 3.13401777e+03, 1.18037325e+04,\n",
       "        4.05454735e+04, 1.06460712e+05, 2.88319075e+05, 6.04135038e+05,\n",
       "        1.07174766e+06, 1.60630128e+06, 2.03622197e+06, 1.52652321e+06,\n",
       "        7.09561116e+05, 9.07247542e+04]),\n",
       " 'N pairs': array([   5505,   10962,   27191,   59011,  125921,  233409,  482220,\n",
       "         857654, 1542777, 2555329, 3827345, 4287157, 2510836,  305819],\n",
       "       dtype=int64),\n",
       " 'Unweighted B(r)': array([ 1.25302303,  2.21109855,  3.42193535,  5.20565835,  7.40699498,\n",
       "         8.96982009, 10.38271922, 12.60930048, 14.86939372, 16.57918496,\n",
       "        17.82377246, 16.7556517 , 14.4025325 , 14.01981342]),\n",
       " 'Weighted B(r)': array([ 0.57498176,  1.14225025,  1.970592  ,  3.42502336,  5.55503046,\n",
       "         8.04752264, 11.10291526, 14.37300769, 16.24135519, 17.25002935,\n",
       "        17.55955351, 15.32770528, 14.021027  , 17.99797125]),\n",
       " 'Unweighted mean velocity': -1.2349777091906722,\n",
       " 'Unweighted sigma^2': 7.864699245044958,\n",
       " 'Weighted mean velocity': -1.0550407479756607,\n",
       " 'Weighted sigma^2': 7.702739173777909}"
      ]
     },
     "execution_count": 15,
     "metadata": {},
     "output_type": "execute_result"
    }
   ],
   "source": [
    "rslt"
   ]
  },
  {
   "cell_type": "code",
   "execution_count": 16,
   "metadata": {},
   "outputs": [],
   "source": [
    "N595 = { 'VF' : data,\n",
    "        'SF' : rslt,\n",
    "        's' : s,\n",
    "        'b2' : b2,\n",
    "        'sig2' : sig2,\n",
    "        'pc' : data['pc'],\n",
    "        'r0' : r0,\n",
    "        'r1' : r1,\n",
    "        'r2' : r2,\n",
    "        's0' : data['s0'],\n",
    "        'm' : m}"
   ]
  },
  {
   "cell_type": "code",
   "execution_count": 17,
   "metadata": {},
   "outputs": [],
   "source": [
    "f = open('SFresults\\\\'+ name + '.pkl',\"wb\")\n",
    "pickle.dump(N595,f)\n",
    "f.close()"
   ]
  },
  {
   "cell_type": "code",
   "execution_count": null,
   "metadata": {},
   "outputs": [],
   "source": []
  },
  {
   "cell_type": "code",
   "execution_count": 18,
   "metadata": {},
   "outputs": [
    {
     "name": "stdout",
     "output_type": "stream",
     "text": [
      "--- 8.448791265487671 seconds ---\n"
     ]
    }
   ],
   "source": [
    "print(\"--- %s seconds ---\" % (time.time()-start_time))"
   ]
  }
 ],
 "metadata": {
  "kernelspec": {
   "display_name": "Python 3",
   "language": "python",
   "name": "python3"
  },
  "language_info": {
   "codemirror_mode": {
    "name": "ipython",
    "version": 3
   },
   "file_extension": ".py",
   "mimetype": "text/x-python",
   "name": "python",
   "nbconvert_exporter": "python",
   "pygments_lexer": "ipython3",
   "version": "3.8.3"
  }
 },
 "nbformat": 4,
 "nbformat_minor": 4
}
