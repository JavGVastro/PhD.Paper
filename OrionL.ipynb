{
 "cells": [
  {
   "cell_type": "code",
   "execution_count": 1,
   "metadata": {},
   "outputs": [],
   "source": [
    "import time\n",
    "start_time=time.time()"
   ]
  },
  {
   "cell_type": "code",
   "execution_count": 2,
   "metadata": {},
   "outputs": [],
   "source": [
    "import time\n",
    "from astropy.io import fits\n",
    "import matplotlib.pyplot as plt\n",
    "import numpy as np\n",
    "from scipy.fftpack import fft\n",
    "import pandas as pd\n",
    "import seaborn as sns\n",
    "import math\n",
    "import sys\n",
    "import os\n",
    "from scipy import interpolate\n",
    "\n",
    "plt.rcParams[\"font.family\"]=\"Times New Roman\"\n",
    "plt.rcParams[\"font.size\"]=\"20\""
   ]
  },
  {
   "cell_type": "code",
   "execution_count": 3,
   "metadata": {},
   "outputs": [
    {
     "data": {
      "text/plain": [
       "(0.11926416555294585, 0.045578661994756374)"
      ]
     },
     "execution_count": 3,
     "metadata": {},
     "output_type": "execute_result"
    }
   ],
   "source": [
    "dist = 410 #parsecs\n",
    "pc = dist*(2*np.pi) / (360  * 60)\n",
    "s0=(0.9*pc)/2.355\n",
    "pc,s0"
   ]
  },
  {
   "cell_type": "code",
   "execution_count": 4,
   "metadata": {},
   "outputs": [
    {
     "data": {
      "text/html": [
       "<div>\n",
       "<style scoped>\n",
       "    .dataframe tbody tr th:only-of-type {\n",
       "        vertical-align: middle;\n",
       "    }\n",
       "\n",
       "    .dataframe tbody tr th {\n",
       "        vertical-align: top;\n",
       "    }\n",
       "\n",
       "    .dataframe thead th {\n",
       "        text-align: right;\n",
       "    }\n",
       "</style>\n",
       "<table border=\"1\" class=\"dataframe\">\n",
       "  <thead>\n",
       "    <tr style=\"text-align: right;\">\n",
       "      <th></th>\n",
       "      <th>1</th>\n",
       "      <th>2</th>\n",
       "      <th>3</th>\n",
       "      <th>4</th>\n",
       "      <th>5</th>\n",
       "      <th>6</th>\n",
       "      <th>7</th>\n",
       "      <th>8</th>\n",
       "      <th>9</th>\n",
       "      <th>10</th>\n",
       "      <th>...</th>\n",
       "      <th>19</th>\n",
       "      <th>20</th>\n",
       "      <th>21</th>\n",
       "      <th>22</th>\n",
       "      <th>23</th>\n",
       "      <th>24</th>\n",
       "      <th>25</th>\n",
       "      <th>26</th>\n",
       "      <th>27</th>\n",
       "      <th>28</th>\n",
       "    </tr>\n",
       "  </thead>\n",
       "  <tbody>\n",
       "    <tr>\n",
       "      <th>count</th>\n",
       "      <td>24.000000</td>\n",
       "      <td>24.000000</td>\n",
       "      <td>24.000000</td>\n",
       "      <td>24.000000</td>\n",
       "      <td>24.000000</td>\n",
       "      <td>24.000000</td>\n",
       "      <td>24.000000</td>\n",
       "      <td>24.000000</td>\n",
       "      <td>24.000000</td>\n",
       "      <td>24.000000</td>\n",
       "      <td>...</td>\n",
       "      <td>24.000000</td>\n",
       "      <td>24.000000</td>\n",
       "      <td>24.000000</td>\n",
       "      <td>24.000000</td>\n",
       "      <td>24.000000</td>\n",
       "      <td>24.000000</td>\n",
       "      <td>24.000000</td>\n",
       "      <td>24.000000</td>\n",
       "      <td>24.000000</td>\n",
       "      <td>24.000000</td>\n",
       "    </tr>\n",
       "    <tr>\n",
       "      <th>mean</th>\n",
       "      <td>-0.133333</td>\n",
       "      <td>0.300000</td>\n",
       "      <td>0.366667</td>\n",
       "      <td>0.095833</td>\n",
       "      <td>0.525000</td>\n",
       "      <td>0.062500</td>\n",
       "      <td>-0.700000</td>\n",
       "      <td>-0.295833</td>\n",
       "      <td>0.141667</td>\n",
       "      <td>-0.279167</td>\n",
       "      <td>...</td>\n",
       "      <td>-1.654167</td>\n",
       "      <td>-2.845833</td>\n",
       "      <td>-1.891667</td>\n",
       "      <td>-1.308333</td>\n",
       "      <td>-0.825000</td>\n",
       "      <td>-1.041667</td>\n",
       "      <td>-0.633333</td>\n",
       "      <td>-0.166667</td>\n",
       "      <td>0.229167</td>\n",
       "      <td>0.450000</td>\n",
       "    </tr>\n",
       "    <tr>\n",
       "      <th>std</th>\n",
       "      <td>0.814898</td>\n",
       "      <td>1.298494</td>\n",
       "      <td>0.995497</td>\n",
       "      <td>1.257492</td>\n",
       "      <td>1.217713</td>\n",
       "      <td>1.553905</td>\n",
       "      <td>2.062291</td>\n",
       "      <td>3.833092</td>\n",
       "      <td>2.790343</td>\n",
       "      <td>2.699272</td>\n",
       "      <td>...</td>\n",
       "      <td>3.067640</td>\n",
       "      <td>2.998692</td>\n",
       "      <td>2.519647</td>\n",
       "      <td>2.137230</td>\n",
       "      <td>2.639376</td>\n",
       "      <td>1.916500</td>\n",
       "      <td>1.313034</td>\n",
       "      <td>0.755079</td>\n",
       "      <td>0.859464</td>\n",
       "      <td>1.595919</td>\n",
       "    </tr>\n",
       "    <tr>\n",
       "      <th>min</th>\n",
       "      <td>-3.900000</td>\n",
       "      <td>-2.500000</td>\n",
       "      <td>0.000000</td>\n",
       "      <td>-3.500000</td>\n",
       "      <td>-1.000000</td>\n",
       "      <td>-2.900000</td>\n",
       "      <td>-4.500000</td>\n",
       "      <td>-7.000000</td>\n",
       "      <td>-3.100000</td>\n",
       "      <td>-3.900000</td>\n",
       "      <td>...</td>\n",
       "      <td>-7.400000</td>\n",
       "      <td>-9.100000</td>\n",
       "      <td>-6.400000</td>\n",
       "      <td>-6.000000</td>\n",
       "      <td>-6.100000</td>\n",
       "      <td>-5.100000</td>\n",
       "      <td>-4.600000</td>\n",
       "      <td>-3.700000</td>\n",
       "      <td>0.000000</td>\n",
       "      <td>0.000000</td>\n",
       "    </tr>\n",
       "    <tr>\n",
       "      <th>25%</th>\n",
       "      <td>0.000000</td>\n",
       "      <td>0.000000</td>\n",
       "      <td>0.000000</td>\n",
       "      <td>0.000000</td>\n",
       "      <td>0.000000</td>\n",
       "      <td>-0.600000</td>\n",
       "      <td>-2.325000</td>\n",
       "      <td>-2.550000</td>\n",
       "      <td>-2.325000</td>\n",
       "      <td>-2.100000</td>\n",
       "      <td>...</td>\n",
       "      <td>-3.150000</td>\n",
       "      <td>-5.000000</td>\n",
       "      <td>-4.725000</td>\n",
       "      <td>-2.625000</td>\n",
       "      <td>-2.200000</td>\n",
       "      <td>-1.925000</td>\n",
       "      <td>-0.175000</td>\n",
       "      <td>0.000000</td>\n",
       "      <td>0.000000</td>\n",
       "      <td>0.000000</td>\n",
       "    </tr>\n",
       "    <tr>\n",
       "      <th>50%</th>\n",
       "      <td>0.000000</td>\n",
       "      <td>0.000000</td>\n",
       "      <td>0.000000</td>\n",
       "      <td>0.000000</td>\n",
       "      <td>0.000000</td>\n",
       "      <td>0.000000</td>\n",
       "      <td>0.000000</td>\n",
       "      <td>-0.400000</td>\n",
       "      <td>-0.300000</td>\n",
       "      <td>-0.050000</td>\n",
       "      <td>...</td>\n",
       "      <td>-1.900000</td>\n",
       "      <td>-2.100000</td>\n",
       "      <td>0.000000</td>\n",
       "      <td>0.000000</td>\n",
       "      <td>0.000000</td>\n",
       "      <td>0.000000</td>\n",
       "      <td>0.000000</td>\n",
       "      <td>0.000000</td>\n",
       "      <td>0.000000</td>\n",
       "      <td>0.000000</td>\n",
       "    </tr>\n",
       "    <tr>\n",
       "      <th>75%</th>\n",
       "      <td>0.000000</td>\n",
       "      <td>0.000000</td>\n",
       "      <td>0.000000</td>\n",
       "      <td>0.200000</td>\n",
       "      <td>0.925000</td>\n",
       "      <td>0.000000</td>\n",
       "      <td>0.000000</td>\n",
       "      <td>0.125000</td>\n",
       "      <td>1.000000</td>\n",
       "      <td>0.125000</td>\n",
       "      <td>...</td>\n",
       "      <td>0.000000</td>\n",
       "      <td>0.000000</td>\n",
       "      <td>0.000000</td>\n",
       "      <td>0.000000</td>\n",
       "      <td>0.000000</td>\n",
       "      <td>0.000000</td>\n",
       "      <td>0.000000</td>\n",
       "      <td>0.000000</td>\n",
       "      <td>0.000000</td>\n",
       "      <td>0.000000</td>\n",
       "    </tr>\n",
       "    <tr>\n",
       "      <th>max</th>\n",
       "      <td>0.700000</td>\n",
       "      <td>4.300000</td>\n",
       "      <td>4.600000</td>\n",
       "      <td>3.200000</td>\n",
       "      <td>3.900000</td>\n",
       "      <td>5.100000</td>\n",
       "      <td>3.800000</td>\n",
       "      <td>10.400000</td>\n",
       "      <td>6.900000</td>\n",
       "      <td>8.900000</td>\n",
       "      <td>...</td>\n",
       "      <td>6.800000</td>\n",
       "      <td>1.900000</td>\n",
       "      <td>1.400000</td>\n",
       "      <td>3.100000</td>\n",
       "      <td>7.400000</td>\n",
       "      <td>1.400000</td>\n",
       "      <td>0.500000</td>\n",
       "      <td>0.000000</td>\n",
       "      <td>4.000000</td>\n",
       "      <td>7.000000</td>\n",
       "    </tr>\n",
       "  </tbody>\n",
       "</table>\n",
       "<p>8 rows × 28 columns</p>\n",
       "</div>"
      ],
      "text/plain": [
       "               1          2          3          4          5          6  \\\n",
       "count  24.000000  24.000000  24.000000  24.000000  24.000000  24.000000   \n",
       "mean   -0.133333   0.300000   0.366667   0.095833   0.525000   0.062500   \n",
       "std     0.814898   1.298494   0.995497   1.257492   1.217713   1.553905   \n",
       "min    -3.900000  -2.500000   0.000000  -3.500000  -1.000000  -2.900000   \n",
       "25%     0.000000   0.000000   0.000000   0.000000   0.000000  -0.600000   \n",
       "50%     0.000000   0.000000   0.000000   0.000000   0.000000   0.000000   \n",
       "75%     0.000000   0.000000   0.000000   0.200000   0.925000   0.000000   \n",
       "max     0.700000   4.300000   4.600000   3.200000   3.900000   5.100000   \n",
       "\n",
       "               7          8          9         10  ...         19         20  \\\n",
       "count  24.000000  24.000000  24.000000  24.000000  ...  24.000000  24.000000   \n",
       "mean   -0.700000  -0.295833   0.141667  -0.279167  ...  -1.654167  -2.845833   \n",
       "std     2.062291   3.833092   2.790343   2.699272  ...   3.067640   2.998692   \n",
       "min    -4.500000  -7.000000  -3.100000  -3.900000  ...  -7.400000  -9.100000   \n",
       "25%    -2.325000  -2.550000  -2.325000  -2.100000  ...  -3.150000  -5.000000   \n",
       "50%     0.000000  -0.400000  -0.300000  -0.050000  ...  -1.900000  -2.100000   \n",
       "75%     0.000000   0.125000   1.000000   0.125000  ...   0.000000   0.000000   \n",
       "max     3.800000  10.400000   6.900000   8.900000  ...   6.800000   1.900000   \n",
       "\n",
       "              21         22         23         24         25         26  \\\n",
       "count  24.000000  24.000000  24.000000  24.000000  24.000000  24.000000   \n",
       "mean   -1.891667  -1.308333  -0.825000  -1.041667  -0.633333  -0.166667   \n",
       "std     2.519647   2.137230   2.639376   1.916500   1.313034   0.755079   \n",
       "min    -6.400000  -6.000000  -6.100000  -5.100000  -4.600000  -3.700000   \n",
       "25%    -4.725000  -2.625000  -2.200000  -1.925000  -0.175000   0.000000   \n",
       "50%     0.000000   0.000000   0.000000   0.000000   0.000000   0.000000   \n",
       "75%     0.000000   0.000000   0.000000   0.000000   0.000000   0.000000   \n",
       "max     1.400000   3.100000   7.400000   1.400000   0.500000   0.000000   \n",
       "\n",
       "              27         28  \n",
       "count  24.000000  24.000000  \n",
       "mean    0.229167   0.450000  \n",
       "std     0.859464   1.595919  \n",
       "min     0.000000   0.000000  \n",
       "25%     0.000000   0.000000  \n",
       "50%     0.000000   0.000000  \n",
       "75%     0.000000   0.000000  \n",
       "max     4.000000   7.000000  \n",
       "\n",
       "[8 rows x 28 columns]"
      ]
     },
     "execution_count": 4,
     "metadata": {},
     "output_type": "execute_result"
    }
   ],
   "source": [
    "orion=pd.read_table('Obs/Orion.csv', delimiter=',')\n",
    "orion.describe()"
   ]
  },
  {
   "cell_type": "markdown",
   "metadata": {},
   "source": [
    "orion[orion == 0] = 'nan' \n",
    "orion"
   ]
  },
  {
   "cell_type": "code",
   "execution_count": 5,
   "metadata": {},
   "outputs": [
    {
     "data": {
      "image/png": "[encoded data removed]",
      "text/plain": [
       "<Figure size 432x288 with 2 Axes>"
      ]
     },
     "metadata": {
      "needs_background": "light"
     },
     "output_type": "display_data"
    }
   ],
   "source": [
    "fig, ax = plt.subplots()\n",
    "sns.heatmap(orion,cmap=\"viridis\",cbar_kws={'label': 'km/s'})\n",
    "plt.scatter(13.5, 13.5, marker='+', color='yellow', s=150)\n",
    "ax.set(xlabel='arcmin', ylabel='arcmin')\n",
    "\n",
    "ax.text(0.93, 0.81, '1.3 pc',\n",
    "        verticalalignment='bottom', horizontalalignment='right',\n",
    "        transform=ax.transAxes,\n",
    "        color='black', fontsize=20)\n",
    "    \n",
    "plt.axhline(y=2, xmin=0.68, xmax=0.96, linewidth=2, color = 'k')\n",
    "\n",
    "plt.text(14.5, 14.5, '$θ^{1}Ori\\ C$', fontsize=20, color='yellow')\n",
    "\n",
    "plt.show()"
   ]
  },
  {
   "cell_type": "code",
   "execution_count": 6,
   "metadata": {},
   "outputs": [
    {
     "data": {
      "text/html": [
       "<div>\n",
       "<style scoped>\n",
       "    .dataframe tbody tr th:only-of-type {\n",
       "        vertical-align: middle;\n",
       "    }\n",
       "\n",
       "    .dataframe tbody tr th {\n",
       "        vertical-align: top;\n",
       "    }\n",
       "\n",
       "    .dataframe thead th {\n",
       "        text-align: right;\n",
       "    }\n",
       "</style>\n",
       "<table border=\"1\" class=\"dataframe\">\n",
       "  <thead>\n",
       "    <tr style=\"text-align: right;\">\n",
       "      <th></th>\n",
       "      <th>RAdeg</th>\n",
       "      <th>RVHalpha</th>\n",
       "    </tr>\n",
       "  </thead>\n",
       "  <tbody>\n",
       "    <tr>\n",
       "      <th>count</th>\n",
       "      <td>672.000000</td>\n",
       "      <td>672.000000</td>\n",
       "    </tr>\n",
       "    <tr>\n",
       "      <th>mean</th>\n",
       "      <td>11.500000</td>\n",
       "      <td>-0.667857</td>\n",
       "    </tr>\n",
       "    <tr>\n",
       "      <th>std</th>\n",
       "      <td>6.927343</td>\n",
       "      <td>2.440544</td>\n",
       "    </tr>\n",
       "    <tr>\n",
       "      <th>min</th>\n",
       "      <td>0.000000</td>\n",
       "      <td>-10.100000</td>\n",
       "    </tr>\n",
       "    <tr>\n",
       "      <th>25%</th>\n",
       "      <td>5.750000</td>\n",
       "      <td>-2.000000</td>\n",
       "    </tr>\n",
       "    <tr>\n",
       "      <th>50%</th>\n",
       "      <td>11.500000</td>\n",
       "      <td>0.000000</td>\n",
       "    </tr>\n",
       "    <tr>\n",
       "      <th>75%</th>\n",
       "      <td>17.250000</td>\n",
       "      <td>0.000000</td>\n",
       "    </tr>\n",
       "    <tr>\n",
       "      <th>max</th>\n",
       "      <td>23.000000</td>\n",
       "      <td>10.400000</td>\n",
       "    </tr>\n",
       "  </tbody>\n",
       "</table>\n",
       "</div>"
      ],
      "text/plain": [
       "            RAdeg    RVHalpha\n",
       "count  672.000000  672.000000\n",
       "mean    11.500000   -0.667857\n",
       "std      6.927343    2.440544\n",
       "min      0.000000  -10.100000\n",
       "25%      5.750000   -2.000000\n",
       "50%     11.500000    0.000000\n",
       "75%     17.250000    0.000000\n",
       "max     23.000000   10.400000"
      ]
     },
     "execution_count": 6,
     "metadata": {},
     "output_type": "execute_result"
    }
   ],
   "source": [
    "df=orion.stack().reset_index().rename(columns={'level_0':'RAdeg', 'level_1':'DEdeg', 0:'RVHalpha'})\n",
    "df.describe()"
   ]
  },
  {
   "cell_type": "code",
   "execution_count": 7,
   "metadata": {},
   "outputs": [],
   "source": [
    "df.RAdeg=1.0*df.RAdeg"
   ]
  },
  {
   "cell_type": "code",
   "execution_count": 8,
   "metadata": {},
   "outputs": [],
   "source": [
    "df.DEdeg=pd.to_numeric(df.DEdeg)*1.0"
   ]
  },
  {
   "cell_type": "markdown",
   "metadata": {},
   "source": [
    "Structure Function"
   ]
  },
  {
   "cell_type": "code",
   "execution_count": 9,
   "metadata": {},
   "outputs": [
    {
     "data": {
      "text/html": [
       "<div>\n",
       "<style scoped>\n",
       "    .dataframe tbody tr th:only-of-type {\n",
       "        vertical-align: middle;\n",
       "    }\n",
       "\n",
       "    .dataframe tbody tr th {\n",
       "        vertical-align: top;\n",
       "    }\n",
       "\n",
       "    .dataframe thead th {\n",
       "        text-align: right;\n",
       "    }\n",
       "</style>\n",
       "<table border=\"1\" class=\"dataframe\">\n",
       "  <thead>\n",
       "    <tr style=\"text-align: right;\">\n",
       "      <th></th>\n",
       "      <th>X</th>\n",
       "      <th>Y</th>\n",
       "      <th>RV</th>\n",
       "    </tr>\n",
       "  </thead>\n",
       "  <tbody>\n",
       "    <tr>\n",
       "      <th>count</th>\n",
       "      <td>672.000000</td>\n",
       "      <td>672.000000</td>\n",
       "      <td>672.000000</td>\n",
       "    </tr>\n",
       "    <tr>\n",
       "      <th>mean</th>\n",
       "      <td>11.500000</td>\n",
       "      <td>14.500000</td>\n",
       "      <td>-0.667857</td>\n",
       "    </tr>\n",
       "    <tr>\n",
       "      <th>std</th>\n",
       "      <td>6.927343</td>\n",
       "      <td>8.083764</td>\n",
       "      <td>2.440544</td>\n",
       "    </tr>\n",
       "    <tr>\n",
       "      <th>min</th>\n",
       "      <td>0.000000</td>\n",
       "      <td>1.000000</td>\n",
       "      <td>-10.100000</td>\n",
       "    </tr>\n",
       "    <tr>\n",
       "      <th>25%</th>\n",
       "      <td>5.750000</td>\n",
       "      <td>7.750000</td>\n",
       "      <td>-2.000000</td>\n",
       "    </tr>\n",
       "    <tr>\n",
       "      <th>50%</th>\n",
       "      <td>11.500000</td>\n",
       "      <td>14.500000</td>\n",
       "      <td>0.000000</td>\n",
       "    </tr>\n",
       "    <tr>\n",
       "      <th>75%</th>\n",
       "      <td>17.250000</td>\n",
       "      <td>21.250000</td>\n",
       "      <td>0.000000</td>\n",
       "    </tr>\n",
       "    <tr>\n",
       "      <th>max</th>\n",
       "      <td>23.000000</td>\n",
       "      <td>28.000000</td>\n",
       "      <td>10.400000</td>\n",
       "    </tr>\n",
       "  </tbody>\n",
       "</table>\n",
       "</div>"
      ],
      "text/plain": [
       "                X           Y          RV\n",
       "count  672.000000  672.000000  672.000000\n",
       "mean    11.500000   14.500000   -0.667857\n",
       "std      6.927343    8.083764    2.440544\n",
       "min      0.000000    1.000000  -10.100000\n",
       "25%      5.750000    7.750000   -2.000000\n",
       "50%     11.500000   14.500000    0.000000\n",
       "75%     17.250000   21.250000    0.000000\n",
       "max     23.000000   28.000000   10.400000"
      ]
     },
     "execution_count": 9,
     "metadata": {},
     "output_type": "execute_result"
    }
   ],
   "source": [
    "df0 = pd.DataFrame({'X': df.RAdeg, 'Y': df.DEdeg, 'RV': df.RVHalpha})\n",
    "df0.describe()"
   ]
  },
  {
   "cell_type": "code",
   "execution_count": 10,
   "metadata": {},
   "outputs": [],
   "source": [
    "df0[\"RV\"] = df0[\"RV\"].replace(['0', 0], np.nan)\n"
   ]
  },
  {
   "cell_type": "code",
   "execution_count": 11,
   "metadata": {},
   "outputs": [
    {
     "data": {
      "text/html": [
       "<div>\n",
       "<style scoped>\n",
       "    .dataframe tbody tr th:only-of-type {\n",
       "        vertical-align: middle;\n",
       "    }\n",
       "\n",
       "    .dataframe tbody tr th {\n",
       "        vertical-align: top;\n",
       "    }\n",
       "\n",
       "    .dataframe thead th {\n",
       "        text-align: right;\n",
       "    }\n",
       "</style>\n",
       "<table border=\"1\" class=\"dataframe\">\n",
       "  <thead>\n",
       "    <tr style=\"text-align: right;\">\n",
       "      <th></th>\n",
       "      <th>X</th>\n",
       "      <th>Y</th>\n",
       "      <th>RV</th>\n",
       "    </tr>\n",
       "  </thead>\n",
       "  <tbody>\n",
       "    <tr>\n",
       "      <th>count</th>\n",
       "      <td>672.000000</td>\n",
       "      <td>672.000000</td>\n",
       "      <td>359.000000</td>\n",
       "    </tr>\n",
       "    <tr>\n",
       "      <th>mean</th>\n",
       "      <td>11.500000</td>\n",
       "      <td>14.500000</td>\n",
       "      <td>-1.250139</td>\n",
       "    </tr>\n",
       "    <tr>\n",
       "      <th>std</th>\n",
       "      <td>6.927343</td>\n",
       "      <td>8.083764</td>\n",
       "      <td>3.230147</td>\n",
       "    </tr>\n",
       "    <tr>\n",
       "      <th>min</th>\n",
       "      <td>0.000000</td>\n",
       "      <td>1.000000</td>\n",
       "      <td>-10.100000</td>\n",
       "    </tr>\n",
       "    <tr>\n",
       "      <th>25%</th>\n",
       "      <td>5.750000</td>\n",
       "      <td>7.750000</td>\n",
       "      <td>-3.400000</td>\n",
       "    </tr>\n",
       "    <tr>\n",
       "      <th>50%</th>\n",
       "      <td>11.500000</td>\n",
       "      <td>14.500000</td>\n",
       "      <td>-1.800000</td>\n",
       "    </tr>\n",
       "    <tr>\n",
       "      <th>75%</th>\n",
       "      <td>17.250000</td>\n",
       "      <td>21.250000</td>\n",
       "      <td>0.700000</td>\n",
       "    </tr>\n",
       "    <tr>\n",
       "      <th>max</th>\n",
       "      <td>23.000000</td>\n",
       "      <td>28.000000</td>\n",
       "      <td>10.400000</td>\n",
       "    </tr>\n",
       "  </tbody>\n",
       "</table>\n",
       "</div>"
      ],
      "text/plain": [
       "                X           Y          RV\n",
       "count  672.000000  672.000000  359.000000\n",
       "mean    11.500000   14.500000   -1.250139\n",
       "std      6.927343    8.083764    3.230147\n",
       "min      0.000000    1.000000  -10.100000\n",
       "25%      5.750000    7.750000   -3.400000\n",
       "50%     11.500000   14.500000   -1.800000\n",
       "75%     17.250000   21.250000    0.700000\n",
       "max     23.000000   28.000000   10.400000"
      ]
     },
     "execution_count": 11,
     "metadata": {},
     "output_type": "execute_result"
    }
   ],
   "source": [
    "df0.describe()"
   ]
  },
  {
   "cell_type": "code",
   "execution_count": 12,
   "metadata": {},
   "outputs": [],
   "source": [
    "data=df0"
   ]
  },
  {
   "cell_type": "code",
   "execution_count": 13,
   "metadata": {},
   "outputs": [
    {
     "data": {
      "text/plain": [
       "Text(0.5, 17.60000000000001, 'Radial velocity [km/s]')"
      ]
     },
     "execution_count": 13,
     "metadata": {},
     "output_type": "execute_result"
    },
    {
     "data": {
      "image/png": "[encoded data removed]",
      "text/plain": [
       "<Figure size 360x360 with 1 Axes>"
      ]
     },
     "metadata": {
      "needs_background": "light"
     },
     "output_type": "display_data"
    }
   ],
   "source": [
    "#fig, ax = plt.subplots()\n",
    "\n",
    "sns.displot(data.RV-data.RV.mean(),bins=25)\n",
    "plt.xlim(-10,10)\n",
    "\n",
    "plt.text(0.45, 0.86,'n ='+str(data.RV.count()), ha='center', va='center', transform=ax.transAxes, color='k')\n",
    "plt.text(0.45, 0.78,'$μ$ ='+str(np.round(data.RV.mean(),2))+' km/s', ha='center', va='center', transform=ax.transAxes, color='k')\n",
    "plt.text(0.45, 0.68,'$σ^{2}$ ='+str(np.round(data.RV.var(),2))+' km$^{2}$/s$^{2}$', ha='center', va='center', transform=ax.transAxes, color='k')\n",
    "\n",
    "plt.title('Orion')\n",
    "\n",
    "plt.rcParams[\"font.family\"]=\"Times New Roman\"\n",
    "plt.rcParams[\"font.size\"]=\"15\"\n",
    "\n",
    "plt.xlabel('Radial velocity [km/s]')\n"
   ]
  },
  {
   "cell_type": "code",
   "execution_count": 14,
   "metadata": {},
   "outputs": [],
   "source": [
    "data.X = data.X*pc\n",
    "data.Y = data.Y*pc"
   ]
  },
  {
   "cell_type": "code",
   "execution_count": 15,
   "metadata": {},
   "outputs": [
    {
     "data": {
      "text/plain": [
       "{'OrionLH':             X         Y  RV\n",
       " 0    0.000000  0.119264 NaN\n",
       " 1    0.000000  0.238528 NaN\n",
       " 2    0.000000  0.357792 NaN\n",
       " 3    0.000000  0.477057 NaN\n",
       " 4    0.000000  0.596321 NaN\n",
       " ..        ...       ...  ..\n",
       " 667  2.743076  2.862340 NaN\n",
       " 668  2.743076  2.981604 NaN\n",
       " 669  2.743076  3.100868 NaN\n",
       " 670  2.743076  3.220132 NaN\n",
       " 671  2.743076  3.339397 NaN\n",
       " \n",
       " [672 rows x 3 columns],\n",
       " 'pc': 0.11926416555294585,\n",
       " 's0': 0.045578661994756374}"
      ]
     },
     "execution_count": 15,
     "metadata": {},
     "output_type": "execute_result"
    }
   ],
   "source": [
    "OrionLH = {'OrionLH' : data,\n",
    "           'pc' : pc,\n",
    "          's0' : s0\n",
    "      }\n",
    "OrionLH"
   ]
  },
  {
   "cell_type": "code",
   "execution_count": null,
   "metadata": {},
   "outputs": [],
   "source": []
  },
  {
   "cell_type": "code",
   "execution_count": 16,
   "metadata": {},
   "outputs": [],
   "source": [
    "import pickle\n",
    "\n",
    "f = open('VF\\\\OrionL.pkl',\"wb\")\n",
    "pickle.dump(data,f)\n",
    "f.close()"
   ]
  },
  {
   "cell_type": "code",
   "execution_count": 17,
   "metadata": {},
   "outputs": [],
   "source": [
    "f = open('VFL\\\\OrionL.pkl',\"wb\")\n",
    "pickle.dump(OrionLH,f)\n",
    "f.close()"
   ]
  },
  {
   "cell_type": "code",
   "execution_count": 18,
   "metadata": {},
   "outputs": [
    {
     "name": "stdout",
     "output_type": "stream",
     "text": [
      "--- 3.832719564437866 seconds ---\n"
     ]
    }
   ],
   "source": [
    "print(\"--- %s seconds ---\" % (time.time()-start_time))"
   ]
  }
 ],
 "metadata": {
  "kernelspec": {
   "display_name": "Python 3",
   "language": "python",
   "name": "python3"
  },
  "language_info": {
   "codemirror_mode": {
    "name": "ipython",
    "version": 3
   },
   "file_extension": ".py",
   "mimetype": "text/x-python",
   "name": "python",
   "nbconvert_exporter": "python",
   "pygments_lexer": "ipython3",
   "version": "3.8.3"
  }
 },
 "nbformat": 4,
 "nbformat_minor": 2
}
