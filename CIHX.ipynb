{
 "cells": [
  {
   "cell_type": "code",
   "execution_count": 1,
   "metadata": {},
   "outputs": [],
   "source": [
    "import time\n",
    "start_time=time.time()"
   ]
  },
  {
   "cell_type": "code",
   "execution_count": 2,
   "metadata": {},
   "outputs": [],
   "source": [
    "import json\n",
    "import numpy as np\n",
    "import matplotlib.pyplot as plt\n",
    "import pandas as pd\n",
    "import seaborn as sns\n",
    "import lmfit\n",
    "from scipy import interpolate\n",
    "import pickle\n",
    "\n",
    "from bfunc import bfunc00,bfunc01,bfunc02"
   ]
  },
  {
   "cell_type": "markdown",
   "metadata": {},
   "source": [
    "Data load and region parameters"
   ]
  },
  {
   "cell_type": "code",
   "execution_count": 3,
   "metadata": {},
   "outputs": [],
   "source": [
    "name = 'HX'"
   ]
  },
  {
   "cell_type": "code",
   "execution_count": 4,
   "metadata": {},
   "outputs": [],
   "source": [
    "reg = 'HX'"
   ]
  },
  {
   "cell_type": "code",
   "execution_count": 5,
   "metadata": {},
   "outputs": [],
   "source": [
    "pickle_in = open('SFresults//' + name + '.pkl',\"rb\")\n",
    "SFresults = pickle.load(pickle_in)"
   ]
  },
  {
   "cell_type": "code",
   "execution_count": 6,
   "metadata": {},
   "outputs": [],
   "source": [
    "B = SFresults['b2']\n",
    "r = SFresults['s']\n",
    "s0 = SFresults['s0']   \n",
    "m = SFresults['m'] \n",
    "sig2 = SFresults['sig2'] \n",
    "r0 = SFresults['r0'] \n",
    "noise = B.mean()*0.05"
   ]
  },
  {
   "cell_type": "code",
   "execution_count": 7,
   "metadata": {},
   "outputs": [
    {
     "data": {
      "text/plain": [
       "['r0', 'sig2', 'm', 's0', 'noise']"
      ]
     },
     "execution_count": 7,
     "metadata": {},
     "output_type": "execute_result"
    }
   ],
   "source": [
    "model02 = lmfit.Model(bfunc02)\n",
    "model02.param_names"
   ]
  },
  {
   "cell_type": "code",
   "execution_count": 8,
   "metadata": {},
   "outputs": [],
   "source": [
    "relative_uncertainty = 0.1\n",
    "weights = 1.0 / (relative_uncertainty * B)\n",
    "weights[r > r0] /= 2.0"
   ]
  },
  {
   "cell_type": "code",
   "execution_count": 9,
   "metadata": {},
   "outputs": [
    {
     "name": "stdout",
     "output_type": "stream",
     "text": [
      "Name      Value      Min      Max     Vary    Expr    \n",
      "m           nan        0      inf     True    \n",
      "noise       nan        0      inf     True    \n",
      "r0          nan        0      inf     True    \n",
      "s0          nan        0      inf     True    \n",
      "sig2        nan        0      inf     True    \n"
     ]
    }
   ],
   "source": [
    "for p in model02.param_names:\n",
    "    model02.set_param_hint(p, min=0.0)\n",
    "#model02.set_param_hint(\"sig2\", value=sig2, vary=False)\n",
    "#model02.set_param_hint(\"s0\", min=0.2)\n",
    "model02.print_param_hints()"
   ]
  },
  {
   "cell_type": "code",
   "execution_count": 10,
   "metadata": {},
   "outputs": [],
   "source": [
    "result2 = model02.fit(\n",
    "    B, \n",
    "    weights=weights,\n",
    "    r = r, r0 = r0, m = m, s0 = s0, noise = noise, sig2=sig2,\n",
    ")"
   ]
  },
  {
   "cell_type": "code",
   "execution_count": 11,
   "metadata": {},
   "outputs": [
    {
     "data": {
      "image/png": "[encoded data removed]",
      "text/plain": [
       "<Figure size 432x432 with 2 Axes>"
      ]
     },
     "metadata": {
      "needs_background": "light"
     },
     "output_type": "display_data"
    }
   ],
   "source": [
    "fig, _ = result2.plot( 'ko')\n",
    "fig.axes[0].set(\n",
    "    title=reg,\n",
    "    xscale=\"log\",\n",
    "    yscale=\"symlog\",\n",
    ")\n",
    "fig.axes[1].set(\n",
    "    xscale = \"log\",\n",
    "    yscale = \"log\",\n",
    "    xlabel = \"r [pc]\",\n",
    "    ylabel = r\"B(r) [km$^{2}$/s$^{2}$]\",\n",
    ");\n",
    "\n",
    "plt.savefig('Imgs//SF//' + reg + '.pdf', bbox_inches='tight')\n",
    "\n"
   ]
  },
  {
   "cell_type": "code",
   "execution_count": 12,
   "metadata": {},
   "outputs": [],
   "source": [
    "CIresults = {'resultCI' : result2,\n",
    "            'Rmax/r0' : r.max()/result2.params['r0'].value,\n",
    "            'lT' : (r[3]/2**0.5)*((result2.params['r0'].value/r[3])**(result2.params['m'].value/2))\n",
    "          }"
   ]
  },
  {
   "cell_type": "code",
   "execution_count": 13,
   "metadata": {},
   "outputs": [],
   "source": [
    "f = open('CIresults//' + name +'.pkl',\"wb\")\n",
    "pickle.dump(CIresults,f)\n",
    "f.close()"
   ]
  },
  {
   "cell_type": "code",
   "execution_count": 14,
   "metadata": {},
   "outputs": [
    {
     "name": "stdout",
     "output_type": "stream",
     "text": [
      "[[Model]]\n",
      "    Model(bfunc02)\n",
      "[[Fit Statistics]]\n",
      "    # fitting method   = leastsq\n",
      "    # function evals   = 79\n",
      "    # data points      = 15\n",
      "    # variables        = 5\n",
      "    chi-square         = 1.47372792\n",
      "    reduced chi-square = 0.14737279\n",
      "    Akaike info crit   = -24.8038251\n",
      "    Bayesian info crit = -21.2635741\n",
      "[[Variables]]\n",
      "    r0:     3.64648711 +/- 0.21627708 (5.93%) (init = 3.581718)\n",
      "    sig2:   12.7759470 +/- 0.99324036 (7.77%) (init = 12.89595)\n",
      "    m:      1.72429905 +/- 0.25836453 (14.98%) (init = 1.5)\n",
      "    s0:     0.29325400 +/- 0.17368662 (59.23%) (init = 0.9263956)\n",
      "    noise:  0.66904003 +/- 1.28764399 (192.46%) (init = 0.8403742)\n",
      "[[Correlations]] (unreported correlations are < 0.100)\n",
      "    C(s0, noise)   =  0.995\n",
      "    C(m, noise)    =  0.962\n",
      "    C(m, s0)       =  0.940\n",
      "    C(sig2, m)     = -0.926\n",
      "    C(sig2, noise) = -0.897\n",
      "    C(sig2, s0)    = -0.882\n",
      "    C(r0, s0)      =  0.492\n",
      "    C(r0, noise)   =  0.458\n",
      "    C(r0, m)       =  0.239\n"
     ]
    }
   ],
   "source": [
    "print(result2.fit_report())"
   ]
  },
  {
   "cell_type": "code",
   "execution_count": 15,
   "metadata": {},
   "outputs": [],
   "source": [
    "for p in result2.model.param_names:\n",
    "    result2.params[p].stderr = result2.params[p].value * 0.1"
   ]
  },
  {
   "cell_type": "code",
   "execution_count": 16,
   "metadata": {},
   "outputs": [
    {
     "name": "stderr",
     "output_type": "stream",
     "text": [
      "C:\\Users\\ZAINTEL2\\anaconda3\\lib\\site-packages\\lmfit\\confidence.py:327: UserWarning: rel_change=5.903657909241403e-06 < 1e-05 at iteration 7 and prob(s0=0.08797619990250755) = 0.8870487438008804 < max(sigmas).\n",
      "  warn(errmsg)\n",
      "C:\\Users\\ZAINTEL2\\anaconda3\\lib\\site-packages\\lmfit\\confidence.py:312: UserWarning: Bound reached with prob(noise=0.0) = 0.680422556628181 < max(sigmas)\n",
      "  warn(errmsg)\n"
     ]
    },
    {
     "name": "stdout",
     "output_type": "stream",
     "text": [
      "          99.73%    95.45%    68.27%    _BEST_    68.27%    95.45%    99.73%\n",
      " r0   :  -0.64594  -0.39621  -0.19276   3.64649  +0.21909  +0.51382  +1.00329\n",
      " sig2 :  -1.82954  -1.11010  -0.54937  12.77595  +0.69610  +1.44445  +2.29834\n",
      " m    :  -0.35712  -0.26187  -0.16338   1.72430  +0.11208  +0.22688  +0.38892\n",
      " s0   :      -inf      -inf  -0.07119   0.29325  +0.06775  +0.11871  +0.18404\n",
      " noise:      -inf      -inf      -inf   0.66904  +0.38200  +0.57566  +0.76131\n"
     ]
    }
   ],
   "source": [
    "result2.conf_interval()\n",
    "print(result2.ci_report())"
   ]
  },
  {
   "cell_type": "code",
   "execution_count": 17,
   "metadata": {},
   "outputs": [],
   "source": [
    "plt.style.use([\n",
    "    \"seaborn-poster\",\n",
    "])"
   ]
  },
  {
   "cell_type": "code",
   "execution_count": 18,
   "metadata": {},
   "outputs": [],
   "source": [
    "plot_limits = {\n",
    "    \"s0\": [0.0, 0.1],\n",
    "    \"m\": [.5, .5],\n",
    "    \"r0\": [0.1, 1.0],\n",
    "    \"noise\": [0.0, 0.5],\n",
    "}"
   ]
  },
  {
   "cell_type": "markdown",
   "metadata": {},
   "source": [
    "fig, axes = plt.subplots(2, 2, figsize=(12, 10))\n",
    "\n",
    "plt.title('M8')\n",
    "levels = [0.6827, 0.9545, 0.9973]\n",
    "colors = [\"g\", \"y\", \"r\"]\n",
    "\n",
    "for ax, [xvar, yvar] in zip(axes.flat, [\n",
    "    [\"s0\", \"noise\"],\n",
    "    [\"r0\", \"m\"],\n",
    "    [\"m\", \"s0\"],\n",
    "    [\"r0\", \"s0\"],\n",
    "]):\n",
    "    cx, cy, grid = lmfit.conf_interval2d(\n",
    "        result2, result2, xvar, yvar, 30, 30,\n",
    "        limits=[plot_limits[xvar], plot_limits[yvar]],\n",
    "    )\n",
    "    ctp = ax.contour(cx, cy, grid, levels, colors=colors)\n",
    "    ax.set_xlabel(xvar)\n",
    "    ax.set_ylabel(yvar)\n",
    "\n",
    "fig.tight_layout();"
   ]
  },
  {
   "cell_type": "code",
   "execution_count": 19,
   "metadata": {},
   "outputs": [
    {
     "name": "stdout",
     "output_type": "stream",
     "text": [
      "--- 7.155128717422485 seconds ---\n"
     ]
    }
   ],
   "source": [
    "print(\"--- %s seconds ---\" % (time.time()-start_time))"
   ]
  }
 ],
 "metadata": {
  "kernelspec": {
   "display_name": "Python 3",
   "language": "python",
   "name": "python3"
  },
  "language_info": {
   "codemirror_mode": {
    "name": "ipython",
    "version": 3
   },
   "file_extension": ".py",
   "mimetype": "text/x-python",
   "name": "python",
   "nbconvert_exporter": "python",
   "pygments_lexer": "ipython3",
   "version": "3.8.3"
  }
 },
 "nbformat": 4,
 "nbformat_minor": 4
}
