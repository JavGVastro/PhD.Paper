{
 "cells": [
  {
   "cell_type": "code",
   "execution_count": 1,
   "metadata": {},
   "outputs": [],
   "source": [
    "import time\n",
    "start_time=time.time()"
   ]
  },
  {
   "cell_type": "code",
   "execution_count": 2,
   "metadata": {},
   "outputs": [],
   "source": [
    "from matplotlib import pyplot as plt\n",
    "import seaborn as sns\n",
    "import numpy as np\n",
    "import pandas as pd\n",
    "from scipy import interpolate\n",
    "import pickle\n",
    "\n",
    "import strucfunc\n",
    "from strucfunc import sosflog\n",
    "import bfunc "
   ]
  },
  {
   "cell_type": "code",
   "execution_count": 3,
   "metadata": {},
   "outputs": [],
   "source": [
    "name = 'HX'"
   ]
  },
  {
   "cell_type": "code",
   "execution_count": 4,
   "metadata": {},
   "outputs": [],
   "source": [
    "pickle_in = open('VFM//' + name + '.pkl',\"rb\")\n",
    "data = pickle.load(pickle_in)\n",
    "sb = data['sb']\n",
    "vv = data['vv']\n",
    "#ss = data['ss']"
   ]
  },
  {
   "cell_type": "code",
   "execution_count": 5,
   "metadata": {},
   "outputs": [
    {
     "name": "stderr",
     "output_type": "stream",
     "text": [
      "<ipython-input-5-d54fa62d4697>:2: RuntimeWarning: invalid value encountered in less\n",
      "  m = ~np.isfinite(sb*vv) | (sb < 0.0)\n"
     ]
    }
   ],
   "source": [
    "## Replace spurious values in the arrays\n",
    "m = ~np.isfinite(sb*vv) | (sb < 0.0)\n",
    "\n",
    "sb[m] = 0.0\n",
    "vv[m] = np.nanmean(vv)\n",
    "#ss[m] = 0.0\n",
    "sb /= sb.max()\n",
    "\n",
    "good = (~m) & (sb > 0.001)"
   ]
  },
  {
   "cell_type": "code",
   "execution_count": 6,
   "metadata": {},
   "outputs": [
    {
     "data": {
      "text/plain": [
       "(146, 105)"
      ]
     },
     "execution_count": 6,
     "metadata": {},
     "output_type": "execute_result"
    }
   ],
   "source": [
    "sb.shape"
   ]
  },
  {
   "cell_type": "code",
   "execution_count": 7,
   "metadata": {},
   "outputs": [],
   "source": [
    "box_size = np.sqrt(146 * 105) * data['pix'] * data['pc']"
   ]
  },
  {
   "cell_type": "code",
   "execution_count": 8,
   "metadata": {},
   "outputs": [
    {
     "name": "stderr",
     "output_type": "stream",
     "text": [
      "C:\\Users\\ZAINTEL2\\Dropbox\\Articulos\\PhD\\PhD-master02\\strucfunc.py:83: RuntimeWarning: invalid value encountered in true_divide\n",
      "  'Unweighted B(r)': sf/nsf,\n",
      "C:\\Users\\ZAINTEL2\\Dropbox\\Articulos\\PhD\\PhD-master02\\strucfunc.py:84: RuntimeWarning: invalid value encountered in true_divide\n",
      "  'Weighted B(r)': wsf/weight}\n"
     ]
    }
   ],
   "source": [
    "rslt = strucfunc.strucfunc_numba_parallel(data['vv'], wmap=data['sb'], dlogr=0.045)"
   ]
  },
  {
   "cell_type": "code",
   "execution_count": 9,
   "metadata": {},
   "outputs": [],
   "source": [
    "good = (~m) & (sb > 0.001)\n",
    "rslt[\"Unweighted mean velocity\"] = np.mean(vv[good])\n",
    "rslt[\"Unweighted sigma^2\"] = np.var(vv[good])\n",
    "v0w = rslt[\"Weighted mean velocity\"] = np.average(vv, weights=sb)\n",
    "rslt[\"Weighted sigma^2\"] = np.average((vv - v0w)**2, weights=sb)"
   ]
  },
  {
   "cell_type": "code",
   "execution_count": 10,
   "metadata": {},
   "outputs": [],
   "source": [
    "b2 = rslt['Unweighted B(r)']\n",
    "e_b2 = b2  *.1\n",
    "s = 10**rslt['log10 r'] * data['pix'] * data['pc']\n",
    "e_s = s  *.1\n",
    "sig2 = rslt['Unweighted sigma^2']\n",
    "sig = sig2**0.5"
   ]
  },
  {
   "cell_type": "code",
   "execution_count": 11,
   "metadata": {},
   "outputs": [
    {
     "name": "stderr",
     "output_type": "stream",
     "text": [
      "C:\\Users\\ZAINTEL2\\anaconda3\\lib\\site-packages\\numpy\\lib\\function_base.py:1405: RuntimeWarning: invalid value encountered in remainder\n",
      "  xp = xp % period\n"
     ]
    },
    {
     "data": {
      "text/plain": [
       "3.9854915875175605"
      ]
     },
     "execution_count": 11,
     "metadata": {},
     "output_type": "execute_result"
    }
   ],
   "source": [
    "r0 = np.interp(sig2, b2, s,period = 360)\n",
    "r0"
   ]
  },
  {
   "cell_type": "markdown",
   "metadata": {},
   "source": [
    "x = s\n",
    "y = b2 - sig2\n",
    "tck=interpolate.splrep(x,y,s=0)\n",
    "grid=np.linspace(x.min(),x.max(),num=len(x))\n",
    "ynew=interpolate.splev(grid,tck,der=0)\n",
    "inter=pd.DataFrame([grid,ynew]).T\n",
    "SFr=interpolate.sproot(tck)\n",
    "r0 = SFr[0]"
   ]
  },
  {
   "cell_type": "code",
   "execution_count": 12,
   "metadata": {},
   "outputs": [
    {
     "data": {
      "text/plain": [
       "1.1994939844597365"
      ]
     },
     "execution_count": 12,
     "metadata": {},
     "output_type": "execute_result"
    }
   ],
   "source": [
    "r1 = np.interp(sig, b2, s,period = 360)\n",
    "r1"
   ]
  },
  {
   "cell_type": "code",
   "execution_count": 13,
   "metadata": {},
   "outputs": [
    {
     "data": {
      "text/plain": [
       "38.016455720078355"
      ]
     },
     "execution_count": 13,
     "metadata": {},
     "output_type": "execute_result"
    }
   ],
   "source": [
    "r2 = np.interp(2*sig2, b2, s, period = 360)\n",
    "r2"
   ]
  },
  {
   "cell_type": "code",
   "execution_count": 14,
   "metadata": {},
   "outputs": [
    {
     "data": {
      "text/plain": [
       "(12.895954004824253, 3.9854915875175605, 1.0, 0.9263955689991135, 4.0)"
      ]
     },
     "execution_count": 14,
     "metadata": {},
     "output_type": "execute_result"
    },
    {
     "data": {
      "image/png": "[encoded data removed]",
      "text/plain": [
       "<Figure size 576x432 with 1 Axes>"
      ]
     },
     "metadata": {
      "needs_background": "light"
     },
     "output_type": "display_data"
    }
   ],
   "source": [
    "m = 1.0\n",
    "s0 = data['s0']\n",
    "noise = 4.0\n",
    "\n",
    "fig, ax = plt.subplots(figsize=(8, 6))\n",
    "rgrid = np.logspace(0, 2.15)\n",
    "ax.errorbar(s, b2, yerr=e_b2, xerr=e_s, fmt='o', alpha=0.4,color=\"blue\")\n",
    "\n",
    "\n",
    "ax.axhline(sig2, ls='-')\n",
    "ax.axvline(r0, ls='-')\n",
    "\n",
    "ax.axhline(2*sig2, ls=':')\n",
    "ax.axvline(r2, ls=':')\n",
    "\n",
    "ax.axhline(sig, ls=':')\n",
    "ax.axvline(r1, ls=':')\n",
    "\n",
    "ax.plot(rgrid, bfunc.bfunc00s(rgrid, r0, sig2, m), color=\"0.8\")\n",
    "ax.plot(rgrid, bfunc.bfunc03s(rgrid, r0, sig2, m, s0, noise), color=\"red\")\n",
    "ax.plot(rgrid, bfunc.bfunc04s(rgrid, r0, sig2, m, s0, noise, box_size), color=\"black\")\n",
    "\n",
    "\n",
    "ax.set(xscale='log', yscale='log', \n",
    "       xlabel='separation, pc',\n",
    "       ylabel=r'$b^2,\\ \\mathrm{km^2\\ s^{-2}}$'\n",
    "      )\n",
    "None\n",
    "\n",
    "sig2, r0, m, s0, noise"
   ]
  },
  {
   "cell_type": "code",
   "execution_count": 15,
   "metadata": {},
   "outputs": [
    {
     "data": {
      "text/plain": [
       "{'log10 r': array([0.   , 0.045, 0.09 , 0.135, 0.18 , 0.225, 0.27 , 0.315, 0.36 ,\n",
       "        0.405, 0.45 , 0.495, 0.54 , 0.585, 0.63 , 0.675, 0.72 , 0.765,\n",
       "        0.81 , 0.855, 0.9  , 0.945, 0.99 , 1.035, 1.08 , 1.125, 1.17 ,\n",
       "        1.215, 1.26 , 1.305, 1.35 , 1.395, 1.44 , 1.485, 1.53 , 1.575,\n",
       "        1.62 , 1.665, 1.71 , 1.755, 1.8  , 1.845, 1.89 , 1.935, 1.98 ,\n",
       "        2.025, 2.07 , 2.115, 2.16 , 2.205]),\n",
       " 'Sum dv^2': array([8.89562260e+03, 0.00000000e+00, 0.00000000e+00, 3.25430399e+04,\n",
       "        0.00000000e+00, 0.00000000e+00, 2.05840489e+04, 1.04102765e+05,\n",
       "        0.00000000e+00, 0.00000000e+00, 1.01204159e+05, 1.49400173e+05,\n",
       "        1.71860646e+05, 3.43705549e+05, 2.11917641e+05, 5.41606856e+05,\n",
       "        3.83303990e+05, 1.17210033e+06, 8.19694064e+05, 1.23326122e+06,\n",
       "        1.89982743e+06, 2.19400507e+06, 3.58163384e+06, 3.10358630e+06,\n",
       "        5.49485177e+06, 6.46966720e+06, 8.95021397e+06, 1.00713179e+07,\n",
       "        1.30374793e+07, 1.64310598e+07, 1.90522268e+07, 2.38641449e+07,\n",
       "        2.78324454e+07, 3.04832528e+07, 3.58806078e+07, 3.91020420e+07,\n",
       "        4.40406096e+07, 4.89207786e+07, 5.44062727e+07, 5.81214936e+07,\n",
       "        5.24216756e+07, 4.32235917e+07, 2.79837375e+07, 1.63767066e+07,\n",
       "        8.25629187e+06, 4.37390934e+06, 1.57331450e+06, 2.68757266e+05,\n",
       "        1.76607750e+03, 0.00000000e+00]),\n",
       " 'Sum weights': array([1.36630661e+03, 0.00000000e+00, 0.00000000e+00, 2.72758723e+03,\n",
       "        0.00000000e+00, 0.00000000e+00, 1.35861980e+03, 5.42885165e+03,\n",
       "        0.00000000e+00, 0.00000000e+00, 4.04850824e+03, 5.38537363e+03,\n",
       "        5.36385670e+03, 9.33093380e+03, 5.31563215e+03, 1.18727875e+04,\n",
       "        7.87882815e+03, 2.21262522e+04, 1.41572957e+04, 2.04542285e+04,\n",
       "        2.90282014e+04, 3.11164592e+04, 4.77194019e+04, 3.84426136e+04,\n",
       "        6.47948666e+04, 7.23515698e+04, 9.35674405e+04, 9.90059633e+04,\n",
       "        1.22143559e+05, 1.46120351e+05, 1.62538870e+05, 1.94916729e+05,\n",
       "        2.21892572e+05, 2.37093874e+05, 2.72974126e+05, 2.84489174e+05,\n",
       "        2.92717135e+05, 2.78614108e+05, 2.48505209e+05, 2.11627926e+05,\n",
       "        1.61742828e+05, 1.18134928e+05, 7.30845998e+04, 3.61842101e+04,\n",
       "        1.52004322e+04, 6.53225991e+03, 1.83928559e+03, 2.68278719e+02,\n",
       "        9.33696773e-01, 0.00000000e+00]),\n",
       " 'Sum w * dv^2': array([1.35669801e+03, 0.00000000e+00, 0.00000000e+00, 5.09985377e+03,\n",
       "        0.00000000e+00, 0.00000000e+00, 3.36675976e+03, 1.74719590e+04,\n",
       "        0.00000000e+00, 0.00000000e+00, 1.76858967e+04, 2.67409724e+04,\n",
       "        3.11894971e+04, 6.39916653e+04, 3.96182476e+04, 1.02852510e+05,\n",
       "        7.29996665e+04, 2.28459371e+05, 1.62594421e+05, 2.44759447e+05,\n",
       "        3.82768418e+05, 4.47167904e+05, 7.40172606e+05, 6.52094459e+05,\n",
       "        1.16738323e+06, 1.39253495e+06, 1.94100843e+06, 2.18580453e+06,\n",
       "        2.82425842e+06, 3.50956600e+06, 3.97816986e+06, 4.86040008e+06,\n",
       "        5.45903079e+06, 5.75555205e+06, 6.55282032e+06, 6.77514986e+06,\n",
       "        7.11696087e+06, 7.19062183e+06, 7.03444872e+06, 6.34329541e+06,\n",
       "        4.79519936e+06, 3.37039286e+06, 1.73098793e+06, 7.81205267e+05,\n",
       "        3.24038292e+05, 1.46402857e+05, 4.53734181e+04, 6.36468829e+03,\n",
       "        2.68418547e+01, 0.00000000e+00]),\n",
       " 'N pairs': array([   6099,       0,       0,   12154,       0,       0,    6039,\n",
       "          24144,       0,       0,   17961,   23847,   23733,   41203,\n",
       "          23497,   52392,   34777,   97694,   62412,   90258,  127983,\n",
       "         137326,  210667,  169799,  286631,  321056,  417009,  444295,\n",
       "         553051,  669632,  755997,  923496, 1075498, 1182581, 1415300,\n",
       "        1558490, 1734729, 1839783, 1887788, 1895262, 1719853, 1468785,\n",
       "        1084614,  686707,  352971,  177139,   64111,   11733,      61,\n",
       "              0], dtype=int64),\n",
       " 'Unweighted B(r)': array([ 1.45853789,         nan,         nan,  2.677558  ,         nan,\n",
       "                nan,  3.40851944,  4.31174473,         nan,         nan,\n",
       "         5.63466174,  6.26494624,  7.24142105,  8.34176029,  9.01892332,\n",
       "        10.33758695, 11.02176698, 11.99766958, 13.13359712, 13.66373307,\n",
       "        14.84437333, 15.97661817, 17.00139955, 18.27800106, 19.17047274,\n",
       "        20.15121099, 21.46287962, 22.66808748, 23.57373779, 24.53744711,\n",
       "        25.20145815, 25.8410918 , 25.87865845, 25.77688365, 25.35194505,\n",
       "        25.08969707, 25.38760207, 26.5905156 , 28.82011789, 30.66673294,\n",
       "        30.48032338, 29.4281271 , 25.80064202, 23.84817191, 23.39085044,\n",
       "        24.69196133, 24.54047671, 22.90609952, 28.95209016,         nan]),\n",
       " 'Weighted B(r)': array([ 0.99296746,         nan,         nan,  1.86973077,         nan,\n",
       "                nan,  2.47807353,  3.21835263,         nan,         nan,\n",
       "         4.36849715,  4.96548136,  5.81475212,  6.858013  ,  7.45315824,\n",
       "         8.6628781 ,  9.26529493, 10.3252629 , 11.48485027, 11.96620287,\n",
       "        13.18608799, 14.37078367, 15.51093637, 16.96280244, 18.01660052,\n",
       "        19.24678287, 20.74448567, 22.07750379, 23.12245065, 24.01832451,\n",
       "        24.47519079, 24.93577693, 24.602134  , 24.27541442, 24.00527993,\n",
       "        23.81514127, 24.31344129, 25.80853453, 28.30704739, 29.9738108 ,\n",
       "        29.64706027, 28.53002843, 23.68471518, 21.58967312, 21.31770254,\n",
       "        22.41228283, 24.66904453, 23.72416384, 28.74793561,         nan]),\n",
       " 'Unweighted mean velocity': -5.948184837545125,\n",
       " 'Unweighted sigma^2': 12.895954004824253,\n",
       " 'Weighted mean velocity': -6.0293022757715855,\n",
       " 'Weighted sigma^2': 11.989564360558917}"
      ]
     },
     "execution_count": 15,
     "metadata": {},
     "output_type": "execute_result"
    }
   ],
   "source": [
    "rslt"
   ]
  },
  {
   "cell_type": "code",
   "execution_count": 16,
   "metadata": {},
   "outputs": [],
   "source": [
    "HX = { 'VF' : data,\n",
    "        'SF' : rslt,\n",
    "        's' : s,\n",
    "        'b2' : b2,\n",
    "        'sig2' : sig2,\n",
    "        'pc' : data['pc'],\n",
    "        'r0' : r0,\n",
    "        'r1' : r1,\n",
    "        'r2' : r2,\n",
    "        's0' : data['s0'],\n",
    "        'pix' : data['pix'],\n",
    "        'box_size': box_size} "
   ]
  },
  {
   "cell_type": "code",
   "execution_count": 17,
   "metadata": {},
   "outputs": [],
   "source": [
    "f = open('Results\\\\SF'+ name + '.pkl',\"wb\")\n",
    "pickle.dump(HX,f)\n",
    "f.close()"
   ]
  },
  {
   "cell_type": "code",
   "execution_count": null,
   "metadata": {},
   "outputs": [],
   "source": []
  },
  {
   "cell_type": "code",
   "execution_count": 18,
   "metadata": {},
   "outputs": [
    {
     "name": "stdout",
     "output_type": "stream",
     "text": [
      "--- 9.331765413284302 seconds ---\n"
     ]
    }
   ],
   "source": [
    "print(\"--- %s seconds ---\" % (time.time()-start_time))"
   ]
  }
 ],
 "metadata": {
  "kernelspec": {
   "display_name": "Python 3",
   "language": "python",
   "name": "python3"
  },
  "language_info": {
   "codemirror_mode": {
    "name": "ipython",
    "version": 3
   },
   "file_extension": ".py",
   "mimetype": "text/x-python",
   "name": "python",
   "nbconvert_exporter": "python",
   "pygments_lexer": "ipython3",
   "version": "3.8.3"
  }
 },
 "nbformat": 4,
 "nbformat_minor": 4
}
