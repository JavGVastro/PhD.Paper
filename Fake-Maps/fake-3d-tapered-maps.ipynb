{
 "cells": [
  {
   "cell_type": "code",
   "execution_count": null,
   "metadata": {},
   "outputs": [],
   "source": [
    "from pathlib import Path\n",
    "from matplotlib import pyplot as plt\n",
    "import numpy as np\n",
    "import json\n",
    "import cmasher as cmr\n",
    "import seaborn as sns\n",
    "import sys\n",
    "\n",
    "from astropy.io import fits\n",
    "from astropy.utils.misc import JsonCustomEncoder\n",
    "import astropy.units as u\n",
    "\n",
    "from turbustat.simulator import make_ppv\n",
    "from turb_utils import make_extended, make_3dfield\n",
    "\n",
    "\n"
   ]
  },
  {
   "cell_type": "markdown",
   "metadata": {},
   "source": [
    "3D maps"
   ]
  },
  {
   "cell_type": "code",
   "execution_count": null,
   "metadata": {},
   "outputs": [],
   "source": [
    "r0 = 32.0\n",
    "N = 256\n",
    "m = 1.0\n",
    "\n",
    "threeD_field = make_3dfield(\n",
    "    N,\n",
    "    ellip=0.5,\n",
    "    theta=45,\n",
    "    powerlaw=3.0 + m,\n",
    "    randomseed=2021_10_08)\n",
    "\n",
    "plt.figure(figsize=[20, 6])  \n",
    "plt.subplot(131)  \n",
    "plt.imshow(threeD_field.mean(0), origin='lower')  \n",
    "plt.subplot(132)  \n",
    "plt.imshow(threeD_field.mean(1), origin='lower')  \n",
    "plt.subplot(133)  \n",
    "plt.imshow(threeD_field.mean(2), origin='lower')  \n",
    "plt.tight_layout()  "
   ]
  },
  {
   "cell_type": "code",
   "execution_count": null,
   "metadata": {},
   "outputs": [],
   "source": [
    "threeD_field = make_3dfield(\n",
    "    N,\n",
    "    ellip=0.5,\n",
    "    theta=45,\n",
    "    correlation_length=r0,  \n",
    "    powerlaw=3.0 + m,\n",
    "    randomseed=2021_10_08)\n",
    "\n",
    "plt.figure(figsize=[20, 6])  \n",
    "plt.subplot(131)  \n",
    "plt.imshow(threeD_field.mean(0), origin='lower')  \n",
    "plt.subplot(132)  \n",
    "plt.imshow(threeD_field.mean(1), origin='lower')  \n",
    "plt.subplot(133)  \n",
    "plt.imshow(threeD_field.mean(2), origin='lower')  \n",
    "plt.tight_layout()  "
   ]
  }
 ],
 "metadata": {
  "kernelspec": {
   "display_name": "Python 3",
   "language": "python",
   "name": "python3"
  },
  "language_info": {
   "codemirror_mode": {
    "name": "ipython",
    "version": 3
   },
   "file_extension": ".py",
   "mimetype": "text/x-python",
   "name": "python",
   "nbconvert_exporter": "python",
   "pygments_lexer": "ipython3",
   "version": "3.8.3"
  }
 },
 "nbformat": 4,
 "nbformat_minor": 4
}
