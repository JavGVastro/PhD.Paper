{
 "cells": [
  {
   "cell_type": "code",
   "execution_count": 1,
   "metadata": {},
   "outputs": [],
   "source": [
    "import time\n",
    "start_time=time.time()"
   ]
  },
  {
   "cell_type": "code",
   "execution_count": 1,
   "metadata": {},
   "outputs": [],
   "source": [
    "from pathlib import Path\n",
    "from matplotlib import pyplot as plt\n",
    "import numpy as np\n",
    "import json\n",
    "import cmasher as cmr\n",
    "import seaborn as sns\n",
    "import sys\n",
    "import pylab as pl\n",
    "import pandas as pd\n",
    "\n",
    "\n",
    "from astropy.io import fits\n",
    "from astropy.utils.misc import JsonCustomEncoder\n",
    "import astropy.units as u\n",
    "from astropy.convolution import Gaussian2DKernel, convolve_fft\n",
    "\n",
    "from turbustat.simulator import make_ppv\n",
    "from spectral_cube import SpectralCube  \n",
    "import lmfit\n",
    "\n",
    "sys.path.insert(1, 'C:/Users/ZAINTEL2/Documents/Aeon/GitHub/PhD.Paper/py-modules')  \n",
    "from turb_utils import make_extended, make_3dfield\n",
    "import strucfunc\n",
    "import bfunc\n",
    "import bplot_mod\n"
   ]
  },
  {
   "cell_type": "code",
   "execution_count": 2,
   "metadata": {},
   "outputs": [
    {
     "data": {
      "text/plain": [
       "2.43"
      ]
     },
     "execution_count": 2,
     "metadata": {},
     "output_type": "execute_result"
    }
   ],
   "source": [
    "a = {}\n",
    "\n",
    "for k in range(6):\n",
    "    a[k+1] = np.round(np.linspace(1,5,15)[k],2)\n",
    "    \n",
    "a[6]"
   ]
  },
  {
   "cell_type": "code",
   "execution_count": 3,
   "metadata": {},
   "outputs": [],
   "source": [
    "k = np.linspace(1,5,15)"
   ]
  },
  {
   "cell_type": "code",
   "execution_count": 4,
   "metadata": {},
   "outputs": [
    {
     "data": {
      "text/plain": [
       "5.0"
      ]
     },
     "execution_count": 4,
     "metadata": {},
     "output_type": "execute_result"
    }
   ],
   "source": [
    "k[14]"
   ]
  },
  {
   "cell_type": "code",
   "execution_count": 6,
   "metadata": {},
   "outputs": [
    {
     "name": "stderr",
     "output_type": "stream",
     "text": [
      "C:\\Users\\ZAINTEL2\\anaconda3\\lib\\site-packages\\astropy\\units\\quantity.py:1028: FutureWarning: Using a non-tuple sequence for multidimensional indexing is deprecated; use `arr[tuple(seq)]` instead of `arr[seq]`. In the future this will be interpreted as an array index, `arr[np.array(seq)]`, which will result either in an error or a different result.\n",
      "  out = super().__getitem__(key)\n",
      "C:/Users/ZAINTEL2/Documents/Aeon/GitHub/PhD.Paper/py-modules\\strucfunc.py:83: RuntimeWarning: invalid value encountered in true_divide\n",
      "  'Unweighted B(r)': sf/nsf,\n",
      "C:/Users/ZAINTEL2/Documents/Aeon/GitHub/PhD.Paper/py-modules\\strucfunc.py:84: RuntimeWarning: invalid value encountered in true_divide\n",
      "  'Weighted B(r)': wsf/weight}\n",
      "C:\\Users\\ZAINTEL2\\anaconda3\\lib\\site-packages\\emcee\\moves\\red_blue.py:99: RuntimeWarning: invalid value encountered in double_scalars\n",
      "  lnpdiff = f + nlp - state.log_prob[j]\n",
      "C:\\Users\\ZAINTEL2\\anaconda3\\lib\\site-packages\\astropy\\units\\quantity.py:1028: FutureWarning: Using a non-tuple sequence for multidimensional indexing is deprecated; use `arr[tuple(seq)]` instead of `arr[seq]`. In the future this will be interpreted as an array index, `arr[np.array(seq)]`, which will result either in an error or a different result.\n",
      "  out = super().__getitem__(key)\n",
      "C:/Users/ZAINTEL2/Documents/Aeon/GitHub/PhD.Paper/py-modules\\strucfunc.py:83: RuntimeWarning: invalid value encountered in true_divide\n",
      "  'Unweighted B(r)': sf/nsf,\n",
      "C:/Users/ZAINTEL2/Documents/Aeon/GitHub/PhD.Paper/py-modules\\strucfunc.py:84: RuntimeWarning: invalid value encountered in true_divide\n",
      "  'Weighted B(r)': wsf/weight}\n",
      "C:\\Users\\ZAINTEL2\\anaconda3\\lib\\site-packages\\emcee\\moves\\red_blue.py:99: RuntimeWarning: invalid value encountered in double_scalars\n",
      "  lnpdiff = f + nlp - state.log_prob[j]\n",
      "C:\\Users\\ZAINTEL2\\anaconda3\\lib\\site-packages\\astropy\\units\\quantity.py:1028: FutureWarning: Using a non-tuple sequence for multidimensional indexing is deprecated; use `arr[tuple(seq)]` instead of `arr[seq]`. In the future this will be interpreted as an array index, `arr[np.array(seq)]`, which will result either in an error or a different result.\n",
      "  out = super().__getitem__(key)\n",
      "C:/Users/ZAINTEL2/Documents/Aeon/GitHub/PhD.Paper/py-modules\\strucfunc.py:83: RuntimeWarning: invalid value encountered in true_divide\n",
      "  'Unweighted B(r)': sf/nsf,\n",
      "C:/Users/ZAINTEL2/Documents/Aeon/GitHub/PhD.Paper/py-modules\\strucfunc.py:84: RuntimeWarning: invalid value encountered in true_divide\n",
      "  'Weighted B(r)': wsf/weight}\n",
      "C:\\Users\\ZAINTEL2\\anaconda3\\lib\\site-packages\\emcee\\moves\\red_blue.py:99: RuntimeWarning: invalid value encountered in double_scalars\n",
      "  lnpdiff = f + nlp - state.log_prob[j]\n"
     ]
    },
    {
     "name": "stdout",
     "output_type": "stream",
     "text": [
      "The chain is shorter than 50 times the integrated autocorrelation time for 4 parameter(s). Use this estimate with caution and run a longer chain!\n",
      "N/50 = 500;\n",
      "tau: [2412.11318375  953.78185858 2138.98764751 2465.46089033]\n"
     ]
    },
    {
     "name": "stderr",
     "output_type": "stream",
     "text": [
      "C:\\Users\\ZAINTEL2\\anaconda3\\lib\\site-packages\\astropy\\units\\quantity.py:1028: FutureWarning: Using a non-tuple sequence for multidimensional indexing is deprecated; use `arr[tuple(seq)]` instead of `arr[seq]`. In the future this will be interpreted as an array index, `arr[np.array(seq)]`, which will result either in an error or a different result.\n",
      "  out = super().__getitem__(key)\n",
      "C:/Users/ZAINTEL2/Documents/Aeon/GitHub/PhD.Paper/py-modules\\strucfunc.py:83: RuntimeWarning: invalid value encountered in true_divide\n",
      "  'Unweighted B(r)': sf/nsf,\n",
      "C:/Users/ZAINTEL2/Documents/Aeon/GitHub/PhD.Paper/py-modules\\strucfunc.py:84: RuntimeWarning: invalid value encountered in true_divide\n",
      "  'Weighted B(r)': wsf/weight}\n",
      "C:\\Users\\ZAINTEL2\\anaconda3\\lib\\site-packages\\emcee\\moves\\red_blue.py:99: RuntimeWarning: invalid value encountered in double_scalars\n",
      "  lnpdiff = f + nlp - state.log_prob[j]\n",
      "C:\\Users\\ZAINTEL2\\anaconda3\\lib\\site-packages\\astropy\\units\\quantity.py:1028: FutureWarning: Using a non-tuple sequence for multidimensional indexing is deprecated; use `arr[tuple(seq)]` instead of `arr[seq]`. In the future this will be interpreted as an array index, `arr[np.array(seq)]`, which will result either in an error or a different result.\n",
      "  out = super().__getitem__(key)\n",
      "C:/Users/ZAINTEL2/Documents/Aeon/GitHub/PhD.Paper/py-modules\\strucfunc.py:83: RuntimeWarning: invalid value encountered in true_divide\n",
      "  'Unweighted B(r)': sf/nsf,\n",
      "C:/Users/ZAINTEL2/Documents/Aeon/GitHub/PhD.Paper/py-modules\\strucfunc.py:84: RuntimeWarning: invalid value encountered in true_divide\n",
      "  'Weighted B(r)': wsf/weight}\n",
      "C:\\Users\\ZAINTEL2\\anaconda3\\lib\\site-packages\\emcee\\moves\\red_blue.py:99: RuntimeWarning: invalid value encountered in double_scalars\n",
      "  lnpdiff = f + nlp - state.log_prob[j]\n",
      "C:\\Users\\ZAINTEL2\\anaconda3\\lib\\site-packages\\astropy\\units\\quantity.py:1028: FutureWarning: Using a non-tuple sequence for multidimensional indexing is deprecated; use `arr[tuple(seq)]` instead of `arr[seq]`. In the future this will be interpreted as an array index, `arr[np.array(seq)]`, which will result either in an error or a different result.\n",
      "  out = super().__getitem__(key)\n",
      "C:/Users/ZAINTEL2/Documents/Aeon/GitHub/PhD.Paper/py-modules\\strucfunc.py:83: RuntimeWarning: invalid value encountered in true_divide\n",
      "  'Unweighted B(r)': sf/nsf,\n",
      "C:/Users/ZAINTEL2/Documents/Aeon/GitHub/PhD.Paper/py-modules\\strucfunc.py:84: RuntimeWarning: invalid value encountered in true_divide\n",
      "  'Weighted B(r)': wsf/weight}\n",
      "C:\\Users\\ZAINTEL2\\anaconda3\\lib\\site-packages\\emcee\\moves\\red_blue.py:99: RuntimeWarning: invalid value encountered in double_scalars\n",
      "  lnpdiff = f + nlp - state.log_prob[j]\n",
      "C:\\Users\\ZAINTEL2\\anaconda3\\lib\\site-packages\\astropy\\units\\quantity.py:1028: FutureWarning: Using a non-tuple sequence for multidimensional indexing is deprecated; use `arr[tuple(seq)]` instead of `arr[seq]`. In the future this will be interpreted as an array index, `arr[np.array(seq)]`, which will result either in an error or a different result.\n",
      "  out = super().__getitem__(key)\n",
      "C:/Users/ZAINTEL2/Documents/Aeon/GitHub/PhD.Paper/py-modules\\strucfunc.py:83: RuntimeWarning: invalid value encountered in true_divide\n",
      "  'Unweighted B(r)': sf/nsf,\n",
      "C:/Users/ZAINTEL2/Documents/Aeon/GitHub/PhD.Paper/py-modules\\strucfunc.py:84: RuntimeWarning: invalid value encountered in true_divide\n",
      "  'Weighted B(r)': wsf/weight}\n",
      "C:\\Users\\ZAINTEL2\\anaconda3\\lib\\site-packages\\emcee\\moves\\red_blue.py:99: RuntimeWarning: invalid value encountered in double_scalars\n",
      "  lnpdiff = f + nlp - state.log_prob[j]\n",
      "C:\\Users\\ZAINTEL2\\anaconda3\\lib\\site-packages\\astropy\\units\\quantity.py:1028: FutureWarning: Using a non-tuple sequence for multidimensional indexing is deprecated; use `arr[tuple(seq)]` instead of `arr[seq]`. In the future this will be interpreted as an array index, `arr[np.array(seq)]`, which will result either in an error or a different result.\n",
      "  out = super().__getitem__(key)\n",
      "C:/Users/ZAINTEL2/Documents/Aeon/GitHub/PhD.Paper/py-modules\\strucfunc.py:83: RuntimeWarning: invalid value encountered in true_divide\n",
      "  'Unweighted B(r)': sf/nsf,\n",
      "C:/Users/ZAINTEL2/Documents/Aeon/GitHub/PhD.Paper/py-modules\\strucfunc.py:84: RuntimeWarning: invalid value encountered in true_divide\n",
      "  'Weighted B(r)': wsf/weight}\n",
      "C:\\Users\\ZAINTEL2\\anaconda3\\lib\\site-packages\\astropy\\units\\quantity.py:1028: FutureWarning: Using a non-tuple sequence for multidimensional indexing is deprecated; use `arr[tuple(seq)]` instead of `arr[seq]`. In the future this will be interpreted as an array index, `arr[np.array(seq)]`, which will result either in an error or a different result.\n",
      "  out = super().__getitem__(key)\n",
      "C:/Users/ZAINTEL2/Documents/Aeon/GitHub/PhD.Paper/py-modules\\strucfunc.py:83: RuntimeWarning: invalid value encountered in true_divide\n",
      "  'Unweighted B(r)': sf/nsf,\n",
      "C:/Users/ZAINTEL2/Documents/Aeon/GitHub/PhD.Paper/py-modules\\strucfunc.py:84: RuntimeWarning: invalid value encountered in true_divide\n",
      "  'Weighted B(r)': wsf/weight}\n",
      "C:\\Users\\ZAINTEL2\\anaconda3\\lib\\site-packages\\astropy\\units\\quantity.py:1028: FutureWarning: Using a non-tuple sequence for multidimensional indexing is deprecated; use `arr[tuple(seq)]` instead of `arr[seq]`. In the future this will be interpreted as an array index, `arr[np.array(seq)]`, which will result either in an error or a different result.\n",
      "  out = super().__getitem__(key)\n",
      "C:/Users/ZAINTEL2/Documents/Aeon/GitHub/PhD.Paper/py-modules\\strucfunc.py:83: RuntimeWarning: invalid value encountered in true_divide\n",
      "  'Unweighted B(r)': sf/nsf,\n",
      "C:/Users/ZAINTEL2/Documents/Aeon/GitHub/PhD.Paper/py-modules\\strucfunc.py:84: RuntimeWarning: invalid value encountered in true_divide\n",
      "  'Weighted B(r)': wsf/weight}\n",
      "C:\\Users\\ZAINTEL2\\anaconda3\\lib\\site-packages\\astropy\\units\\quantity.py:1028: FutureWarning: Using a non-tuple sequence for multidimensional indexing is deprecated; use `arr[tuple(seq)]` instead of `arr[seq]`. In the future this will be interpreted as an array index, `arr[np.array(seq)]`, which will result either in an error or a different result.\n",
      "  out = super().__getitem__(key)\n",
      "C:/Users/ZAINTEL2/Documents/Aeon/GitHub/PhD.Paper/py-modules\\strucfunc.py:83: RuntimeWarning: invalid value encountered in true_divide\n",
      "  'Unweighted B(r)': sf/nsf,\n",
      "C:/Users/ZAINTEL2/Documents/Aeon/GitHub/PhD.Paper/py-modules\\strucfunc.py:84: RuntimeWarning: invalid value encountered in true_divide\n",
      "  'Weighted B(r)': wsf/weight}\n",
      "C:\\Users\\ZAINTEL2\\anaconda3\\lib\\site-packages\\astropy\\units\\quantity.py:1028: FutureWarning: Using a non-tuple sequence for multidimensional indexing is deprecated; use `arr[tuple(seq)]` instead of `arr[seq]`. In the future this will be interpreted as an array index, `arr[np.array(seq)]`, which will result either in an error or a different result.\n",
      "  out = super().__getitem__(key)\n",
      "C:/Users/ZAINTEL2/Documents/Aeon/GitHub/PhD.Paper/py-modules\\strucfunc.py:83: RuntimeWarning: invalid value encountered in true_divide\n",
      "  'Unweighted B(r)': sf/nsf,\n",
      "C:/Users/ZAINTEL2/Documents/Aeon/GitHub/PhD.Paper/py-modules\\strucfunc.py:84: RuntimeWarning: invalid value encountered in true_divide\n",
      "  'Weighted B(r)': wsf/weight}\n",
      "C:\\Users\\ZAINTEL2\\anaconda3\\lib\\site-packages\\emcee\\moves\\red_blue.py:99: RuntimeWarning: invalid value encountered in double_scalars\n",
      "  lnpdiff = f + nlp - state.log_prob[j]\n",
      "C:\\Users\\ZAINTEL2\\anaconda3\\lib\\site-packages\\astropy\\units\\quantity.py:1028: FutureWarning: Using a non-tuple sequence for multidimensional indexing is deprecated; use `arr[tuple(seq)]` instead of `arr[seq]`. In the future this will be interpreted as an array index, `arr[np.array(seq)]`, which will result either in an error or a different result.\n",
      "  out = super().__getitem__(key)\n",
      "C:/Users/ZAINTEL2/Documents/Aeon/GitHub/PhD.Paper/py-modules\\strucfunc.py:83: RuntimeWarning: invalid value encountered in true_divide\n",
      "  'Unweighted B(r)': sf/nsf,\n",
      "C:/Users/ZAINTEL2/Documents/Aeon/GitHub/PhD.Paper/py-modules\\strucfunc.py:84: RuntimeWarning: invalid value encountered in true_divide\n",
      "  'Weighted B(r)': wsf/weight}\n",
      "C:\\Users\\ZAINTEL2\\anaconda3\\lib\\site-packages\\emcee\\moves\\red_blue.py:99: RuntimeWarning: invalid value encountered in double_scalars\n",
      "  lnpdiff = f + nlp - state.log_prob[j]\n",
      "C:\\Users\\ZAINTEL2\\anaconda3\\lib\\site-packages\\astropy\\units\\quantity.py:1028: FutureWarning: Using a non-tuple sequence for multidimensional indexing is deprecated; use `arr[tuple(seq)]` instead of `arr[seq]`. In the future this will be interpreted as an array index, `arr[np.array(seq)]`, which will result either in an error or a different result.\n",
      "  out = super().__getitem__(key)\n"
     ]
    },
    {
     "name": "stderr",
     "output_type": "stream",
     "text": [
      "C:/Users/ZAINTEL2/Documents/Aeon/GitHub/PhD.Paper/py-modules\\strucfunc.py:83: RuntimeWarning: invalid value encountered in true_divide\n",
      "  'Unweighted B(r)': sf/nsf,\n",
      "C:/Users/ZAINTEL2/Documents/Aeon/GitHub/PhD.Paper/py-modules\\strucfunc.py:84: RuntimeWarning: invalid value encountered in true_divide\n",
      "  'Weighted B(r)': wsf/weight}\n",
      "C:\\Users\\ZAINTEL2\\anaconda3\\lib\\site-packages\\emcee\\moves\\red_blue.py:99: RuntimeWarning: invalid value encountered in double_scalars\n",
      "  lnpdiff = f + nlp - state.log_prob[j]\n",
      "C:\\Users\\ZAINTEL2\\anaconda3\\lib\\site-packages\\astropy\\units\\quantity.py:1028: FutureWarning: Using a non-tuple sequence for multidimensional indexing is deprecated; use `arr[tuple(seq)]` instead of `arr[seq]`. In the future this will be interpreted as an array index, `arr[np.array(seq)]`, which will result either in an error or a different result.\n",
      "  out = super().__getitem__(key)\n",
      "C:/Users/ZAINTEL2/Documents/Aeon/GitHub/PhD.Paper/py-modules\\strucfunc.py:83: RuntimeWarning: invalid value encountered in true_divide\n",
      "  'Unweighted B(r)': sf/nsf,\n",
      "C:/Users/ZAINTEL2/Documents/Aeon/GitHub/PhD.Paper/py-modules\\strucfunc.py:84: RuntimeWarning: invalid value encountered in true_divide\n",
      "  'Weighted B(r)': wsf/weight}\n"
     ]
    }
   ],
   "source": [
    "kappa = {}\n",
    "\n",
    "sig_E = 2\n",
    "delta_k = 1\n",
    "n = 15\n",
    "\n",
    "k = np.linspace(1,5,n)\n",
    "r0 = 32.0\n",
    "N = 256\n",
    "\n",
    "\n",
    "for j in range(n):\n",
    "######cube\n",
    "    k = np.linspace(1,5,n)[j]\n",
    "    ## 3D tapered velocity map\n",
    "    velocity = make_3dfield(\n",
    "        N,\n",
    "        ellip=0.5,\n",
    "        theta=45,\n",
    "        correlation_length=r0,  \n",
    "        powerlaw=k,\n",
    "        randomseed=2021_10_08)* u.km / u.s  \n",
    "    \n",
    "    ## Emissivity fluctuations\n",
    "    density = make_3dfield(N, \n",
    "                       powerlaw=k + delta_k, \n",
    "                       amp=1.,\n",
    "                       ellip=0.5,\n",
    "                       theta=45,\n",
    "                       correlation_length=r0,  \n",
    "                       randomseed=328764) * u.cm**-3  \n",
    "    density = (density-density.mean())/density.std()\n",
    "    emissivity = np.exp(sig_E * density)* u.cm**-3\n",
    "\n",
    "    ##Tapered Cube\n",
    "    cube_hdu = make_ppv(velocity, emissivity, los_axis=0,\n",
    "                    T=10000 * u.K, chan_width=0.5 * u.km / u.s,\n",
    "                    v_min=-20 * u.km / u.s,\n",
    "                    v_max=20 * u.km / u.s)  \n",
    "\n",
    "    cube = SpectralCube.read(cube_hdu)  \n",
    "###########structure function\n",
    "    sf = strucfunc.strucfunc_numba_parallel(cube.moment1().value, wmap=cube.moment0().value, dlogr=0.05)\n",
    "###########confidence intervals\n",
    "    mask = np.array(sf[\"N pairs\"]) > 0\n",
    "    B = np.array(sf[\"Unweighted B(r)\"])[mask]\n",
    "    r = 10**np.array(sf[\"log10 r\"])[mask]\n",
    "    box_size = 362\n",
    "    pc = 1\n",
    "    pix = 1\n",
    "    pc_per_arcsec = pc\n",
    "\n",
    "    model = lmfit.Model(bfunc.bfunc03s)\n",
    "    model.param_names\n",
    "    \n",
    "    # Correlation length between 1/10 and 2 x box_size\n",
    "    model.set_param_hint(\"r0\", value=0.1 * box_size, min=0.01 * box_size, max=2.0 * box_size)\n",
    "    # sig2 between 1/4 and 2 x max value of B(r)\n",
    "    model.set_param_hint(\"sig2\", value=0.5 * B.max(), min=0.25 * B.max(), max=2.0 * B.max())\n",
    "    # m between 1/2 and 5/3\n",
    "    model.set_param_hint(\"m\", value=1, min=0.5, max=1.5)\n",
    "    #Seeing RMS between 0.5 and 1.5 arcsec\n",
    "    #model.set_param_hint(\n",
    "    #    \"s0\", value=0.85 * pc_per_arcsec, min=0.5 * pc_per_arcsec, max=1.5 * pc_per_arcsec\n",
    "    #)\n",
    "    # Seeing pegged at ZERO\n",
    "    model.set_param_hint(\n",
    "        \"s0\", value=0.0 * 1, vary=False,\n",
    "    )\n",
    "\n",
    "    # Noise cannot be much larger than smallest B(r)\n",
    "    model.set_param_hint(\"noise\", value=0.5 * B.min(), min=0.0, max=3 * B.min())\n",
    "    # box_size is fixed\n",
    "    # model.set_param_hint(\"box_size\", value=box_size, vary=False)\n",
    "\n",
    "    relative_uncertainty = 0.085\n",
    "    weights = 1.0 / (relative_uncertainty * B)\n",
    "    large_scale = r > 0.5* box_size\n",
    "    weights[large_scale] /= 2.0\n",
    "    #weights[:1] /= 2.0\n",
    "\n",
    "    to_fit = r <= 0.5* box_size\n",
    "    #to_fit = ~large_scale\n",
    "    result = model.fit(B[to_fit], weights=weights[to_fit], r=r[to_fit])\n",
    "\n",
    "    emcee_kws = dict(\n",
    "        steps=25000, burn=500, thin=50, is_weighted=True, progress=False, workers=16\n",
    "    )\n",
    "    emcee_params = result.params.copy()\n",
    "    # emcee_params.add('__lnsigma', value=np.log(0.1), min=np.log(0.001), max=np.log(2.0))\n",
    "\n",
    "    result_emcee = model.fit(\n",
    "        data=B[to_fit],\n",
    "        r=r[to_fit],\n",
    "        weights=weights[to_fit],\n",
    "        params=emcee_params,\n",
    "        method=\"emcee\",\n",
    "        nan_policy=\"omit\",\n",
    "        fit_kws=emcee_kws,\n",
    "    )\n",
    "####save data\n",
    "\n",
    "    ms2 = np.percentile(result_emcee.flatchain['m'],[2.5, 97.5])\n",
    "    ms2p = ms2[1]-result.params['m'].value\n",
    "    ms2m = result.params['m'].value-ms2[0]\n",
    "\n",
    "    kappa[j] = [k, result.params['m'].value, ms2p, ms2m]\n",
    "    \n",
    "#kappa"
   ]
  },
  {
   "cell_type": "code",
   "execution_count": null,
   "metadata": {
    "scrolled": true
   },
   "outputs": [],
   "source": []
  },
  {
   "cell_type": "code",
   "execution_count": 8,
   "metadata": {},
   "outputs": [],
   "source": [
    "class MyEncoder(json.JSONEncoder):\n",
    "    def default(self, obj):\n",
    "        if isinstance(obj, np.integer):\n",
    "            return int(obj)\n",
    "        elif isinstance(obj, np.floating):\n",
    "            return float(obj)\n",
    "        elif isinstance(obj, np.ndarray):\n",
    "           return obj.tolist()\n",
    "        else:\n",
    "           return super(MyEncoder, self).default(obj)"
   ]
  },
  {
   "cell_type": "code",
   "execution_count": 9,
   "metadata": {},
   "outputs": [],
   "source": [
    "jsonfilename ='m2d_Vs_k_' + str(sig_E) + '_' + str(delta_k) + '_' + str(n) +\".json\"\n",
    "with open(jsonfilename, \"w\") as f:\n",
    "    json.dump(kappa, fp=f, indent=3, cls=MyEncoder)"
   ]
  },
  {
   "cell_type": "code",
   "execution_count": 25,
   "metadata": {},
   "outputs": [],
   "source": [
    "data_1015 = json.load(open(\"m2d_Vs_k_1_0_15.json\"))\n",
    "data_2015 = json.load(open(\"m2d_Vs_k_2_0_15.json\"))"
   ]
  },
  {
   "cell_type": "code",
   "execution_count": 77,
   "metadata": {},
   "outputs": [],
   "source": [
    "pd_1015=pd.DataFrame(data_1015)\n",
    "pd_2015=pd.DataFrame(data_2015)"
   ]
  },
  {
   "cell_type": "code",
   "execution_count": 76,
   "metadata": {},
   "outputs": [],
   "source": [
    "#pd_1015.iloc[0],pd_1015.iloc[1]"
   ]
  },
  {
   "cell_type": "code",
   "execution_count": 88,
   "metadata": {},
   "outputs": [
    {
     "data": {
      "text/plain": [
       "[(0.4, 1.6), Text(0, 0.5, '$ m_{2D}$ '), (0.8, 5.2), Text(0.5, 0, 'κ')]"
      ]
     },
     "execution_count": 88,
     "metadata": {},
     "output_type": "execute_result"
    },
    {
     "data": {
      "image/png": "[encoded data removed]",
      "text/plain": [
       "<Figure size 720x360 with 1 Axes>"
      ]
     },
     "metadata": {
      "needs_background": "light"
     },
     "output_type": "display_data"
    }
   ],
   "source": [
    "fig, ax = plt.subplots(figsize=(10, 5))\n",
    "\n",
    "#sig_E=1 / k_vel = k_dens\n",
    "ax.fill_between(pd_1015.iloc[0], pd_1015.iloc[1]+pd_1015.iloc[2], pd_1015.iloc[1]-pd_1015.iloc[3], alpha = 0.5, color = 'green')\n",
    "for i in range(len(data_in)):\n",
    "    ax.scatter(data_1015[str(i)][0],data_1015[str(i)][1], color = 'green', marker = 'o', alpha = 0.75)\n",
    "    ax.scatter(data_1015[str(i)][0],data_1015[str(i)][1] + data_1015[str(i)][2], color = 'green', marker = '.', alpha = 0.75)\n",
    "    ax.scatter(data_1015[str(i)][0],data_1015[str(i)][1] - data_1015[str(i)][3], color = 'green', marker = '.', alpha = 0.75)\n",
    "#sig_E=2 / k_vel = k_dens\n",
    "ax.fill_between(pd_2015.iloc[0], pd_2015.iloc[1]+pd_2015.iloc[2], pd_2015.iloc[1]-pd_2015.iloc[3], alpha = 0.5, color = 'b')\n",
    "for i in range(len(data_in)):\n",
    "    ax.scatter(data_2015[str(i)][0],data_2015[str(i)][1], color = 'b', marker = 'o', alpha = 0.75)\n",
    "    ax.scatter(data_2015[str(i)][0],data_2015[str(i)][1] + data_2015[str(i)][2], color = 'b', marker = '.', alpha = 0.75)\n",
    "    ax.scatter(data_2015[str(i)][0],data_2015[str(i)][1] - data_2015[str(i)][3], color = 'b', marker = '.', alpha = 0.75)\n",
    "\n",
    "ax.fill_between(np.linspace(2,3,100), 0.2, 3, alpha = 0.5, color = 'r', zorder =-5)\n",
    "ax.fill_between(np.linspace(3,4,100), 0.2, 4, alpha = 0.5, color = 'orange', zorder =-5)\n",
    "\n",
    "\n",
    "ax.hlines(1.0,0,6,linestyle=':')\n",
    "\n",
    "ax.set(\n",
    "    xlim=[0.8, 5.2], ylim=[0.40,1.6],\n",
    "    xlabel=r\"κ\", ylabel=r\"$ m_{2D}$ \",\n",
    ")\n"
   ]
  },
  {
   "cell_type": "code",
   "execution_count": 10,
   "metadata": {},
   "outputs": [
    {
     "name": "stdout",
     "output_type": "stream",
     "text": [
      "--- 5943.510845661163 seconds ---\n"
     ]
    }
   ],
   "source": [
    "print(\"--- %s seconds ---\" % (time.time() - start_time))"
   ]
  }
 ],
 "metadata": {
  "kernelspec": {
   "display_name": "Python 3",
   "language": "python",
   "name": "python3"
  },
  "language_info": {
   "codemirror_mode": {
    "name": "ipython",
    "version": 3
   },
   "file_extension": ".py",
   "mimetype": "text/x-python",
   "name": "python",
   "nbconvert_exporter": "python",
   "pygments_lexer": "ipython3",
   "version": "3.8.3"
  }
 },
 "nbformat": 4,
 "nbformat_minor": 4
}
