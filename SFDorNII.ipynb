{
 "cells": [
  {
   "cell_type": "code",
   "execution_count": 1,
   "metadata": {},
   "outputs": [],
   "source": [
    "import time\n",
    "start_time=time.time()"
   ]
  },
  {
   "cell_type": "code",
   "execution_count": 2,
   "metadata": {},
   "outputs": [],
   "source": [
    "from matplotlib import pyplot as plt\n",
    "import seaborn as sns\n",
    "import numpy as np\n",
    "import pandas as pd\n",
    "from scipy import interpolate\n",
    "import pickle\n",
    "\n",
    "import strucfunc\n",
    "from strucfunc import sosflog\n",
    "import bfunc"
   ]
  },
  {
   "cell_type": "code",
   "execution_count": 3,
   "metadata": {},
   "outputs": [],
   "source": [
    "name = 'DorNII'"
   ]
  },
  {
   "cell_type": "code",
   "execution_count": 4,
   "metadata": {},
   "outputs": [],
   "source": [
    "pickle_in = open('VFM//' + name + '.pkl',\"rb\")\n",
    "data = pickle.load(pickle_in)\n",
    "sb = data['sb']\n",
    "vv = data['vv']\n",
    "ss = data['ss']"
   ]
  },
  {
   "cell_type": "code",
   "execution_count": 5,
   "metadata": {},
   "outputs": [],
   "source": [
    "## Replace spurious values in the arrays\n",
    "m = ~np.isfinite(sb*vv*ss) | (sb < 0.0)\n",
    "m = m | (sb > 6e4) \n",
    "sb[m] = 0.0\n",
    "vv[m] = np.nanmean(vv)\n",
    "sb /= sb.max()\n",
    "\n",
    "good = (~m) & (sb > 0.001)"
   ]
  },
  {
   "cell_type": "code",
   "execution_count": 6,
   "metadata": {},
   "outputs": [
    {
     "data": {
      "text/plain": [
       "(650, 650)"
      ]
     },
     "execution_count": 6,
     "metadata": {},
     "output_type": "execute_result"
    }
   ],
   "source": [
    "sb.shape"
   ]
  },
  {
   "cell_type": "code",
   "execution_count": 7,
   "metadata": {},
   "outputs": [],
   "source": [
    "box_size = np.sqrt(650 * 650) * data['pix'] * data['pc']"
   ]
  },
  {
   "cell_type": "code",
   "execution_count": 8,
   "metadata": {},
   "outputs": [
    {
     "name": "stderr",
     "output_type": "stream",
     "text": [
      "C:\\Users\\ZAINTEL2\\Documents\\Aeon\\GitHub\\PhD.Paper\\strucfunc.py:83: RuntimeWarning: invalid value encountered in true_divide\n",
      "  'Unweighted B(r)': sf/nsf,\n",
      "C:\\Users\\ZAINTEL2\\Documents\\Aeon\\GitHub\\PhD.Paper\\strucfunc.py:84: RuntimeWarning: invalid value encountered in true_divide\n",
      "  'Weighted B(r)': wsf/weight}\n"
     ]
    }
   ],
   "source": [
    "rslt = strucfunc.strucfunc_numba_parallel(data['vv'], wmap=data['sb'], dlogr=0.05)"
   ]
  },
  {
   "cell_type": "code",
   "execution_count": 9,
   "metadata": {},
   "outputs": [],
   "source": [
    "good = (~m) & (sb > 0.001)\n",
    "rslt[\"Unweighted mean velocity\"] = np.mean(vv[good])\n",
    "rslt[\"Unweighted sigma^2\"] = np.var(vv[good])\n",
    "v0w = rslt[\"Weighted mean velocity\"] = np.average(vv, weights=sb)\n",
    "rslt[\"Weighted sigma^2\"] = np.average((vv - v0w)**2, weights=sb)"
   ]
  },
  {
   "cell_type": "code",
   "execution_count": 10,
   "metadata": {},
   "outputs": [],
   "source": [
    "b2 = rslt['Unweighted B(r)']\n",
    "e_b2 = b2  *.1\n",
    "s = 10**rslt['log10 r'] * data['pix'] * data['pc']\n",
    "e_s = s  *.1\n",
    "sig2 = rslt['Unweighted sigma^2']\n",
    "sig = sig2**0.5"
   ]
  },
  {
   "cell_type": "code",
   "execution_count": 11,
   "metadata": {},
   "outputs": [
    {
     "name": "stderr",
     "output_type": "stream",
     "text": [
      "C:\\Users\\ZAINTEL2\\anaconda3\\lib\\site-packages\\numpy\\lib\\function_base.py:1405: RuntimeWarning: invalid value encountered in remainder\n",
      "  xp = xp % period\n"
     ]
    },
    {
     "data": {
      "text/plain": [
       "9.568908350908208"
      ]
     },
     "execution_count": 11,
     "metadata": {},
     "output_type": "execute_result"
    }
   ],
   "source": [
    "r0 = np.interp(sig2, b2, s,period = 90)\n",
    "r0"
   ]
  },
  {
   "cell_type": "markdown",
   "metadata": {},
   "source": [
    "x = s\n",
    "y = b2 - sig2\n",
    "tck=interpolate.splrep(x,y,s=0)\n",
    "grid=np.linspace(x.min(),x.max(),num=len(x))\n",
    "ynew=interpolate.splev(grid,tck,der=0)\n",
    "inter=pd.DataFrame([grid,ynew]).T\n",
    "SFr=interpolate.sproot(tck)\n",
    "r0 = SFr[0]"
   ]
  },
  {
   "cell_type": "code",
   "execution_count": 12,
   "metadata": {},
   "outputs": [
    {
     "data": {
      "text/plain": [
       "18.922390228987222"
      ]
     },
     "execution_count": 12,
     "metadata": {},
     "output_type": "execute_result"
    }
   ],
   "source": [
    "r1 = np.interp(sig, b2, s,period = 360)\n",
    "r1"
   ]
  },
  {
   "cell_type": "code",
   "execution_count": 13,
   "metadata": {},
   "outputs": [
    {
     "data": {
      "text/plain": [
       "10.7056874999175"
      ]
     },
     "execution_count": 13,
     "metadata": {},
     "output_type": "execute_result"
    }
   ],
   "source": [
    "r2 = np.interp(2*sig2, b2, s, period = 360)\n",
    "r2"
   ]
  },
  {
   "cell_type": "code",
   "execution_count": 14,
   "metadata": {},
   "outputs": [
    {
     "data": {
      "text/plain": [
       "(284.4553600589584, 9.568908350908208, 1.0, 0.21816615649929116, 10.0)"
      ]
     },
     "execution_count": 14,
     "metadata": {},
     "output_type": "execute_result"
    },
    {
     "data": {
      "image/png": "[encoded data removed]",
      "text/plain": [
       "<Figure size 576x432 with 1 Axes>"
      ]
     },
     "metadata": {
      "needs_background": "light"
     },
     "output_type": "display_data"
    }
   ],
   "source": [
    "m = 1.0\n",
    "noise = 10.0\n",
    "s0 = data['s0']\n",
    "\n",
    "fig, ax = plt.subplots(figsize=(8, 6))\n",
    "rgrid = np.logspace(-1, 2.0)\n",
    "ax.errorbar(s, b2, yerr=e_b2, xerr=e_s, fmt='o', alpha=0.4,color=\"blue\")\n",
    "\n",
    "\n",
    "ax.axhline(sig2, ls='-')\n",
    "ax.axvline(r0, ls='-')\n",
    "\n",
    "ax.axhline(2*sig2, ls=':')\n",
    "ax.axvline(r2, ls=':')\n",
    "\n",
    "ax.axhline(sig, ls=':')\n",
    "ax.axvline(r1, ls=':')\n",
    "\n",
    "ax.plot(rgrid, bfunc.bfunc00s(rgrid, r0, sig2, m), color=\"0.8\")\n",
    "ax.plot(rgrid, bfunc.bfunc03s(rgrid, r0, sig2, m, s0, noise), color=\"red\")\n",
    "ax.plot(rgrid, bfunc.bfunc04s(rgrid, r0, sig2, m, s0, noise, box_size), color=\"black\")\n",
    "\n",
    "\n",
    "ax.set(xscale='log', yscale='log', \n",
    "       xlabel='separation, pc',\n",
    "       ylabel=r'$b^2,\\ \\mathrm{km^2\\ s^{-2}}$'\n",
    "      )\n",
    "None\n",
    "\n",
    "sig2, r0, m, s0, noise"
   ]
  },
  {
   "cell_type": "code",
   "execution_count": 15,
   "metadata": {},
   "outputs": [
    {
     "data": {
      "text/plain": [
       "{'log10 r': array([0.  , 0.05, 0.1 , 0.15, 0.2 , 0.25, 0.3 , 0.35, 0.4 , 0.45, 0.5 ,\n",
       "        0.55, 0.6 , 0.65, 0.7 , 0.75, 0.8 , 0.85, 0.9 , 0.95, 1.  , 1.05,\n",
       "        1.1 , 1.15, 1.2 , 1.25, 1.3 , 1.35, 1.4 , 1.45, 1.5 , 1.55, 1.6 ,\n",
       "        1.65, 1.7 , 1.75, 1.8 , 1.85, 1.9 , 1.95, 2.  , 2.05, 2.1 , 2.15,\n",
       "        2.2 , 2.25, 2.3 , 2.35, 2.4 , 2.45, 2.5 , 2.55, 2.6 , 2.65, 2.7 ,\n",
       "        2.75, 2.8 , 2.85, 2.9 ]),\n",
       " 'Sum dv^2': array([1.03154076e+07, 0.00000000e+00, 0.00000000e+00, 2.91319215e+07,\n",
       "        0.00000000e+00, 0.00000000e+00, 7.81924433e+07, 0.00000000e+00,\n",
       "        0.00000000e+00, 4.94813147e+07, 7.17752082e+07, 7.67270571e+07,\n",
       "        1.36287219e+08, 1.90962470e+08, 1.88296970e+08, 2.76576590e+08,\n",
       "        5.25168122e+08, 4.83260084e+08, 7.49419670e+08, 1.10951823e+09,\n",
       "        1.82040698e+09, 2.03859749e+09, 2.82734735e+09, 4.36087905e+09,\n",
       "        5.33287407e+09, 7.53035514e+09, 1.05833448e+10, 1.39088295e+10,\n",
       "        1.82618589e+10, 2.40751051e+10, 3.36427948e+10, 4.19740473e+10,\n",
       "        5.85513833e+10, 7.52559116e+10, 9.92233063e+10, 1.27918427e+11,\n",
       "        1.63746502e+11, 2.13097282e+11, 2.69534255e+11, 3.46056803e+11,\n",
       "        4.45986408e+11, 5.62002602e+11, 7.03554108e+11, 8.72603559e+11,\n",
       "        1.08989737e+12, 1.35771125e+12, 1.66293983e+12, 2.05408082e+12,\n",
       "        2.48427926e+12, 2.94154629e+12, 3.48025699e+12, 3.96429480e+12,\n",
       "        4.30340029e+12, 4.27170995e+12, 3.37420735e+12, 1.63671266e+12,\n",
       "        4.51723030e+11, 6.75162554e+10, 2.04346436e+09]),\n",
       " 'Sum weights': array([4.25454935e+03, 0.00000000e+00, 0.00000000e+00, 8.44600605e+03,\n",
       "        0.00000000e+00, 0.00000000e+00, 2.10005479e+04, 0.00000000e+00,\n",
       "        0.00000000e+00, 1.25254474e+04, 1.66107171e+04, 1.64983816e+04,\n",
       "        2.87681935e+04, 3.66311937e+04, 3.23383045e+04, 4.40887264e+04,\n",
       "        7.52120579e+04, 6.24626747e+04, 8.89245182e+04, 1.18032143e+05,\n",
       "        1.72341536e+05, 1.72619966e+05, 2.16669320e+05, 3.00301973e+05,\n",
       "        3.32471381e+05, 4.26646540e+05, 5.46580916e+05, 6.55903728e+05,\n",
       "        7.91869847e+05, 9.62394846e+05, 1.23924472e+06, 1.42580235e+06,\n",
       "        1.83624575e+06, 2.18702023e+06, 2.69083973e+06, 3.25084423e+06,\n",
       "        3.90713505e+06, 4.76910534e+06, 5.62539078e+06, 6.71125740e+06,\n",
       "        8.03206415e+06, 9.43694310e+06, 1.11730022e+07, 1.30689501e+07,\n",
       "        1.52995533e+07, 1.78576426e+07, 2.05633377e+07, 2.36403864e+07,\n",
       "        2.66355232e+07, 2.92747801e+07, 3.07882607e+07, 3.15741590e+07,\n",
       "        3.14171157e+07, 3.00893218e+07, 2.41452782e+07, 1.41560775e+07,\n",
       "        6.38268504e+06, 1.52683493e+06, 3.31415822e+04]),\n",
       " 'Sum w * dv^2': array([1.34259002e+04, 0.00000000e+00, 0.00000000e+00, 8.83638882e+04,\n",
       "        0.00000000e+00, 0.00000000e+00, 2.34870944e+05, 0.00000000e+00,\n",
       "        0.00000000e+00, 1.52926499e+05, 2.37567681e+05, 2.65998734e+05,\n",
       "        4.38256447e+05, 6.34836271e+05, 6.77847851e+05, 9.86427413e+05,\n",
       "        1.94966641e+06, 1.83308991e+06, 2.83910068e+06, 4.28565000e+06,\n",
       "        7.18561984e+06, 8.13203248e+06, 1.13886895e+07, 1.78337270e+07,\n",
       "        2.20837993e+07, 3.15695302e+07, 4.49660421e+07, 5.99139742e+07,\n",
       "        7.97088293e+07, 1.06170701e+08, 1.49511516e+08, 1.87400529e+08,\n",
       "        2.61406534e+08, 3.35453659e+08, 4.42963167e+08, 5.72276464e+08,\n",
       "        7.33362176e+08, 9.50069976e+08, 1.18895931e+09, 1.49433386e+09,\n",
       "        1.90776935e+09, 2.44363968e+09, 3.11995785e+09, 3.92845377e+09,\n",
       "        4.99327314e+09, 6.27358916e+09, 7.67747727e+09, 9.37781108e+09,\n",
       "        1.12135102e+10, 1.30103641e+10, 1.47562444e+10, 1.64584875e+10,\n",
       "        1.76092904e+10, 1.85833582e+10, 1.55979766e+10, 7.65958618e+09,\n",
       "        2.53328636e+09, 5.92154609e+08, 1.40072915e+07]),\n",
       " 'N pairs': array([    361162,          0,          0,     720473,          0,\n",
       "                 0,    1798035,          0,          0,    1076927,\n",
       "           1434275,    1431201,    2503992,    3211114,    2852329,\n",
       "           3914509,    6744331,    5661460,    8129083,   10925390,\n",
       "          16174042,   16459195,   20953855,   29553934,   33261264,\n",
       "          43439280,   56621859,   69218218,   85058370,  105288559,\n",
       "         138194924,  162250183,  213583789,  260229133,  327377931,\n",
       "         404405858,  497793841,  624543592,  758870957,  933679302,\n",
       "        1151427864, 1394957936, 1704996195, 2051912550, 2456626821,\n",
       "        2925138686, 3439874436, 4017755068, 4603985463, 5186939687,\n",
       "        5702110603, 6062868588, 6127116739, 5712581642, 4564928909,\n",
       "        2480372899,  836431421,  162897235,    5259204], dtype=int64),\n",
       " 'Unweighted B(r)': array([ 28.56171912,          nan,          nan,  40.43443894,\n",
       "                 nan,          nan,  43.48772039,          nan,\n",
       "                 nan,  45.94676766,  50.04284964,  53.61025959,\n",
       "         54.42797698,  59.46922783,  66.01516501,  70.65422254,\n",
       "         77.86808246,  85.35962166,  92.18993947, 101.55410758,\n",
       "        112.55114679, 123.85766682, 134.93208546, 147.55663484,\n",
       "        160.33287453, 173.35359005, 186.91270392, 200.94174474,\n",
       "        214.69796412, 228.65832117, 243.44450488, 258.69953759,\n",
       "        274.13776849, 289.19095543, 303.08489642, 316.31200354,\n",
       "        328.94441165, 341.20481773, 355.17798194, 370.63775748,\n",
       "        387.33334645, 402.8813969 , 412.64262652, 425.26352258,\n",
       "        443.65605917, 464.15277903, 483.43038779, 511.25088066,\n",
       "        539.59320173, 567.10632194, 610.34540159, 653.86454397,\n",
       "        702.35323868, 747.77223719, 739.15879486, 659.86556223,\n",
       "        540.05985256, 414.47146354, 388.55012373]),\n",
       " 'Weighted B(r)': array([  3.1556574 ,          nan,          nan,  10.46220991,\n",
       "                 nan,          nan,  11.18403889,          nan,\n",
       "                 nan,  12.2092644 ,  14.30207257,  16.12271672,\n",
       "         15.2340621 ,  17.33048277,  20.9611438 ,  22.37368809,\n",
       "         25.92225849,  29.34696465,  31.92708538,  36.30917718,\n",
       "         41.69406878,  47.10945477,  52.56253866,  59.38597997,\n",
       "         66.42315862,  73.99457683,  82.26785965,  91.34568338,\n",
       "        100.65900304, 110.3192747 , 120.64728894, 131.43513818,\n",
       "        142.35923183, 153.38388476, 164.61893353, 176.03933755,\n",
       "        187.69818971, 199.21345985, 211.35586056, 222.66078729,\n",
       "        237.51918809, 258.94398831, 279.24078073, 300.59444212,\n",
       "        326.36724979, 351.31116167, 373.35754516, 396.68603271,\n",
       "        420.9983066 , 444.42226638, 479.28152086, 521.26447844,\n",
       "        560.49990593, 617.60641435, 646.00525483, 541.08111309,\n",
       "        396.89979125, 387.83145177, 422.65005297]),\n",
       " 'Unweighted mean velocity': 268.40773509532994,\n",
       " 'Unweighted sigma^2': 284.4553600589584,\n",
       " 'Weighted mean velocity': 263.20640640396914,\n",
       " 'Weighted sigma^2': 214.04102947184467}"
      ]
     },
     "execution_count": 15,
     "metadata": {},
     "output_type": "execute_result"
    }
   ],
   "source": [
    "rslt"
   ]
  },
  {
   "cell_type": "code",
   "execution_count": 16,
   "metadata": {},
   "outputs": [],
   "source": [
    "Dor = { 'VF' : data,\n",
    "        'SF' : rslt,\n",
    "        's' : s,\n",
    "        'b2' : b2,\n",
    "        'sig2' : sig2,\n",
    "        'pc' : data['pc'],\n",
    "        'r0' : r0,\n",
    "        'r1' : r1,\n",
    "        'r2' : r2,\n",
    "        's0' : data['s0'],\n",
    "        'pix' : data['pix'],\n",
    "        'box_size': box_size}"
   ]
  },
  {
   "cell_type": "code",
   "execution_count": 17,
   "metadata": {},
   "outputs": [],
   "source": [
    "f = open('Results\\\\SF'+ name + '.pkl',\"wb\")\n",
    "pickle.dump(Dor,f)\n",
    "f.close()"
   ]
  },
  {
   "cell_type": "code",
   "execution_count": null,
   "metadata": {},
   "outputs": [],
   "source": []
  },
  {
   "cell_type": "code",
   "execution_count": 18,
   "metadata": {},
   "outputs": [
    {
     "name": "stdout",
     "output_type": "stream",
     "text": [
      "--- 1044.5274829864502 seconds ---\n"
     ]
    }
   ],
   "source": [
    "print(\"--- %s seconds ---\" % (time.time()-start_time))"
   ]
  }
 ],
 "metadata": {
  "kernelspec": {
   "display_name": "Python 3",
   "language": "python",
   "name": "python3"
  },
  "language_info": {
   "codemirror_mode": {
    "name": "ipython",
    "version": 3
   },
   "file_extension": ".py",
   "mimetype": "text/x-python",
   "name": "python",
   "nbconvert_exporter": "python",
   "pygments_lexer": "ipython3",
   "version": "3.8.3"
  }
 },
 "nbformat": 4,
 "nbformat_minor": 4
}
