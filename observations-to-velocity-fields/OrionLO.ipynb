{
 "cells": [
  {
   "cell_type": "code",
   "execution_count": 21,
   "metadata": {},
   "outputs": [],
   "source": [
    "import time\n",
    "start_time=time.time()"
   ]
  },
  {
   "cell_type": "code",
   "execution_count": 22,
   "metadata": {},
   "outputs": [],
   "source": [
    "import time\n",
    "from astropy.io import fits\n",
    "import matplotlib.pyplot as plt\n",
    "import numpy as np\n",
    "from scipy.fftpack import fft\n",
    "import pandas as pd\n",
    "import seaborn as sns\n",
    "import math\n",
    "import sys\n",
    "import os\n",
    "from scipy import interpolate\n",
    "\n",
    "plt.rcParams[\"font.family\"]=\"Times New Roman\"\n",
    "plt.rcParams[\"font.size\"]=\"20\""
   ]
  },
  {
   "cell_type": "code",
   "execution_count": 23,
   "metadata": {},
   "outputs": [
    {
     "data": {
      "text/plain": [
       "(0.11926416555294585, 0.10733774899765126)"
      ]
     },
     "execution_count": 23,
     "metadata": {},
     "output_type": "execute_result"
    }
   ],
   "source": [
    "dist = 410 #parsecs\n",
    "pc = dist*(2*np.pi) / (360  * 60)\n",
    "s0=(0.9*pc)\n",
    "pc,s0"
   ]
  },
  {
   "cell_type": "code",
   "execution_count": 26,
   "metadata": {},
   "outputs": [
    {
     "data": {
      "text/html": [
       "<div>\n",
       "<style scoped>\n",
       "    .dataframe tbody tr th:only-of-type {\n",
       "        vertical-align: middle;\n",
       "    }\n",
       "\n",
       "    .dataframe tbody tr th {\n",
       "        vertical-align: top;\n",
       "    }\n",
       "\n",
       "    .dataframe thead th {\n",
       "        text-align: right;\n",
       "    }\n",
       "</style>\n",
       "<table border=\"1\" class=\"dataframe\">\n",
       "  <thead>\n",
       "    <tr style=\"text-align: right;\">\n",
       "      <th></th>\n",
       "      <th>1</th>\n",
       "      <th>2</th>\n",
       "      <th>3</th>\n",
       "      <th>4</th>\n",
       "      <th>5</th>\n",
       "      <th>6</th>\n",
       "      <th>7</th>\n",
       "      <th>8</th>\n",
       "      <th>9</th>\n",
       "      <th>10</th>\n",
       "      <th>...</th>\n",
       "      <th>15</th>\n",
       "      <th>16</th>\n",
       "      <th>17</th>\n",
       "      <th>18</th>\n",
       "      <th>19</th>\n",
       "      <th>20</th>\n",
       "      <th>21</th>\n",
       "      <th>22</th>\n",
       "      <th>23</th>\n",
       "      <th>24</th>\n",
       "    </tr>\n",
       "  </thead>\n",
       "  <tbody>\n",
       "    <tr>\n",
       "      <th>count</th>\n",
       "      <td>22.000000</td>\n",
       "      <td>22.000000</td>\n",
       "      <td>22.000000</td>\n",
       "      <td>22.000000</td>\n",
       "      <td>22.000000</td>\n",
       "      <td>22.000000</td>\n",
       "      <td>22.000000</td>\n",
       "      <td>22.000000</td>\n",
       "      <td>22.000000</td>\n",
       "      <td>22.000000</td>\n",
       "      <td>...</td>\n",
       "      <td>22.000000</td>\n",
       "      <td>22.000000</td>\n",
       "      <td>22.000000</td>\n",
       "      <td>22.000000</td>\n",
       "      <td>22.000000</td>\n",
       "      <td>22.000000</td>\n",
       "      <td>22.000000</td>\n",
       "      <td>22.000000</td>\n",
       "      <td>22.000000</td>\n",
       "      <td>22.000000</td>\n",
       "    </tr>\n",
       "    <tr>\n",
       "      <th>mean</th>\n",
       "      <td>-0.231818</td>\n",
       "      <td>0.281818</td>\n",
       "      <td>-0.200000</td>\n",
       "      <td>-0.736364</td>\n",
       "      <td>-0.327273</td>\n",
       "      <td>-0.804545</td>\n",
       "      <td>-0.977273</td>\n",
       "      <td>-1.254545</td>\n",
       "      <td>-1.640909</td>\n",
       "      <td>-1.277273</td>\n",
       "      <td>...</td>\n",
       "      <td>-1.004545</td>\n",
       "      <td>-0.100000</td>\n",
       "      <td>-0.527273</td>\n",
       "      <td>-0.713636</td>\n",
       "      <td>-1.427273</td>\n",
       "      <td>-0.372727</td>\n",
       "      <td>-0.654545</td>\n",
       "      <td>0.331818</td>\n",
       "      <td>0.677273</td>\n",
       "      <td>0.109091</td>\n",
       "    </tr>\n",
       "    <tr>\n",
       "      <th>std</th>\n",
       "      <td>1.087324</td>\n",
       "      <td>0.851126</td>\n",
       "      <td>1.024927</td>\n",
       "      <td>1.679157</td>\n",
       "      <td>1.322401</td>\n",
       "      <td>1.365729</td>\n",
       "      <td>1.619798</td>\n",
       "      <td>2.538040</td>\n",
       "      <td>2.005150</td>\n",
       "      <td>2.880134</td>\n",
       "      <td>...</td>\n",
       "      <td>2.450943</td>\n",
       "      <td>2.850731</td>\n",
       "      <td>2.375105</td>\n",
       "      <td>3.112386</td>\n",
       "      <td>2.390493</td>\n",
       "      <td>2.460000</td>\n",
       "      <td>2.504040</td>\n",
       "      <td>2.193147</td>\n",
       "      <td>3.083278</td>\n",
       "      <td>0.762146</td>\n",
       "    </tr>\n",
       "    <tr>\n",
       "      <th>min</th>\n",
       "      <td>-5.100000</td>\n",
       "      <td>-0.100000</td>\n",
       "      <td>-3.300000</td>\n",
       "      <td>-5.600000</td>\n",
       "      <td>-4.100000</td>\n",
       "      <td>-4.000000</td>\n",
       "      <td>-4.100000</td>\n",
       "      <td>-5.700000</td>\n",
       "      <td>-6.300000</td>\n",
       "      <td>-5.800000</td>\n",
       "      <td>...</td>\n",
       "      <td>-5.300000</td>\n",
       "      <td>-3.800000</td>\n",
       "      <td>-5.400000</td>\n",
       "      <td>-6.000000</td>\n",
       "      <td>-6.100000</td>\n",
       "      <td>-5.000000</td>\n",
       "      <td>-6.100000</td>\n",
       "      <td>-3.100000</td>\n",
       "      <td>-8.100000</td>\n",
       "      <td>-1.100000</td>\n",
       "    </tr>\n",
       "    <tr>\n",
       "      <th>25%</th>\n",
       "      <td>0.000000</td>\n",
       "      <td>0.000000</td>\n",
       "      <td>0.000000</td>\n",
       "      <td>-0.700000</td>\n",
       "      <td>-0.525000</td>\n",
       "      <td>-1.250000</td>\n",
       "      <td>-2.100000</td>\n",
       "      <td>-3.025000</td>\n",
       "      <td>-3.000000</td>\n",
       "      <td>-3.125000</td>\n",
       "      <td>...</td>\n",
       "      <td>-2.650000</td>\n",
       "      <td>-2.000000</td>\n",
       "      <td>-2.275000</td>\n",
       "      <td>-2.525000</td>\n",
       "      <td>-3.425000</td>\n",
       "      <td>-1.875000</td>\n",
       "      <td>-0.075000</td>\n",
       "      <td>0.000000</td>\n",
       "      <td>0.000000</td>\n",
       "      <td>0.000000</td>\n",
       "    </tr>\n",
       "    <tr>\n",
       "      <th>50%</th>\n",
       "      <td>0.000000</td>\n",
       "      <td>0.000000</td>\n",
       "      <td>0.000000</td>\n",
       "      <td>0.000000</td>\n",
       "      <td>0.000000</td>\n",
       "      <td>0.000000</td>\n",
       "      <td>-0.050000</td>\n",
       "      <td>-0.150000</td>\n",
       "      <td>-0.900000</td>\n",
       "      <td>-1.900000</td>\n",
       "      <td>...</td>\n",
       "      <td>-0.400000</td>\n",
       "      <td>-0.650000</td>\n",
       "      <td>-0.400000</td>\n",
       "      <td>0.000000</td>\n",
       "      <td>-0.300000</td>\n",
       "      <td>0.000000</td>\n",
       "      <td>0.000000</td>\n",
       "      <td>0.000000</td>\n",
       "      <td>0.000000</td>\n",
       "      <td>0.000000</td>\n",
       "    </tr>\n",
       "    <tr>\n",
       "      <th>75%</th>\n",
       "      <td>0.000000</td>\n",
       "      <td>0.000000</td>\n",
       "      <td>0.000000</td>\n",
       "      <td>0.000000</td>\n",
       "      <td>0.000000</td>\n",
       "      <td>0.000000</td>\n",
       "      <td>0.000000</td>\n",
       "      <td>0.000000</td>\n",
       "      <td>-0.050000</td>\n",
       "      <td>0.225000</td>\n",
       "      <td>...</td>\n",
       "      <td>0.000000</td>\n",
       "      <td>0.000000</td>\n",
       "      <td>0.600000</td>\n",
       "      <td>0.000000</td>\n",
       "      <td>0.000000</td>\n",
       "      <td>0.000000</td>\n",
       "      <td>0.000000</td>\n",
       "      <td>0.000000</td>\n",
       "      <td>0.000000</td>\n",
       "      <td>0.000000</td>\n",
       "    </tr>\n",
       "    <tr>\n",
       "      <th>max</th>\n",
       "      <td>0.000000</td>\n",
       "      <td>2.900000</td>\n",
       "      <td>2.000000</td>\n",
       "      <td>0.600000</td>\n",
       "      <td>2.500000</td>\n",
       "      <td>0.900000</td>\n",
       "      <td>2.300000</td>\n",
       "      <td>3.400000</td>\n",
       "      <td>1.400000</td>\n",
       "      <td>7.900000</td>\n",
       "      <td>...</td>\n",
       "      <td>2.900000</td>\n",
       "      <td>8.900000</td>\n",
       "      <td>4.700000</td>\n",
       "      <td>9.900000</td>\n",
       "      <td>2.600000</td>\n",
       "      <td>4.800000</td>\n",
       "      <td>6.400000</td>\n",
       "      <td>7.100000</td>\n",
       "      <td>7.300000</td>\n",
       "      <td>2.900000</td>\n",
       "    </tr>\n",
       "  </tbody>\n",
       "</table>\n",
       "<p>8 rows × 24 columns</p>\n",
       "</div>"
      ],
      "text/plain": [
       "               1          2          3          4          5          6  \\\n",
       "count  22.000000  22.000000  22.000000  22.000000  22.000000  22.000000   \n",
       "mean   -0.231818   0.281818  -0.200000  -0.736364  -0.327273  -0.804545   \n",
       "std     1.087324   0.851126   1.024927   1.679157   1.322401   1.365729   \n",
       "min    -5.100000  -0.100000  -3.300000  -5.600000  -4.100000  -4.000000   \n",
       "25%     0.000000   0.000000   0.000000  -0.700000  -0.525000  -1.250000   \n",
       "50%     0.000000   0.000000   0.000000   0.000000   0.000000   0.000000   \n",
       "75%     0.000000   0.000000   0.000000   0.000000   0.000000   0.000000   \n",
       "max     0.000000   2.900000   2.000000   0.600000   2.500000   0.900000   \n",
       "\n",
       "               7          8          9         10  ...         15         16  \\\n",
       "count  22.000000  22.000000  22.000000  22.000000  ...  22.000000  22.000000   \n",
       "mean   -0.977273  -1.254545  -1.640909  -1.277273  ...  -1.004545  -0.100000   \n",
       "std     1.619798   2.538040   2.005150   2.880134  ...   2.450943   2.850731   \n",
       "min    -4.100000  -5.700000  -6.300000  -5.800000  ...  -5.300000  -3.800000   \n",
       "25%    -2.100000  -3.025000  -3.000000  -3.125000  ...  -2.650000  -2.000000   \n",
       "50%    -0.050000  -0.150000  -0.900000  -1.900000  ...  -0.400000  -0.650000   \n",
       "75%     0.000000   0.000000  -0.050000   0.225000  ...   0.000000   0.000000   \n",
       "max     2.300000   3.400000   1.400000   7.900000  ...   2.900000   8.900000   \n",
       "\n",
       "              17         18         19         20         21         22  \\\n",
       "count  22.000000  22.000000  22.000000  22.000000  22.000000  22.000000   \n",
       "mean   -0.527273  -0.713636  -1.427273  -0.372727  -0.654545   0.331818   \n",
       "std     2.375105   3.112386   2.390493   2.460000   2.504040   2.193147   \n",
       "min    -5.400000  -6.000000  -6.100000  -5.000000  -6.100000  -3.100000   \n",
       "25%    -2.275000  -2.525000  -3.425000  -1.875000  -0.075000   0.000000   \n",
       "50%    -0.400000   0.000000  -0.300000   0.000000   0.000000   0.000000   \n",
       "75%     0.600000   0.000000   0.000000   0.000000   0.000000   0.000000   \n",
       "max     4.700000   9.900000   2.600000   4.800000   6.400000   7.100000   \n",
       "\n",
       "              23         24  \n",
       "count  22.000000  22.000000  \n",
       "mean    0.677273   0.109091  \n",
       "std     3.083278   0.762146  \n",
       "min    -8.100000  -1.100000  \n",
       "25%     0.000000   0.000000  \n",
       "50%     0.000000   0.000000  \n",
       "75%     0.000000   0.000000  \n",
       "max     7.300000   2.900000  \n",
       "\n",
       "[8 rows x 24 columns]"
      ]
     },
     "execution_count": 26,
     "metadata": {},
     "output_type": "execute_result"
    }
   ],
   "source": [
    "orion=pd.read_table('Obs/EON-O-2.csv', delimiter=',')\n",
    "orion.describe()"
   ]
  },
  {
   "cell_type": "markdown",
   "metadata": {},
   "source": [
    "orion[orion == 0] = 'nan' \n",
    "orion"
   ]
  },
  {
   "cell_type": "code",
   "execution_count": 27,
   "metadata": {},
   "outputs": [
    {
     "data": {
      "image/png": "[encoded data removed]",
      "text/plain": [
       "<Figure size 432x288 with 2 Axes>"
      ]
     },
     "metadata": {
      "needs_background": "light"
     },
     "output_type": "display_data"
    }
   ],
   "source": [
    "fig, ax = plt.subplots()\n",
    "sns.heatmap(orion,cmap=\"viridis\",cbar_kws={'label': 'km/s'})\n",
    "#plt.scatter(13.5, 13.5, marker='+', color='yellow', s=150)\n",
    "ax.set(xlabel='arcmin', ylabel='arcmin')\n",
    "\n",
    "#ax.text(0.93, 0.81, '1.3 pc',\n",
    "#        verticalalignment='bottom', horizontalalignment='right',\n",
    "#        transform=ax.transAxes,\n",
    "#        color='black', fontsize=20)\n",
    "    \n",
    "#plt.axhline(y=2, xmin=0.68, xmax=0.96, linewidth=2, color = 'k')\n",
    "\n",
    "#plt.text(14.5, 14.5, '$θ^{1}Ori\\ C$', fontsize=20, color='yellow')\n",
    "\n",
    "plt.show()"
   ]
  },
  {
   "cell_type": "code",
   "execution_count": 28,
   "metadata": {},
   "outputs": [
    {
     "data": {
      "text/html": [
       "<div>\n",
       "<style scoped>\n",
       "    .dataframe tbody tr th:only-of-type {\n",
       "        vertical-align: middle;\n",
       "    }\n",
       "\n",
       "    .dataframe tbody tr th {\n",
       "        vertical-align: top;\n",
       "    }\n",
       "\n",
       "    .dataframe thead th {\n",
       "        text-align: right;\n",
       "    }\n",
       "</style>\n",
       "<table border=\"1\" class=\"dataframe\">\n",
       "  <thead>\n",
       "    <tr style=\"text-align: right;\">\n",
       "      <th></th>\n",
       "      <th>RAdeg</th>\n",
       "      <th>RVHalpha</th>\n",
       "    </tr>\n",
       "  </thead>\n",
       "  <tbody>\n",
       "    <tr>\n",
       "      <th>count</th>\n",
       "      <td>528.000000</td>\n",
       "      <td>528.000000</td>\n",
       "    </tr>\n",
       "    <tr>\n",
       "      <th>mean</th>\n",
       "      <td>10.500000</td>\n",
       "      <td>-0.664962</td>\n",
       "    </tr>\n",
       "    <tr>\n",
       "      <th>std</th>\n",
       "      <td>6.350305</td>\n",
       "      <td>2.161287</td>\n",
       "    </tr>\n",
       "    <tr>\n",
       "      <th>min</th>\n",
       "      <td>0.000000</td>\n",
       "      <td>-8.100000</td>\n",
       "    </tr>\n",
       "    <tr>\n",
       "      <th>25%</th>\n",
       "      <td>5.000000</td>\n",
       "      <td>-1.900000</td>\n",
       "    </tr>\n",
       "    <tr>\n",
       "      <th>50%</th>\n",
       "      <td>10.500000</td>\n",
       "      <td>0.000000</td>\n",
       "    </tr>\n",
       "    <tr>\n",
       "      <th>75%</th>\n",
       "      <td>16.000000</td>\n",
       "      <td>0.000000</td>\n",
       "    </tr>\n",
       "    <tr>\n",
       "      <th>max</th>\n",
       "      <td>21.000000</td>\n",
       "      <td>9.900000</td>\n",
       "    </tr>\n",
       "  </tbody>\n",
       "</table>\n",
       "</div>"
      ],
      "text/plain": [
       "            RAdeg    RVHalpha\n",
       "count  528.000000  528.000000\n",
       "mean    10.500000   -0.664962\n",
       "std      6.350305    2.161287\n",
       "min      0.000000   -8.100000\n",
       "25%      5.000000   -1.900000\n",
       "50%     10.500000    0.000000\n",
       "75%     16.000000    0.000000\n",
       "max     21.000000    9.900000"
      ]
     },
     "execution_count": 28,
     "metadata": {},
     "output_type": "execute_result"
    }
   ],
   "source": [
    "df=orion.stack().reset_index().rename(columns={'level_0':'RAdeg', 'level_1':'DEdeg', 0:'RVHalpha'})\n",
    "df.describe()"
   ]
  },
  {
   "cell_type": "code",
   "execution_count": 29,
   "metadata": {},
   "outputs": [],
   "source": [
    "df.RAdeg=1.0*df.RAdeg"
   ]
  },
  {
   "cell_type": "code",
   "execution_count": 30,
   "metadata": {},
   "outputs": [],
   "source": [
    "df.DEdeg=pd.to_numeric(df.DEdeg)*1.0"
   ]
  },
  {
   "cell_type": "markdown",
   "metadata": {},
   "source": [
    "Structure Function"
   ]
  },
  {
   "cell_type": "code",
   "execution_count": 31,
   "metadata": {},
   "outputs": [
    {
     "data": {
      "text/html": [
       "<div>\n",
       "<style scoped>\n",
       "    .dataframe tbody tr th:only-of-type {\n",
       "        vertical-align: middle;\n",
       "    }\n",
       "\n",
       "    .dataframe tbody tr th {\n",
       "        vertical-align: top;\n",
       "    }\n",
       "\n",
       "    .dataframe thead th {\n",
       "        text-align: right;\n",
       "    }\n",
       "</style>\n",
       "<table border=\"1\" class=\"dataframe\">\n",
       "  <thead>\n",
       "    <tr style=\"text-align: right;\">\n",
       "      <th></th>\n",
       "      <th>X</th>\n",
       "      <th>Y</th>\n",
       "      <th>RV</th>\n",
       "    </tr>\n",
       "  </thead>\n",
       "  <tbody>\n",
       "    <tr>\n",
       "      <th>count</th>\n",
       "      <td>528.000000</td>\n",
       "      <td>528.000000</td>\n",
       "      <td>528.000000</td>\n",
       "    </tr>\n",
       "    <tr>\n",
       "      <th>mean</th>\n",
       "      <td>10.500000</td>\n",
       "      <td>12.500000</td>\n",
       "      <td>-0.664962</td>\n",
       "    </tr>\n",
       "    <tr>\n",
       "      <th>std</th>\n",
       "      <td>6.350305</td>\n",
       "      <td>6.928751</td>\n",
       "      <td>2.161287</td>\n",
       "    </tr>\n",
       "    <tr>\n",
       "      <th>min</th>\n",
       "      <td>0.000000</td>\n",
       "      <td>1.000000</td>\n",
       "      <td>-8.100000</td>\n",
       "    </tr>\n",
       "    <tr>\n",
       "      <th>25%</th>\n",
       "      <td>5.000000</td>\n",
       "      <td>6.750000</td>\n",
       "      <td>-1.900000</td>\n",
       "    </tr>\n",
       "    <tr>\n",
       "      <th>50%</th>\n",
       "      <td>10.500000</td>\n",
       "      <td>12.500000</td>\n",
       "      <td>0.000000</td>\n",
       "    </tr>\n",
       "    <tr>\n",
       "      <th>75%</th>\n",
       "      <td>16.000000</td>\n",
       "      <td>18.250000</td>\n",
       "      <td>0.000000</td>\n",
       "    </tr>\n",
       "    <tr>\n",
       "      <th>max</th>\n",
       "      <td>21.000000</td>\n",
       "      <td>24.000000</td>\n",
       "      <td>9.900000</td>\n",
       "    </tr>\n",
       "  </tbody>\n",
       "</table>\n",
       "</div>"
      ],
      "text/plain": [
       "                X           Y          RV\n",
       "count  528.000000  528.000000  528.000000\n",
       "mean    10.500000   12.500000   -0.664962\n",
       "std      6.350305    6.928751    2.161287\n",
       "min      0.000000    1.000000   -8.100000\n",
       "25%      5.000000    6.750000   -1.900000\n",
       "50%     10.500000   12.500000    0.000000\n",
       "75%     16.000000   18.250000    0.000000\n",
       "max     21.000000   24.000000    9.900000"
      ]
     },
     "execution_count": 31,
     "metadata": {},
     "output_type": "execute_result"
    }
   ],
   "source": [
    "df0 = pd.DataFrame({'X': df.RAdeg, 'Y': df.DEdeg, 'RV': df.RVHalpha})\n",
    "df0.describe()"
   ]
  },
  {
   "cell_type": "code",
   "execution_count": 32,
   "metadata": {},
   "outputs": [],
   "source": [
    "df0[\"RV\"] = df0[\"RV\"].replace(['0', 0], np.nan)\n"
   ]
  },
  {
   "cell_type": "code",
   "execution_count": 33,
   "metadata": {},
   "outputs": [
    {
     "data": {
      "text/html": [
       "<div>\n",
       "<style scoped>\n",
       "    .dataframe tbody tr th:only-of-type {\n",
       "        vertical-align: middle;\n",
       "    }\n",
       "\n",
       "    .dataframe tbody tr th {\n",
       "        vertical-align: top;\n",
       "    }\n",
       "\n",
       "    .dataframe thead th {\n",
       "        text-align: right;\n",
       "    }\n",
       "</style>\n",
       "<table border=\"1\" class=\"dataframe\">\n",
       "  <thead>\n",
       "    <tr style=\"text-align: right;\">\n",
       "      <th></th>\n",
       "      <th>X</th>\n",
       "      <th>Y</th>\n",
       "      <th>RV</th>\n",
       "    </tr>\n",
       "  </thead>\n",
       "  <tbody>\n",
       "    <tr>\n",
       "      <th>count</th>\n",
       "      <td>528.000000</td>\n",
       "      <td>528.000000</td>\n",
       "      <td>297.000000</td>\n",
       "    </tr>\n",
       "    <tr>\n",
       "      <th>mean</th>\n",
       "      <td>10.500000</td>\n",
       "      <td>12.500000</td>\n",
       "      <td>-1.182155</td>\n",
       "    </tr>\n",
       "    <tr>\n",
       "      <th>std</th>\n",
       "      <td>6.350305</td>\n",
       "      <td>6.928751</td>\n",
       "      <td>2.775445</td>\n",
       "    </tr>\n",
       "    <tr>\n",
       "      <th>min</th>\n",
       "      <td>0.000000</td>\n",
       "      <td>1.000000</td>\n",
       "      <td>-8.100000</td>\n",
       "    </tr>\n",
       "    <tr>\n",
       "      <th>25%</th>\n",
       "      <td>5.000000</td>\n",
       "      <td>6.750000</td>\n",
       "      <td>-3.000000</td>\n",
       "    </tr>\n",
       "    <tr>\n",
       "      <th>50%</th>\n",
       "      <td>10.500000</td>\n",
       "      <td>12.500000</td>\n",
       "      <td>-1.400000</td>\n",
       "    </tr>\n",
       "    <tr>\n",
       "      <th>75%</th>\n",
       "      <td>16.000000</td>\n",
       "      <td>18.250000</td>\n",
       "      <td>0.100000</td>\n",
       "    </tr>\n",
       "    <tr>\n",
       "      <th>max</th>\n",
       "      <td>21.000000</td>\n",
       "      <td>24.000000</td>\n",
       "      <td>9.900000</td>\n",
       "    </tr>\n",
       "  </tbody>\n",
       "</table>\n",
       "</div>"
      ],
      "text/plain": [
       "                X           Y          RV\n",
       "count  528.000000  528.000000  297.000000\n",
       "mean    10.500000   12.500000   -1.182155\n",
       "std      6.350305    6.928751    2.775445\n",
       "min      0.000000    1.000000   -8.100000\n",
       "25%      5.000000    6.750000   -3.000000\n",
       "50%     10.500000   12.500000   -1.400000\n",
       "75%     16.000000   18.250000    0.100000\n",
       "max     21.000000   24.000000    9.900000"
      ]
     },
     "execution_count": 33,
     "metadata": {},
     "output_type": "execute_result"
    }
   ],
   "source": [
    "df0.describe()"
   ]
  },
  {
   "cell_type": "code",
   "execution_count": 34,
   "metadata": {},
   "outputs": [],
   "source": [
    "data=df0"
   ]
  },
  {
   "cell_type": "code",
   "execution_count": 35,
   "metadata": {},
   "outputs": [
    {
     "data": {
      "text/plain": [
       "Text(0.5, 17.60000000000001, 'Radial velocity [km/s]')"
      ]
     },
     "execution_count": 35,
     "metadata": {},
     "output_type": "execute_result"
    },
    {
     "data": {
      "image/png": "[encoded data removed]",
      "text/plain": [
       "<Figure size 360x360 with 1 Axes>"
      ]
     },
     "metadata": {
      "needs_background": "light"
     },
     "output_type": "display_data"
    }
   ],
   "source": [
    "#fig, ax = plt.subplots()\n",
    "\n",
    "sns.displot(data.RV-data.RV.mean(),bins=25)\n",
    "plt.xlim(-10,10)\n",
    "\n",
    "plt.text(0.45, 0.86,'n ='+str(data.RV.count()), ha='center', va='center', transform=ax.transAxes, color='k')\n",
    "plt.text(0.45, 0.78,'$μ$ ='+str(np.round(data.RV.mean(),2))+' km/s', ha='center', va='center', transform=ax.transAxes, color='k')\n",
    "plt.text(0.45, 0.68,'$σ^{2}$ ='+str(np.round(data.RV.var(),2))+' km$^{2}$/s$^{2}$', ha='center', va='center', transform=ax.transAxes, color='k')\n",
    "\n",
    "plt.title('Orion O')\n",
    "\n",
    "plt.rcParams[\"font.family\"]=\"Times New Roman\"\n",
    "plt.rcParams[\"font.size\"]=\"15\"\n",
    "\n",
    "plt.xlabel('Radial velocity [km/s]')\n"
   ]
  },
  {
   "cell_type": "code",
   "execution_count": 36,
   "metadata": {},
   "outputs": [],
   "source": [
    "data.X = data.X*pc\n",
    "data.Y = data.Y*pc"
   ]
  },
  {
   "cell_type": "code",
   "execution_count": 37,
   "metadata": {},
   "outputs": [
    {
     "data": {
      "text/plain": [
       "{'OrionLO':             X         Y  RV\n",
       " 0    0.000000  0.119264 NaN\n",
       " 1    0.000000  0.238528 NaN\n",
       " 2    0.000000  0.357792 NaN\n",
       " 3    0.000000  0.477057 NaN\n",
       " 4    0.000000  0.596321 NaN\n",
       " ..        ...       ...  ..\n",
       " 523  2.504547  2.385283 NaN\n",
       " 524  2.504547  2.504547 NaN\n",
       " 525  2.504547  2.623812 NaN\n",
       " 526  2.504547  2.743076 NaN\n",
       " 527  2.504547  2.862340 NaN\n",
       " \n",
       " [528 rows x 3 columns],\n",
       " 'pc': 0.11926416555294585,\n",
       " 's0': 0.10733774899765126}"
      ]
     },
     "execution_count": 37,
     "metadata": {},
     "output_type": "execute_result"
    }
   ],
   "source": [
    "OrionLO = {'OrionLO' : data,\n",
    "           'pc' : pc,\n",
    "          's0' : s0\n",
    "      }\n",
    "OrionLO"
   ]
  },
  {
   "cell_type": "code",
   "execution_count": 38,
   "metadata": {},
   "outputs": [],
   "source": [
    "OrionM = {'vv' : np.array(orion),\n",
    "        'pc' : pc,\n",
    "        's0' : s0,\n",
    "      }"
   ]
  },
  {
   "cell_type": "code",
   "execution_count": 39,
   "metadata": {},
   "outputs": [],
   "source": [
    "import pickle\n",
    "\n",
    "f = open('VF\\\\OrionLO.pkl',\"wb\")\n",
    "pickle.dump(data,f)\n",
    "f.close()"
   ]
  },
  {
   "cell_type": "code",
   "execution_count": 40,
   "metadata": {},
   "outputs": [],
   "source": [
    "f = open('VFL\\\\OrionLO.pkl',\"wb\")\n",
    "pickle.dump(OrionLO,f)\n",
    "f.close()"
   ]
  },
  {
   "cell_type": "code",
   "execution_count": 41,
   "metadata": {},
   "outputs": [],
   "source": [
    "f = open('VFM\\\\OrionLO.pkl',\"wb\")\n",
    "pickle.dump(OrionM,f)\n",
    "f.close()"
   ]
  },
  {
   "cell_type": "code",
   "execution_count": 42,
   "metadata": {},
   "outputs": [
    {
     "name": "stdout",
     "output_type": "stream",
     "text": [
      "--- 73.77790141105652 seconds ---\n"
     ]
    }
   ],
   "source": [
    "print(\"--- %s seconds ---\" % (time.time()-start_time))"
   ]
  }
 ],
 "metadata": {
  "kernelspec": {
   "display_name": "Python 3",
   "language": "python",
   "name": "python3"
  },
  "language_info": {
   "codemirror_mode": {
    "name": "ipython",
    "version": 3
   },
   "file_extension": ".py",
   "mimetype": "text/x-python",
   "name": "python",
   "nbconvert_exporter": "python",
   "pygments_lexer": "ipython3",
   "version": "3.8.3"
  }
 },
 "nbformat": 4,
 "nbformat_minor": 2
}
