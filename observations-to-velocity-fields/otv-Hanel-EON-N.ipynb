{
 "cells": [
  {
   "cell_type": "code",
   "execution_count": 1,
   "metadata": {},
   "outputs": [],
   "source": [
    "import time\n",
    "start_time=time.time()"
   ]
  },
  {
   "cell_type": "code",
   "execution_count": 2,
   "metadata": {},
   "outputs": [],
   "source": [
    "from pathlib import Path\n",
    "\n",
    "from matplotlib import pyplot as plt\n",
    "import seaborn as sns\n",
    "from scipy import interpolate\n",
    "import numpy as np\n",
    "import pandas as pd\n",
    "import json\n",
    "\n",
    "from astropy.io import fits\n",
    "import astropy.units as u\n",
    "\n",
    "#plt.rcParams[\"font.family\"]=\"Times New Roman\"\n",
    "#plt.rcParams[\"font.size\"]=\"20\""
   ]
  },
  {
   "cell_type": "markdown",
   "metadata": {},
   "source": [
    "Input path"
   ]
  },
  {
   "cell_type": "markdown",
   "metadata": {},
   "source": [
    "observations folder location"
   ]
  },
  {
   "cell_type": "code",
   "execution_count": 3,
   "metadata": {},
   "outputs": [],
   "source": [
    "text_file_0 = open(\"path-observations.txt\", \"r\")\n",
    "path_obs = text_file_0.read()"
   ]
  },
  {
   "cell_type": "code",
   "execution_count": 4,
   "metadata": {},
   "outputs": [],
   "source": [
    "datapath_obs = Path(path_obs).expanduser()"
   ]
  },
  {
   "cell_type": "markdown",
   "metadata": {},
   "source": [
    "results folder location"
   ]
  },
  {
   "cell_type": "code",
   "execution_count": 5,
   "metadata": {},
   "outputs": [],
   "source": [
    "text_file_1 = open(\"path-results.txt\", \"r\")\n",
    "path_res = text_file_1.read()"
   ]
  },
  {
   "cell_type": "code",
   "execution_count": 6,
   "metadata": {},
   "outputs": [],
   "source": [
    "datapath_res= Path(path_res).expanduser()"
   ]
  },
  {
   "cell_type": "markdown",
   "metadata": {},
   "source": [
    "files names"
   ]
  },
  {
   "cell_type": "code",
   "execution_count": 7,
   "metadata": {},
   "outputs": [],
   "source": [
    "data_file = 'Hanel-EON-N-RV'"
   ]
  },
  {
   "cell_type": "code",
   "execution_count": 8,
   "metadata": {},
   "outputs": [],
   "source": [
    "name_export='Hanel-EON-N'"
   ]
  },
  {
   "cell_type": "markdown",
   "metadata": {},
   "source": [
    "Input data of the region"
   ]
  },
  {
   "cell_type": "code",
   "execution_count": 9,
   "metadata": {},
   "outputs": [],
   "source": [
    "dist = 410 #parsecs\n",
    "pix = 1.0 #arcmin \n",
    "seeing = 0.9 #seeing arcsec FWHM"
   ]
  },
  {
   "cell_type": "code",
   "execution_count": 10,
   "metadata": {},
   "outputs": [
    {
     "data": {
      "text/plain": [
       "(0.11926416555294585, 0.045578661994756374)"
      ]
     },
     "execution_count": 10,
     "metadata": {},
     "output_type": "execute_result"
    }
   ],
   "source": [
    "pc = dist*(2*np.pi) / (360 * 60) #arcsec to parsecs\n",
    "s0 = (seeing*pc)/2.355 #seeing pc RMS\n",
    "pc,s0"
   ]
  },
  {
   "cell_type": "code",
   "execution_count": 11,
   "metadata": {},
   "outputs": [
    {
     "data": {
      "text/html": [
       "<div>\n",
       "<style scoped>\n",
       "    .dataframe tbody tr th:only-of-type {\n",
       "        vertical-align: middle;\n",
       "    }\n",
       "\n",
       "    .dataframe tbody tr th {\n",
       "        vertical-align: top;\n",
       "    }\n",
       "\n",
       "    .dataframe thead th {\n",
       "        text-align: right;\n",
       "    }\n",
       "</style>\n",
       "<table border=\"1\" class=\"dataframe\">\n",
       "  <thead>\n",
       "    <tr style=\"text-align: right;\">\n",
       "      <th></th>\n",
       "      <th>0</th>\n",
       "      <th>1</th>\n",
       "      <th>2</th>\n",
       "      <th>3</th>\n",
       "      <th>4</th>\n",
       "      <th>5</th>\n",
       "      <th>6</th>\n",
       "      <th>7</th>\n",
       "      <th>8</th>\n",
       "      <th>9</th>\n",
       "      <th>...</th>\n",
       "      <th>16</th>\n",
       "      <th>17</th>\n",
       "      <th>18</th>\n",
       "      <th>19</th>\n",
       "      <th>20</th>\n",
       "      <th>21</th>\n",
       "      <th>22</th>\n",
       "      <th>23</th>\n",
       "      <th>24</th>\n",
       "      <th>25</th>\n",
       "    </tr>\n",
       "  </thead>\n",
       "  <tbody>\n",
       "    <tr>\n",
       "      <th>count</th>\n",
       "      <td>23.000000</td>\n",
       "      <td>23.000000</td>\n",
       "      <td>23.000000</td>\n",
       "      <td>23.000000</td>\n",
       "      <td>23.000000</td>\n",
       "      <td>23.000000</td>\n",
       "      <td>23.000000</td>\n",
       "      <td>23.000000</td>\n",
       "      <td>23.000000</td>\n",
       "      <td>23.000000</td>\n",
       "      <td>...</td>\n",
       "      <td>23.000000</td>\n",
       "      <td>23.000000</td>\n",
       "      <td>23.000000</td>\n",
       "      <td>23.000000</td>\n",
       "      <td>23.000000</td>\n",
       "      <td>23.000000</td>\n",
       "      <td>23.000000</td>\n",
       "      <td>23.000000</td>\n",
       "      <td>23.000000</td>\n",
       "      <td>23.000000</td>\n",
       "    </tr>\n",
       "    <tr>\n",
       "      <th>mean</th>\n",
       "      <td>20.895652</td>\n",
       "      <td>20.339130</td>\n",
       "      <td>18.291304</td>\n",
       "      <td>16.882609</td>\n",
       "      <td>11.904348</td>\n",
       "      <td>9.539130</td>\n",
       "      <td>8.139130</td>\n",
       "      <td>6.969565</td>\n",
       "      <td>7.556522</td>\n",
       "      <td>8.147826</td>\n",
       "      <td>...</td>\n",
       "      <td>11.573913</td>\n",
       "      <td>12.417391</td>\n",
       "      <td>12.600000</td>\n",
       "      <td>14.891304</td>\n",
       "      <td>14.069565</td>\n",
       "      <td>16.726087</td>\n",
       "      <td>16.947826</td>\n",
       "      <td>18.482609</td>\n",
       "      <td>19.634783</td>\n",
       "      <td>24.439130</td>\n",
       "    </tr>\n",
       "    <tr>\n",
       "      <th>std</th>\n",
       "      <td>7.281326</td>\n",
       "      <td>8.055926</td>\n",
       "      <td>9.571735</td>\n",
       "      <td>10.411953</td>\n",
       "      <td>10.293664</td>\n",
       "      <td>8.236435</td>\n",
       "      <td>7.899525</td>\n",
       "      <td>6.869394</td>\n",
       "      <td>6.839845</td>\n",
       "      <td>8.526796</td>\n",
       "      <td>...</td>\n",
       "      <td>10.432651</td>\n",
       "      <td>10.625084</td>\n",
       "      <td>11.557681</td>\n",
       "      <td>12.053815</td>\n",
       "      <td>11.935563</td>\n",
       "      <td>10.757966</td>\n",
       "      <td>10.424834</td>\n",
       "      <td>9.252599</td>\n",
       "      <td>8.505378</td>\n",
       "      <td>2.689836</td>\n",
       "    </tr>\n",
       "    <tr>\n",
       "      <th>min</th>\n",
       "      <td>4.500000</td>\n",
       "      <td>4.600000</td>\n",
       "      <td>0.900000</td>\n",
       "      <td>1.200000</td>\n",
       "      <td>-2.100000</td>\n",
       "      <td>0.800000</td>\n",
       "      <td>-2.500000</td>\n",
       "      <td>-1.900000</td>\n",
       "      <td>-0.300000</td>\n",
       "      <td>0.000000</td>\n",
       "      <td>...</td>\n",
       "      <td>-2.500000</td>\n",
       "      <td>-0.700000</td>\n",
       "      <td>-3.700000</td>\n",
       "      <td>-2.300000</td>\n",
       "      <td>-3.200000</td>\n",
       "      <td>0.200000</td>\n",
       "      <td>0.400000</td>\n",
       "      <td>0.800000</td>\n",
       "      <td>1.800000</td>\n",
       "      <td>12.100000</td>\n",
       "    </tr>\n",
       "    <tr>\n",
       "      <th>25%</th>\n",
       "      <td>18.850000</td>\n",
       "      <td>16.800000</td>\n",
       "      <td>7.750000</td>\n",
       "      <td>5.200000</td>\n",
       "      <td>4.450000</td>\n",
       "      <td>2.800000</td>\n",
       "      <td>2.250000</td>\n",
       "      <td>2.050000</td>\n",
       "      <td>3.300000</td>\n",
       "      <td>2.500000</td>\n",
       "      <td>...</td>\n",
       "      <td>4.500000</td>\n",
       "      <td>3.800000</td>\n",
       "      <td>4.350000</td>\n",
       "      <td>3.000000</td>\n",
       "      <td>2.750000</td>\n",
       "      <td>4.500000</td>\n",
       "      <td>5.750000</td>\n",
       "      <td>8.250000</td>\n",
       "      <td>11.500000</td>\n",
       "      <td>25.000000</td>\n",
       "    </tr>\n",
       "    <tr>\n",
       "      <th>50%</th>\n",
       "      <td>25.000000</td>\n",
       "      <td>25.000000</td>\n",
       "      <td>25.000000</td>\n",
       "      <td>25.000000</td>\n",
       "      <td>8.000000</td>\n",
       "      <td>7.600000</td>\n",
       "      <td>7.100000</td>\n",
       "      <td>6.700000</td>\n",
       "      <td>6.900000</td>\n",
       "      <td>4.100000</td>\n",
       "      <td>...</td>\n",
       "      <td>7.200000</td>\n",
       "      <td>6.800000</td>\n",
       "      <td>8.600000</td>\n",
       "      <td>25.000000</td>\n",
       "      <td>25.000000</td>\n",
       "      <td>25.000000</td>\n",
       "      <td>25.000000</td>\n",
       "      <td>25.000000</td>\n",
       "      <td>25.000000</td>\n",
       "      <td>25.000000</td>\n",
       "    </tr>\n",
       "    <tr>\n",
       "      <th>75%</th>\n",
       "      <td>25.000000</td>\n",
       "      <td>25.000000</td>\n",
       "      <td>25.000000</td>\n",
       "      <td>25.000000</td>\n",
       "      <td>25.000000</td>\n",
       "      <td>13.000000</td>\n",
       "      <td>10.550000</td>\n",
       "      <td>9.250000</td>\n",
       "      <td>9.750000</td>\n",
       "      <td>10.200000</td>\n",
       "      <td>...</td>\n",
       "      <td>25.000000</td>\n",
       "      <td>25.000000</td>\n",
       "      <td>25.000000</td>\n",
       "      <td>25.000000</td>\n",
       "      <td>25.000000</td>\n",
       "      <td>25.000000</td>\n",
       "      <td>25.000000</td>\n",
       "      <td>25.000000</td>\n",
       "      <td>25.000000</td>\n",
       "      <td>25.000000</td>\n",
       "    </tr>\n",
       "    <tr>\n",
       "      <th>max</th>\n",
       "      <td>25.000000</td>\n",
       "      <td>25.000000</td>\n",
       "      <td>25.000000</td>\n",
       "      <td>25.000000</td>\n",
       "      <td>25.000000</td>\n",
       "      <td>25.000000</td>\n",
       "      <td>25.000000</td>\n",
       "      <td>25.000000</td>\n",
       "      <td>25.000000</td>\n",
       "      <td>25.000000</td>\n",
       "      <td>...</td>\n",
       "      <td>25.000000</td>\n",
       "      <td>25.000000</td>\n",
       "      <td>25.000000</td>\n",
       "      <td>25.000000</td>\n",
       "      <td>25.000000</td>\n",
       "      <td>25.000000</td>\n",
       "      <td>25.000000</td>\n",
       "      <td>25.000000</td>\n",
       "      <td>25.000000</td>\n",
       "      <td>25.000000</td>\n",
       "    </tr>\n",
       "  </tbody>\n",
       "</table>\n",
       "<p>8 rows × 26 columns</p>\n",
       "</div>"
      ],
      "text/plain": [
       "              0          1          2          3          4          5   \\\n",
       "count  23.000000  23.000000  23.000000  23.000000  23.000000  23.000000   \n",
       "mean   20.895652  20.339130  18.291304  16.882609  11.904348   9.539130   \n",
       "std     7.281326   8.055926   9.571735  10.411953  10.293664   8.236435   \n",
       "min     4.500000   4.600000   0.900000   1.200000  -2.100000   0.800000   \n",
       "25%    18.850000  16.800000   7.750000   5.200000   4.450000   2.800000   \n",
       "50%    25.000000  25.000000  25.000000  25.000000   8.000000   7.600000   \n",
       "75%    25.000000  25.000000  25.000000  25.000000  25.000000  13.000000   \n",
       "max    25.000000  25.000000  25.000000  25.000000  25.000000  25.000000   \n",
       "\n",
       "              6          7          8          9   ...         16         17  \\\n",
       "count  23.000000  23.000000  23.000000  23.000000  ...  23.000000  23.000000   \n",
       "mean    8.139130   6.969565   7.556522   8.147826  ...  11.573913  12.417391   \n",
       "std     7.899525   6.869394   6.839845   8.526796  ...  10.432651  10.625084   \n",
       "min    -2.500000  -1.900000  -0.300000   0.000000  ...  -2.500000  -0.700000   \n",
       "25%     2.250000   2.050000   3.300000   2.500000  ...   4.500000   3.800000   \n",
       "50%     7.100000   6.700000   6.900000   4.100000  ...   7.200000   6.800000   \n",
       "75%    10.550000   9.250000   9.750000  10.200000  ...  25.000000  25.000000   \n",
       "max    25.000000  25.000000  25.000000  25.000000  ...  25.000000  25.000000   \n",
       "\n",
       "              18         19         20         21         22         23  \\\n",
       "count  23.000000  23.000000  23.000000  23.000000  23.000000  23.000000   \n",
       "mean   12.600000  14.891304  14.069565  16.726087  16.947826  18.482609   \n",
       "std    11.557681  12.053815  11.935563  10.757966  10.424834   9.252599   \n",
       "min    -3.700000  -2.300000  -3.200000   0.200000   0.400000   0.800000   \n",
       "25%     4.350000   3.000000   2.750000   4.500000   5.750000   8.250000   \n",
       "50%     8.600000  25.000000  25.000000  25.000000  25.000000  25.000000   \n",
       "75%    25.000000  25.000000  25.000000  25.000000  25.000000  25.000000   \n",
       "max    25.000000  25.000000  25.000000  25.000000  25.000000  25.000000   \n",
       "\n",
       "              24         25  \n",
       "count  23.000000  23.000000  \n",
       "mean   19.634783  24.439130  \n",
       "std     8.505378   2.689836  \n",
       "min     1.800000  12.100000  \n",
       "25%    11.500000  25.000000  \n",
       "50%    25.000000  25.000000  \n",
       "75%    25.000000  25.000000  \n",
       "max    25.000000  25.000000  \n",
       "\n",
       "[8 rows x 26 columns]"
      ]
     },
     "execution_count": 11,
     "metadata": {},
     "output_type": "execute_result"
    }
   ],
   "source": [
    "orion=pd.read_table(str(datapath_obs)+ '/' +data_file+'.csv', delimiter=',',header=None)\n",
    "orion.describe()"
   ]
  },
  {
   "cell_type": "code",
   "execution_count": 12,
   "metadata": {},
   "outputs": [],
   "source": [
    "#orion[orion == 25] = 'nan' "
   ]
  },
  {
   "cell_type": "code",
   "execution_count": 13,
   "metadata": {},
   "outputs": [
    {
     "data": {
      "image/png": "[encoded data removed]",
      "text/plain": [
       "<Figure size 576x432 with 2 Axes>"
      ]
     },
     "metadata": {
      "needs_background": "light"
     },
     "output_type": "display_data"
    }
   ],
   "source": [
    "fig, ax = plt.subplots(figsize = (8,6))\n",
    "\n",
    "sns.heatmap(orion,cmap='RdBu_r',cbar_kws={'label': 'km/s'})\n",
    "\n",
    "plt.scatter(13.5, 13.5, marker='+', color='yellow', s=150)\n",
    "ax.set(xlabel='arcmin', ylabel='arcmin')\n",
    "ax.text(0.93, 0.81, '1.3 pc',\n",
    "        verticalalignment='bottom', horizontalalignment='right',\n",
    "        transform=ax.transAxes,\n",
    "        color='black', fontsize=20)\n",
    "plt.axhline(y=2, xmin=0.68, xmax=0.96, linewidth=2, color = 'k')\n",
    "plt.text(14.5, 14.5, '$θ^{1}Ori\\ C$', fontsize=20, color='yellow')\n",
    "\n",
    "plt.show()"
   ]
  },
  {
   "cell_type": "markdown",
   "metadata": {},
   "source": [
    "Matrix To list"
   ]
  },
  {
   "cell_type": "code",
   "execution_count": 14,
   "metadata": {},
   "outputs": [
    {
     "data": {
      "text/html": [
       "<div>\n",
       "<style scoped>\n",
       "    .dataframe tbody tr th:only-of-type {\n",
       "        vertical-align: middle;\n",
       "    }\n",
       "\n",
       "    .dataframe tbody tr th {\n",
       "        vertical-align: top;\n",
       "    }\n",
       "\n",
       "    .dataframe thead th {\n",
       "        text-align: right;\n",
       "    }\n",
       "</style>\n",
       "<table border=\"1\" class=\"dataframe\">\n",
       "  <thead>\n",
       "    <tr style=\"text-align: right;\">\n",
       "      <th></th>\n",
       "      <th>X</th>\n",
       "      <th>Y</th>\n",
       "      <th>RV</th>\n",
       "    </tr>\n",
       "  </thead>\n",
       "  <tbody>\n",
       "    <tr>\n",
       "      <th>count</th>\n",
       "      <td>597.000000</td>\n",
       "      <td>597.000000</td>\n",
       "      <td>597.000000</td>\n",
       "    </tr>\n",
       "    <tr>\n",
       "      <th>mean</th>\n",
       "      <td>11.015075</td>\n",
       "      <td>12.495812</td>\n",
       "      <td>13.341541</td>\n",
       "    </tr>\n",
       "    <tr>\n",
       "      <th>std</th>\n",
       "      <td>6.634118</td>\n",
       "      <td>7.511874</td>\n",
       "      <td>10.354413</td>\n",
       "    </tr>\n",
       "    <tr>\n",
       "      <th>min</th>\n",
       "      <td>0.000000</td>\n",
       "      <td>0.000000</td>\n",
       "      <td>-3.700000</td>\n",
       "    </tr>\n",
       "    <tr>\n",
       "      <th>25%</th>\n",
       "      <td>5.000000</td>\n",
       "      <td>6.000000</td>\n",
       "      <td>4.500000</td>\n",
       "    </tr>\n",
       "    <tr>\n",
       "      <th>50%</th>\n",
       "      <td>11.000000</td>\n",
       "      <td>12.000000</td>\n",
       "      <td>9.200000</td>\n",
       "    </tr>\n",
       "    <tr>\n",
       "      <th>75%</th>\n",
       "      <td>17.000000</td>\n",
       "      <td>19.000000</td>\n",
       "      <td>25.000000</td>\n",
       "    </tr>\n",
       "    <tr>\n",
       "      <th>max</th>\n",
       "      <td>22.000000</td>\n",
       "      <td>25.000000</td>\n",
       "      <td>25.000000</td>\n",
       "    </tr>\n",
       "  </tbody>\n",
       "</table>\n",
       "</div>"
      ],
      "text/plain": [
       "                X           Y          RV\n",
       "count  597.000000  597.000000  597.000000\n",
       "mean    11.015075   12.495812   13.341541\n",
       "std      6.634118    7.511874   10.354413\n",
       "min      0.000000    0.000000   -3.700000\n",
       "25%      5.000000    6.000000    4.500000\n",
       "50%     11.000000   12.000000    9.200000\n",
       "75%     17.000000   19.000000   25.000000\n",
       "max     22.000000   25.000000   25.000000"
      ]
     },
     "execution_count": 14,
     "metadata": {},
     "output_type": "execute_result"
    }
   ],
   "source": [
    "data=orion.stack().reset_index().rename(columns={'level_0':'X', 'level_1':'Y', 0:'RV'})\n",
    "data.describe()"
   ]
  },
  {
   "cell_type": "code",
   "execution_count": 15,
   "metadata": {},
   "outputs": [],
   "source": [
    "m=data.RV<25\n",
    "data=data[m]"
   ]
  },
  {
   "cell_type": "code",
   "execution_count": 16,
   "metadata": {},
   "outputs": [
    {
     "name": "stderr",
     "output_type": "stream",
     "text": [
      "<ipython-input-16-9541acf80d3b>:1: UserWarning: Boolean Series key will be reindexed to match DataFrame index.\n",
      "  data[m].describe()\n"
     ]
    },
    {
     "data": {
      "text/html": [
       "<div>\n",
       "<style scoped>\n",
       "    .dataframe tbody tr th:only-of-type {\n",
       "        vertical-align: middle;\n",
       "    }\n",
       "\n",
       "    .dataframe tbody tr th {\n",
       "        vertical-align: top;\n",
       "    }\n",
       "\n",
       "    .dataframe thead th {\n",
       "        text-align: right;\n",
       "    }\n",
       "</style>\n",
       "<table border=\"1\" class=\"dataframe\">\n",
       "  <thead>\n",
       "    <tr style=\"text-align: right;\">\n",
       "      <th></th>\n",
       "      <th>X</th>\n",
       "      <th>Y</th>\n",
       "      <th>RV</th>\n",
       "    </tr>\n",
       "  </thead>\n",
       "  <tbody>\n",
       "    <tr>\n",
       "      <th>count</th>\n",
       "      <td>346.000000</td>\n",
       "      <td>346.000000</td>\n",
       "      <td>346.000000</td>\n",
       "    </tr>\n",
       "    <tr>\n",
       "      <th>mean</th>\n",
       "      <td>11.095376</td>\n",
       "      <td>11.572254</td>\n",
       "      <td>4.884104</td>\n",
       "    </tr>\n",
       "    <tr>\n",
       "      <th>std</th>\n",
       "      <td>5.515683</td>\n",
       "      <td>6.150926</td>\n",
       "      <td>3.820184</td>\n",
       "    </tr>\n",
       "    <tr>\n",
       "      <th>min</th>\n",
       "      <td>0.000000</td>\n",
       "      <td>0.000000</td>\n",
       "      <td>-3.700000</td>\n",
       "    </tr>\n",
       "    <tr>\n",
       "      <th>25%</th>\n",
       "      <td>7.000000</td>\n",
       "      <td>7.000000</td>\n",
       "      <td>1.925000</td>\n",
       "    </tr>\n",
       "    <tr>\n",
       "      <th>50%</th>\n",
       "      <td>11.000000</td>\n",
       "      <td>11.000000</td>\n",
       "      <td>5.000000</td>\n",
       "    </tr>\n",
       "    <tr>\n",
       "      <th>75%</th>\n",
       "      <td>15.000000</td>\n",
       "      <td>16.000000</td>\n",
       "      <td>7.600000</td>\n",
       "    </tr>\n",
       "    <tr>\n",
       "      <th>max</th>\n",
       "      <td>22.000000</td>\n",
       "      <td>25.000000</td>\n",
       "      <td>14.400000</td>\n",
       "    </tr>\n",
       "  </tbody>\n",
       "</table>\n",
       "</div>"
      ],
      "text/plain": [
       "                X           Y          RV\n",
       "count  346.000000  346.000000  346.000000\n",
       "mean    11.095376   11.572254    4.884104\n",
       "std      5.515683    6.150926    3.820184\n",
       "min      0.000000    0.000000   -3.700000\n",
       "25%      7.000000    7.000000    1.925000\n",
       "50%     11.000000   11.000000    5.000000\n",
       "75%     15.000000   16.000000    7.600000\n",
       "max     22.000000   25.000000   14.400000"
      ]
     },
     "execution_count": 16,
     "metadata": {},
     "output_type": "execute_result"
    }
   ],
   "source": [
    "data[m].describe()"
   ]
  },
  {
   "cell_type": "code",
   "execution_count": 17,
   "metadata": {},
   "outputs": [
    {
     "name": "stderr",
     "output_type": "stream",
     "text": [
      "<ipython-input-17-ae0f6994de5e>:7: UserWarning: Boolean Series key will be reindexed to match DataFrame index.\n",
      "  datal=data[m].copy()\n"
     ]
    },
    {
     "data": {
      "image/png": "[encoded data removed]",
      "text/plain": [
       "<Figure size 576x432 with 2 Axes>"
      ]
     },
     "metadata": {
      "needs_background": "light"
     },
     "output_type": "display_data"
    }
   ],
   "source": [
    "plt.style.use([\n",
    "    \"seaborn-poster\",\n",
    "])\n",
    "fig = plt.figure(figsize=(8, 6))\n",
    "ax = fig.add_subplot()\n",
    "\n",
    "datal=data[m].copy()\n",
    "\n",
    "dataH_rv=(datal.round(2)).pivot(index='X', columns='Y', values='RV')\n",
    "sns.heatmap(dataH_rv, cmap=\"RdBu_r\",cbar_kws={'label': 'km/s'})\n",
    "plt.title('Orion')\n",
    "ax.set_facecolor('xkcd:gray')\n",
    "\n",
    "\n",
    "#plt.savefig('Imgs//VF//N604.pdf', bbox_inches='tight')\n"
   ]
  },
  {
   "cell_type": "markdown",
   "metadata": {},
   "source": [
    "Fits file"
   ]
  },
  {
   "cell_type": "code",
   "execution_count": 18,
   "metadata": {},
   "outputs": [],
   "source": [
    "hdu = fits.PrimaryHDU(dataH_rv)\n",
    "hdu.writeto(str(datapath_obs)+ '/' +data_file + '.fits')"
   ]
  },
  {
   "cell_type": "code",
   "execution_count": 19,
   "metadata": {},
   "outputs": [
    {
     "name": "stderr",
     "output_type": "stream",
     "text": [
      "<ipython-input-19-f0a02e76f95c>:1: UserWarning: Boolean Series key will be reindexed to match DataFrame index.\n",
      "  sns.displot(data[m].RV-data[m].RV.mean(),bins=25)\n"
     ]
    },
    {
     "data": {
      "text/plain": [
       "Text(0.5, 6.799999999999979, 'Radial velocity [km/s]')"
      ]
     },
     "execution_count": 19,
     "metadata": {},
     "output_type": "execute_result"
    },
    {
     "data": {
      "image/png": "[encoded data removed]",
      "text/plain": [
       "<Figure size 360x360 with 1 Axes>"
      ]
     },
     "metadata": {
      "needs_background": "light"
     },
     "output_type": "display_data"
    }
   ],
   "source": [
    "sns.displot(data[m].RV-data[m].RV.mean(),bins=25)\n",
    "plt.xlim(-10,10)\n",
    "\n",
    "plt.text(0.45, 0.86,'n ='+str(data.RV.count()), ha='center', va='center', transform=ax.transAxes, color='k')\n",
    "plt.text(0.45, 0.78,'$μ$ ='+str(np.round(data.RV.mean(),2))+' km/s', ha='center', va='center', transform=ax.transAxes, color='k')\n",
    "plt.text(0.45, 0.68,'$σ^{2}$ ='+str(np.round(data.RV.var(),2))+' km$^{2}$/s$^{2}$', ha='center', va='center', transform=ax.transAxes, color='k')\n",
    "\n",
    "plt.title('EON')\n",
    "\n",
    "plt.rcParams[\"font.family\"]=\"Times New Roman\"\n",
    "plt.rcParams[\"font.size\"]=\"15\"\n",
    "\n",
    "plt.xlabel('Radial velocity [km/s]')\n"
   ]
  },
  {
   "cell_type": "markdown",
   "metadata": {},
   "source": [
    "Export data"
   ]
  },
  {
   "cell_type": "code",
   "execution_count": 20,
   "metadata": {},
   "outputs": [
    {
     "name": "stderr",
     "output_type": "stream",
     "text": [
      "<ipython-input-20-9a1e25a474b1>:6: UserWarning: Boolean Series key will be reindexed to match DataFrame index.\n",
      "  name_export : np.array(data[m]),\n"
     ]
    },
    {
     "data": {
      "text/plain": [
       "{'name': 'Hanel-EON-N',\n",
       " 'pc': 0.11926416555294585,\n",
       " 's0': 0.045578661994756374,\n",
       " 'pix': 1.0,\n",
       " 'Hanel-EON-N': array([[ 0. ,  5. , 13.1],\n",
       "        [ 0. ,  6. , 10.6],\n",
       "        [ 0. ,  7. ,  9.3],\n",
       "        ...,\n",
       "        [22. ,  7. , -0.4],\n",
       "        [22. ,  8. , -0.2],\n",
       "        [22. ,  9. ,  3.4]])}"
      ]
     },
     "execution_count": 20,
     "metadata": {},
     "output_type": "execute_result"
    }
   ],
   "source": [
    "data_export_list = {\n",
    "        'name': name_export, \n",
    "        'pc' : pc,\n",
    "        's0' : s0,\n",
    "        'pix' : pix,\n",
    "         name_export : np.array(data[m]),\n",
    "      }\n",
    "data_export_list"
   ]
  },
  {
   "cell_type": "code",
   "execution_count": 21,
   "metadata": {},
   "outputs": [
    {
     "data": {
      "text/plain": [
       "{'name': 'Hanel-EON-N',\n",
       " 'pc': 0.11926416555294585,\n",
       " 's0': 0.045578661994756374,\n",
       " 'pix': 1.0,\n",
       " 'vv': array([[ nan,  nan,  nan,  nan,  nan, 13.1, 10.6,  9.3,  nan,  nan,  nan,\n",
       "          nan,  nan,  nan,  nan,  nan,  nan,  nan,  nan,  nan,  nan,  nan,\n",
       "          nan,  nan,  nan,  nan],\n",
       "        [ nan,  nan,  nan,  nan,  nan, 12.9, 13.4,  9.2, 11.4,  nan,  nan,\n",
       "          8. ,  nan,  nan,  nan,  nan,  8.5,  9.7,  nan,  nan,  nan,  nan,\n",
       "          nan,  nan,  nan,  nan],\n",
       "        [ nan,  nan,  nan,  nan,  nan,  nan, 10.5,  9.2, 11.9, 11.2,  8. ,\n",
       "          nan,  5.8,  7.2, 10.4,  nan,  nan,  5. ,  8.6,  nan,  nan,  nan,\n",
       "          nan,  nan,  nan,  nan],\n",
       "        [ nan,  nan,  nan,  nan,  9.2, 13.5, 11.1,  9.9, 12.9, 13.2,  nan,\n",
       "          8.2, 11. ,  8.7,  6.2,  4.5,  4.5,  4.5, -1.3,  nan,  nan,  4.1,\n",
       "          6. ,  8.7,  7.4,  nan],\n",
       "        [ nan,  nan,  nan,  6.2,  6.4,  9.3, 10. , 10.2,  9.6,  nan,  9.6,\n",
       "         11. ,  7.6,  2.4,  4. ,  4.6,  nan,  1.6, -3.3, -0.4,  1.5,  2. ,\n",
       "          nan,  nan,  6.6,  nan],\n",
       "        [ nan,  nan,  4.9,  nan,  nan,  nan,  9.9, 10.1,  9.9,  9.2,  6.8,\n",
       "          nan,  3.5,  4.8,  4. , 10.1,  8.6,  nan,  nan, -2.3,  nan,  2.2,\n",
       "          nan,  nan,  5.1,  nan],\n",
       "        [ nan,  nan,  nan,  nan,  nan,  nan,  nan,  nan,  8.4,  5.8,  2.4,\n",
       "          3.5,  4.6,  6.4,  7. ,  7.8,  6.8,  6.7,  nan, -1.9, -2.8,  1.7,\n",
       "          3.2,  3.8,  1.8,  nan],\n",
       "        [ nan,  nan,  nan,  nan,  6.8,  7.6,  nan,  nan,  6.9,  8.1,  5.3,\n",
       "          3.8,  6.6,  6.6,  7.2,  8.3,  nan,  6.3,  5.2,  nan,  4.5,  8.8,\n",
       "          nan,  nan,  nan,  nan],\n",
       "        [ nan,  nan,  nan,  nan,  nan, 10.6,  8.4,  6.6,  8.9,  2. ,  5. ,\n",
       "          5.2,  5.6,  nan,  2.5,  4. ,  6.5,  nan,  5.2,  nan,  7.9,  0.2,\n",
       "          3.9,  nan,  nan,  nan],\n",
       "        [ 7.5,  nan,  nan,  nan,  9.7,  9.5,  9.6,  8.5,  8.4,  nan,  nan,\n",
       "          1.6,  4.8,  6.2,  4.6,  5.8,  4.5,  2.5,  4.4,  5. ,  1.8,  nan,\n",
       "          nan,  6. ,  nan,  nan],\n",
       "        [12.3,  nan,  nan,  nan,  7.9,  8.7,  2.5,  4.3,  5.3,  3.2,  5.3,\n",
       "          3.9,  6.2,  5.6,  8.1,  5. ,  3.7,  0.5,  nan,  nan,  3.7, 10. ,\n",
       "          9.9,  7.9,  9.6,  nan],\n",
       "        [12.6,  nan,  0.9,  6.5, 10.3,  5.2,  2.4,  8.3,  5.5,  2.3,  2.5,\n",
       "          7.6,  8.2,  5.4,  4.5,  5.8,  4.5,  0.3,  4.3, -1.6,  5.2,  nan,\n",
       "          5.5,  8.6,  nan,  nan],\n",
       "        [ 6. ,  nan,  8.8,  4.1,  8. ,  6. ,  5.8,  7.6,  7. ,  4.1,  5.5,\n",
       "          5.8,  9.3, 12.9, 14.4,  7.5, -0.1,  4.2,  5.1,  5.8,  5.9,  4.9,\n",
       "          0.4,  0.8,  7.7, 12.1],\n",
       "        [12.7,  7.7, 11.1,  5.6,  6.2,  6.2,  7.1,  6.7,  5.2,  5.6,  4.5,\n",
       "          6.6,  7.7,  9.6,  0.8,  0.8,  7.9,  9.8,  4.6,  1. , -3.2,  nan,\n",
       "          6.8,  7.1,  nan,  nan],\n",
       "        [ 4.5,  8.3,  6.5,  4.8,  nan,  2.6,  0.9,  3.7,  4.9,  3.9,  5.8,\n",
       "          5.7,  5.8,  1.8,  6.1,  7.3,  6.4,  6.8,  9.1,  8.4,  nan,  0.8,\n",
       "          nan,  7.2,  nan,  nan],\n",
       "        [ nan,  8.6,  6.7,  nan,  3.5,  2. ,  2.1, -1.9,  1.7,  2.7,  4.2,\n",
       "          0.9,  6.7,  1.5,  0.7, -1.6, -2.5, -0.7,  3.7,  5.2,  nan,  nan,\n",
       "          3.2,  nan,  nan,  nan],\n",
       "        [ nan,  7.7,  3.5,  1.8,  2.5,  3.2,  1.3,  1.5,  0. ,  1.9,  2.5,\n",
       "          5.3,  nan,  7.5,  nan,  0. , -1.7,  nan, -3.7, -1.7, -2. ,  nan,\n",
       "          0.9,  nan, 13.4,  nan],\n",
       "        [ nan,  5.9,  nan,  1.2, -1. ,  1.7,  3.1,  1.6, -0.3,  3.6, -0.3,\n",
       "         -3.6, -2.1, -1.6, -2.6, -0.4,  1.4,  nan,  nan,  nan,  1.1,  nan,\n",
       "          nan,  nan,  nan,  nan],\n",
       "        [ nan,  4.6,  nan,  3.3,  0.7,  0.8,  3.6,  2.9,  0. ,  0. , -0.2,\n",
       "          4. , -0.9,  0.7,  4.3,  nan,  7.2,  nan, -2.1,  nan,  nan,  nan,\n",
       "          nan,  nan,  nan,  nan],\n",
       "        [ nan,  nan,  3.3,  4.8,  5.4,  0.9,  1.8,  2.5,  0.5,  1.3,  3.1,\n",
       "         -1.5,  nan,  4. ,  nan,  0.1,  nan,  3.4,  nan,  nan,  nan,  nan,\n",
       "          nan,  nan,  nan,  nan],\n",
       "        [ nan,  nan,  nan,  nan,  0.3,  2.7,  0.6,  1.4,  nan,  4.6, -1.7,\n",
       "          nan,  0.9,  nan,  0.9, -0.9,  nan,  nan,  nan,  nan,  nan,  nan,\n",
       "          nan,  nan,  nan,  nan],\n",
       "        [ nan,  nan,  nan,  nan,  nan,  2.9, -2.5, -0.9,  5.9,  1.3,  2.1,\n",
       "          4.5,  0.9,  nan,  nan,  nan,  nan,  nan,  nan,  nan,  nan,  nan,\n",
       "          nan,  nan,  nan,  nan],\n",
       "        [ nan,  nan,  nan,  nan, -2.1,  nan,  nan, -0.4, -0.2,  3.4,  nan,\n",
       "          nan,  nan,  nan,  nan,  nan,  nan,  nan,  nan,  nan,  nan,  nan,\n",
       "          nan,  nan,  nan,  nan]])}"
      ]
     },
     "execution_count": 21,
     "metadata": {},
     "output_type": "execute_result"
    }
   ],
   "source": [
    "data_export_matrix = {\n",
    "       'name': name_export, \n",
    "       'pc' : pc,\n",
    "       's0' : s0,\n",
    "       'pix' : pix,\n",
    "#       'sb' :np.array(dataH_f),\n",
    "       'vv' : np.array(dataH_rv),\n",
    "#       'ss' : np.array(dataH_s),\n",
    "\n",
    "      }\n",
    "\n",
    "data_export_matrix"
   ]
  },
  {
   "cell_type": "code",
   "execution_count": 22,
   "metadata": {},
   "outputs": [],
   "source": [
    "class MyEncoder(json.JSONEncoder):\n",
    "    def default(self, obj):\n",
    "        if isinstance(obj, np.integer):\n",
    "            return int(obj)\n",
    "        elif isinstance(obj, np.floating):\n",
    "            return float(obj)\n",
    "        elif isinstance(obj, np.ndarray):\n",
    "            return obj.tolist()\n",
    "        else:\n",
    "            return super(MyEncoder, self).default(obj)"
   ]
  },
  {
   "cell_type": "code",
   "execution_count": 23,
   "metadata": {},
   "outputs": [],
   "source": [
    "jsonfilename =name_export +\"-m.json\"\n",
    "with open(datapath_res/jsonfilename, \"w\") as f:\n",
    "    json.dump(data_export_matrix, fp=f, indent=3, cls=MyEncoder)"
   ]
  },
  {
   "cell_type": "code",
   "execution_count": 24,
   "metadata": {},
   "outputs": [],
   "source": [
    "jsonfilename =name_export +\"-l.json\"\n",
    "with open(datapath_res/jsonfilename, \"w\") as f:\n",
    "    json.dump(data_export_list, fp=f, indent=3, cls=MyEncoder)"
   ]
  },
  {
   "cell_type": "code",
   "execution_count": 25,
   "metadata": {},
   "outputs": [
    {
     "name": "stdout",
     "output_type": "stream",
     "text": [
      "--- 5.543835878372192 seconds ---\n"
     ]
    }
   ],
   "source": [
    "print(\"--- %s seconds ---\" % (time.time()-start_time))"
   ]
  },
  {
   "cell_type": "code",
   "execution_count": 26,
   "metadata": {},
   "outputs": [
    {
     "name": "stderr",
     "output_type": "stream",
     "text": [
      "[NbConvertApp] Converting notebook otv-Hanel-EON-N.ipynb to script\n",
      "[NbConvertApp] Writing 4082 bytes to otv-Hanel-EON-N.py\n"
     ]
    }
   ],
   "source": [
    "!jupyter nbconvert --to script --no-prompt otv-Hanel-EON-N.ipynb"
   ]
  }
 ],
 "metadata": {
  "kernelspec": {
   "display_name": "Python 3",
   "language": "python",
   "name": "python3"
  },
  "language_info": {
   "codemirror_mode": {
    "name": "ipython",
    "version": 3
   },
   "file_extension": ".py",
   "mimetype": "text/x-python",
   "name": "python",
   "nbconvert_exporter": "python",
   "pygments_lexer": "ipython3",
   "version": "3.8.3"
  }
 },
 "nbformat": 4,
 "nbformat_minor": 2
}
