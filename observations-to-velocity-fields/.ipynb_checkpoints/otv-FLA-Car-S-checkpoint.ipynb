{
 "cells": [
  {
   "cell_type": "code",
   "execution_count": 1,
   "metadata": {},
   "outputs": [],
   "source": [
    "import time\n",
    "start_time=time.time()"
   ]
  },
  {
   "cell_type": "code",
   "execution_count": 2,
   "metadata": {},
   "outputs": [],
   "source": [
    "from matplotlib import pyplot as plt\n",
    "import seaborn as sns\n",
    "import numpy as np\n",
    "import pandas as pd\n",
    "from pathlib import Path\n",
    "\n",
    "from astropy.io import fits\n",
    "import astropy.units as u\n",
    "from astropy.table import Table\n",
    "import json\n",
    "#plt.rcParams[\"font.family\"]=\"Times New Roman\"\n",
    "#plt.rcParams[\"font.size\"]=\"17\""
   ]
  },
  {
   "cell_type": "markdown",
   "metadata": {},
   "source": [
    "Input path"
   ]
  },
  {
   "cell_type": "markdown",
   "metadata": {},
   "source": [
    "observations folder location"
   ]
  },
  {
   "cell_type": "code",
   "execution_count": 3,
   "metadata": {},
   "outputs": [],
   "source": [
    "text_file_0 = open(\"path-observations.txt\", \"r\")\n",
    "path_obs = text_file_0.read()"
   ]
  },
  {
   "cell_type": "code",
   "execution_count": 4,
   "metadata": {},
   "outputs": [],
   "source": [
    "datapath_obs = Path(path_obs).expanduser()"
   ]
  },
  {
   "cell_type": "markdown",
   "metadata": {},
   "source": [
    "results folder location"
   ]
  },
  {
   "cell_type": "code",
   "execution_count": 5,
   "metadata": {},
   "outputs": [],
   "source": [
    "text_file_1 = open(\"path-results.txt\", \"r\")\n",
    "path_res = text_file_1.read()"
   ]
  },
  {
   "cell_type": "code",
   "execution_count": 6,
   "metadata": {},
   "outputs": [],
   "source": [
    "datapath_res= Path(path_res).expanduser()"
   ]
  },
  {
   "cell_type": "markdown",
   "metadata": {},
   "source": [
    "files names"
   ]
  },
  {
   "cell_type": "code",
   "execution_count": 7,
   "metadata": {},
   "outputs": [],
   "source": [
    "data_file = 'FLA-Car'"
   ]
  },
  {
   "cell_type": "code",
   "execution_count": 8,
   "metadata": {},
   "outputs": [],
   "source": [
    "name_export='FLA-Car-S'"
   ]
  },
  {
   "cell_type": "code",
   "execution_count": 9,
   "metadata": {},
   "outputs": [
    {
     "data": {
      "text/plain": [
       "(0.010326531407633116, 0.009293878266869804)"
      ]
     },
     "execution_count": 9,
     "metadata": {},
     "output_type": "execute_result"
    }
   ],
   "source": [
    "dist = 2130 #parsecs\n",
    "pc = dist*(2*np.pi) / (360 * 60 * 60)\n",
    "s0=(0.9*pc)\n",
    "pc,s0"
   ]
  },
  {
   "cell_type": "code",
   "execution_count": 10,
   "metadata": {},
   "outputs": [
    {
     "name": "stderr",
     "output_type": "stream",
     "text": [
      "WARNING: VerifyWarning: It is strongly recommended that column names contain only upper and lower-case ASCII letters, digits, or underscores for maximum compatibility with other software (got '[NII]Nb'). [astropy.io.fits.column]\n",
      "WARNING: VerifyWarning: It is strongly recommended that column names contain only upper and lower-case ASCII letters, digits, or underscores for maximum compatibility with other software (got '[NII]RVb'). [astropy.io.fits.column]\n",
      "WARNING: VerifyWarning: It is strongly recommended that column names contain only upper and lower-case ASCII letters, digits, or underscores for maximum compatibility with other software (got '[NII]sigmab'). [astropy.io.fits.column]\n",
      "WARNING: VerifyWarning: It is strongly recommended that column names contain only upper and lower-case ASCII letters, digits, or underscores for maximum compatibility with other software (got '[NII]Nr'). [astropy.io.fits.column]\n",
      "WARNING: VerifyWarning: It is strongly recommended that column names contain only upper and lower-case ASCII letters, digits, or underscores for maximum compatibility with other software (got '[NII]RVr'). [astropy.io.fits.column]\n",
      "WARNING: VerifyWarning: It is strongly recommended that column names contain only upper and lower-case ASCII letters, digits, or underscores for maximum compatibility with other software (got '[NII]sigmar'). [astropy.io.fits.column]\n",
      "WARNING: VerifyWarning: It is strongly recommended that column names contain only upper and lower-case ASCII letters, digits, or underscores for maximum compatibility with other software (got '[SII]1Nb'). [astropy.io.fits.column]\n",
      "WARNING: VerifyWarning: It is strongly recommended that column names contain only upper and lower-case ASCII letters, digits, or underscores for maximum compatibility with other software (got '[SII]1RVb'). [astropy.io.fits.column]\n",
      "WARNING: VerifyWarning: It is strongly recommended that column names contain only upper and lower-case ASCII letters, digits, or underscores for maximum compatibility with other software (got '[SII]1sigmab'). [astropy.io.fits.column]\n",
      "WARNING: VerifyWarning: It is strongly recommended that column names contain only upper and lower-case ASCII letters, digits, or underscores for maximum compatibility with other software (got '[SII]1Nr'). [astropy.io.fits.column]\n",
      "WARNING: VerifyWarning: It is strongly recommended that column names contain only upper and lower-case ASCII letters, digits, or underscores for maximum compatibility with other software (got '[SII]1RVr'). [astropy.io.fits.column]\n",
      "WARNING: VerifyWarning: It is strongly recommended that column names contain only upper and lower-case ASCII letters, digits, or underscores for maximum compatibility with other software (got '[SII]1sigmar'). [astropy.io.fits.column]\n",
      "WARNING: VerifyWarning: It is strongly recommended that column names contain only upper and lower-case ASCII letters, digits, or underscores for maximum compatibility with other software (got '[SII]2Nb'). [astropy.io.fits.column]\n",
      "WARNING: VerifyWarning: It is strongly recommended that column names contain only upper and lower-case ASCII letters, digits, or underscores for maximum compatibility with other software (got '[SII]2RVb'). [astropy.io.fits.column]\n",
      "WARNING: VerifyWarning: It is strongly recommended that column names contain only upper and lower-case ASCII letters, digits, or underscores for maximum compatibility with other software (got '[SII]2sigmab'). [astropy.io.fits.column]\n",
      "WARNING: VerifyWarning: It is strongly recommended that column names contain only upper and lower-case ASCII letters, digits, or underscores for maximum compatibility with other software (got '[SII]2Nr'). [astropy.io.fits.column]\n",
      "WARNING: VerifyWarning: It is strongly recommended that column names contain only upper and lower-case ASCII letters, digits, or underscores for maximum compatibility with other software (got '[SII]2RVr'). [astropy.io.fits.column]\n",
      "WARNING: VerifyWarning: It is strongly recommended that column names contain only upper and lower-case ASCII letters, digits, or underscores for maximum compatibility with other software (got '[SII]2sigmar'). [astropy.io.fits.column]\n",
      "WARNING: UnitsWarning: 'km/s/min' contains multiple slashes, which is discouraged by the FITS standard [astropy.units.format.generic]\n"
     ]
    },
    {
     "data": {
      "text/html": [
       "<i>Table length=866</i>\n",
       "<table id=\"table1285518938064\" class=\"table-striped table-bordered table-condensed\">\n",
       "<thead><tr><th>Id</th><th>RAdeg</th><th>DEdeg</th><th>HaNb</th><th>HaRVb</th><th>Hasigmab</th><th>HaNr</th><th>HaRVr</th><th>Hasigmar</th><th>[NII]Nb</th><th>[NII]RVb</th><th>[NII]sigmab</th><th>[NII]Nr</th><th>[NII]RVr</th><th>[NII]sigmar</th><th>HeINb</th><th>HeIRVb</th><th>HeIsigmab</th><th>HeINr</th><th>HeIRVr</th><th>HeIsigmar</th><th>[SII]1Nb</th><th>[SII]1RVb</th><th>[SII]1sigmab</th><th>[SII]1Nr</th><th>[SII]1RVr</th><th>[SII]1sigmar</th><th>[SII]2Nb</th><th>[SII]2RVb</th><th>[SII]2sigmab</th><th>[SII]2Nr</th><th>[SII]2RVr</th><th>[SII]2sigmar</th><th>Setup</th></tr></thead>\n",
       "<thead><tr><th></th><th>deg</th><th>deg</th><th>km / (min s)</th><th>km / s</th><th>km / s</th><th>km / (min s)</th><th>km / s</th><th>km / s</th><th>km / (min s)</th><th>km / s</th><th>km / s</th><th>km / (min s)</th><th>km / s</th><th>km / s</th><th>km / (min s)</th><th>km / s</th><th>km / s</th><th>km / (min s)</th><th>km / s</th><th>km / s</th><th>km / (min s)</th><th>km / s</th><th>km / s</th><th>km / (min s)</th><th>km / s</th><th>km / s</th><th>km / (min s)</th><th>km / s</th><th>km / s</th><th>km / (min s)</th><th>km / s</th><th>km / s</th><th></th></tr></thead>\n",
       "<thead><tr><th>bytes29</th><th>float64</th><th>float64</th><th>float64</th><th>float64</th><th>float64</th><th>float64</th><th>float64</th><th>float64</th><th>float64</th><th>float64</th><th>float64</th><th>float64</th><th>float64</th><th>float64</th><th>float64</th><th>float64</th><th>float64</th><th>float64</th><th>float64</th><th>float64</th><th>float64</th><th>float64</th><th>float64</th><th>float64</th><th>float64</th><th>float64</th><th>float64</th><th>float64</th><th>float64</th><th>float64</th><th>float64</th><th>float64</th><th>bytes10</th></tr></thead>\n",
       "<tr><td>SKY__10434580-5930497</td><td>160.9408</td><td>-59.51381</td><td>43435.14</td><td>-23.61</td><td>15.61</td><td>58918.77</td><td>4.94</td><td>13.38</td><td>2943.68</td><td>-31.66</td><td>14.71</td><td>11672.97</td><td>2.10</td><td>10.67</td><td>15235.06</td><td>-22.16</td><td>13.79</td><td>18024.73</td><td>5.19</td><td>10.38</td><td>998.76</td><td>-32.45</td><td>12.98</td><td>3398.53</td><td>4.20</td><td>10.39</td><td>727.14</td><td>-33.94</td><td>12.95</td><td>2696.04</td><td>3.09</td><td>10.02</td><td>sky_HR15N</td></tr>\n",
       "<tr><td>SKY__10445840-5933062</td><td>161.2433</td><td>-59.55172</td><td>18256.59</td><td>-31.12</td><td>13.93</td><td>34321.84</td><td>5.23</td><td>15.21</td><td>1130.41</td><td>-24.70</td><td>15.34</td><td>4429.57</td><td>5.90</td><td>15.36</td><td>5555.79</td><td>-30.83</td><td>11.55</td><td>11833.37</td><td>5.01</td><td>13.96</td><td>1655.72</td><td>-4.40</td><td>19.00</td><td>736.73</td><td>9.41</td><td>9.97</td><td>1304.64</td><td>-4.45</td><td>19.94</td><td>519.97</td><td>8.08</td><td>9.21</td><td>sky_HR15N</td></tr>\n",
       "<tr><td>SKY__10445040-5935467</td><td>161.2100</td><td>-59.59631</td><td>34377.49</td><td>-28.47</td><td>13.77</td><td>65136.86</td><td>-0.09</td><td>17.20</td><td>2528.38</td><td>-22.84</td><td>13.49</td><td>3541.20</td><td>9.64</td><td>14.93</td><td>11447.99</td><td>-28.24</td><td>10.67</td><td>22875.81</td><td>0.41</td><td>14.87</td><td>1733.36</td><td>-20.27</td><td>18.14</td><td>950.03</td><td>14.14</td><td>12.06</td><td>1352.34</td><td>-19.90</td><td>18.25</td><td>642.85</td><td>13.89</td><td>11.27</td><td>sky_HR15N</td></tr>\n",
       "<tr><td>SKY__10443390-5934549</td><td>161.1413</td><td>-59.58192</td><td>34307.92</td><td>-29.53</td><td>14.51</td><td>30563.08</td><td>-15.04</td><td>23.81</td><td>10198.94</td><td>-25.17</td><td>12.26</td><td>3538.75</td><td>-12.05</td><td>25.62</td><td>10756.85</td><td>-29.39</td><td>12.29</td><td>11023.40</td><td>-15.58</td><td>23.19</td><td>2687.79</td><td>-21.74</td><td>12.12</td><td>740.18</td><td>7.11</td><td>32.20</td><td>2636.84</td><td>-22.17</td><td>11.68</td><td>582.76</td><td>6.44</td><td>32.56</td><td>sky_HR15N</td></tr>\n",
       "<tr><td>SKY__10451730-5942205</td><td>161.3221</td><td>-59.70569</td><td>37527.72</td><td>-28.25</td><td>15.50</td><td>22025.68</td><td>14.37</td><td>14.07</td><td>6328.36</td><td>-28.63</td><td>13.16</td><td>2644.65</td><td>15.04</td><td>12.74</td><td>9441.61</td><td>-27.95</td><td>11.69</td><td>7676.87</td><td>13.18</td><td>13.84</td><td>1748.67</td><td>-25.49</td><td>12.72</td><td>836.83</td><td>16.73</td><td>11.97</td><td>1313.25</td><td>-26.18</td><td>12.99</td><td>610.61</td><td>16.64</td><td>11.96</td><td>sky_HR15N</td></tr>\n",
       "<tr><td>SKY__10451970-5945404</td><td>161.3321</td><td>-59.76122</td><td>24245.06</td><td>-21.95</td><td>15.87</td><td>9017.24</td><td>11.42</td><td>15.95</td><td>4011.71</td><td>-17.86</td><td>13.23</td><td>2122.03</td><td>-7.92</td><td>27.32</td><td>7065.39</td><td>-17.61</td><td>13.23</td><td>1828.86</td><td>14.34</td><td>8.58</td><td>0.00</td><td>0.00</td><td>0.00</td><td>0.00</td><td>0.00</td><td>0.00</td><td>0.00</td><td>0.00</td><td>0.00</td><td>0.00</td><td>0.00</td><td>0.00</td><td>sky_HR15N</td></tr>\n",
       "<tr><td>SKY__10444430-5943333</td><td>161.1846</td><td>-59.72592</td><td>30519.80</td><td>-34.15</td><td>14.82</td><td>53892.78</td><td>7.00</td><td>14.64</td><td>7207.63</td><td>-33.96</td><td>12.22</td><td>5305.92</td><td>9.02</td><td>13.03</td><td>9951.92</td><td>-32.18</td><td>14.02</td><td>17619.99</td><td>7.92</td><td>12.14</td><td>2213.11</td><td>-31.97</td><td>11.54</td><td>1278.25</td><td>10.42</td><td>13.44</td><td>1662.81</td><td>-32.62</td><td>11.37</td><td>933.80</td><td>9.52</td><td>13.01</td><td>sky_HR15N</td></tr>\n",
       "<tr><td>SKY__10440670-5947505</td><td>161.0279</td><td>-59.79736</td><td>8057.94</td><td>-24.88</td><td>16.14</td><td>10603.72</td><td>10.00</td><td>15.99</td><td>1587.50</td><td>-20.77</td><td>13.62</td><td>937.43</td><td>11.35</td><td>15.09</td><td>1064.69</td><td>-31.31</td><td>8.00</td><td>4338.92</td><td>5.87</td><td>17.68</td><td>0.00</td><td>0.00</td><td>0.00</td><td>0.00</td><td>0.00</td><td>0.00</td><td>0.00</td><td>0.00</td><td>0.00</td><td>0.00</td><td>0.00</td><td>0.00</td><td>sky_HR15N</td></tr>\n",
       "<tr><td>SKY__10441789-5948152</td><td>161.0746</td><td>-59.80422</td><td>6677.84</td><td>-21.83</td><td>17.05</td><td>5186.23</td><td>6.33</td><td>17.29</td><td>1703.78</td><td>-6.20</td><td>21.61</td><td>525.83</td><td>-19.22</td><td>10.75</td><td>2466.90</td><td>-10.28</td><td>18.70</td><td>266.07</td><td>16.04</td><td>6.46</td><td>0.00</td><td>0.00</td><td>0.00</td><td>0.00</td><td>0.00</td><td>0.00</td><td>0.00</td><td>0.00</td><td>0.00</td><td>0.00</td><td>0.00</td><td>0.00</td><td>sky_HR15N</td></tr>\n",
       "<tr><td>...</td><td>...</td><td>...</td><td>...</td><td>...</td><td>...</td><td>...</td><td>...</td><td>...</td><td>...</td><td>...</td><td>...</td><td>...</td><td>...</td><td>...</td><td>...</td><td>...</td><td>...</td><td>...</td><td>...</td><td>...</td><td>...</td><td>...</td><td>...</td><td>...</td><td>...</td><td>...</td><td>...</td><td>...</td><td>...</td><td>...</td><td>...</td><td>...</td><td>...</td></tr>\n",
       "<tr><td>2MASS10443101-5942051</td><td>161.1292</td><td>-59.70144</td><td>67313.95</td><td>-33.17</td><td>13.77</td><td>115934.22</td><td>5.58</td><td>14.29</td><td>0.00</td><td>0.00</td><td>0.00</td><td>0.00</td><td>0.00</td><td>0.00</td><td>0.00</td><td>0.00</td><td>0.00</td><td>0.00</td><td>0.00</td><td>0.00</td><td>1820.54</td><td>-29.88</td><td>13.47</td><td>4811.73</td><td>9.70</td><td>10.38</td><td>1370.21</td><td>-30.47</td><td>13.45</td><td>4133.01</td><td>8.80</td><td>10.07</td><td>star_HR15N</td></tr>\n",
       "<tr><td>2MASS10442847-5941450</td><td>161.1186</td><td>-59.69586</td><td>89432.55</td><td>-32.26</td><td>13.55</td><td>100287.20</td><td>3.62</td><td>15.39</td><td>0.00</td><td>0.00</td><td>0.00</td><td>0.00</td><td>0.00</td><td>0.00</td><td>0.00</td><td>0.00</td><td>0.00</td><td>0.00</td><td>0.00</td><td>0.00</td><td>1362.69</td><td>-30.13</td><td>11.53</td><td>1845.90</td><td>7.40</td><td>13.07</td><td>1030.64</td><td>-31.44</td><td>11.55</td><td>1541.48</td><td>6.19</td><td>13.90</td><td>star_HR15N</td></tr>\n",
       "<tr><td>HSB1210441230-5940553</td><td>161.0513</td><td>-59.68203</td><td>73448.39</td><td>-28.21</td><td>13.84</td><td>57509.53</td><td>3.58</td><td>14.75</td><td>0.00</td><td>0.00</td><td>0.00</td><td>0.00</td><td>0.00</td><td>0.00</td><td>0.00</td><td>0.00</td><td>0.00</td><td>0.00</td><td>0.00</td><td>0.00</td><td>4361.86</td><td>-20.56</td><td>15.62</td><td>614.07</td><td>20.12</td><td>9.97</td><td>3215.35</td><td>-21.29</td><td>15.43</td><td>471.67</td><td>18.78</td><td>10.13</td><td>star_HR15N</td></tr>\n",
       "<tr><td>2MASS10441079-5940135</td><td>161.0450</td><td>-59.67042</td><td>72512.99</td><td>-26.75</td><td>15.19</td><td>21911.70</td><td>10.22</td><td>15.01</td><td>0.00</td><td>0.00</td><td>0.00</td><td>0.00</td><td>0.00</td><td>0.00</td><td>0.00</td><td>0.00</td><td>0.00</td><td>0.00</td><td>0.00</td><td>0.00</td><td>4611.98</td><td>-20.82</td><td>14.79</td><td>1142.36</td><td>19.23</td><td>8.76</td><td>3396.32</td><td>-21.64</td><td>14.33</td><td>855.51</td><td>18.29</td><td>8.76</td><td>star_HR15N</td></tr>\n",
       "<tr><td>2MASS10434687-5932337</td><td>160.9453</td><td>-59.54272</td><td>78916.26</td><td>-16.23</td><td>18.00</td><td>54339.88</td><td>8.78</td><td>13.67</td><td>0.00</td><td>0.00</td><td>0.00</td><td>0.00</td><td>0.00</td><td>0.00</td><td>0.00</td><td>0.00</td><td>0.00</td><td>0.00</td><td>0.00</td><td>0.00</td><td>1555.26</td><td>-31.87</td><td>12.40</td><td>2486.86</td><td>5.29</td><td>11.64</td><td>1138.47</td><td>-32.61</td><td>12.60</td><td>1970.79</td><td>4.60</td><td>11.41</td><td>star_HR15N</td></tr>\n",
       "<tr><td>2MASS10434581-5933267</td><td>160.9409</td><td>-59.55744</td><td>96361.02</td><td>-9.49</td><td>19.56</td><td>29960.60</td><td>3.41</td><td>11.94</td><td>0.00</td><td>0.00</td><td>0.00</td><td>0.00</td><td>0.00</td><td>0.00</td><td>0.00</td><td>0.00</td><td>0.00</td><td>0.00</td><td>0.00</td><td>0.00</td><td>1396.06</td><td>-31.31</td><td>12.30</td><td>3219.70</td><td>5.11</td><td>10.77</td><td>1083.65</td><td>-32.00</td><td>12.67</td><td>2620.30</td><td>4.33</td><td>10.64</td><td>star_HR15N</td></tr>\n",
       "<tr><td>HSB1210434260-5932526</td><td>160.9275</td><td>-59.54794</td><td>63785.36</td><td>-12.91</td><td>22.98</td><td>72352.64</td><td>-4.98</td><td>13.52</td><td>0.00</td><td>0.00</td><td>0.00</td><td>0.00</td><td>0.00</td><td>0.00</td><td>0.00</td><td>0.00</td><td>0.00</td><td>0.00</td><td>0.00</td><td>0.00</td><td>0.00</td><td>0.00</td><td>0.00</td><td>0.00</td><td>0.00</td><td>0.00</td><td>1605.12</td><td>-34.09</td><td>13.54</td><td>1682.39</td><td>1.30</td><td>11.06</td><td>star_HR15N</td></tr>\n",
       "<tr><td>2MASS10433196-5933563</td><td>160.8832</td><td>-59.56567</td><td>125789.05</td><td>-9.46</td><td>16.69</td><td>66397.24</td><td>-6.16</td><td>13.89</td><td>0.00</td><td>0.00</td><td>0.00</td><td>0.00</td><td>0.00</td><td>0.00</td><td>0.00</td><td>0.00</td><td>0.00</td><td>0.00</td><td>0.00</td><td>0.00</td><td>0.00</td><td>0.00</td><td>0.00</td><td>0.00</td><td>0.00</td><td>0.00</td><td>0.00</td><td>0.00</td><td>0.00</td><td>0.00</td><td>0.00</td><td>0.00</td><td>star_HR15N</td></tr>\n",
       "<tr><td>2MASS10435042-5934005</td><td>160.9601</td><td>-59.56681</td><td>82056.27</td><td>-19.62</td><td>16.37</td><td>61806.87</td><td>4.38</td><td>13.71</td><td>0.00</td><td>0.00</td><td>0.00</td><td>0.00</td><td>0.00</td><td>0.00</td><td>0.00</td><td>0.00</td><td>0.00</td><td>0.00</td><td>0.00</td><td>0.00</td><td>2490.29</td><td>-26.96</td><td>14.81</td><td>2503.63</td><td>7.92</td><td>10.19</td><td>1900.40</td><td>-27.64</td><td>14.94</td><td>2023.61</td><td>7.24</td><td>10.09</td><td>star_HR15N</td></tr>\n",
       "<tr><td>2MASS10443989-5938061</td><td>161.1662</td><td>-59.63503</td><td>87671.24</td><td>-22.00</td><td>14.84</td><td>77510.88</td><td>5.70</td><td>14.62</td><td>0.00</td><td>0.00</td><td>0.00</td><td>0.00</td><td>0.00</td><td>0.00</td><td>0.00</td><td>0.00</td><td>0.00</td><td>0.00</td><td>0.00</td><td>0.00</td><td>4493.75</td><td>-17.97</td><td>11.48</td><td>5928.85</td><td>11.27</td><td>9.47</td><td>4146.83</td><td>-19.42</td><td>10.77</td><td>6266.97</td><td>9.95</td><td>9.52</td><td>star_HR15N</td></tr>\n",
       "</table>"
      ],
      "text/plain": [
       "<Table length=866>\n",
       "              Id               RAdeg     DEdeg   ... [SII]2sigmar   Setup   \n",
       "                                deg       deg    ...    km / s              \n",
       "           bytes29            float64   float64  ...   float64     bytes10  \n",
       "----------------------------- -------- --------- ... ------------ ----------\n",
       "SKY__10434580-5930497         160.9408 -59.51381 ...        10.02 sky_HR15N \n",
       "SKY__10445840-5933062         161.2433 -59.55172 ...         9.21 sky_HR15N \n",
       "SKY__10445040-5935467         161.2100 -59.59631 ...        11.27 sky_HR15N \n",
       "SKY__10443390-5934549         161.1413 -59.58192 ...        32.56 sky_HR15N \n",
       "SKY__10451730-5942205         161.3221 -59.70569 ...        11.96 sky_HR15N \n",
       "SKY__10451970-5945404         161.3321 -59.76122 ...         0.00 sky_HR15N \n",
       "SKY__10444430-5943333         161.1846 -59.72592 ...        13.01 sky_HR15N \n",
       "SKY__10440670-5947505         161.0279 -59.79736 ...         0.00 sky_HR15N \n",
       "SKY__10441789-5948152         161.0746 -59.80422 ...         0.00 sky_HR15N \n",
       "                          ...      ...       ... ...          ...        ...\n",
       "2MASS10443101-5942051         161.1292 -59.70144 ...        10.07 star_HR15N\n",
       "2MASS10442847-5941450         161.1186 -59.69586 ...        13.90 star_HR15N\n",
       "HSB1210441230-5940553         161.0513 -59.68203 ...        10.13 star_HR15N\n",
       "2MASS10441079-5940135         161.0450 -59.67042 ...         8.76 star_HR15N\n",
       "2MASS10434687-5932337         160.9453 -59.54272 ...        11.41 star_HR15N\n",
       "2MASS10434581-5933267         160.9409 -59.55744 ...        10.64 star_HR15N\n",
       "HSB1210434260-5932526         160.9275 -59.54794 ...        11.06 star_HR15N\n",
       "2MASS10433196-5933563         160.8832 -59.56567 ...         0.00 star_HR15N\n",
       "2MASS10435042-5934005         160.9601 -59.56681 ...        10.09 star_HR15N\n",
       "2MASS10443989-5938061         161.1662 -59.63503 ...         9.52 star_HR15N"
      ]
     },
     "execution_count": 10,
     "metadata": {},
     "output_type": "execute_result"
    }
   ],
   "source": [
    "damiani_tab1_file = str(datapath_obs) +'/' + data_file + \".fits\"\n",
    "tab = Table.read(damiani_tab1_file)\n",
    "tab"
   ]
  },
  {
   "cell_type": "code",
   "execution_count": 11,
   "metadata": {},
   "outputs": [
    {
     "data": {
      "text/html": [
       "<div>\n",
       "<style scoped>\n",
       "    .dataframe tbody tr th:only-of-type {\n",
       "        vertical-align: middle;\n",
       "    }\n",
       "\n",
       "    .dataframe tbody tr th {\n",
       "        vertical-align: top;\n",
       "    }\n",
       "\n",
       "    .dataframe thead th {\n",
       "        text-align: right;\n",
       "    }\n",
       "</style>\n",
       "<table border=\"1\" class=\"dataframe\">\n",
       "  <thead>\n",
       "    <tr style=\"text-align: right;\">\n",
       "      <th></th>\n",
       "      <th>RAdeg</th>\n",
       "      <th>DEdeg</th>\n",
       "      <th>HaNb</th>\n",
       "      <th>HaRVb</th>\n",
       "      <th>Hasigmab</th>\n",
       "      <th>HaNr</th>\n",
       "      <th>HaRVr</th>\n",
       "      <th>Hasigmar</th>\n",
       "      <th>[NII]Nb</th>\n",
       "      <th>[NII]RVb</th>\n",
       "      <th>...</th>\n",
       "      <th>[SII]1sigmab</th>\n",
       "      <th>[SII]1Nr</th>\n",
       "      <th>[SII]1RVr</th>\n",
       "      <th>[SII]1sigmar</th>\n",
       "      <th>[SII]2Nb</th>\n",
       "      <th>[SII]2RVb</th>\n",
       "      <th>[SII]2sigmab</th>\n",
       "      <th>[SII]2Nr</th>\n",
       "      <th>[SII]2RVr</th>\n",
       "      <th>[SII]2sigmar</th>\n",
       "    </tr>\n",
       "  </thead>\n",
       "  <tbody>\n",
       "    <tr>\n",
       "      <th>count</th>\n",
       "      <td>866.000000</td>\n",
       "      <td>866.000000</td>\n",
       "      <td>866.000000</td>\n",
       "      <td>866.000000</td>\n",
       "      <td>866.000000</td>\n",
       "      <td>866.000000</td>\n",
       "      <td>866.000000</td>\n",
       "      <td>866.000000</td>\n",
       "      <td>866.000000</td>\n",
       "      <td>866.000000</td>\n",
       "      <td>...</td>\n",
       "      <td>866.000000</td>\n",
       "      <td>866.000000</td>\n",
       "      <td>866.000000</td>\n",
       "      <td>866.000000</td>\n",
       "      <td>866.000000</td>\n",
       "      <td>866.000000</td>\n",
       "      <td>866.000000</td>\n",
       "      <td>866.000000</td>\n",
       "      <td>866.000000</td>\n",
       "      <td>866.000000</td>\n",
       "    </tr>\n",
       "    <tr>\n",
       "      <th>mean</th>\n",
       "      <td>161.161726</td>\n",
       "      <td>-59.654315</td>\n",
       "      <td>62767.252113</td>\n",
       "      <td>-24.714007</td>\n",
       "      <td>15.885924</td>\n",
       "      <td>53873.122564</td>\n",
       "      <td>7.306363</td>\n",
       "      <td>16.018268</td>\n",
       "      <td>1631.775751</td>\n",
       "      <td>-8.739353</td>\n",
       "      <td>...</td>\n",
       "      <td>9.829619</td>\n",
       "      <td>1484.462829</td>\n",
       "      <td>9.367286</td>\n",
       "      <td>8.744284</td>\n",
       "      <td>1270.717298</td>\n",
       "      <td>-16.464157</td>\n",
       "      <td>9.631455</td>\n",
       "      <td>1203.455046</td>\n",
       "      <td>8.396328</td>\n",
       "      <td>8.680335</td>\n",
       "    </tr>\n",
       "    <tr>\n",
       "      <th>std</th>\n",
       "      <td>0.133125</td>\n",
       "      <td>0.080215</td>\n",
       "      <td>54846.830866</td>\n",
       "      <td>8.147913</td>\n",
       "      <td>2.757231</td>\n",
       "      <td>39423.863415</td>\n",
       "      <td>7.179267</td>\n",
       "      <td>5.690883</td>\n",
       "      <td>3522.508469</td>\n",
       "      <td>12.911389</td>\n",
       "      <td>...</td>\n",
       "      <td>6.643375</td>\n",
       "      <td>1633.447299</td>\n",
       "      <td>7.761613</td>\n",
       "      <td>6.028452</td>\n",
       "      <td>1931.147707</td>\n",
       "      <td>12.642477</td>\n",
       "      <td>6.675027</td>\n",
       "      <td>1461.860496</td>\n",
       "      <td>8.268913</td>\n",
       "      <td>6.144453</td>\n",
       "    </tr>\n",
       "    <tr>\n",
       "      <th>min</th>\n",
       "      <td>160.768700</td>\n",
       "      <td>-59.891890</td>\n",
       "      <td>0.000000</td>\n",
       "      <td>-51.840000</td>\n",
       "      <td>0.000000</td>\n",
       "      <td>0.000000</td>\n",
       "      <td>-25.070000</td>\n",
       "      <td>0.000000</td>\n",
       "      <td>0.000000</td>\n",
       "      <td>-44.180000</td>\n",
       "      <td>...</td>\n",
       "      <td>0.000000</td>\n",
       "      <td>0.000000</td>\n",
       "      <td>-16.630000</td>\n",
       "      <td>0.000000</td>\n",
       "      <td>0.000000</td>\n",
       "      <td>-39.300000</td>\n",
       "      <td>0.000000</td>\n",
       "      <td>0.000000</td>\n",
       "      <td>-47.760000</td>\n",
       "      <td>0.000000</td>\n",
       "    </tr>\n",
       "    <tr>\n",
       "      <th>25%</th>\n",
       "      <td>161.065825</td>\n",
       "      <td>-59.711945</td>\n",
       "      <td>28485.557500</td>\n",
       "      <td>-31.042500</td>\n",
       "      <td>14.320000</td>\n",
       "      <td>24528.595000</td>\n",
       "      <td>3.960000</td>\n",
       "      <td>13.850000</td>\n",
       "      <td>0.000000</td>\n",
       "      <td>-21.497500</td>\n",
       "      <td>...</td>\n",
       "      <td>0.000000</td>\n",
       "      <td>0.000000</td>\n",
       "      <td>0.000000</td>\n",
       "      <td>0.000000</td>\n",
       "      <td>0.000000</td>\n",
       "      <td>-27.327500</td>\n",
       "      <td>0.000000</td>\n",
       "      <td>0.000000</td>\n",
       "      <td>0.000000</td>\n",
       "      <td>0.000000</td>\n",
       "    </tr>\n",
       "    <tr>\n",
       "      <th>50%</th>\n",
       "      <td>161.155600</td>\n",
       "      <td>-59.657835</td>\n",
       "      <td>46452.860000</td>\n",
       "      <td>-26.800000</td>\n",
       "      <td>15.170000</td>\n",
       "      <td>45810.270000</td>\n",
       "      <td>7.635000</td>\n",
       "      <td>14.705000</td>\n",
       "      <td>0.000000</td>\n",
       "      <td>0.000000</td>\n",
       "      <td>...</td>\n",
       "      <td>12.010000</td>\n",
       "      <td>1135.875000</td>\n",
       "      <td>10.990000</td>\n",
       "      <td>11.110000</td>\n",
       "      <td>992.800000</td>\n",
       "      <td>-20.370000</td>\n",
       "      <td>11.700000</td>\n",
       "      <td>865.820000</td>\n",
       "      <td>9.485000</td>\n",
       "      <td>10.915000</td>\n",
       "    </tr>\n",
       "    <tr>\n",
       "      <th>75%</th>\n",
       "      <td>161.267100</td>\n",
       "      <td>-59.590390</td>\n",
       "      <td>76666.205000</td>\n",
       "      <td>-19.765000</td>\n",
       "      <td>16.707500</td>\n",
       "      <td>76315.320000</td>\n",
       "      <td>12.702500</td>\n",
       "      <td>16.310000</td>\n",
       "      <td>2243.900000</td>\n",
       "      <td>0.000000</td>\n",
       "      <td>...</td>\n",
       "      <td>13.950000</td>\n",
       "      <td>2091.252500</td>\n",
       "      <td>15.367500</td>\n",
       "      <td>12.155000</td>\n",
       "      <td>1706.045000</td>\n",
       "      <td>0.000000</td>\n",
       "      <td>13.857500</td>\n",
       "      <td>1642.482500</td>\n",
       "      <td>14.367500</td>\n",
       "      <td>12.087500</td>\n",
       "    </tr>\n",
       "    <tr>\n",
       "      <th>max</th>\n",
       "      <td>161.472400</td>\n",
       "      <td>-59.494310</td>\n",
       "      <td>483044.020000</td>\n",
       "      <td>0.000000</td>\n",
       "      <td>29.720000</td>\n",
       "      <td>372640.170000</td>\n",
       "      <td>32.650000</td>\n",
       "      <td>84.800000</td>\n",
       "      <td>44719.640000</td>\n",
       "      <td>7.920000</td>\n",
       "      <td>...</td>\n",
       "      <td>32.200000</td>\n",
       "      <td>12610.120000</td>\n",
       "      <td>54.680000</td>\n",
       "      <td>44.470000</td>\n",
       "      <td>29844.350000</td>\n",
       "      <td>2.940000</td>\n",
       "      <td>32.070000</td>\n",
       "      <td>13224.150000</td>\n",
       "      <td>61.700000</td>\n",
       "      <td>43.280000</td>\n",
       "    </tr>\n",
       "  </tbody>\n",
       "</table>\n",
       "<p>8 rows × 32 columns</p>\n",
       "</div>"
      ],
      "text/plain": [
       "            RAdeg       DEdeg           HaNb       HaRVb    Hasigmab  \\\n",
       "count  866.000000  866.000000     866.000000  866.000000  866.000000   \n",
       "mean   161.161726  -59.654315   62767.252113  -24.714007   15.885924   \n",
       "std      0.133125    0.080215   54846.830866    8.147913    2.757231   \n",
       "min    160.768700  -59.891890       0.000000  -51.840000    0.000000   \n",
       "25%    161.065825  -59.711945   28485.557500  -31.042500   14.320000   \n",
       "50%    161.155600  -59.657835   46452.860000  -26.800000   15.170000   \n",
       "75%    161.267100  -59.590390   76666.205000  -19.765000   16.707500   \n",
       "max    161.472400  -59.494310  483044.020000    0.000000   29.720000   \n",
       "\n",
       "                HaNr       HaRVr    Hasigmar       [NII]Nb    [NII]RVb  ...  \\\n",
       "count     866.000000  866.000000  866.000000    866.000000  866.000000  ...   \n",
       "mean    53873.122564    7.306363   16.018268   1631.775751   -8.739353  ...   \n",
       "std     39423.863415    7.179267    5.690883   3522.508469   12.911389  ...   \n",
       "min         0.000000  -25.070000    0.000000      0.000000  -44.180000  ...   \n",
       "25%     24528.595000    3.960000   13.850000      0.000000  -21.497500  ...   \n",
       "50%     45810.270000    7.635000   14.705000      0.000000    0.000000  ...   \n",
       "75%     76315.320000   12.702500   16.310000   2243.900000    0.000000  ...   \n",
       "max    372640.170000   32.650000   84.800000  44719.640000    7.920000  ...   \n",
       "\n",
       "       [SII]1sigmab      [SII]1Nr   [SII]1RVr  [SII]1sigmar      [SII]2Nb  \\\n",
       "count    866.000000    866.000000  866.000000    866.000000    866.000000   \n",
       "mean       9.829619   1484.462829    9.367286      8.744284   1270.717298   \n",
       "std        6.643375   1633.447299    7.761613      6.028452   1931.147707   \n",
       "min        0.000000      0.000000  -16.630000      0.000000      0.000000   \n",
       "25%        0.000000      0.000000    0.000000      0.000000      0.000000   \n",
       "50%       12.010000   1135.875000   10.990000     11.110000    992.800000   \n",
       "75%       13.950000   2091.252500   15.367500     12.155000   1706.045000   \n",
       "max       32.200000  12610.120000   54.680000     44.470000  29844.350000   \n",
       "\n",
       "        [SII]2RVb  [SII]2sigmab      [SII]2Nr   [SII]2RVr  [SII]2sigmar  \n",
       "count  866.000000    866.000000    866.000000  866.000000    866.000000  \n",
       "mean   -16.464157      9.631455   1203.455046    8.396328      8.680335  \n",
       "std     12.642477      6.675027   1461.860496    8.268913      6.144453  \n",
       "min    -39.300000      0.000000      0.000000  -47.760000      0.000000  \n",
       "25%    -27.327500      0.000000      0.000000    0.000000      0.000000  \n",
       "50%    -20.370000     11.700000    865.820000    9.485000     10.915000  \n",
       "75%      0.000000     13.857500   1642.482500   14.367500     12.087500  \n",
       "max      2.940000     32.070000  13224.150000   61.700000     43.280000  \n",
       "\n",
       "[8 rows x 32 columns]"
      ]
     },
     "execution_count": 11,
     "metadata": {},
     "output_type": "execute_result"
    }
   ],
   "source": [
    "df = tab.to_pandas()\n",
    "df.describe()"
   ]
  },
  {
   "cell_type": "code",
   "execution_count": 12,
   "metadata": {},
   "outputs": [],
   "source": [
    "m= tab[\"[SII]2sigmab\"] > 5"
   ]
  },
  {
   "cell_type": "code",
   "execution_count": 13,
   "metadata": {},
   "outputs": [
    {
     "data": {
      "text/plain": [
       "[Text(0.5, 0, 'Velocity')]"
      ]
     },
     "execution_count": 13,
     "metadata": {},
     "output_type": "execute_result"
    },
    {
     "data": {
      "image/png": "[encoded data removed]",
      "text/plain": [
       "<Figure size 432x288 with 3 Axes>"
      ]
     },
     "metadata": {
      "needs_background": "light"
     },
     "output_type": "display_data"
    }
   ],
   "source": [
    "fig, [axb, axr, axd] = plt.subplots(3, 1, sharex=True)\n",
    "axb.hist(tab[\"[SII]2RVb\"][m], label='Blue comp')\n",
    "axr.hist(tab[\"[SII]2RVr\"][m], color='r', label='Red comp')\n",
    "axd.hist(tab[\"[SII]2RVr\"][m] - tab[\"[SII]2RVb\"][m], color='g', label='Delta')\n",
    "for ax in axb, axr, axd:\n",
    "    ax.legend()\n",
    "axd.set(xlabel='Velocity')"
   ]
  },
  {
   "cell_type": "code",
   "execution_count": null,
   "metadata": {},
   "outputs": [],
   "source": []
  },
  {
   "cell_type": "code",
   "execution_count": 14,
   "metadata": {},
   "outputs": [],
   "source": [
    "df = df.assign(Ha_dV=df[\"[SII]2RVr\"] - df[\"[SII]2RVb\"])\n",
    "df = df.assign(Ha_close=(df['Ha_dV'] < 15.0).astype('S5') )\n",
    "df = df.assign(Ha_rb_ratio=np.log10(df['[SII]2Nr']/df['[SII]2Nb']))"
   ]
  },
  {
   "cell_type": "markdown",
   "metadata": {},
   "source": [
    "Blue component"
   ]
  },
  {
   "cell_type": "code",
   "execution_count": 15,
   "metadata": {},
   "outputs": [
    {
     "data": {
      "text/plain": [
       "<seaborn.axisgrid.PairGrid at 0x12b4f74e8e0>"
      ]
     },
     "execution_count": 15,
     "metadata": {},
     "output_type": "execute_result"
    },
    {
     "data": {
      "image/png": "[encoded data removed]",
      "text/plain": [
       "<Figure size 613.25x540 with 12 Axes>"
      ]
     },
     "metadata": {
      "needs_background": "light"
     },
     "output_type": "display_data"
    }
   ],
   "source": [
    "sns.pairplot(df[m], \n",
    "             vars=[\"[SII]2RVb\", \"[SII]2Nb\", \"[SII]2sigmab\"], \n",
    "             diag_kind='hist', hue=\"Ha_close\", \n",
    "             plot_kws=dict(alpha=0.2, s=10, edgecolor='none'),\n",
    "             diag_kws=dict(bins=20),\n",
    "            )"
   ]
  },
  {
   "cell_type": "markdown",
   "metadata": {},
   "source": [
    "fig, ax = plt.subplots()\n",
    "plt.scatter(np.log10(df.HaNb),df.Hasigmab, alpha=0.1, color='k', label='CarB')\n",
    "\n",
    "ax.set_xlabel('Log I')\n",
    "ax.set_ylabel('$σ_{LOS}$ [km/s]')\n",
    "plt.legend()\n",
    "\n",
    "fig, ax = plt.subplots()\n",
    "plt.scatter(np.log10(df.HaNb),df.HaRVb, alpha=0.1, color='k', label='CarB')\n",
    "\n",
    "ax.set_xlabel('Log I')\n",
    "ax.set_ylabel('centroid velocity [km/s]')\n",
    "plt.legend()\n",
    "\n",
    "fig, ax = plt.subplots()\n",
    "plt.scatter(df.HaRVb,df.Hasigmab, alpha=0.1, color='k', label='CarB')\n",
    "\n",
    "ax.set_ylabel('$σ_{LOS}$ [km/s]')\n",
    "ax.set_xlabel('centroid velocity [km/s]')\n",
    "plt.legend()\n",
    "\n",
    "plt.rcParams[\"font.size\"]=\"17\"\n",
    "\n",
    "#fig.savefig('CarinaBlue.pdf', bbox_inches='tight')"
   ]
  },
  {
   "cell_type": "markdown",
   "metadata": {},
   "source": [
    "Red Component"
   ]
  },
  {
   "cell_type": "markdown",
   "metadata": {},
   "source": [
    "mask = df['Hasigmar'] > 35.0\n",
    "df = df[~mask]\n"
   ]
  },
  {
   "cell_type": "markdown",
   "metadata": {},
   "source": [
    "df.dropna(inplace=True)"
   ]
  },
  {
   "cell_type": "markdown",
   "metadata": {},
   "source": [
    "sns.pairplot(df, \n",
    "             vars=[\"HaRVr\", \"HaNr\", \"Hasigmar\"], \n",
    "             diag_kind='hist', hue=\"Ha_close\",\n",
    "             plot_kws=dict(alpha=0.3, s=10, edgecolor='none'),\n",
    "             diag_kws=dict(bins=20),\n",
    "            )"
   ]
  },
  {
   "cell_type": "markdown",
   "metadata": {},
   "source": [
    "fig, ax = plt.subplots()\n",
    "plt.scatter(np.log10(df.HaNr),df.Hasigmar, alpha=0.1, color='k', label='CarR')\n",
    "\n",
    "ax.set_xlabel('Log I')\n",
    "ax.set_ylabel('$σ_{LOS}$ [km/s]')\n",
    "\n",
    "plt.legend()\n",
    "\n",
    "fig, ax = plt.subplots()\n",
    "plt.scatter(np.log10(df.HaNr),df.HaRVr, alpha=0.1, color='k', label='CarR')\n",
    "\n",
    "plt.legend()\n",
    "\n",
    "ax.set_xlabel('Log I')\n",
    "ax.set_ylabel('centroid velocity [km/s]')\n",
    "\n",
    "fig, ax = plt.subplots()\n",
    "plt.scatter(df.HaRVr,df.Hasigmar, alpha=0.1, color='k', label='CarR')\n",
    "\n",
    "ax.set_ylabel('$σ_{LOS}$ [km/s]')\n",
    "ax.set_xlabel('centroid velocity [km/s]')\n",
    "plt.legend()\n",
    "\n",
    "plt.rcParams[\"font.size\"]=\"17\"\n",
    "\n",
    "#fig.savefig('CarinaRed.pdf', bbox_inches='tight')"
   ]
  },
  {
   "cell_type": "markdown",
   "metadata": {},
   "source": [
    "plt.figure(figsize=(20, 4))\n",
    "\n",
    "plt.subplot(131)\n",
    "plt.scatter(df.HaRVb,df.Hasigmab, alpha=0.075, color='k', label='blue')\n",
    "plt.xlabel('centroid velocity [km/s]')\n",
    "plt.ylabel('$σ_{LOS}$ [km/s]')\n",
    "plt.legend()\n",
    "\n",
    "plt.subplot(132)\n",
    "plt.scatter(df.HaRVr,df.Hasigmar, alpha=0.075, color='k', label='red')\n",
    "plt.xlabel('centroid velocity [km/s]')\n",
    "plt.ylabel('$σ_{LOS}$ [km/s]')\n",
    "plt.legend()\n",
    "\n",
    "plt.show()\n",
    "\n",
    "plt.rcParams[\"font.size\"]=\"17\"\n",
    "\n",
    "#fig.savefig('CarinaLOSvsPOS.pdf', bbox_inches='tight')"
   ]
  },
  {
   "cell_type": "markdown",
   "metadata": {},
   "source": [
    "Combining Components"
   ]
  },
  {
   "cell_type": "code",
   "execution_count": 16,
   "metadata": {},
   "outputs": [],
   "source": [
    "def combine_moments(f1, v1, s1, f2, v2, s2, return_skew=False):\n",
    "    \"\"\"Find combined flux, mean velocity, and sigma for two components \n",
    "    with fluxes `f1` and `f2`, velocities `v1` and `v2`, and sigmas `s1` and `s2`. \n",
    "    Returns tuple of the combined moments: `f`, `v`, `s`.\"\"\"\n",
    "    f = f1 + f2\n",
    "    v = (v1*f1 + v2*f2)/f\n",
    "    ss = (s1*s1*f1 + s2*s2*f2)/f\n",
    "    ss += f1*f2*(v1 - v2)**2 / f**2\n",
    "    s = np.sqrt(ss)\n",
    "    if return_skew:\n",
    "        p1 = f1/f\n",
    "        p2 = f2/f\n",
    "        skew = p1*p2*(v1 - v2)*((1 - 2*p1)*(v1 - v2)**2 + 3*(s1**2 - s2**2))\n",
    "        skew /= (p1*(p2*(v1 - v2)**2 + s1**2 - s2**2) + s2**2)**1.5\n",
    "#        vmode = np.where(f1 > f2, v1, v2)\n",
    "#        mskew = (v - vmode)/s\n",
    "        return f, v, s, skew\n",
    "    else:\n",
    "        return f, v, s"
   ]
  },
  {
   "cell_type": "code",
   "execution_count": 17,
   "metadata": {},
   "outputs": [],
   "source": [
    "fHa, vHa, sHa, gHa = combine_moments(\n",
    "    df[\"[SII]2Nr\"],df[\"[SII]2RVr\"],df[\"[SII]2sigmar\"],\n",
    "    df[\"[SII]2Nb\"],df[\"[SII]2RVb\"],df[\"[SII]2sigmab\"],\n",
    "    return_skew=True\n",
    ")"
   ]
  },
  {
   "cell_type": "code",
   "execution_count": null,
   "metadata": {},
   "outputs": [],
   "source": []
  },
  {
   "cell_type": "code",
   "execution_count": null,
   "metadata": {},
   "outputs": [],
   "source": []
  },
  {
   "cell_type": "code",
   "execution_count": 18,
   "metadata": {},
   "outputs": [
    {
     "name": "stderr",
     "output_type": "stream",
     "text": [
      "C:\\Users\\ZAINTEL2\\anaconda3\\lib\\site-packages\\pandas\\core\\series.py:679: RuntimeWarning: divide by zero encountered in log10\n",
      "  result = getattr(ufunc, method)(*inputs, **kwargs)\n"
     ]
    }
   ],
   "source": [
    "dfHa = pd.DataFrame(\n",
    "    {'log_F': np.log10(fHa), \n",
    "     'V_mean': vHa, \n",
    "     'sigma': sHa, \n",
    "     'skew': gHa,\n",
    "     'R_B': df.Ha_rb_ratio,\n",
    "     'dV': df.Ha_dV,\n",
    "     'close': df.Ha_close,\n",
    "     'RAdeg': df.RAdeg,\n",
    "     'DEdeg': df.DEdeg,\n",
    "    }\n",
    ").dropna()"
   ]
  },
  {
   "cell_type": "code",
   "execution_count": 19,
   "metadata": {},
   "outputs": [
    {
     "data": {
      "text/html": [
       "<div>\n",
       "<style scoped>\n",
       "    .dataframe tbody tr th:only-of-type {\n",
       "        vertical-align: middle;\n",
       "    }\n",
       "\n",
       "    .dataframe tbody tr th {\n",
       "        vertical-align: top;\n",
       "    }\n",
       "\n",
       "    .dataframe thead th {\n",
       "        text-align: right;\n",
       "    }\n",
       "</style>\n",
       "<table border=\"1\" class=\"dataframe\">\n",
       "  <thead>\n",
       "    <tr style=\"text-align: right;\">\n",
       "      <th></th>\n",
       "      <th>log_F</th>\n",
       "      <th>V_mean</th>\n",
       "      <th>sigma</th>\n",
       "      <th>skew</th>\n",
       "      <th>R_B</th>\n",
       "      <th>dV</th>\n",
       "      <th>RAdeg</th>\n",
       "      <th>DEdeg</th>\n",
       "    </tr>\n",
       "  </thead>\n",
       "  <tbody>\n",
       "    <tr>\n",
       "      <th>count</th>\n",
       "      <td>615.000000</td>\n",
       "      <td>615.000000</td>\n",
       "      <td>615.000000</td>\n",
       "      <td>615.000000</td>\n",
       "      <td>615.000000</td>\n",
       "      <td>615.000000</td>\n",
       "      <td>615.000000</td>\n",
       "      <td>615.000000</td>\n",
       "    </tr>\n",
       "    <tr>\n",
       "      <th>mean</th>\n",
       "      <td>3.474332</td>\n",
       "      <td>-6.069345</td>\n",
       "      <td>20.963452</td>\n",
       "      <td>-0.101522</td>\n",
       "      <td>-0.042816</td>\n",
       "      <td>35.006797</td>\n",
       "      <td>161.180315</td>\n",
       "      <td>-59.649326</td>\n",
       "    </tr>\n",
       "    <tr>\n",
       "      <th>std</th>\n",
       "      <td>0.220224</td>\n",
       "      <td>6.856434</td>\n",
       "      <td>3.080286</td>\n",
       "      <td>0.562582</td>\n",
       "      <td>0.454941</td>\n",
       "      <td>11.557042</td>\n",
       "      <td>0.127382</td>\n",
       "      <td>0.071403</td>\n",
       "    </tr>\n",
       "    <tr>\n",
       "      <th>min</th>\n",
       "      <td>2.745317</td>\n",
       "      <td>-20.446678</td>\n",
       "      <td>11.852930</td>\n",
       "      <td>-1.456398</td>\n",
       "      <td>-2.147177</td>\n",
       "      <td>-39.080000</td>\n",
       "      <td>160.892000</td>\n",
       "      <td>-59.811890</td>\n",
       "    </tr>\n",
       "    <tr>\n",
       "      <th>25%</th>\n",
       "      <td>3.333794</td>\n",
       "      <td>-11.354145</td>\n",
       "      <td>19.028805</td>\n",
       "      <td>-0.503602</td>\n",
       "      <td>-0.333895</td>\n",
       "      <td>33.880000</td>\n",
       "      <td>161.095000</td>\n",
       "      <td>-59.707180</td>\n",
       "    </tr>\n",
       "    <tr>\n",
       "      <th>50%</th>\n",
       "      <td>3.464874</td>\n",
       "      <td>-6.644946</td>\n",
       "      <td>21.085795</td>\n",
       "      <td>-0.174327</td>\n",
       "      <td>0.010638</td>\n",
       "      <td>37.590000</td>\n",
       "      <td>161.174200</td>\n",
       "      <td>-59.659030</td>\n",
       "    </tr>\n",
       "    <tr>\n",
       "      <th>75%</th>\n",
       "      <td>3.574143</td>\n",
       "      <td>-0.662169</td>\n",
       "      <td>23.172197</td>\n",
       "      <td>0.312472</td>\n",
       "      <td>0.284102</td>\n",
       "      <td>41.100000</td>\n",
       "      <td>161.284200</td>\n",
       "      <td>-59.591900</td>\n",
       "    </tr>\n",
       "    <tr>\n",
       "      <th>max</th>\n",
       "      <td>4.510369</td>\n",
       "      <td>10.076909</td>\n",
       "      <td>28.359471</td>\n",
       "      <td>1.594442</td>\n",
       "      <td>1.047097</td>\n",
       "      <td>73.140000</td>\n",
       "      <td>161.472400</td>\n",
       "      <td>-59.494310</td>\n",
       "    </tr>\n",
       "  </tbody>\n",
       "</table>\n",
       "</div>"
      ],
      "text/plain": [
       "            log_F      V_mean       sigma        skew         R_B          dV  \\\n",
       "count  615.000000  615.000000  615.000000  615.000000  615.000000  615.000000   \n",
       "mean     3.474332   -6.069345   20.963452   -0.101522   -0.042816   35.006797   \n",
       "std      0.220224    6.856434    3.080286    0.562582    0.454941   11.557042   \n",
       "min      2.745317  -20.446678   11.852930   -1.456398   -2.147177  -39.080000   \n",
       "25%      3.333794  -11.354145   19.028805   -0.503602   -0.333895   33.880000   \n",
       "50%      3.464874   -6.644946   21.085795   -0.174327    0.010638   37.590000   \n",
       "75%      3.574143   -0.662169   23.172197    0.312472    0.284102   41.100000   \n",
       "max      4.510369   10.076909   28.359471    1.594442    1.047097   73.140000   \n",
       "\n",
       "            RAdeg       DEdeg  \n",
       "count  615.000000  615.000000  \n",
       "mean   161.180315  -59.649326  \n",
       "std      0.127382    0.071403  \n",
       "min    160.892000  -59.811890  \n",
       "25%    161.095000  -59.707180  \n",
       "50%    161.174200  -59.659030  \n",
       "75%    161.284200  -59.591900  \n",
       "max    161.472400  -59.494310  "
      ]
     },
     "execution_count": 19,
     "metadata": {},
     "output_type": "execute_result"
    }
   ],
   "source": [
    "dfHa.describe()"
   ]
  },
  {
   "cell_type": "markdown",
   "metadata": {},
   "source": [
    "Maps"
   ]
  },
  {
   "cell_type": "code",
   "execution_count": 20,
   "metadata": {},
   "outputs": [],
   "source": [
    "points_of_interest = {\n",
    "    \"eta Car\": [161.26517, -59.684425],\n",
    "    \"Tr 14\": [160.98911, -59.547698],\n",
    "    \"WR 25\": [161.0433, -59.719735],\n",
    "    \"Finger\": [161.13133, -59.664035],\n",
    "}\n",
    "def mark_points(ax):\n",
    "    for label, c in points_of_interest.items():\n",
    "        ax.plot(c[0], c[1], marker='+', markersize='12', color='k')"
   ]
  },
  {
   "cell_type": "code",
   "execution_count": 21,
   "metadata": {},
   "outputs": [
    {
     "data": {
      "image/png": "[encoded data removed]",
      "text/plain": [
       "<Figure size 864x864 with 2 Axes>"
      ]
     },
     "metadata": {},
     "output_type": "display_data"
    }
   ],
   "source": [
    "with sns.axes_style(\"whitegrid\"):\n",
    "    fig, ax = plt.subplots(figsize=(12, 12))\n",
    "    scat = ax.scatter(df.RAdeg, df.DEdeg, s=100, c=df['[NII]Nb'], cmap='gray_r', vmin=0.0, vmax=4e5)\n",
    "    fig.colorbar(scat, ax=ax)\n",
    "    mark_points(ax)\n",
    "    ax.invert_xaxis()\n",
    "    ax.set_aspect(2)\n",
    "    ax.set_title('H alpha blue layer brightness')"
   ]
  },
  {
   "cell_type": "code",
   "execution_count": 22,
   "metadata": {},
   "outputs": [
    {
     "data": {
      "image/png": "[encoded data removed]",
      "text/plain": [
       "<Figure size 864x864 with 2 Axes>"
      ]
     },
     "metadata": {},
     "output_type": "display_data"
    }
   ],
   "source": [
    "with sns.axes_style(\"whitegrid\"):\n",
    "    fig, ax = plt.subplots(figsize=(12, 12))\n",
    "    scat = ax.scatter(df.RAdeg, df.DEdeg, s=100, c=df['[NII]Nr'], cmap='gray_r', vmin=0.0, vmax=4e5)\n",
    "    fig.colorbar(scat, ax=ax)\n",
    "    mark_points(ax)\n",
    "    ax.invert_xaxis()\n",
    "    ax.set_aspect(2)\n",
    "    ax.set_title('H alpha red layer brightness')"
   ]
  },
  {
   "cell_type": "markdown",
   "metadata": {},
   "source": [
    "with sns.axes_style(\"darkgrid\"):\n",
    "    fig, [axr, axb] = plt.subplots(1, 2, figsize=(18, 8))\n",
    "    scat = axr.scatter(df.RAdeg, df.DEdeg, \n",
    "                      s=40*(np.log10(df.HaNr/df.HaNb) + 1.3), \n",
    "                      c=df.HaRVr, cmap='RdBu_r',\n",
    "                      vmin=-55, vmax=35, \n",
    "                     )\n",
    "    \n",
    "    axr.text(0.53, 0.2, '7 pc',\n",
    "        verticalalignment='bottom', horizontalalignment='right',\n",
    "        transform=ax.transAxes,\n",
    "        color='black', fontsize=20)\n",
    "    \n",
    "    axr.axhline(y=-59.65, xmin=0.655, xmax=0.91, linewidth=2, color = 'k')\n",
    "    \n",
    "    scat = axb.scatter(df.RAdeg, df.DEdeg, \n",
    "                      s=40*(np.log10(df.HaNb/df.HaNr) + 1.3), \n",
    "                      c=df.HaRVb, cmap='RdBu_r',\n",
    "                      vmin=-55, vmax=35,\n",
    "                     )\n",
    "    \n",
    "#    scat2 = ax.scatter(df.RAdeg, df.DEdeg, \n",
    "#                      s=50*(np.log10(df.HaNr) - 3), \n",
    "#                      c=df.HaRVr, cmap='RdBu_r',\n",
    "#                      vmin=-55, vmax=35, marker='+',\n",
    "#                     )\n",
    "    fig.colorbar(scat, ax=[axr, axb])\n",
    "    mark_points(axr)\n",
    "    mark_points(axb)\n",
    "    axr.invert_xaxis()\n",
    "    axr.set_aspect(2.0)\n",
    "    axb.invert_xaxis()\n",
    "    axb.set_aspect(2.0)  \n",
    "    axr.set_title('red layer velocity')\n",
    "    axb.set_title('blue layer velocity')"
   ]
  },
  {
   "cell_type": "markdown",
   "metadata": {},
   "source": [
    "with sns.axes_style(\"darkgrid\"):\n",
    "    fig, ax = plt.subplots(figsize=(12, 12))\n",
    "    scat = ax.scatter(dfHa.RAdeg, dfHa.DEdeg, s=8*(dfHa.sigma - 12), c=dfHa.V_mean-dfHa.V_mean.mean(), cmap='RdBu_r')\n",
    "    mark_points(ax)\n",
    "    fig.colorbar(scat, ax=ax).set_label(\"$V$\")\n",
    "    ax.invert_xaxis()\n",
    "    ax.set_aspect(2)\n",
    "    ax.set_title(\"H alpha mean velocity\")\n",
    "    \n",
    "    ax.text(0.32, 0.2, '7 pc',\n",
    "        verticalalignment='bottom', horizontalalignment='right',\n",
    "        transform=ax.transAxes,\n",
    "        color='black', fontsize=20)\n",
    "    ax.axhline(y=-59.83, xmin=0.14, xmax=0.395, linewidth=2, color = 'k')"
   ]
  },
  {
   "cell_type": "markdown",
   "metadata": {},
   "source": [
    "Structure Fucntion"
   ]
  },
  {
   "cell_type": "markdown",
   "metadata": {},
   "source": [
    "Dr. Will Blue"
   ]
  },
  {
   "cell_type": "markdown",
   "metadata": {},
   "source": [
    "df2 = df[['RAdeg', 'DEdeg', 'HaRVb']].copy()\n",
    "df2.rename(columns = {'RAdeg' : 'X', 'DEdeg' : 'Y', 'HaRVb' : 'RV'}, inplace = True)\n",
    "#df2.describe()"
   ]
  },
  {
   "cell_type": "markdown",
   "metadata": {},
   "source": [
    "Red Dr. Will"
   ]
  },
  {
   "cell_type": "markdown",
   "metadata": {},
   "source": [
    "df3 = df[['RAdeg', 'DEdeg', 'HaRVr']].copy()\n",
    "df3.rename(columns = {'RAdeg' : 'X', 'DEdeg' : 'Y', 'HaRVr' : 'RV'}, inplace = True)\n",
    "#df3.describe()"
   ]
  },
  {
   "cell_type": "markdown",
   "metadata": {},
   "source": [
    "Combined"
   ]
  },
  {
   "cell_type": "code",
   "execution_count": 23,
   "metadata": {},
   "outputs": [
    {
     "data": {
      "text/html": [
       "<div>\n",
       "<style scoped>\n",
       "    .dataframe tbody tr th:only-of-type {\n",
       "        vertical-align: middle;\n",
       "    }\n",
       "\n",
       "    .dataframe tbody tr th {\n",
       "        vertical-align: top;\n",
       "    }\n",
       "\n",
       "    .dataframe thead th {\n",
       "        text-align: right;\n",
       "    }\n",
       "</style>\n",
       "<table border=\"1\" class=\"dataframe\">\n",
       "  <thead>\n",
       "    <tr style=\"text-align: right;\">\n",
       "      <th></th>\n",
       "      <th>log_F</th>\n",
       "      <th>V_mean</th>\n",
       "      <th>sigma</th>\n",
       "      <th>skew</th>\n",
       "      <th>R_B</th>\n",
       "      <th>dV</th>\n",
       "      <th>close</th>\n",
       "      <th>RAdeg</th>\n",
       "      <th>DEdeg</th>\n",
       "    </tr>\n",
       "  </thead>\n",
       "  <tbody>\n",
       "    <tr>\n",
       "      <th>0</th>\n",
       "      <td>3.534430</td>\n",
       "      <td>-4.775784</td>\n",
       "      <td>18.549822</td>\n",
       "      <td>-0.961418</td>\n",
       "      <td>0.569108</td>\n",
       "      <td>37.03</td>\n",
       "      <td>b'False'</td>\n",
       "      <td>160.9408</td>\n",
       "      <td>-59.51381</td>\n",
       "    </tr>\n",
       "    <tr>\n",
       "      <th>1</th>\n",
       "      <td>3.261170</td>\n",
       "      <td>-0.879251</td>\n",
       "      <td>18.451563</td>\n",
       "      <td>-0.353923</td>\n",
       "      <td>-0.399512</td>\n",
       "      <td>12.53</td>\n",
       "      <td>b'True'</td>\n",
       "      <td>161.2433</td>\n",
       "      <td>-59.55172</td>\n",
       "    </tr>\n",
       "    <tr>\n",
       "      <th>2</th>\n",
       "      <td>3.299984</td>\n",
       "      <td>-9.012866</td>\n",
       "      <td>22.716072</td>\n",
       "      <td>-0.133546</td>\n",
       "      <td>-0.322976</td>\n",
       "      <td>33.79</td>\n",
       "      <td>b'False'</td>\n",
       "      <td>161.2100</td>\n",
       "      <td>-59.59631</td>\n",
       "    </tr>\n",
       "    <tr>\n",
       "      <th>3</th>\n",
       "      <td>3.507802</td>\n",
       "      <td>-16.991480</td>\n",
       "      <td>20.614599</td>\n",
       "      <td>1.594442</td>\n",
       "      <td>-0.655594</td>\n",
       "      <td>28.61</td>\n",
       "      <td>b'False'</td>\n",
       "      <td>161.1413</td>\n",
       "      <td>-59.58192</td>\n",
       "    </tr>\n",
       "    <tr>\n",
       "      <th>4</th>\n",
       "      <td>3.284173</td>\n",
       "      <td>-12.589448</td>\n",
       "      <td>23.618384</td>\n",
       "      <td>0.417248</td>\n",
       "      <td>-0.332583</td>\n",
       "      <td>42.82</td>\n",
       "      <td>b'False'</td>\n",
       "      <td>161.3221</td>\n",
       "      <td>-59.70569</td>\n",
       "    </tr>\n",
       "    <tr>\n",
       "      <th>...</th>\n",
       "      <td>...</td>\n",
       "      <td>...</td>\n",
       "      <td>...</td>\n",
       "      <td>...</td>\n",
       "      <td>...</td>\n",
       "      <td>...</td>\n",
       "      <td>...</td>\n",
       "      <td>...</td>\n",
       "      <td>...</td>\n",
       "    </tr>\n",
       "    <tr>\n",
       "      <th>860</th>\n",
       "      <td>3.492657</td>\n",
       "      <td>-9.024614</td>\n",
       "      <td>21.493990</td>\n",
       "      <td>-0.396881</td>\n",
       "      <td>0.238319</td>\n",
       "      <td>37.21</td>\n",
       "      <td>b'False'</td>\n",
       "      <td>160.9453</td>\n",
       "      <td>-59.54272</td>\n",
       "    </tr>\n",
       "    <tr>\n",
       "      <th>861</th>\n",
       "      <td>3.568665</td>\n",
       "      <td>-6.298924</td>\n",
       "      <td>20.005709</td>\n",
       "      <td>-0.647539</td>\n",
       "      <td>0.383462</td>\n",
       "      <td>36.33</td>\n",
       "      <td>b'False'</td>\n",
       "      <td>160.9409</td>\n",
       "      <td>-59.55744</td>\n",
       "    </tr>\n",
       "    <tr>\n",
       "      <th>862</th>\n",
       "      <td>3.516867</td>\n",
       "      <td>-15.979095</td>\n",
       "      <td>21.565034</td>\n",
       "      <td>-0.187332</td>\n",
       "      <td>0.020419</td>\n",
       "      <td>35.39</td>\n",
       "      <td>b'False'</td>\n",
       "      <td>160.9275</td>\n",
       "      <td>-59.54794</td>\n",
       "    </tr>\n",
       "    <tr>\n",
       "      <th>864</th>\n",
       "      <td>3.593730</td>\n",
       "      <td>-9.652401</td>\n",
       "      <td>21.551189</td>\n",
       "      <td>-0.350202</td>\n",
       "      <td>0.027282</td>\n",
       "      <td>34.88</td>\n",
       "      <td>b'False'</td>\n",
       "      <td>160.9601</td>\n",
       "      <td>-59.56681</td>\n",
       "    </tr>\n",
       "    <tr>\n",
       "      <th>865</th>\n",
       "      <td>4.017609</td>\n",
       "      <td>-1.745289</td>\n",
       "      <td>17.533988</td>\n",
       "      <td>-0.328629</td>\n",
       "      <td>0.179341</td>\n",
       "      <td>29.37</td>\n",
       "      <td>b'False'</td>\n",
       "      <td>161.1662</td>\n",
       "      <td>-59.63503</td>\n",
       "    </tr>\n",
       "  </tbody>\n",
       "</table>\n",
       "<p>615 rows × 9 columns</p>\n",
       "</div>"
      ],
      "text/plain": [
       "        log_F     V_mean      sigma      skew       R_B     dV     close  \\\n",
       "0    3.534430  -4.775784  18.549822 -0.961418  0.569108  37.03  b'False'   \n",
       "1    3.261170  -0.879251  18.451563 -0.353923 -0.399512  12.53   b'True'   \n",
       "2    3.299984  -9.012866  22.716072 -0.133546 -0.322976  33.79  b'False'   \n",
       "3    3.507802 -16.991480  20.614599  1.594442 -0.655594  28.61  b'False'   \n",
       "4    3.284173 -12.589448  23.618384  0.417248 -0.332583  42.82  b'False'   \n",
       "..        ...        ...        ...       ...       ...    ...       ...   \n",
       "860  3.492657  -9.024614  21.493990 -0.396881  0.238319  37.21  b'False'   \n",
       "861  3.568665  -6.298924  20.005709 -0.647539  0.383462  36.33  b'False'   \n",
       "862  3.516867 -15.979095  21.565034 -0.187332  0.020419  35.39  b'False'   \n",
       "864  3.593730  -9.652401  21.551189 -0.350202  0.027282  34.88  b'False'   \n",
       "865  4.017609  -1.745289  17.533988 -0.328629  0.179341  29.37  b'False'   \n",
       "\n",
       "        RAdeg     DEdeg  \n",
       "0    160.9408 -59.51381  \n",
       "1    161.2433 -59.55172  \n",
       "2    161.2100 -59.59631  \n",
       "3    161.1413 -59.58192  \n",
       "4    161.3221 -59.70569  \n",
       "..        ...       ...  \n",
       "860  160.9453 -59.54272  \n",
       "861  160.9409 -59.55744  \n",
       "862  160.9275 -59.54794  \n",
       "864  160.9601 -59.56681  \n",
       "865  161.1662 -59.63503  \n",
       "\n",
       "[615 rows x 9 columns]"
      ]
     },
     "execution_count": 23,
     "metadata": {},
     "output_type": "execute_result"
    }
   ],
   "source": [
    "dfHa"
   ]
  },
  {
   "cell_type": "code",
   "execution_count": null,
   "metadata": {},
   "outputs": [],
   "source": []
  },
  {
   "cell_type": "code",
   "execution_count": 24,
   "metadata": {},
   "outputs": [],
   "source": [
    "df4 = dfHa[['RAdeg', 'DEdeg', 'V_mean','log_F','sigma']].copy()\n",
    "df4.rename(columns = {'RAdeg' : 'X', 'DEdeg' : 'Y', 'V_mean' : 'RV', 'log_F': 'I', 'sigma':'Sigma'}, inplace = True)\n",
    "#df4"
   ]
  },
  {
   "cell_type": "markdown",
   "metadata": {},
   "source": [
    "Data to pc"
   ]
  },
  {
   "cell_type": "code",
   "execution_count": 25,
   "metadata": {},
   "outputs": [
    {
     "data": {
      "text/plain": [
       "0.30011511441446137"
      ]
     },
     "execution_count": 25,
     "metadata": {},
     "output_type": "execute_result"
    }
   ],
   "source": [
    "(((df4.X[1]-df4.X[0])**2)-((df4.Y[1]-df4.Y[0])**2))**0.5"
   ]
  },
  {
   "cell_type": "markdown",
   "metadata": {},
   "source": [
    "Export archives"
   ]
  },
  {
   "cell_type": "markdown",
   "metadata": {},
   "source": [
    "List Form"
   ]
  },
  {
   "cell_type": "code",
   "execution_count": 26,
   "metadata": {},
   "outputs": [
    {
     "data": {
      "text/plain": [
       "{'name': 'FLA-Car-S',\n",
       " 'pc': 0.010326531407633116,\n",
       " 's0': 0.009293878266869804,\n",
       " 'FLA-Car-S': array([[160.9408    , -59.51381   ,  -4.77578392,   3.53442974,\n",
       "          18.5498221 ],\n",
       "        [161.2433    , -59.55172   ,  -0.87925113,   3.26117005,\n",
       "          18.45156349],\n",
       "        [161.21      , -59.59631   ,  -9.01286569,   3.29998426,\n",
       "          22.71607176],\n",
       "        ...,\n",
       "        [160.9275    , -59.54794   , -15.97909476,   3.51686708,\n",
       "          21.5650337 ],\n",
       "        [160.9601    , -59.56681   ,  -9.6524014 ,   3.59373011,\n",
       "          21.55118876],\n",
       "        [161.1662    , -59.63503   ,  -1.74528867,   4.01760923,\n",
       "          17.53398791]])}"
      ]
     },
     "execution_count": 26,
     "metadata": {},
     "output_type": "execute_result"
    }
   ],
   "source": [
    "data_export_list = {\n",
    "        'name': name_export, \n",
    "        'pc' : pc,\n",
    "        's0' : s0,\n",
    " #       'pix' : pix,\n",
    "         name_export : np.array(df4),\n",
    "      }\n",
    "data_export_list"
   ]
  },
  {
   "cell_type": "code",
   "execution_count": 27,
   "metadata": {},
   "outputs": [],
   "source": [
    "class MyEncoder(json.JSONEncoder):\n",
    "    def default(self, obj):\n",
    "        if isinstance(obj, np.integer):\n",
    "            return int(obj)\n",
    "        elif isinstance(obj, np.floating):\n",
    "            return float(obj)\n",
    "        elif isinstance(obj, np.ndarray):\n",
    "            return obj.tolist()\n",
    "        else:\n",
    "            return super(MyEncoder, self).default(obj)"
   ]
  },
  {
   "cell_type": "code",
   "execution_count": 28,
   "metadata": {},
   "outputs": [],
   "source": [
    "jsonfilename =name_export +\"-l.json\"\n",
    "with open(datapath_res/jsonfilename, \"w\") as f:\n",
    "    json.dump(data_export_list, fp=f, indent=3, cls=MyEncoder)"
   ]
  },
  {
   "cell_type": "code",
   "execution_count": 29,
   "metadata": {},
   "outputs": [
    {
     "name": "stderr",
     "output_type": "stream",
     "text": [
      "[NbConvertApp] Converting notebook otv-FLA-Car-S.ipynb to script\n",
      "[NbConvertApp] Writing 9556 bytes to otv-FLA-Car-S.py\n"
     ]
    }
   ],
   "source": [
    "!jupyter nbconvert --to script --no-prompt otv-FLA-Car-S.ipynb"
   ]
  },
  {
   "cell_type": "markdown",
   "metadata": {},
   "source": []
  },
  {
   "cell_type": "code",
   "execution_count": null,
   "metadata": {},
   "outputs": [],
   "source": []
  },
  {
   "cell_type": "code",
   "execution_count": null,
   "metadata": {},
   "outputs": [],
   "source": []
  },
  {
   "cell_type": "code",
   "execution_count": null,
   "metadata": {},
   "outputs": [],
   "source": []
  },
  {
   "cell_type": "code",
   "execution_count": 30,
   "metadata": {},
   "outputs": [
    {
     "name": "stdout",
     "output_type": "stream",
     "text": [
      "--- 10.482018947601318 seconds ---\n"
     ]
    }
   ],
   "source": [
    "print(\"--- %s seconds ---\" % (time.time()-start_time))"
   ]
  }
 ],
 "metadata": {
  "kernelspec": {
   "display_name": "Python 3",
   "language": "python",
   "name": "python3"
  },
  "language_info": {
   "codemirror_mode": {
    "name": "ipython",
    "version": 3
   },
   "file_extension": ".py",
   "mimetype": "text/x-python",
   "name": "python",
   "nbconvert_exporter": "python",
   "pygments_lexer": "ipython3",
   "version": "3.8.3"
  }
 },
 "nbformat": 4,
 "nbformat_minor": 4
}
