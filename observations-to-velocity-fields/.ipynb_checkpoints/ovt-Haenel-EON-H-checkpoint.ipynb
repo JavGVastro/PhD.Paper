{
 "cells": [
  {
   "cell_type": "code",
   "execution_count": 1,
   "metadata": {},
   "outputs": [],
   "source": [
    "import time\n",
    "start_time=time.time()"
   ]
  },
  {
   "cell_type": "code",
   "execution_count": 2,
   "metadata": {},
   "outputs": [],
   "source": [
    "from pathlib import Path\n",
    "\n",
    "from matplotlib import pyplot as plt\n",
    "import seaborn as sns\n",
    "from scipy import interpolate\n",
    "import numpy as np\n",
    "import pandas as pd\n",
    "import json\n",
    "\n",
    "from astropy.io import fits\n",
    "import astropy.units as u\n",
    "\n",
    "#plt.rcParams[\"font.family\"]=\"Times New Roman\"\n",
    "#plt.rcParams[\"font.size\"]=\"20\""
   ]
  },
  {
   "cell_type": "markdown",
   "metadata": {},
   "source": [
    "Input path"
   ]
  },
  {
   "cell_type": "markdown",
   "metadata": {},
   "source": [
    "observations folder location"
   ]
  },
  {
   "cell_type": "code",
   "execution_count": 3,
   "metadata": {},
   "outputs": [],
   "source": [
    "text_file_0 = open(\"path-observations.txt\", \"r\")\n",
    "path_obs = text_file_0.read()"
   ]
  },
  {
   "cell_type": "code",
   "execution_count": 4,
   "metadata": {},
   "outputs": [],
   "source": [
    "datapath_obs = Path(path_obs).expanduser()"
   ]
  },
  {
   "cell_type": "markdown",
   "metadata": {},
   "source": [
    "results folder location"
   ]
  },
  {
   "cell_type": "code",
   "execution_count": 5,
   "metadata": {},
   "outputs": [],
   "source": [
    "text_file_1 = open(\"path-results.txt\", \"r\")\n",
    "path_res = text_file_1.read()"
   ]
  },
  {
   "cell_type": "code",
   "execution_count": 6,
   "metadata": {},
   "outputs": [],
   "source": [
    "datapath_res= Path(path_res).expanduser()"
   ]
  },
  {
   "cell_type": "markdown",
   "metadata": {},
   "source": [
    "files names"
   ]
  },
  {
   "cell_type": "code",
   "execution_count": 7,
   "metadata": {},
   "outputs": [],
   "source": [
    "data_file = 'Haenel-EON-H-RVx'"
   ]
  },
  {
   "cell_type": "code",
   "execution_count": 8,
   "metadata": {},
   "outputs": [],
   "source": [
    "name_export='Haenel-EON-H'"
   ]
  },
  {
   "cell_type": "markdown",
   "metadata": {},
   "source": [
    "Input data of the region"
   ]
  },
  {
   "cell_type": "code",
   "execution_count": 9,
   "metadata": {},
   "outputs": [
    {
     "data": {
      "text/plain": [
       "(0.11926416555294585, 0.10733774899765126)"
      ]
     },
     "execution_count": 9,
     "metadata": {},
     "output_type": "execute_result"
    }
   ],
   "source": [
    "dist = 410 #parsecs\n",
    "pc = dist*(2*np.pi) / (360  * 60)\n",
    "s0=(0.9*pc)\n",
    "pc,s0"
   ]
  },
  {
   "cell_type": "code",
   "execution_count": 10,
   "metadata": {},
   "outputs": [
    {
     "data": {
      "text/html": [
       "<div>\n",
       "<style scoped>\n",
       "    .dataframe tbody tr th:only-of-type {\n",
       "        vertical-align: middle;\n",
       "    }\n",
       "\n",
       "    .dataframe tbody tr th {\n",
       "        vertical-align: top;\n",
       "    }\n",
       "\n",
       "    .dataframe thead th {\n",
       "        text-align: right;\n",
       "    }\n",
       "</style>\n",
       "<table border=\"1\" class=\"dataframe\">\n",
       "  <thead>\n",
       "    <tr style=\"text-align: right;\">\n",
       "      <th></th>\n",
       "      <th>0</th>\n",
       "      <th>1</th>\n",
       "      <th>2</th>\n",
       "      <th>3</th>\n",
       "      <th>4</th>\n",
       "      <th>5</th>\n",
       "      <th>6</th>\n",
       "      <th>7</th>\n",
       "      <th>8</th>\n",
       "      <th>9</th>\n",
       "      <th>...</th>\n",
       "      <th>18</th>\n",
       "      <th>19</th>\n",
       "      <th>20</th>\n",
       "      <th>21</th>\n",
       "      <th>22</th>\n",
       "      <th>23</th>\n",
       "      <th>24</th>\n",
       "      <th>25</th>\n",
       "      <th>26</th>\n",
       "      <th>27</th>\n",
       "    </tr>\n",
       "  </thead>\n",
       "  <tbody>\n",
       "    <tr>\n",
       "      <th>count</th>\n",
       "      <td>24.000000</td>\n",
       "      <td>24.000000</td>\n",
       "      <td>24.000000</td>\n",
       "      <td>24.000000</td>\n",
       "      <td>24.000000</td>\n",
       "      <td>24.000000</td>\n",
       "      <td>24.000000</td>\n",
       "      <td>24.000000</td>\n",
       "      <td>24.000000</td>\n",
       "      <td>24.000000</td>\n",
       "      <td>...</td>\n",
       "      <td>24.000000</td>\n",
       "      <td>24.000000</td>\n",
       "      <td>24.000000</td>\n",
       "      <td>24.000000</td>\n",
       "      <td>24.000000</td>\n",
       "      <td>24.000000</td>\n",
       "      <td>24.000000</td>\n",
       "      <td>24.000000</td>\n",
       "      <td>24.000000</td>\n",
       "      <td>24.000000</td>\n",
       "    </tr>\n",
       "    <tr>\n",
       "      <th>mean</th>\n",
       "      <td>22.783333</td>\n",
       "      <td>21.133333</td>\n",
       "      <td>20.158333</td>\n",
       "      <td>14.679167</td>\n",
       "      <td>10.941667</td>\n",
       "      <td>11.520833</td>\n",
       "      <td>7.633333</td>\n",
       "      <td>5.579167</td>\n",
       "      <td>3.266667</td>\n",
       "      <td>5.970833</td>\n",
       "      <td>...</td>\n",
       "      <td>5.637500</td>\n",
       "      <td>4.445833</td>\n",
       "      <td>9.566667</td>\n",
       "      <td>11.191667</td>\n",
       "      <td>14.800000</td>\n",
       "      <td>14.583333</td>\n",
       "      <td>16.033333</td>\n",
       "      <td>22.750000</td>\n",
       "      <td>23.145833</td>\n",
       "      <td>23.366667</td>\n",
       "    </tr>\n",
       "    <tr>\n",
       "      <th>std</th>\n",
       "      <td>7.540538</td>\n",
       "      <td>8.900692</td>\n",
       "      <td>9.664859</td>\n",
       "      <td>12.537109</td>\n",
       "      <td>12.189515</td>\n",
       "      <td>12.760536</td>\n",
       "      <td>12.702539</td>\n",
       "      <td>11.862948</td>\n",
       "      <td>8.842716</td>\n",
       "      <td>11.541663</td>\n",
       "      <td>...</td>\n",
       "      <td>13.012296</td>\n",
       "      <td>13.676097</td>\n",
       "      <td>14.611480</td>\n",
       "      <td>14.203579</td>\n",
       "      <td>13.664616</td>\n",
       "      <td>13.801943</td>\n",
       "      <td>12.987709</td>\n",
       "      <td>7.639372</td>\n",
       "      <td>6.292644</td>\n",
       "      <td>5.553743</td>\n",
       "    </tr>\n",
       "    <tr>\n",
       "      <th>min</th>\n",
       "      <td>-3.900000</td>\n",
       "      <td>-2.500000</td>\n",
       "      <td>0.600000</td>\n",
       "      <td>-3.500000</td>\n",
       "      <td>-1.000000</td>\n",
       "      <td>-2.900000</td>\n",
       "      <td>-4.500000</td>\n",
       "      <td>-7.000000</td>\n",
       "      <td>-3.100000</td>\n",
       "      <td>-3.900000</td>\n",
       "      <td>...</td>\n",
       "      <td>-7.400000</td>\n",
       "      <td>-9.100000</td>\n",
       "      <td>-6.400000</td>\n",
       "      <td>-6.000000</td>\n",
       "      <td>-6.100000</td>\n",
       "      <td>-5.100000</td>\n",
       "      <td>-4.600000</td>\n",
       "      <td>-3.700000</td>\n",
       "      <td>1.500000</td>\n",
       "      <td>3.800000</td>\n",
       "    </tr>\n",
       "    <tr>\n",
       "      <th>25%</th>\n",
       "      <td>25.000000</td>\n",
       "      <td>25.000000</td>\n",
       "      <td>25.000000</td>\n",
       "      <td>0.550000</td>\n",
       "      <td>0.575000</td>\n",
       "      <td>-0.600000</td>\n",
       "      <td>-2.325000</td>\n",
       "      <td>-2.550000</td>\n",
       "      <td>-2.325000</td>\n",
       "      <td>-2.100000</td>\n",
       "      <td>...</td>\n",
       "      <td>-3.150000</td>\n",
       "      <td>-5.000000</td>\n",
       "      <td>-4.725000</td>\n",
       "      <td>-2.625000</td>\n",
       "      <td>-2.200000</td>\n",
       "      <td>-1.925000</td>\n",
       "      <td>-0.175000</td>\n",
       "      <td>25.000000</td>\n",
       "      <td>25.000000</td>\n",
       "      <td>25.000000</td>\n",
       "    </tr>\n",
       "    <tr>\n",
       "      <th>50%</th>\n",
       "      <td>25.000000</td>\n",
       "      <td>25.000000</td>\n",
       "      <td>25.000000</td>\n",
       "      <td>25.000000</td>\n",
       "      <td>2.300000</td>\n",
       "      <td>4.100000</td>\n",
       "      <td>0.300000</td>\n",
       "      <td>-0.150000</td>\n",
       "      <td>-0.300000</td>\n",
       "      <td>0.200000</td>\n",
       "      <td>...</td>\n",
       "      <td>-1.900000</td>\n",
       "      <td>-2.100000</td>\n",
       "      <td>1.100000</td>\n",
       "      <td>14.050000</td>\n",
       "      <td>25.000000</td>\n",
       "      <td>25.000000</td>\n",
       "      <td>25.000000</td>\n",
       "      <td>25.000000</td>\n",
       "      <td>25.000000</td>\n",
       "      <td>25.000000</td>\n",
       "    </tr>\n",
       "    <tr>\n",
       "      <th>75%</th>\n",
       "      <td>25.000000</td>\n",
       "      <td>25.000000</td>\n",
       "      <td>25.000000</td>\n",
       "      <td>25.000000</td>\n",
       "      <td>25.000000</td>\n",
       "      <td>25.000000</td>\n",
       "      <td>25.000000</td>\n",
       "      <td>11.950000</td>\n",
       "      <td>4.300000</td>\n",
       "      <td>12.925000</td>\n",
       "      <td>...</td>\n",
       "      <td>25.000000</td>\n",
       "      <td>25.000000</td>\n",
       "      <td>25.000000</td>\n",
       "      <td>25.000000</td>\n",
       "      <td>25.000000</td>\n",
       "      <td>25.000000</td>\n",
       "      <td>25.000000</td>\n",
       "      <td>25.000000</td>\n",
       "      <td>25.000000</td>\n",
       "      <td>25.000000</td>\n",
       "    </tr>\n",
       "    <tr>\n",
       "      <th>max</th>\n",
       "      <td>25.000000</td>\n",
       "      <td>25.000000</td>\n",
       "      <td>25.000000</td>\n",
       "      <td>25.000000</td>\n",
       "      <td>25.000000</td>\n",
       "      <td>25.000000</td>\n",
       "      <td>25.000000</td>\n",
       "      <td>25.000000</td>\n",
       "      <td>25.000000</td>\n",
       "      <td>25.000000</td>\n",
       "      <td>...</td>\n",
       "      <td>25.000000</td>\n",
       "      <td>25.000000</td>\n",
       "      <td>25.000000</td>\n",
       "      <td>25.000000</td>\n",
       "      <td>25.000000</td>\n",
       "      <td>25.000000</td>\n",
       "      <td>25.000000</td>\n",
       "      <td>25.000000</td>\n",
       "      <td>25.000000</td>\n",
       "      <td>25.000000</td>\n",
       "    </tr>\n",
       "  </tbody>\n",
       "</table>\n",
       "<p>8 rows × 28 columns</p>\n",
       "</div>"
      ],
      "text/plain": [
       "              0          1          2          3          4          5   \\\n",
       "count  24.000000  24.000000  24.000000  24.000000  24.000000  24.000000   \n",
       "mean   22.783333  21.133333  20.158333  14.679167  10.941667  11.520833   \n",
       "std     7.540538   8.900692   9.664859  12.537109  12.189515  12.760536   \n",
       "min    -3.900000  -2.500000   0.600000  -3.500000  -1.000000  -2.900000   \n",
       "25%    25.000000  25.000000  25.000000   0.550000   0.575000  -0.600000   \n",
       "50%    25.000000  25.000000  25.000000  25.000000   2.300000   4.100000   \n",
       "75%    25.000000  25.000000  25.000000  25.000000  25.000000  25.000000   \n",
       "max    25.000000  25.000000  25.000000  25.000000  25.000000  25.000000   \n",
       "\n",
       "              6          7          8          9   ...         18         19  \\\n",
       "count  24.000000  24.000000  24.000000  24.000000  ...  24.000000  24.000000   \n",
       "mean    7.633333   5.579167   3.266667   5.970833  ...   5.637500   4.445833   \n",
       "std    12.702539  11.862948   8.842716  11.541663  ...  13.012296  13.676097   \n",
       "min    -4.500000  -7.000000  -3.100000  -3.900000  ...  -7.400000  -9.100000   \n",
       "25%    -2.325000  -2.550000  -2.325000  -2.100000  ...  -3.150000  -5.000000   \n",
       "50%     0.300000  -0.150000  -0.300000   0.200000  ...  -1.900000  -2.100000   \n",
       "75%    25.000000  11.950000   4.300000  12.925000  ...  25.000000  25.000000   \n",
       "max    25.000000  25.000000  25.000000  25.000000  ...  25.000000  25.000000   \n",
       "\n",
       "              20         21         22         23         24         25  \\\n",
       "count  24.000000  24.000000  24.000000  24.000000  24.000000  24.000000   \n",
       "mean    9.566667  11.191667  14.800000  14.583333  16.033333  22.750000   \n",
       "std    14.611480  14.203579  13.664616  13.801943  12.987709   7.639372   \n",
       "min    -6.400000  -6.000000  -6.100000  -5.100000  -4.600000  -3.700000   \n",
       "25%    -4.725000  -2.625000  -2.200000  -1.925000  -0.175000  25.000000   \n",
       "50%     1.100000  14.050000  25.000000  25.000000  25.000000  25.000000   \n",
       "75%    25.000000  25.000000  25.000000  25.000000  25.000000  25.000000   \n",
       "max    25.000000  25.000000  25.000000  25.000000  25.000000  25.000000   \n",
       "\n",
       "              26         27  \n",
       "count  24.000000  24.000000  \n",
       "mean   23.145833  23.366667  \n",
       "std     6.292644   5.553743  \n",
       "min     1.500000   3.800000  \n",
       "25%    25.000000  25.000000  \n",
       "50%    25.000000  25.000000  \n",
       "75%    25.000000  25.000000  \n",
       "max    25.000000  25.000000  \n",
       "\n",
       "[8 rows x 28 columns]"
      ]
     },
     "execution_count": 10,
     "metadata": {},
     "output_type": "execute_result"
    }
   ],
   "source": [
    "orion=pd.read_table(str(datapath_obs)+ '/' +data_file+'.csv', delimiter=',',header=None)\n",
    "orion.describe()"
   ]
  },
  {
   "cell_type": "code",
   "execution_count": 11,
   "metadata": {},
   "outputs": [],
   "source": [
    "#orion[orion == 25] = 'nan' "
   ]
  },
  {
   "cell_type": "code",
   "execution_count": 12,
   "metadata": {},
   "outputs": [
    {
     "data": {
      "image/png": "[encoded data removed]",
      "text/plain": [
       "<Figure size 864x720 with 2 Axes>"
      ]
     },
     "metadata": {
      "needs_background": "light"
     },
     "output_type": "display_data"
    }
   ],
   "source": [
    "fig, ax = plt.subplots(figsize = (12,10))\n",
    "\n",
    "sns.heatmap(orion,cmap='RdBu_r',cbar_kws={'label': 'km/s'})\n",
    "\n",
    "plt.scatter(13.5, 13.5, marker='+', color='yellow', s=150)\n",
    "ax.set(xlabel='arcmin', ylabel='arcmin')\n",
    "ax.text(0.93, 0.81, '1.3 pc',\n",
    "        verticalalignment='bottom', horizontalalignment='right',\n",
    "        transform=ax.transAxes,\n",
    "        color='black', fontsize=20)\n",
    "plt.axhline(y=2, xmin=0.68, xmax=0.96, linewidth=2, color = 'k')\n",
    "plt.text(14.5, 14.5, '$θ^{1}Ori\\ C$', fontsize=20, color='yellow')\n",
    "\n",
    "plt.show()"
   ]
  },
  {
   "cell_type": "markdown",
   "metadata": {},
   "source": [
    "Matrix To list"
   ]
  },
  {
   "cell_type": "code",
   "execution_count": 13,
   "metadata": {},
   "outputs": [
    {
     "data": {
      "text/html": [
       "<div>\n",
       "<style scoped>\n",
       "    .dataframe tbody tr th:only-of-type {\n",
       "        vertical-align: middle;\n",
       "    }\n",
       "\n",
       "    .dataframe tbody tr th {\n",
       "        vertical-align: top;\n",
       "    }\n",
       "\n",
       "    .dataframe thead th {\n",
       "        text-align: right;\n",
       "    }\n",
       "</style>\n",
       "<table border=\"1\" class=\"dataframe\">\n",
       "  <thead>\n",
       "    <tr style=\"text-align: right;\">\n",
       "      <th></th>\n",
       "      <th>X</th>\n",
       "      <th>Y</th>\n",
       "      <th>RV</th>\n",
       "    </tr>\n",
       "  </thead>\n",
       "  <tbody>\n",
       "    <tr>\n",
       "      <th>count</th>\n",
       "      <td>672.000000</td>\n",
       "      <td>672.000000</td>\n",
       "      <td>672.000000</td>\n",
       "    </tr>\n",
       "    <tr>\n",
       "      <th>mean</th>\n",
       "      <td>11.500000</td>\n",
       "      <td>13.500000</td>\n",
       "      <td>10.716071</td>\n",
       "    </tr>\n",
       "    <tr>\n",
       "      <th>std</th>\n",
       "      <td>6.927343</td>\n",
       "      <td>8.083764</td>\n",
       "      <td>13.270700</td>\n",
       "    </tr>\n",
       "    <tr>\n",
       "      <th>min</th>\n",
       "      <td>0.000000</td>\n",
       "      <td>0.000000</td>\n",
       "      <td>-9.100000</td>\n",
       "    </tr>\n",
       "    <tr>\n",
       "      <th>25%</th>\n",
       "      <td>5.750000</td>\n",
       "      <td>6.750000</td>\n",
       "      <td>-2.000000</td>\n",
       "    </tr>\n",
       "    <tr>\n",
       "      <th>50%</th>\n",
       "      <td>11.500000</td>\n",
       "      <td>13.500000</td>\n",
       "      <td>3.600000</td>\n",
       "    </tr>\n",
       "    <tr>\n",
       "      <th>75%</th>\n",
       "      <td>17.250000</td>\n",
       "      <td>20.250000</td>\n",
       "      <td>25.000000</td>\n",
       "    </tr>\n",
       "    <tr>\n",
       "      <th>max</th>\n",
       "      <td>23.000000</td>\n",
       "      <td>27.000000</td>\n",
       "      <td>25.000000</td>\n",
       "    </tr>\n",
       "  </tbody>\n",
       "</table>\n",
       "</div>"
      ],
      "text/plain": [
       "                X           Y          RV\n",
       "count  672.000000  672.000000  672.000000\n",
       "mean    11.500000   13.500000   10.716071\n",
       "std      6.927343    8.083764   13.270700\n",
       "min      0.000000    0.000000   -9.100000\n",
       "25%      5.750000    6.750000   -2.000000\n",
       "50%     11.500000   13.500000    3.600000\n",
       "75%     17.250000   20.250000   25.000000\n",
       "max     23.000000   27.000000   25.000000"
      ]
     },
     "execution_count": 13,
     "metadata": {},
     "output_type": "execute_result"
    }
   ],
   "source": [
    "data=orion.stack().reset_index().rename(columns={'level_0':'X', 'level_1':'Y', 0:'RV'})\n",
    "data.describe()"
   ]
  },
  {
   "cell_type": "code",
   "execution_count": 15,
   "metadata": {},
   "outputs": [],
   "source": [
    "m=data.RV<25\n",
    "data=data[m]"
   ]
  },
  {
   "cell_type": "code",
   "execution_count": 16,
   "metadata": {},
   "outputs": [
    {
     "name": "stderr",
     "output_type": "stream",
     "text": [
      "<ipython-input-16-9541acf80d3b>:1: UserWarning: Boolean Series key will be reindexed to match DataFrame index.\n",
      "  data[m].describe()\n"
     ]
    },
    {
     "data": {
      "text/html": [
       "<div>\n",
       "<style scoped>\n",
       "    .dataframe tbody tr th:only-of-type {\n",
       "        vertical-align: middle;\n",
       "    }\n",
       "\n",
       "    .dataframe tbody tr th {\n",
       "        vertical-align: top;\n",
       "    }\n",
       "\n",
       "    .dataframe thead th {\n",
       "        text-align: right;\n",
       "    }\n",
       "</style>\n",
       "<table border=\"1\" class=\"dataframe\">\n",
       "  <thead>\n",
       "    <tr style=\"text-align: right;\">\n",
       "      <th></th>\n",
       "      <th>X</th>\n",
       "      <th>Y</th>\n",
       "      <th>RV</th>\n",
       "    </tr>\n",
       "  </thead>\n",
       "  <tbody>\n",
       "    <tr>\n",
       "      <th>count</th>\n",
       "      <td>366.000000</td>\n",
       "      <td>366.000000</td>\n",
       "      <td>366.000000</td>\n",
       "    </tr>\n",
       "    <tr>\n",
       "      <th>mean</th>\n",
       "      <td>11.918033</td>\n",
       "      <td>12.803279</td>\n",
       "      <td>-1.226230</td>\n",
       "    </tr>\n",
       "    <tr>\n",
       "      <th>std</th>\n",
       "      <td>5.770862</td>\n",
       "      <td>6.106326</td>\n",
       "      <td>3.113844</td>\n",
       "    </tr>\n",
       "    <tr>\n",
       "      <th>min</th>\n",
       "      <td>0.000000</td>\n",
       "      <td>0.000000</td>\n",
       "      <td>-9.100000</td>\n",
       "    </tr>\n",
       "    <tr>\n",
       "      <th>25%</th>\n",
       "      <td>7.000000</td>\n",
       "      <td>8.000000</td>\n",
       "      <td>-3.375000</td>\n",
       "    </tr>\n",
       "    <tr>\n",
       "      <th>50%</th>\n",
       "      <td>12.000000</td>\n",
       "      <td>13.000000</td>\n",
       "      <td>-1.750000</td>\n",
       "    </tr>\n",
       "    <tr>\n",
       "      <th>75%</th>\n",
       "      <td>16.750000</td>\n",
       "      <td>17.000000</td>\n",
       "      <td>0.675000</td>\n",
       "    </tr>\n",
       "    <tr>\n",
       "      <th>max</th>\n",
       "      <td>23.000000</td>\n",
       "      <td>27.000000</td>\n",
       "      <td>8.900000</td>\n",
       "    </tr>\n",
       "  </tbody>\n",
       "</table>\n",
       "</div>"
      ],
      "text/plain": [
       "                X           Y          RV\n",
       "count  366.000000  366.000000  366.000000\n",
       "mean    11.918033   12.803279   -1.226230\n",
       "std      5.770862    6.106326    3.113844\n",
       "min      0.000000    0.000000   -9.100000\n",
       "25%      7.000000    8.000000   -3.375000\n",
       "50%     12.000000   13.000000   -1.750000\n",
       "75%     16.750000   17.000000    0.675000\n",
       "max     23.000000   27.000000    8.900000"
      ]
     },
     "execution_count": 16,
     "metadata": {},
     "output_type": "execute_result"
    }
   ],
   "source": [
    "data[m].describe()"
   ]
  },
  {
   "cell_type": "code",
   "execution_count": null,
   "metadata": {},
   "outputs": [],
   "source": []
  },
  {
   "cell_type": "code",
   "execution_count": 18,
   "metadata": {},
   "outputs": [
    {
     "name": "stderr",
     "output_type": "stream",
     "text": [
      "<ipython-input-18-ae0f6994de5e>:7: UserWarning: Boolean Series key will be reindexed to match DataFrame index.\n",
      "  datal=data[m].copy()\n"
     ]
    },
    {
     "data": {
      "image/png": "[encoded data removed]",
      "text/plain": [
       "<Figure size 576x432 with 2 Axes>"
      ]
     },
     "metadata": {
      "needs_background": "light"
     },
     "output_type": "display_data"
    }
   ],
   "source": [
    "plt.style.use([\n",
    "    \"seaborn-poster\",\n",
    "])\n",
    "fig = plt.figure(figsize=(8, 6))\n",
    "ax = fig.add_subplot()\n",
    "\n",
    "datal=data[m].copy()\n",
    "\n",
    "dataH_rv=(datal.round(2)).pivot(index='X', columns='Y', values='RV')\n",
    "sns.heatmap(dataH_rv, cmap=\"RdBu_r\",cbar_kws={'label': 'km/s'})\n",
    "plt.title('Orion')\n",
    "ax.set_facecolor('xkcd:gray')\n",
    "\n",
    "\n",
    "#plt.savefig('Imgs//VF//N604.pdf', bbox_inches='tight')\n"
   ]
  },
  {
   "cell_type": "code",
   "execution_count": null,
   "metadata": {},
   "outputs": [],
   "source": []
  },
  {
   "cell_type": "code",
   "execution_count": 19,
   "metadata": {},
   "outputs": [
    {
     "name": "stderr",
     "output_type": "stream",
     "text": [
      "<ipython-input-19-18cfdcacefe9>:1: UserWarning: Boolean Series key will be reindexed to match DataFrame index.\n",
      "  sns.displot(data[m].RV-data[m].RV.mean(),bins=25)\n"
     ]
    },
    {
     "data": {
      "text/plain": [
       "Text(0.5, 6.799999999999979, 'Radial velocity [km/s]')"
      ]
     },
     "execution_count": 19,
     "metadata": {},
     "output_type": "execute_result"
    },
    {
     "data": {
      "image/png": "[encoded data removed]",
      "text/plain": [
       "<Figure size 360x360 with 1 Axes>"
      ]
     },
     "metadata": {
      "needs_background": "light"
     },
     "output_type": "display_data"
    }
   ],
   "source": [
    "\n",
    "\n",
    "sns.displot(data[m].RV-data[m].RV.mean(),bins=25)\n",
    "plt.xlim(-10,10)\n",
    "\n",
    "plt.text(0.45, 0.86,'n ='+str(data.RV.count()), ha='center', va='center', transform=ax.transAxes, color='k')\n",
    "plt.text(0.45, 0.78,'$μ$ ='+str(np.round(data.RV.mean(),2))+' km/s', ha='center', va='center', transform=ax.transAxes, color='k')\n",
    "plt.text(0.45, 0.68,'$σ^{2}$ ='+str(np.round(data.RV.var(),2))+' km$^{2}$/s$^{2}$', ha='center', va='center', transform=ax.transAxes, color='k')\n",
    "\n",
    "plt.title('Orion')\n",
    "\n",
    "plt.rcParams[\"font.family\"]=\"Times New Roman\"\n",
    "plt.rcParams[\"font.size\"]=\"15\"\n",
    "\n",
    "plt.xlabel('Radial velocity [km/s]')\n"
   ]
  },
  {
   "cell_type": "code",
   "execution_count": null,
   "metadata": {},
   "outputs": [],
   "source": [
    "data.X = data.X*pc\n",
    "data.Y = data.Y*pc"
   ]
  },
  {
   "cell_type": "code",
   "execution_count": null,
   "metadata": {},
   "outputs": [],
   "source": [
    "OrionLH = {'OrionLH' : data,\n",
    "           'pc' : pc,\n",
    "          's0' : s0\n",
    "      }\n",
    "OrionLH"
   ]
  },
  {
   "cell_type": "code",
   "execution_count": null,
   "metadata": {},
   "outputs": [],
   "source": [
    "OrionM = {'vv' : np.array(orion),\n",
    "        'pc' : pc,\n",
    "        's0' : s0,\n",
    "      }"
   ]
  },
  {
   "cell_type": "code",
   "execution_count": null,
   "metadata": {},
   "outputs": [],
   "source": [
    "import pickle\n",
    "\n",
    "f = open('VF\\\\OrionL.pkl',\"wb\")\n",
    "pickle.dump(data,f)\n",
    "f.close()"
   ]
  },
  {
   "cell_type": "code",
   "execution_count": null,
   "metadata": {},
   "outputs": [],
   "source": [
    "f = open('VFL\\\\OrionL.pkl',\"wb\")\n",
    "pickle.dump(OrionLH,f)\n",
    "f.close()"
   ]
  },
  {
   "cell_type": "code",
   "execution_count": null,
   "metadata": {},
   "outputs": [],
   "source": [
    "f = open('VFM\\\\OrionL.pkl',\"wb\")\n",
    "pickle.dump(OrionM,f)\n",
    "f.close()"
   ]
  },
  {
   "cell_type": "code",
   "execution_count": null,
   "metadata": {},
   "outputs": [],
   "source": [
    "print(\"--- %s seconds ---\" % (time.time()-start_time))"
   ]
  }
 ],
 "metadata": {
  "kernelspec": {
   "display_name": "Python 3",
   "language": "python",
   "name": "python3"
  },
  "language_info": {
   "codemirror_mode": {
    "name": "ipython",
    "version": 3
   },
   "file_extension": ".py",
   "mimetype": "text/x-python",
   "name": "python",
   "nbconvert_exporter": "python",
   "pygments_lexer": "ipython3",
   "version": "3.8.3"
  }
 },
 "nbformat": 4,
 "nbformat_minor": 2
}
