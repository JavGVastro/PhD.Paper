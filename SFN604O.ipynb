{
 "cells": [
  {
   "cell_type": "code",
   "execution_count": 1,
   "metadata": {},
   "outputs": [],
   "source": [
    "import time\n",
    "start_time=time.time()"
   ]
  },
  {
   "cell_type": "code",
   "execution_count": 2,
   "metadata": {},
   "outputs": [],
   "source": [
    "from matplotlib import pyplot as plt\n",
    "import seaborn as sns\n",
    "import numpy as np\n",
    "import pandas as pd\n",
    "from scipy import interpolate\n",
    "import pickle\n",
    "\n",
    "import strucfunc\n",
    "from strucfunc import sosflog\n",
    "import bfunc "
   ]
  },
  {
   "cell_type": "code",
   "execution_count": 3,
   "metadata": {},
   "outputs": [],
   "source": [
    "name = 'N604O'"
   ]
  },
  {
   "cell_type": "code",
   "execution_count": 4,
   "metadata": {},
   "outputs": [],
   "source": [
    "pickle_in = open('VFM//' + name + '.pkl',\"rb\")\n",
    "data = pickle.load(pickle_in)\n",
    "sb = data['sb']\n",
    "vv = data['vv']\n",
    "ss = data['ss']"
   ]
  },
  {
   "cell_type": "code",
   "execution_count": 5,
   "metadata": {},
   "outputs": [
    {
     "name": "stderr",
     "output_type": "stream",
     "text": [
      "<ipython-input-5-95afb24455fa>:2: RuntimeWarning: invalid value encountered in less\n",
      "  m = ~np.isfinite(sb*vv*ss) | (sb < 0.0)\n"
     ]
    }
   ],
   "source": [
    "## Replace spurious values in the arrays\n",
    "m = ~np.isfinite(sb*vv*ss) | (sb < 0.0)\n",
    "\n",
    "sb[m] = 0.0\n",
    "vv[m] = np.nanmean(vv)\n",
    "ss[m] = 0.0\n",
    "sb /= sb.max()\n",
    "\n",
    "good = (~m) & (sb > 0.001)"
   ]
  },
  {
   "cell_type": "code",
   "execution_count": 6,
   "metadata": {},
   "outputs": [
    {
     "data": {
      "text/plain": [
       "(151, 145)"
      ]
     },
     "execution_count": 6,
     "metadata": {},
     "output_type": "execute_result"
    }
   ],
   "source": [
    "sb.shape"
   ]
  },
  {
   "cell_type": "code",
   "execution_count": 7,
   "metadata": {},
   "outputs": [],
   "source": [
    "box_size = np.sqrt(151 * 145) * data['pix'] * data['pc']"
   ]
  },
  {
   "cell_type": "code",
   "execution_count": 8,
   "metadata": {},
   "outputs": [
    {
     "name": "stderr",
     "output_type": "stream",
     "text": [
      "C:\\Users\\ZAINTEL2\\Dropbox\\Articulos\\PhD\\PhD-master02\\strucfunc.py:83: RuntimeWarning: invalid value encountered in true_divide\n",
      "  'Unweighted B(r)': sf/nsf,\n",
      "C:\\Users\\ZAINTEL2\\Dropbox\\Articulos\\PhD\\PhD-master02\\strucfunc.py:84: RuntimeWarning: invalid value encountered in true_divide\n",
      "  'Weighted B(r)': wsf/weight}\n"
     ]
    }
   ],
   "source": [
    "rslt = strucfunc.strucfunc_numba_parallel(data['vv'], wmap=data['sb'], dlogr=0.05)"
   ]
  },
  {
   "cell_type": "code",
   "execution_count": 9,
   "metadata": {},
   "outputs": [],
   "source": [
    "good = (~m) & (sb > 0.001)\n",
    "rslt[\"Unweighted mean velocity\"] = np.mean(vv[good])\n",
    "rslt[\"Unweighted sigma^2\"] = np.var(vv[good])\n",
    "v0w = rslt[\"Weighted mean velocity\"] = np.average(vv, weights=sb)\n",
    "rslt[\"Weighted sigma^2\"] = np.average((vv - v0w)**2, weights=sb)"
   ]
  },
  {
   "cell_type": "code",
   "execution_count": 10,
   "metadata": {},
   "outputs": [],
   "source": [
    "b2 = rslt['Unweighted B(r)']\n",
    "e_b2 = b2  *.1\n",
    "s = 10**rslt['log10 r'] * data['pix'] * data['pc']\n",
    "e_s = s  *.1\n",
    "sig2 = rslt['Unweighted sigma^2']\n",
    "sig = sig2**0.5"
   ]
  },
  {
   "cell_type": "code",
   "execution_count": 11,
   "metadata": {},
   "outputs": [
    {
     "name": "stderr",
     "output_type": "stream",
     "text": [
      "C:\\Users\\ZAINTEL2\\anaconda3\\lib\\site-packages\\numpy\\lib\\function_base.py:1405: RuntimeWarning: invalid value encountered in remainder\n",
      "  xp = xp % period\n"
     ]
    },
    {
     "data": {
      "text/plain": [
       "9.45585353180505"
      ]
     },
     "execution_count": 11,
     "metadata": {},
     "output_type": "execute_result"
    }
   ],
   "source": [
    "r0 = np.interp(sig2, b2, s,period = 360)\n",
    "r0"
   ]
  },
  {
   "cell_type": "markdown",
   "metadata": {},
   "source": [
    "x = s\n",
    "y = b2 - sig2\n",
    "tck=interpolate.splrep(x,y,s=0)\n",
    "grid=np.linspace(x.min(),x.max(),num=len(x))\n",
    "ynew=interpolate.splev(grid,tck,der=0)\n",
    "inter=pd.DataFrame([grid,ynew]).T\n",
    "SFr=interpolate.sproot(tck)\n",
    "r0 = SFr[0]"
   ]
  },
  {
   "cell_type": "code",
   "execution_count": 12,
   "metadata": {},
   "outputs": [
    {
     "data": {
      "text/plain": [
       "2.8311607575538895"
      ]
     },
     "execution_count": 12,
     "metadata": {},
     "output_type": "execute_result"
    }
   ],
   "source": [
    "r1 = np.interp(sig, b2, s,period = 360)\n",
    "r1"
   ]
  },
  {
   "cell_type": "code",
   "execution_count": 13,
   "metadata": {},
   "outputs": [
    {
     "data": {
      "text/plain": [
       "80.54773759281632"
      ]
     },
     "execution_count": 13,
     "metadata": {},
     "output_type": "execute_result"
    }
   ],
   "source": [
    "r2 = np.interp(2*sig2, b2, s, period = 360)\n",
    "r2"
   ]
  },
  {
   "cell_type": "code",
   "execution_count": 14,
   "metadata": {},
   "outputs": [
    {
     "data": {
      "text/plain": [
       "(35.29953015831453, 9.45585353180505, 1.2, 1.5563445559185105, 0.01)"
      ]
     },
     "execution_count": 14,
     "metadata": {},
     "output_type": "execute_result"
    },
    {
     "data": {
      "image/png": "[encoded data removed]",
      "text/plain": [
       "<Figure size 576x432 with 1 Axes>"
      ]
     },
     "metadata": {
      "needs_background": "light"
     },
     "output_type": "display_data"
    }
   ],
   "source": [
    "m = 1.2\n",
    "s0 = data['s0']\n",
    "noise = 0.01\n",
    "\n",
    "fig, ax = plt.subplots(figsize=(8, 6))\n",
    "rgrid = np.logspace(0, 2.15)\n",
    "ax.errorbar(s, b2, yerr=e_b2, xerr=e_s, fmt='o', alpha=0.4,color=\"blue\")\n",
    "\n",
    "\n",
    "ax.axhline(sig2, ls='-')\n",
    "ax.axvline(r0, ls='-')\n",
    "\n",
    "ax.axhline(2*sig2, ls=':')\n",
    "ax.axvline(r2, ls=':')\n",
    "\n",
    "ax.axhline(sig, ls=':')\n",
    "ax.axvline(r1, ls=':')\n",
    "\n",
    "ax.plot(rgrid, bfunc.bfunc00s(rgrid, r0, sig2, m), color=\"0.8\")\n",
    "ax.plot(rgrid, bfunc.bfunc03s(rgrid, r0, sig2, m, s0, noise), color=\"red\")\n",
    "ax.plot(rgrid, bfunc.bfunc04s(rgrid, r0, sig2, m, s0, noise, box_size), color=\"black\")\n",
    "\n",
    "ax.set(xscale='log', yscale='log', \n",
    "       xlabel='separation, pc',\n",
    "       ylabel=r'$b^2,\\ \\mathrm{km^2\\ s^{-2}}$'\n",
    "      )\n",
    "None\n",
    "\n",
    "sig2, r0, m, s0, noise"
   ]
  },
  {
   "cell_type": "code",
   "execution_count": 15,
   "metadata": {},
   "outputs": [
    {
     "data": {
      "text/plain": [
       "{'log10 r': array([0.  , 0.05, 0.1 , 0.15, 0.2 , 0.25, 0.3 , 0.35, 0.4 , 0.45, 0.5 ,\n",
       "        0.55, 0.6 , 0.65, 0.7 , 0.75, 0.8 , 0.85, 0.9 , 0.95, 1.  , 1.05,\n",
       "        1.1 , 1.15, 1.2 , 1.25, 1.3 , 1.35, 1.4 , 1.45, 1.5 , 1.55, 1.6 ,\n",
       "        1.65, 1.7 , 1.75, 1.8 , 1.85, 1.9 , 1.95, 2.  , 2.05, 2.1 , 2.15,\n",
       "        2.2 , 2.25]),\n",
       " 'Sum dv^2': array([7.83203670e+03, 0.00000000e+00, 0.00000000e+00, 3.01485206e+04,\n",
       "        0.00000000e+00, 0.00000000e+00, 1.46925385e+05, 0.00000000e+00,\n",
       "        0.00000000e+00, 1.35565703e+05, 2.10352667e+05, 2.56085855e+05,\n",
       "        5.46529429e+05, 8.57534557e+05, 8.70499272e+05, 1.38539011e+06,\n",
       "        2.78510692e+06, 2.67786287e+06, 4.29047630e+06, 6.53439818e+06,\n",
       "        1.08409083e+07, 1.22318590e+07, 1.66513092e+07, 2.46336234e+07,\n",
       "        2.80331808e+07, 3.62261324e+07, 4.58717940e+07, 5.43403043e+07,\n",
       "        6.54593976e+07, 8.04934445e+07, 1.03943906e+08, 1.17733427e+08,\n",
       "        1.45446603e+08, 1.63228434e+08, 1.88883540e+08, 1.99819432e+08,\n",
       "        1.90575263e+08, 1.83599475e+08, 1.96450169e+08, 1.82321587e+08,\n",
       "        1.21473336e+08, 5.14130686e+07, 2.14333728e+07, 7.73847630e+06,\n",
       "        1.53960548e+06, 1.64145123e+04]),\n",
       " 'Sum weights': array([6.15825990e+02, 0.00000000e+00, 0.00000000e+00, 1.22648211e+03,\n",
       "        0.00000000e+00, 0.00000000e+00, 3.03244519e+03, 0.00000000e+00,\n",
       "        0.00000000e+00, 1.79518479e+03, 2.37991217e+03, 2.35510902e+03,\n",
       "        4.06260219e+03, 5.12935077e+03, 4.49345203e+03, 6.04166618e+03,\n",
       "        1.01489889e+04, 8.30199776e+03, 1.15523351e+04, 1.49362284e+04,\n",
       "        2.10502194e+04, 2.03483694e+04, 2.45011492e+04, 3.24514449e+04,\n",
       "        3.39689923e+04, 4.11398799e+04, 4.91419356e+04, 5.48786516e+04,\n",
       "        6.14168086e+04, 6.95881978e+04, 8.35425795e+04, 9.01350490e+04,\n",
       "        1.09084400e+05, 1.21165171e+05, 1.34515109e+05, 1.38194955e+05,\n",
       "        1.35581316e+05, 1.35963428e+05, 1.26409928e+05, 1.03324960e+05,\n",
       "        6.74155229e+04, 4.10832154e+04, 3.04712823e+04, 1.62077079e+04,\n",
       "        2.88824389e+03, 2.43368775e+01]),\n",
       " 'Sum w * dv^2': array([4.30035943e+02, 0.00000000e+00, 0.00000000e+00, 1.73451104e+03,\n",
       "        0.00000000e+00, 0.00000000e+00, 8.81909957e+03, 0.00000000e+00,\n",
       "        0.00000000e+00, 8.29518359e+03, 1.32451768e+04, 1.63816664e+04,\n",
       "        3.53397668e+04, 5.62787633e+04, 5.83668557e+04, 9.33160014e+04,\n",
       "        1.89873758e+05, 1.83937078e+05, 2.95561946e+05, 4.49258484e+05,\n",
       "        7.40995915e+05, 8.26323578e+05, 1.10960534e+06, 1.61413169e+06,\n",
       "        1.80134410e+06, 2.27184597e+06, 2.78192696e+06, 3.15669479e+06,\n",
       "        3.61644298e+06, 4.26563864e+06, 5.47962108e+06, 6.38601635e+06,\n",
       "        8.09952226e+06, 8.68135745e+06, 8.82882370e+06, 8.26944951e+06,\n",
       "        7.11372747e+06, 7.11706327e+06, 7.64684999e+06, 6.24122873e+06,\n",
       "        3.55501629e+06, 1.44012976e+06, 6.49382492e+05, 2.11038848e+05,\n",
       "        3.20501697e+04, 2.27659477e+02]),\n",
       " 'N pairs': array([   7422,       0,       0,   14732,       0,       0,   36222,\n",
       "              0,       0,   21373,   28310,   28003,   48262,   61068,\n",
       "          53577,   72320,  122250,  100826,  141579,  185588,  266443,\n",
       "         263135,  324184,  441184,  475818,  594152,  734398,  845414,\n",
       "         971519, 1113785, 1336724, 1438677, 1747306, 1931365, 2155586,\n",
       "        2334618, 2487457, 2576299, 2464379, 2300541, 1797458, 1206350,\n",
       "         812359,  460368,  105225,    1662], dtype=int64),\n",
       " 'Unweighted B(r)': array([ 1.05524612,         nan,         nan,  2.04646488,         nan,\n",
       "                nan,  4.05624718,         nan,         nan,  6.34284858,\n",
       "         7.43033087,  9.14494357, 11.32421842, 14.04228986, 16.24762999,\n",
       "        19.1563898 , 22.78206069, 26.55924931, 30.30446817, 35.2091632 ,\n",
       "        40.68753296, 46.48510839, 51.36376007, 55.83526014, 58.91576351,\n",
       "        60.97115283, 62.46176324, 64.27656072, 67.37840182, 72.27018187,\n",
       "        77.76018561, 81.83450995, 83.24048754, 84.51454468, 87.62514701,\n",
       "        85.58977629, 76.61449552, 71.26481617, 79.7158917 , 79.25161385,\n",
       "        67.58062541, 42.61869991, 26.38411444, 16.80932709, 14.63155605,\n",
       "         9.87636119]),\n",
       " 'Weighted B(r)': array([ 0.69830756,         nan,         nan,  1.41421634,         nan,\n",
       "                nan,  2.90824698,         nan,         nan,  4.6207965 ,\n",
       "         5.56540573,  6.95579962,  8.69880072, 10.97190772, 12.98931319,\n",
       "        15.44540838, 18.70863791, 22.15576099, 25.58460632, 30.07844238,\n",
       "        35.20133921, 40.60883504, 45.28788954, 49.73990196, 53.02907089,\n",
       "        55.22247454, 56.61004054, 57.52136215, 58.88360307, 61.2983059 ,\n",
       "        65.59075757, 70.84942454, 74.25005078, 71.64895172, 65.63443896,\n",
       "        59.83901139, 52.46834665, 52.34542385, 60.49247969, 60.40388257,\n",
       "        52.73290397, 35.05396909, 21.31129519, 13.02089409, 11.09676708,\n",
       "         9.35450642]),\n",
       " 'Unweighted mean velocity': 0.006163021868787322,\n",
       " 'Unweighted sigma^2': 35.29953015831453,\n",
       " 'Weighted mean velocity': -0.11850437531150616,\n",
       " 'Weighted sigma^2': 28.31876194882765}"
      ]
     },
     "execution_count": 15,
     "metadata": {},
     "output_type": "execute_result"
    }
   ],
   "source": [
    "rslt"
   ]
  },
  {
   "cell_type": "code",
   "execution_count": 16,
   "metadata": {},
   "outputs": [],
   "source": [
    "N604 = { 'VF' : data,\n",
    "        'SF' : rslt,\n",
    "        's' : s,\n",
    "        'b2' : b2,\n",
    "        'sig2' : sig2,\n",
    "        'pc' : data['pc'],\n",
    "        'r0' : r0,\n",
    "        'r1' : r1,\n",
    "        'r2' : r2,\n",
    "        's0' : data['s0'],\n",
    "        'm' : m,\n",
    "        'pix' : data['pix'],\n",
    "        'box_size': box_size} "
   ]
  },
  {
   "cell_type": "code",
   "execution_count": 17,
   "metadata": {},
   "outputs": [],
   "source": [
    "f = open('Results\\\\SF'+ name + '.pkl',\"wb\")\n",
    "pickle.dump(N604,f)\n",
    "f.close()"
   ]
  },
  {
   "cell_type": "code",
   "execution_count": null,
   "metadata": {},
   "outputs": [],
   "source": []
  },
  {
   "cell_type": "code",
   "execution_count": 18,
   "metadata": {},
   "outputs": [
    {
     "name": "stdout",
     "output_type": "stream",
     "text": [
      "--- 10.705111503601074 seconds ---\n"
     ]
    }
   ],
   "source": [
    "print(\"--- %s seconds ---\" % (time.time()-start_time))"
   ]
  }
 ],
 "metadata": {
  "kernelspec": {
   "display_name": "Python 3",
   "language": "python",
   "name": "python3"
  },
  "language_info": {
   "codemirror_mode": {
    "name": "ipython",
    "version": 3
   },
   "file_extension": ".py",
   "mimetype": "text/x-python",
   "name": "python",
   "nbconvert_exporter": "python",
   "pygments_lexer": "ipython3",
   "version": "3.8.3"
  }
 },
 "nbformat": 4,
 "nbformat_minor": 4
}
