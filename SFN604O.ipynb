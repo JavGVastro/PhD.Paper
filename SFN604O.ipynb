{
 "cells": [
  {
   "cell_type": "code",
   "execution_count": 1,
   "metadata": {},
   "outputs": [],
   "source": [
    "import time\n",
    "start_time=time.time()"
   ]
  },
  {
   "cell_type": "code",
   "execution_count": 2,
   "metadata": {},
   "outputs": [],
   "source": [
    "from matplotlib import pyplot as plt\n",
    "import seaborn as sns\n",
    "import numpy as np\n",
    "import pandas as pd\n",
    "from scipy import interpolate\n",
    "import pickle\n",
    "\n",
    "import strucfunc\n",
    "from strucfunc import sosflog\n",
    "from bfunc import bfunc00,bfunc01,bfunc02"
   ]
  },
  {
   "cell_type": "code",
   "execution_count": 3,
   "metadata": {},
   "outputs": [],
   "source": [
    "name = 'N604O'"
   ]
  },
  {
   "cell_type": "code",
   "execution_count": 4,
   "metadata": {},
   "outputs": [],
   "source": [
    "pickle_in = open('VFM//' + name + '.pkl',\"rb\")\n",
    "data = pickle.load(pickle_in)\n",
    "sb = data['sb']\n",
    "vv = data['vv']\n",
    "ss = data['ss']"
   ]
  },
  {
   "cell_type": "code",
   "execution_count": 5,
   "metadata": {},
   "outputs": [
    {
     "name": "stderr",
     "output_type": "stream",
     "text": [
      "<ipython-input-5-95afb24455fa>:2: RuntimeWarning: invalid value encountered in less\n",
      "  m = ~np.isfinite(sb*vv*ss) | (sb < 0.0)\n"
     ]
    }
   ],
   "source": [
    "## Replace spurious values in the arrays\n",
    "m = ~np.isfinite(sb*vv*ss) | (sb < 0.0)\n",
    "\n",
    "sb[m] = 0.0\n",
    "vv[m] = np.nanmean(vv)\n",
    "ss[m] = 0.0\n",
    "sb /= sb.max()\n",
    "\n",
    "good = (~m) & (sb > 0.001)"
   ]
  },
  {
   "cell_type": "code",
   "execution_count": 6,
   "metadata": {},
   "outputs": [],
   "source": [
    "rslt = strucfunc.strucfunc_numba_parallel(data['vv'], wmap=data['sb'], dlogr=0.15)"
   ]
  },
  {
   "cell_type": "code",
   "execution_count": 7,
   "metadata": {},
   "outputs": [],
   "source": [
    "good = (~m) & (sb > 0.001)\n",
    "rslt[\"Unweighted mean velocity\"] = np.mean(vv[good])\n",
    "rslt[\"Unweighted sigma^2\"] = np.var(vv[good])\n",
    "v0w = rslt[\"Weighted mean velocity\"] = np.average(vv, weights=sb)\n",
    "rslt[\"Weighted sigma^2\"] = np.average((vv - v0w)**2, weights=sb)"
   ]
  },
  {
   "cell_type": "code",
   "execution_count": 8,
   "metadata": {},
   "outputs": [],
   "source": [
    "b2 = rslt['Unweighted B(r)']\n",
    "e_b2 = b2  *.1\n",
    "s = 10**rslt['log10 r'] * data['pix'] * data['pc']\n",
    "e_s = s  *.1\n",
    "sig2 = rslt['Unweighted sigma^2']\n",
    "sig = sig2**0.5"
   ]
  },
  {
   "cell_type": "code",
   "execution_count": 9,
   "metadata": {},
   "outputs": [],
   "source": [
    "#r0 = np.interp(sig2, b2, s,period = 360)\n",
    "#r0"
   ]
  },
  {
   "cell_type": "code",
   "execution_count": 10,
   "metadata": {},
   "outputs": [],
   "source": [
    "x = s\n",
    "y = b2 - sig2\n",
    "tck=interpolate.splrep(x,y,s=0)\n",
    "grid=np.linspace(x.min(),x.max(),num=len(x))\n",
    "ynew=interpolate.splev(grid,tck,der=0)\n",
    "inter=pd.DataFrame([grid,ynew]).T\n",
    "SFr=interpolate.sproot(tck)\n",
    "r0 = SFr[0]"
   ]
  },
  {
   "cell_type": "code",
   "execution_count": 11,
   "metadata": {},
   "outputs": [
    {
     "data": {
      "text/plain": [
       "2.5575373698886428"
      ]
     },
     "execution_count": 11,
     "metadata": {},
     "output_type": "execute_result"
    }
   ],
   "source": [
    "r1 = np.interp(sig, b2, s,period = 360)\n",
    "r1"
   ]
  },
  {
   "cell_type": "code",
   "execution_count": 12,
   "metadata": {},
   "outputs": [
    {
     "data": {
      "text/plain": [
       "36.74802724286931"
      ]
     },
     "execution_count": 12,
     "metadata": {},
     "output_type": "execute_result"
    }
   ],
   "source": [
    "r2 = np.interp(2*sig2, b2, s, period = 360)\n",
    "r2"
   ]
  },
  {
   "cell_type": "code",
   "execution_count": 13,
   "metadata": {},
   "outputs": [],
   "source": [
    "m = 1.5"
   ]
  },
  {
   "cell_type": "code",
   "execution_count": 14,
   "metadata": {},
   "outputs": [
    {
     "data": {
      "text/plain": [
       "(35.29953015831453, 8.184590922264915, 1.5)"
      ]
     },
     "execution_count": 14,
     "metadata": {},
     "output_type": "execute_result"
    },
    {
     "data": {
      "image/png": "[encoded data removed]",
      "text/plain": [
       "<Figure size 576x432 with 1 Axes>"
      ]
     },
     "metadata": {
      "needs_background": "light"
     },
     "output_type": "display_data"
    }
   ],
   "source": [
    "fig, ax = plt.subplots(figsize=(8, 6))\n",
    "rgrid = np.logspace(0, 2.15)\n",
    "ax.errorbar(s, b2, yerr=e_b2, xerr=e_s, fmt='o', alpha=0.4,color=\"blue\")\n",
    "\n",
    "\n",
    "ax.axhline(sig2, ls='-')\n",
    "ax.axvline(r0, ls='-')\n",
    "\n",
    "ax.axhline(2*sig2, ls=':')\n",
    "ax.axvline(r2, ls=':')\n",
    "\n",
    "ax.axhline(sig, ls=':')\n",
    "ax.axvline(r1, ls=':')\n",
    "\n",
    "ax.plot(rgrid, bfunc00(rgrid, r0, sig2, m), color=\"0.8\")\n",
    "ax.plot(rgrid, bfunc02(rgrid, r0, sig2, m, data['s0'], 1.5), color=\"red\")\n",
    "\n",
    "ax.set(xscale='log', yscale='log', \n",
    "       xlabel='separation',\n",
    "       ylabel=r'$b^2,\\ \\mathrm{km^2\\ s^{-2}}$'\n",
    "      )\n",
    "None\n",
    "\n",
    "sig2, r0, m"
   ]
  },
  {
   "cell_type": "code",
   "execution_count": 15,
   "metadata": {},
   "outputs": [
    {
     "data": {
      "text/plain": [
       "{'log10 r': array([0.  , 0.15, 0.3 , 0.45, 0.6 , 0.75, 0.9 , 1.05, 1.2 , 1.35, 1.5 ,\n",
       "        1.65, 1.8 , 1.95, 2.1 ]),\n",
       " 'Sum dv^2': array([7.83203670e+03, 3.01485206e+04, 1.46925385e+05, 6.02004225e+05,\n",
       "        2.27456326e+06, 6.84835990e+06, 2.16657828e+07, 5.35167916e+07,\n",
       "        1.10131107e+08, 2.00293146e+08, 3.67123937e+08, 5.51931406e+08,\n",
       "        5.70624907e+08, 3.55207991e+08, 3.07114546e+07]),\n",
       " 'Sum weights': array([   615.82599046,   1226.48211391,   3032.44518809,   6530.20597176,\n",
       "         13685.40498992,  24492.65280463,  47538.78291173,  77300.96348757,\n",
       "        124250.8077711 , 185883.65799584, 282762.02885204, 393875.23476398,\n",
       "        397954.67154596, 211823.69799741,  49567.23410735]),\n",
       " 'Sum w * dv^2': array([4.30035943e+02, 1.73451104e+03, 8.81909957e+03, 3.79220268e+04,\n",
       "        1.49985386e+05, 4.67126837e+05, 1.48581634e+06, 3.55006060e+06,\n",
       "        6.85511704e+06, 1.10387764e+07, 1.99651597e+07, 2.57796307e+07,\n",
       "        2.18776407e+07, 1.12363748e+07, 8.92471510e+05]),\n",
       " 'N pairs': array([   7422,   14732,   36222,   77686,  162907,  295396,  593610,\n",
       "        1028503, 1804368, 2930718, 4522707, 6421569, 7528135, 5304349,\n",
       "        1377952], dtype=int64),\n",
       " 'Unweighted B(r)': array([ 1.05524612,  2.04646488,  4.05624718,  7.74919837, 13.96234206,\n",
       "        23.18365821, 36.49834542, 52.03367574, 61.03583479, 68.34268817,\n",
       "        81.17349564, 85.94961855, 75.79897375, 66.96542618, 22.28775357]),\n",
       " 'Weighted B(r)': array([ 0.69830756,  1.41421634,  2.90824698,  5.80717162, 10.95951387,\n",
       "        19.07212098, 31.25482509, 45.92517922, 55.17160942, 59.38540551,\n",
       "        70.60764056, 65.45126067, 54.97520772, 53.04588153, 18.00527155]),\n",
       " 'Unweighted mean velocity': 0.006163021868787322,\n",
       " 'Unweighted sigma^2': 35.29953015831453,\n",
       " 'Weighted mean velocity': -0.11850437531150616,\n",
       " 'Weighted sigma^2': 28.31876194882765}"
      ]
     },
     "execution_count": 15,
     "metadata": {},
     "output_type": "execute_result"
    }
   ],
   "source": [
    "rslt"
   ]
  },
  {
   "cell_type": "code",
   "execution_count": 16,
   "metadata": {},
   "outputs": [],
   "source": [
    "N604 = { 'VF' : data,\n",
    "        'SF' : rslt,\n",
    "        's' : s,\n",
    "        'b2' : b2,\n",
    "        'sig2' : sig2,\n",
    "        'pc' : data['pc'],\n",
    "        'r0' : r0,\n",
    "        'r1' : r1,\n",
    "        'r2' : r2,\n",
    "        's0' : data['s0'],\n",
    "        'm' : m}"
   ]
  },
  {
   "cell_type": "code",
   "execution_count": 17,
   "metadata": {},
   "outputs": [],
   "source": [
    "f = open('SFresults\\\\'+ name + '.pkl',\"wb\")\n",
    "pickle.dump(N604,f)\n",
    "f.close()"
   ]
  },
  {
   "cell_type": "code",
   "execution_count": null,
   "metadata": {},
   "outputs": [],
   "source": []
  },
  {
   "cell_type": "code",
   "execution_count": 18,
   "metadata": {},
   "outputs": [
    {
     "name": "stdout",
     "output_type": "stream",
     "text": [
      "--- 10.322119235992432 seconds ---\n"
     ]
    }
   ],
   "source": [
    "print(\"--- %s seconds ---\" % (time.time()-start_time))"
   ]
  }
 ],
 "metadata": {
  "kernelspec": {
   "display_name": "Python 3",
   "language": "python",
   "name": "python3"
  },
  "language_info": {
   "codemirror_mode": {
    "name": "ipython",
    "version": 3
   },
   "file_extension": ".py",
   "mimetype": "text/x-python",
   "name": "python",
   "nbconvert_exporter": "python",
   "pygments_lexer": "ipython3",
   "version": "3.8.3"
  }
 },
 "nbformat": 4,
 "nbformat_minor": 4
}
