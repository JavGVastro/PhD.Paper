{
 "cells": [
  {
   "cell_type": "code",
   "execution_count": 1,
   "metadata": {},
   "outputs": [],
   "source": [
    "import time"
   ]
  },
  {
   "cell_type": "code",
   "execution_count": 2,
   "metadata": {},
   "outputs": [],
   "source": [
    "start_time = time.time()"
   ]
  },
  {
   "cell_type": "code",
   "execution_count": 3,
   "metadata": {},
   "outputs": [],
   "source": [
    "import cmasher as cmr\n",
    "from matplotlib import pyplot as plt\n",
    "import numpy as np\n",
    "import seaborn as sns\n",
    "import lmfit\n",
    "import json\n",
    "import astropy.units as u\n",
    "import bfunc\n",
    "import pandas as pd\n",
    "import corner\n",
    "from scipy import interpolate\n",
    "import pickle\n",
    "import bplot"
   ]
  },
  {
   "cell_type": "markdown",
   "metadata": {},
   "source": [
    "Data load and region parameters"
   ]
  },
  {
   "cell_type": "code",
   "execution_count": 4,
   "metadata": {},
   "outputs": [],
   "source": [
    "data = \"N595\""
   ]
  },
  {
   "cell_type": "code",
   "execution_count": 5,
   "metadata": {},
   "outputs": [],
   "source": [
    "name = \"NGC 595\""
   ]
  },
  {
   "cell_type": "code",
   "execution_count": 6,
   "metadata": {},
   "outputs": [],
   "source": [
    "pickle_in = open(\"Results//SF\" + data + \".pkl\", \"rb\")\n",
    "SFresults = pickle.load(pickle_in)"
   ]
  },
  {
   "cell_type": "code",
   "execution_count": 7,
   "metadata": {},
   "outputs": [],
   "source": [
    "mask = SFresults[\"SF\"][\"N pairs\"] > 0"
   ]
  },
  {
   "cell_type": "code",
   "execution_count": 8,
   "metadata": {},
   "outputs": [],
   "source": [
    "B = SFresults[\"b2\"][mask]\n",
    "r = SFresults[\"s\"][mask]\n",
    "pc = SFresults[\"pc\"]\n",
    "pix = SFresults[\"pix\"]\n",
    "box_size = SFresults[\"box_size\"]\n",
    "pc_per_arcsec = pc"
   ]
  },
  {
   "cell_type": "markdown",
   "metadata": {},
   "source": [
    "# Merge first K points\n",
    "K = 1\n",
    "r[K] = np.mean(r[:K])\n",
    "B[K] = np.mean(B[:K])\n",
    "r = r[K:]\n",
    "B = B[K:]"
   ]
  },
  {
   "cell_type": "code",
   "execution_count": 9,
   "metadata": {},
   "outputs": [
    {
     "data": {
      "text/plain": [
       "['r0', 'sig2', 'm', 's0', 'noise']"
      ]
     },
     "execution_count": 9,
     "metadata": {},
     "output_type": "execute_result"
    }
   ],
   "source": [
    "model = lmfit.Model(bfunc.bfunc03s)\n",
    "model.param_names"
   ]
  },
  {
   "cell_type": "code",
   "execution_count": 10,
   "metadata": {},
   "outputs": [],
   "source": [
    "# Correlation length between 1/10 and 2 x box_size\n",
    "model.set_param_hint(\"r0\", value=0.1 * box_size, min=0.01 * box_size, max=2.0 * box_size)\n",
    "\n",
    "# sig2 between 1/4 and 2 x max value of B(r)\n",
    "model.set_param_hint(\"sig2\", value=0.5 * B.max(), min=0.25 * B.max(), max=2.0 * B.max())\n",
    "\n",
    "# m between 1/2 and 5/3\n",
    "model.set_param_hint(\"m\", value=1.0, min=0.5, max=2.0)\n",
    "\n",
    "# Seeing RMS between 0.1 and 1.5 arcsec\n",
    "model.set_param_hint(\n",
    "    \"s0\", value=0.5 * pc_per_arcsec, min=0.1 * pc_per_arcsec, max=1.5 * pc_per_arcsec\n",
    ")\n",
    "\n",
    "# Noise cannot be much larger than smallest B(r)\n",
    "model.set_param_hint(\"noise\", value=0.5 * B.min(), min=0.0, max=3 * B.min())\n",
    "\n",
    "# box_size is fixed\n",
    "# model.set_param_hint(\"box_size\", value=box_size, vary=False)\n",
    "\n"
   ]
  },
  {
   "cell_type": "code",
   "execution_count": 11,
   "metadata": {},
   "outputs": [
    {
     "data": {
      "text/html": [
       "<div>\n",
       "<style scoped>\n",
       "    .dataframe tbody tr th:only-of-type {\n",
       "        vertical-align: middle;\n",
       "    }\n",
       "\n",
       "    .dataframe tbody tr th {\n",
       "        vertical-align: top;\n",
       "    }\n",
       "\n",
       "    .dataframe thead th {\n",
       "        text-align: right;\n",
       "    }\n",
       "</style>\n",
       "<table border=\"1\" class=\"dataframe\">\n",
       "  <thead>\n",
       "    <tr style=\"text-align: right;\">\n",
       "      <th></th>\n",
       "      <th>r0</th>\n",
       "      <th>sig2</th>\n",
       "      <th>m</th>\n",
       "      <th>s0</th>\n",
       "      <th>noise</th>\n",
       "    </tr>\n",
       "  </thead>\n",
       "  <tbody>\n",
       "    <tr>\n",
       "      <th>value</th>\n",
       "      <td>19.627578</td>\n",
       "      <td>52.229178</td>\n",
       "      <td>1.0</td>\n",
       "      <td>2.036217</td>\n",
       "      <td>1.306027</td>\n",
       "    </tr>\n",
       "    <tr>\n",
       "      <th>min</th>\n",
       "      <td>1.962758</td>\n",
       "      <td>26.114589</td>\n",
       "      <td>0.5</td>\n",
       "      <td>0.407243</td>\n",
       "      <td>0.000000</td>\n",
       "    </tr>\n",
       "    <tr>\n",
       "      <th>max</th>\n",
       "      <td>392.551565</td>\n",
       "      <td>208.916711</td>\n",
       "      <td>2.0</td>\n",
       "      <td>6.108652</td>\n",
       "      <td>7.836159</td>\n",
       "    </tr>\n",
       "  </tbody>\n",
       "</table>\n",
       "</div>"
      ],
      "text/plain": [
       "               r0        sig2    m        s0     noise\n",
       "value   19.627578   52.229178  1.0  2.036217  1.306027\n",
       "min      1.962758   26.114589  0.5  0.407243  0.000000\n",
       "max    392.551565  208.916711  2.0  6.108652  7.836159"
      ]
     },
     "execution_count": 11,
     "metadata": {},
     "output_type": "execute_result"
    }
   ],
   "source": [
    "pd.DataFrame(model.param_hints)"
   ]
  },
  {
   "cell_type": "code",
   "execution_count": 12,
   "metadata": {},
   "outputs": [],
   "source": [
    "relative_uncertainty = 0.055\n",
    "weights = 1.0 / (relative_uncertainty * B)\n",
    "large_scale = r > 0.275 * box_size\n",
    "weights[large_scale] /= 3.0\n",
    "weights[:3] /= 4.5"
   ]
  },
  {
   "cell_type": "code",
   "execution_count": 13,
   "metadata": {},
   "outputs": [],
   "source": [
    "to_fit = r <= 0.5 * box_size\n",
    "#to_fit = ~large_scale\n",
    "result = model.fit(B[to_fit], weights=weights[to_fit], r=r[to_fit])"
   ]
  },
  {
   "cell_type": "code",
   "execution_count": 14,
   "metadata": {},
   "outputs": [
    {
     "data": {
      "text/plain": [
       "array([ True,  True,  True,  True,  True,  True,  True,  True,  True,\n",
       "        True,  True,  True,  True,  True,  True,  True,  True,  True,\n",
       "        True,  True,  True,  True,  True,  True,  True,  True,  True,\n",
       "        True,  True,  True,  True,  True,  True,  True, False, False,\n",
       "       False, False, False, False, False])"
      ]
     },
     "execution_count": 14,
     "metadata": {},
     "output_type": "execute_result"
    }
   ],
   "source": [
    "to_fit"
   ]
  },
  {
   "cell_type": "code",
   "execution_count": 15,
   "metadata": {},
   "outputs": [
    {
     "data": {
      "text/html": [
       "<h2> Model</h2> Model(bfunc03s) <h2>Fit Statistics</h2><table><tr><td>fitting method</td><td>leastsq</td><td></td></tr><tr><td># function evals</td><td>81</td><td></td></tr><tr><td># data points</td><td>34</td><td></td></tr><tr><td># variables</td><td>5</td><td></td></tr><tr><td>chi-square</td><td> 24.0980987</td><td></td></tr><tr><td>reduced chi-square</td><td> 0.83096892</td><td></td></tr><tr><td>Akaike info crit.</td><td>-1.70373769</td><td></td></tr><tr><td>Bayesian info crit.</td><td> 5.92806493</td><td></td></tr></table><h2>Variables</h2><table><tr><th> name </th><th> value </th><th> standard error </th><th> relative error </th><th> initial value </th><th> min </th><th> max </th><th> vary </th></tr><tr><td> r0 </td><td>  11.2390987 </td><td>  0.44979569 </td><td> (4.00%) </td><td> 19.627578256853553 </td><td>  1.96275783 </td><td>  392.551565 </td><td> True </td></tr><tr><td> sig2 </td><td>  53.0191786 </td><td>  3.72887533 </td><td> (7.03%) </td><td> 52.229177716421084 </td><td>  26.1145889 </td><td>  208.916711 </td><td> True </td></tr><tr><td> m </td><td>  1.37659014 </td><td>  0.10152000 </td><td> (7.37%) </td><td> 1.0 </td><td>  0.50000000 </td><td>  2.00000000 </td><td> True </td></tr><tr><td> s0 </td><td>  0.40724349 </td><td>  0.73771796 </td><td> (181.15%) </td><td> 2.036217460660051 </td><td>  0.40724349 </td><td>  6.10865238 </td><td> True </td></tr><tr><td> noise </td><td>  1.65825880 </td><td>  1.79512832 </td><td> (108.25%) </td><td> 1.3060265119876258 </td><td>  0.00000000 </td><td>  7.83615907 </td><td> True </td></tr></table><h2>Correlations (unreported correlations are < 0.100)</h2><table><tr><td>sig2</td><td>s0</td><td>0.9357</td></tr><tr><td>s0</td><td>noise</td><td>0.9319</td></tr><tr><td>sig2</td><td>m</td><td>-0.9219</td></tr><tr><td>m</td><td>s0</td><td>-0.8592</td></tr><tr><td>sig2</td><td>noise</td><td>0.8092</td></tr><tr><td>m</td><td>noise</td><td>-0.6581</td></tr><tr><td>r0</td><td>s0</td><td>-0.5801</td></tr><tr><td>r0</td><td>noise</td><td>-0.5464</td></tr><tr><td>r0</td><td>sig2</td><td>-0.3242</td></tr><tr><td>r0</td><td>m</td><td>0.2998</td></tr></table>"
      ],
      "text/plain": [
       "<lmfit.model.ModelResult at 0x1c69b4d8eb0>"
      ]
     },
     "execution_count": 15,
     "metadata": {},
     "output_type": "execute_result"
    }
   ],
   "source": [
    "result"
   ]
  },
  {
   "cell_type": "code",
   "execution_count": 16,
   "metadata": {},
   "outputs": [
    {
     "data": {
      "image/png": "[encoded data removed]",
      "text/plain": [
       "<Figure size 864x864 with 1 Axes>"
      ]
     },
     "metadata": {
      "needs_background": "light"
     },
     "output_type": "display_data"
    }
   ],
   "source": [
    "fig, ax = plt.subplots(figsize=(12, 12))\n",
    "\n",
    "# Plot the underlying model without instrumental effects\n",
    "Bu = bfunc.bfunc00s(\n",
    "    r, result.params[\"r0\"].value, result.params[\"sig2\"].value, result.params[\"m\"].value\n",
    ")\n",
    "ax.plot(r, Bu, color=\"k\", linestyle=\"dashed\", label=\"underlying\")\n",
    "\n",
    "# Plot the fit results\n",
    "result.plot_fit(ax=ax)\n",
    "\n",
    "# Add in the points not included in fit\n",
    "ax.plot(r[large_scale], B[large_scale], \"o\")\n",
    "\n",
    "# Dotted lines for 2 x rms seeing and for box size\n",
    "ax.axvline(2 * result.params[\"s0\"].value, color=\"k\", linestyle=\"dotted\")\n",
    "ax.axvline(box_size, color=\"k\", linestyle=\"dotted\")\n",
    "\n",
    "# Dashed lines for best-fit r0 and sig2\n",
    "ax.axvline(result.params[\"r0\"].value, color=\"k\", linestyle=\"dashed\")\n",
    "ax.axhline(result.params[\"sig2\"].value, color=\"k\", linestyle=\"dashed\")\n",
    "\n",
    "# Gray box to indicate the large scale values that are excluded from the fit\n",
    "ax.axvspan(box_size / 2, r[-1], color=\"k\", alpha=0.05, zorder=-1)\n",
    "\n",
    "ax.set(\n",
    "    xscale=\"log\",\n",
    "    yscale=\"log\",\n",
    "    xlabel=\"r [pc]\",\n",
    "    ylabel=r\"B(r) [km$^{2}$/s$^{2}$]\",\n",
    ")\n",
    "sns.despine()"
   ]
  },
  {
   "cell_type": "code",
   "execution_count": null,
   "metadata": {},
   "outputs": [],
   "source": []
  },
  {
   "cell_type": "markdown",
   "metadata": {},
   "source": [
    "emcee"
   ]
  },
  {
   "cell_type": "code",
   "execution_count": 17,
   "metadata": {},
   "outputs": [],
   "source": [
    "emcee_kws = dict(\n",
    "    steps=50000, burn=500, thin=50, is_weighted=True, progress=False, workers=16\n",
    ")\n",
    "emcee_params = result.params.copy()\n",
    "# emcee_params.add('__lnsigma', value=np.log(0.1), min=np.log(0.001), max=np.log(2.0))"
   ]
  },
  {
   "cell_type": "code",
   "execution_count": null,
   "metadata": {},
   "outputs": [
    {
     "name": "stderr",
     "output_type": "stream",
     "text": [
      "C:\\Users\\ZAINTEL2\\anaconda3\\lib\\site-packages\\emcee\\moves\\red_blue.py:99: RuntimeWarning: invalid value encountered in double_scalars\n",
      "  lnpdiff = f + nlp - state.log_prob[j]\n"
     ]
    }
   ],
   "source": [
    "result_emcee = model.fit(\n",
    "    data=B[to_fit],\n",
    "    r=r[to_fit],\n",
    "    weights=weights[to_fit],\n",
    "    params=emcee_params,\n",
    "    method=\"emcee\",\n",
    "    nan_policy=\"omit\",\n",
    "    fit_kws=emcee_kws,\n",
    ")"
   ]
  },
  {
   "cell_type": "code",
   "execution_count": null,
   "metadata": {},
   "outputs": [],
   "source": [
    "result_emcee"
   ]
  },
  {
   "cell_type": "code",
   "execution_count": null,
   "metadata": {},
   "outputs": [],
   "source": [
    "#quantiles = np.percentile(result_emcee.flatchain['s0'], [2.28, 15.9, 50, 84.2, 97.7])\n",
    "#print(f\"\\n\\n1 sigma spread = {0.5 * (quantiles[3] - quantiles[1]):.3f}\")\n",
    "#print(f\"2 sigma spread = {0.5 * (quantiles[4] - quantiles[0]):.3f}\")"
   ]
  },
  {
   "cell_type": "code",
   "execution_count": null,
   "metadata": {},
   "outputs": [],
   "source": [
    "result_emcee.flatchain['s0']"
   ]
  },
  {
   "cell_type": "code",
   "execution_count": null,
   "metadata": {},
   "outputs": [],
   "source": [
    "s2=np.percentile(result_emcee.flatchain['s0'],[2.5, 97.5])"
   ]
  },
  {
   "cell_type": "code",
   "execution_count": null,
   "metadata": {},
   "outputs": [],
   "source": [
    "result_emcee.params['s0'].value-s2[0],result_emcee.params['s0'].value,s2[1]-result_emcee.params['s0'].value"
   ]
  },
  {
   "cell_type": "code",
   "execution_count": null,
   "metadata": {},
   "outputs": [],
   "source": [
    "result_emcee.params['s0'].value-s2[0]"
   ]
  },
  {
   "cell_type": "code",
   "execution_count": null,
   "metadata": {},
   "outputs": [],
   "source": [
    "s2[1]-result_emcee.params['s0'].value"
   ]
  },
  {
   "cell_type": "code",
   "execution_count": null,
   "metadata": {},
   "outputs": [],
   "source": [
    "plt.plot(result_emcee.acceptance_fraction, \"o\")\n",
    "plt.xlabel(\"walker\")\n",
    "plt.ylabel(\"acceptance fraction\")"
   ]
  },
  {
   "cell_type": "code",
   "execution_count": null,
   "metadata": {},
   "outputs": [],
   "source": [
    "if hasattr(result_emcee, \"acor\"):\n",
    "    print(\"Autocorrelation time for the parameters:\")\n",
    "    print(\"----------------------------------------\")\n",
    "    for i, p in enumerate(result_emcee.params):\n",
    "        try:\n",
    "            print(f\"{p} = {result_emcee.acor[i]:.3f}\")\n",
    "        except IndexError:\n",
    "            pass"
   ]
  },
  {
   "cell_type": "code",
   "execution_count": null,
   "metadata": {},
   "outputs": [],
   "source": [
    "#emcee_corner = corner.corner(result_emcee.flatchain, labels=result_emcee.var_names,\n",
    "#                             truths=list(result_emcee.params.valuesdict().values()))"
   ]
  },
  {
   "cell_type": "code",
   "execution_count": null,
   "metadata": {
    "scrolled": true
   },
   "outputs": [],
   "source": [
    "bplot.corner_plot(\n",
    "    result_emcee, result, name, data, data_ranges=[0.95, 0.97, 0.995, 0.997, 0.999]\n",
    ")"
   ]
  },
  {
   "cell_type": "code",
   "execution_count": null,
   "metadata": {},
   "outputs": [],
   "source": [
    "bplot.strucfunc_plot(\n",
    "    result_emcee, result, r, B, to_fit, name, data, box_size, large_scale\n",
    ")"
   ]
  },
  {
   "cell_type": "code",
   "execution_count": null,
   "metadata": {},
   "outputs": [],
   "source": [
    "#bplot.strucfunc_plot(\n",
    "#    result_emcee, result_emcee, r, B, to_fit, name, data, box_size, large_scale\n",
    "#)"
   ]
  },
  {
   "cell_type": "code",
   "execution_count": null,
   "metadata": {},
   "outputs": [],
   "source": [
    "CIresults = {\n",
    "    \"result_emcee\": result_emcee,\n",
    "    \"result\": result,\n",
    "    \"r\": r,\n",
    "    \"B\": B,\n",
    "    \"to_fit\": to_fit,\n",
    "    \"name\": name,\n",
    "    \"data\": data,\n",
    "    \"box_size\": box_size,\n",
    "    \"large_scale\": large_scale,\n",
    "}"
   ]
  },
  {
   "cell_type": "code",
   "execution_count": null,
   "metadata": {
    "lines_to_next_cell": 2
   },
   "outputs": [],
   "source": [
    "f = open(\"Results//CI\" + data + \".pkl\", \"wb\")\n",
    "pickle.dump(CIresults, f)\n",
    "f.close()"
   ]
  },
  {
   "cell_type": "code",
   "execution_count": null,
   "metadata": {
    "tags": []
   },
   "outputs": [],
   "source": [
    "print(\"--- %s seconds ---\" % (time.time() - start_time))"
   ]
  }
 ],
 "metadata": {
  "jupytext": {
   "formats": "ipynb,py:light"
  },
  "kernelspec": {
   "display_name": "Python 3",
   "language": "python",
   "name": "python3"
  },
  "language_info": {
   "codemirror_mode": {
    "name": "ipython",
    "version": 3
   },
   "file_extension": ".py",
   "mimetype": "text/x-python",
   "name": "python",
   "nbconvert_exporter": "python",
   "pygments_lexer": "ipython3",
   "version": "3.8.3"
  }
 },
 "nbformat": 4,
 "nbformat_minor": 4
}
