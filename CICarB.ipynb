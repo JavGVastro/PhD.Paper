{
 "cells": [
  {
   "cell_type": "code",
   "execution_count": 1,
   "metadata": {},
   "outputs": [],
   "source": [
    "import time\n",
    "start_time=time.time()"
   ]
  },
  {
   "cell_type": "code",
   "execution_count": 2,
   "metadata": {},
   "outputs": [],
   "source": [
    "import json\n",
    "import numpy as np\n",
    "import matplotlib.pyplot as plt\n",
    "import pandas as pd\n",
    "import seaborn as sns\n",
    "import lmfit\n",
    "from scipy import interpolate\n",
    "import pickle\n",
    "\n",
    "from bfunc import bfunc03s"
   ]
  },
  {
   "cell_type": "markdown",
   "metadata": {},
   "source": [
    "Data load and region parameters"
   ]
  },
  {
   "cell_type": "code",
   "execution_count": 3,
   "metadata": {},
   "outputs": [],
   "source": [
    "name = 'CarB'"
   ]
  },
  {
   "cell_type": "code",
   "execution_count": 4,
   "metadata": {},
   "outputs": [],
   "source": [
    "reg = 'CarB'"
   ]
  },
  {
   "cell_type": "code",
   "execution_count": 5,
   "metadata": {},
   "outputs": [],
   "source": [
    "pickle_in = open('SFresults//' + name + '.pkl',\"rb\")\n",
    "SFresults = pickle.load(pickle_in)"
   ]
  },
  {
   "cell_type": "code",
   "execution_count": 6,
   "metadata": {},
   "outputs": [],
   "source": [
    "B = SFresults['b2']\n",
    "r = SFresults['s']\n",
    "s0 = SFresults['s0']*2.355      \n",
    "m = SFresults['m'] \n",
    "sig2 = SFresults['sig2'] \n",
    "r0 = SFresults['r0'] \n",
    "noise = B.mean()*0.1"
   ]
  },
  {
   "cell_type": "code",
   "execution_count": 7,
   "metadata": {},
   "outputs": [
    {
     "data": {
      "text/plain": [
       "['r0', 'sig2', 'm', 's0', 'noise']"
      ]
     },
     "execution_count": 7,
     "metadata": {},
     "output_type": "execute_result"
    }
   ],
   "source": [
    "model02 = lmfit.Model(bfunc03s)\n",
    "model02.param_names"
   ]
  },
  {
   "cell_type": "code",
   "execution_count": 8,
   "metadata": {},
   "outputs": [],
   "source": [
    "relative_uncertainty = 0.25\n",
    "weights = 1.0 / (relative_uncertainty * B)\n",
    "weights[r > r0] /= 3.0"
   ]
  },
  {
   "cell_type": "code",
   "execution_count": 9,
   "metadata": {},
   "outputs": [
    {
     "name": "stdout",
     "output_type": "stream",
     "text": [
      "Name      Value      Min      Max     Vary    Expr    \n",
      "m           nan        0      inf     True    \n",
      "noise       nan        0      inf     True    \n",
      "r0          nan        0      inf     True    \n",
      "s0          nan        0      inf     True    \n",
      "sig2        nan        0      inf     True    \n"
     ]
    }
   ],
   "source": [
    "for p in model02.param_names:\n",
    "    model02.set_param_hint(p, min=0.0)\n",
    "#model02.set_param_hint(\"sig2\", value=sig2, vary=False)\n",
    "#model02.set_param_hint(\"s0\", min=0.2)\n",
    "model02.print_param_hints()"
   ]
  },
  {
   "cell_type": "code",
   "execution_count": 10,
   "metadata": {},
   "outputs": [],
   "source": [
    "result2 = model02.fit(\n",
    "    B, \n",
    "    weights=weights,\n",
    "    r = r, r0 = r0, m = m, s0 = s0, noise = noise, sig2=sig2,\n",
    ")"
   ]
  },
  {
   "cell_type": "code",
   "execution_count": 11,
   "metadata": {},
   "outputs": [
    {
     "data": {
      "image/png": "[encoded data removed]",
      "text/plain": [
       "<Figure size 432x432 with 2 Axes>"
      ]
     },
     "metadata": {
      "needs_background": "light"
     },
     "output_type": "display_data"
    }
   ],
   "source": [
    "fig, _ = result2.plot( 'ko')\n",
    "fig.axes[0].set(\n",
    "    title=reg,\n",
    "    xscale=\"log\",\n",
    "    yscale=\"symlog\",\n",
    ")\n",
    "fig.axes[1].set(\n",
    "    xscale = \"log\",\n",
    "    yscale = \"log\",\n",
    "    xlabel = \"r [pc]\",\n",
    "    ylabel = r\"B(r) [km$^{2}$/s$^{2}$]\",\n",
    ");\n",
    "\n",
    "plt.savefig('Imgs//SF//' + reg + '.pdf', bbox_inches='tight')\n",
    "\n"
   ]
  },
  {
   "cell_type": "code",
   "execution_count": 12,
   "metadata": {},
   "outputs": [],
   "source": [
    "CIresults = {'resultCI' : result2,\n",
    "            'Rmax/r0' : r.max()/result2.params['r0'].value,\n",
    "            'lT' : (r[3]/2**0.5)*((result2.params['r0'].value/r[3])**(result2.params['m'].value/2))\n",
    "          }"
   ]
  },
  {
   "cell_type": "code",
   "execution_count": 13,
   "metadata": {},
   "outputs": [],
   "source": [
    "f = open('CIresults//' + name +'.pkl',\"wb\")\n",
    "pickle.dump(CIresults,f)\n",
    "f.close()"
   ]
  },
  {
   "cell_type": "code",
   "execution_count": 14,
   "metadata": {},
   "outputs": [
    {
     "name": "stdout",
     "output_type": "stream",
     "text": [
      "[[Model]]\n",
      "    Model(bfunc03s)\n",
      "[[Fit Statistics]]\n",
      "    # fitting method   = leastsq\n",
      "    # function evals   = 146\n",
      "    # data points      = 16\n",
      "    # variables        = 5\n",
      "    chi-square         = 36.9150885\n",
      "    reduced chi-square = 3.35591713\n",
      "    Akaike info crit   = 23.3765063\n",
      "    Bayesian info crit = 27.2394500\n",
      "[[Variables]]\n",
      "    r0:     0.87669665 +/- 2.31636474 (264.22%) (init = 1.244282)\n",
      "    sig2:   58.9340886 +/- 91.3290194 (154.97%) (init = 64.19082)\n",
      "    m:      0.82398921 +/- 1.61144575 (195.57%) (init = 1.2)\n",
      "    s0:     0.05838992 +/- 0.21333612 (365.36%) (init = 0.009293878)\n",
      "    noise:  0.22482921 +/- 0.09044519 (40.23%) (init = 4.562699)\n",
      "[[Correlations]] (unreported correlations are < 0.100)\n",
      "    C(m, s0)       = -0.989\n",
      "    C(r0, sig2)    =  0.984\n",
      "    C(sig2, m)     = -0.747\n",
      "    C(r0, m)       = -0.718\n",
      "    C(sig2, s0)    =  0.687\n",
      "    C(r0, s0)      =  0.641\n",
      "    C(m, noise)    =  0.155\n",
      "    C(r0, noise)   = -0.146\n",
      "    C(sig2, noise) = -0.133\n",
      "    C(s0, noise)   = -0.121\n"
     ]
    }
   ],
   "source": [
    "print(result2.fit_report())"
   ]
  },
  {
   "cell_type": "code",
   "execution_count": 15,
   "metadata": {},
   "outputs": [],
   "source": [
    "for p in result2.model.param_names:\n",
    "    result2.params[p].stderr = result2.params[p].value * 0.1"
   ]
  },
  {
   "cell_type": "code",
   "execution_count": 16,
   "metadata": {},
   "outputs": [
    {
     "name": "stderr",
     "output_type": "stream",
     "text": [
      "C:\\Users\\ZAINTEL2\\anaconda3\\lib\\site-packages\\lmfit\\confidence.py:327: UserWarning: rel_change=-1.0 < 1e-05 at iteration 9 and prob(r0=0.08766966528932409) = 0.0 < max(sigmas).\n",
      "  warn(errmsg)\n",
      "C:\\Users\\ZAINTEL2\\anaconda3\\lib\\site-packages\\lmfit\\confidence.py:319: UserWarning: maxiter=200 reached and prob(r0=18.498299376047434) = 0.38636780692795464 < max(sigmas).\n",
      "  warn(errmsg)\n",
      "C:\\Users\\ZAINTEL2\\anaconda3\\lib\\site-packages\\lmfit\\confidence.py:327: UserWarning: rel_change=-1.0 < 1e-05 at iteration 7 and prob(sig2=17.680226580148762) = 0.0 < max(sigmas).\n",
      "  warn(errmsg)\n",
      "C:\\Users\\ZAINTEL2\\anaconda3\\lib\\site-packages\\lmfit\\confidence.py:327: UserWarning: rel_change=-1.0 < 1e-05 at iteration 68 and prob(sig2=459.68589108386794) = 0.0 < max(sigmas).\n",
      "  warn(errmsg)\n",
      "C:\\Users\\ZAINTEL2\\anaconda3\\lib\\site-packages\\lmfit\\confidence.py:312: UserWarning: Bound reached with prob(m=0.0) = 0.8547697894796505 < max(sigmas)\n",
      "  warn(errmsg)\n",
      "C:\\Users\\ZAINTEL2\\anaconda3\\lib\\site-packages\\lmfit\\confidence.py:327: UserWarning: rel_change=-1.0 < 1e-05 at iteration 6 and prob(m=1.3183827392445302) = 0.0 < max(sigmas).\n",
      "  warn(errmsg)\n",
      "C:\\Users\\ZAINTEL2\\anaconda3\\lib\\site-packages\\lmfit\\confidence.py:327: UserWarning: rel_change=-0.38584846797467454 < 1e-05 at iteration 8 and prob(s0=0.011677983199255726) = 0.342619042655309 < max(sigmas).\n",
      "  warn(errmsg)\n",
      "C:\\Users\\ZAINTEL2\\anaconda3\\lib\\site-packages\\lmfit\\confidence.py:327: UserWarning: rel_change=-1.0 < 1e-05 at iteration 19 and prob(s0=0.16933075638920803) = 0.0 < max(sigmas).\n",
      "  warn(errmsg)\n",
      "C:\\Users\\ZAINTEL2\\anaconda3\\lib\\site-packages\\lmfit\\confidence.py:312: UserWarning: Bound reached with prob(noise=0.0) = 0.9704244965838602 < max(sigmas)\n",
      "  warn(errmsg)\n"
     ]
    },
    {
     "name": "stdout",
     "output_type": "stream",
     "text": [
      "          99.73%    95.45%    68.27%    _BEST_    68.27%    95.45%    99.73%\n",
      " r0   :      -inf      -inf      -inf   0.87670      +inf      +inf      +inf\n",
      " sig2 :      -inf      -inf      -inf  58.93409      +inf      +inf      +inf\n",
      " m    :      -inf      -inf  -0.56387   0.82399      +inf      +inf      +inf\n",
      " s0   :      -inf      -inf      -inf   0.05839      +inf      +inf      +inf\n",
      " noise:      -inf  -0.20270  -0.09391   0.22483      +inf      +inf      +inf\n"
     ]
    },
    {
     "name": "stderr",
     "output_type": "stream",
     "text": [
      "C:\\Users\\ZAINTEL2\\anaconda3\\lib\\site-packages\\lmfit\\confidence.py:327: UserWarning: rel_change=-1.0 < 1e-05 at iteration 5 and prob(noise=0.33724381331487363) = 0.0 < max(sigmas).\n",
      "  warn(errmsg)\n"
     ]
    }
   ],
   "source": [
    "result2.conf_interval()\n",
    "print(result2.ci_report())"
   ]
  },
  {
   "cell_type": "markdown",
   "metadata": {},
   "source": [
    "plt.style.use([\n",
    "    \"seaborn-poster\",\n",
    "])"
   ]
  },
  {
   "cell_type": "markdown",
   "metadata": {},
   "source": [
    "plot_limits = {\n",
    "    \"s0\": [0.0, 0.1],\n",
    "    \"m\": [.5, .5],\n",
    "    \"r0\": [0.1, 1.0],\n",
    "    \"noise\": [0.0, 0.5],\n",
    "}"
   ]
  },
  {
   "cell_type": "markdown",
   "metadata": {},
   "source": [
    "fig, axes = plt.subplots(2, 2, figsize=(12, 10))\n",
    "\n",
    "plt.title('M8')\n",
    "levels = [0.6827, 0.9545, 0.9973]\n",
    "colors = [\"g\", \"y\", \"r\"]\n",
    "\n",
    "for ax, [xvar, yvar] in zip(axes.flat, [\n",
    "    [\"s0\", \"noise\"],\n",
    "    [\"r0\", \"m\"],\n",
    "    [\"m\", \"s0\"],\n",
    "    [\"r0\", \"s0\"],\n",
    "]):\n",
    "    cx, cy, grid = lmfit.conf_interval2d(\n",
    "        result2, result2, xvar, yvar, 30, 30,\n",
    "        limits=[plot_limits[xvar], plot_limits[yvar]],\n",
    "    )\n",
    "    ctp = ax.contour(cx, cy, grid, levels, colors=colors)\n",
    "    ax.set_xlabel(xvar)\n",
    "    ax.set_ylabel(yvar)\n",
    "\n",
    "fig.tight_layout();"
   ]
  },
  {
   "cell_type": "code",
   "execution_count": 17,
   "metadata": {},
   "outputs": [
    {
     "name": "stdout",
     "output_type": "stream",
     "text": [
      "--- 107.44687485694885 seconds ---\n"
     ]
    }
   ],
   "source": [
    "print(\"--- %s seconds ---\" % (time.time()-start_time))"
   ]
  }
 ],
 "metadata": {
  "kernelspec": {
   "display_name": "Python 3",
   "language": "python",
   "name": "python3"
  },
  "language_info": {
   "codemirror_mode": {
    "name": "ipython",
    "version": 3
   },
   "file_extension": ".py",
   "mimetype": "text/x-python",
   "name": "python",
   "nbconvert_exporter": "python",
   "pygments_lexer": "ipython3",
   "version": "3.8.3"
  }
 },
 "nbformat": 4,
 "nbformat_minor": 4
}
